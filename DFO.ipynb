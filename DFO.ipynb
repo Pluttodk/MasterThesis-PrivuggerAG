{
 "cells": [
  {
   "cell_type": "markdown",
   "id": "renewable-emphasis",
   "metadata": {},
   "source": [
    "# Comparing different DFO for Privugger-AG\n",
    "*MADE BY: Mathias Oliver Valdbjørn Jørgensen mathiasoliverjorgensen@hotmail.com*\n",
    "\n",
    "\n",
    "This document contains a comparison of different derivative free optimization technique for privacy risk analysis.\n",
    "\n",
    "# Imports"
   ]
  },
  {
   "cell_type": "code",
   "execution_count": 6,
   "id": "lesbian-spelling",
   "metadata": {},
   "outputs": [
    {
     "ename": "ModuleNotFoundError",
     "evalue": "No module named 'pybobyqa'",
     "output_type": "error",
     "traceback": [
      "\u001b[0;31m---------------------------------------------------------------------------\u001b[0m",
      "\u001b[0;31mModuleNotFoundError\u001b[0m                       Traceback (most recent call last)",
      "\u001b[0;32m<ipython-input-6-552479e1d4d2>\u001b[0m in \u001b[0;36m<module>\u001b[0;34m\u001b[0m\n\u001b[1;32m     11\u001b[0m \u001b[0;32mfrom\u001b[0m \u001b[0mentropy_estimators\u001b[0m \u001b[0;32mimport\u001b[0m \u001b[0mcontinuous\u001b[0m\u001b[0;34m\u001b[0m\u001b[0;34m\u001b[0m\u001b[0m\n\u001b[1;32m     12\u001b[0m \u001b[0;32mfrom\u001b[0m \u001b[0mGPyOpt\u001b[0m\u001b[0;34m.\u001b[0m\u001b[0mmethods\u001b[0m \u001b[0;32mimport\u001b[0m \u001b[0mBayesianOptimization\u001b[0m \u001b[0;31m#Bayesian Optimization\u001b[0m\u001b[0;34m\u001b[0m\u001b[0;34m\u001b[0m\u001b[0m\n\u001b[0;32m---> 13\u001b[0;31m \u001b[0;32mimport\u001b[0m \u001b[0mpybobyqa\u001b[0m \u001b[0;31m# For Bobyqa\u001b[0m\u001b[0;34m\u001b[0m\u001b[0;34m\u001b[0m\u001b[0m\n\u001b[0m\u001b[1;32m     14\u001b[0m \u001b[0;32mfrom\u001b[0m \u001b[0mscipy\u001b[0m \u001b[0;32mimport\u001b[0m \u001b[0moptimize\u001b[0m \u001b[0;31m# For Powell\u001b[0m\u001b[0;34m\u001b[0m\u001b[0;34m\u001b[0m\u001b[0m\n",
      "\u001b[0;31mModuleNotFoundError\u001b[0m: No module named 'pybobyqa'"
     ]
    }
   ],
   "source": [
    "import numpy as np\n",
    "import opendp.smartnoise.core as sn\n",
    "from sklearn.feature_selection import mutual_info_regression\n",
    "from typing import List, Tuple\n",
    "from scipy import stats as st\n",
    "from matplotlib import pyplot as plt\n",
    "import pandas as pd\n",
    "import seaborn as sns\n",
    "import re\n",
    "import subprocess\n",
    "from entropy_estimators import continuous\n",
    "from GPyOpt.methods import BayesianOptimization #Bayesian Optimization\n",
    "import pybobyqa # For Bobyqa\n",
    "from scipy import optimize # For Powell"
   ]
  },
  {
   "cell_type": "markdown",
   "id": "lesbian-award",
   "metadata": {},
   "source": [
    "## Random Search"
   ]
  },
  {
   "cell_type": "code",
   "execution_count": null,
   "id": "emerging-cosmetic",
   "metadata": {},
   "outputs": [],
   "source": [
    "def random_search(domain, f, iterations=10_000):\n",
    "    def val()\n",
    "        v = []\n",
    "        for d in domain:\n",
    "            v.append(np.random.uniform(d[\"domain\"][0],d[\"domain\"][1]))\n",
    "        return np.array(v)\n",
    "    best = np.inf\n",
    "    x_best = []\n",
    "    for i in iterations:\n",
    "        x = val()\n",
    "        b = f(val)\n",
    "        if b < best:\n",
    "            best = b\n",
    "            x_best = x\n",
    "    return best, x_best"
   ]
  },
  {
   "cell_type": "markdown",
   "id": "through-forty",
   "metadata": {},
   "source": [
    "## Powell"
   ]
  },
  {
   "cell_type": "code",
   "execution_count": 5,
   "id": "attractive-airplane",
   "metadata": {},
   "outputs": [],
   "source": [
    "def powell(f, domain):\n",
    "    v = []\n",
    "    for d in domain:\n",
    "        v.append(np.random.uniform(d[\"domain\"][0],d[\"domain\"][1]))\n",
    "    bounds = [d[\"domain\"] for d in domain]\n",
    "    \n",
    "    return optimize.minimize(f, \n",
    "            v, \n",
    "            method=\"Powell\", \n",
    "            bounds=bounds,\n",
    "            options={'xtol': 0.0000001, 'ftol': 0.000001})"
   ]
  },
  {
   "cell_type": "markdown",
   "id": "offensive-accounting",
   "metadata": {},
   "source": [
    "## Bobyqa"
   ]
  },
  {
   "cell_type": "code",
   "execution_count": null,
   "id": "intended-litigation",
   "metadata": {},
   "outputs": [],
   "source": [
    "def boby(f, domain):\n",
    "    x0 = []\n",
    "    for d in domain:\n",
    "        v.append(np.random.uniform(d[\"domain\"][0],d[\"domain\"][1]))\n",
    "    lower_bounds = [d[\"domain\"][0] for d in domain]\n",
    "    upper_bounds = [d[\"domain\"][1] for d in domain]\n",
    "    return pybobyqa.solve(f, x0, bounds=(lower_bounds, upper_bounds))"
   ]
  },
  {
   "cell_type": "markdown",
   "id": "established-anderson",
   "metadata": {},
   "source": [
    "## Particle Swarm"
   ]
  },
  {
   "cell_type": "code",
   "execution_count": null,
   "id": "furnished-increase",
   "metadata": {},
   "outputs": [],
   "source": [
    "def particle_swarm(f,domain, n_particles=30):\n",
    "    lower_bounds = [d[\"domain\"][0] for d in domain]\n",
    "    upper_bounds = [d[\"domain\"][1] for d in domain]\n",
    "    bounds = (np.array(lower_bounds), np.array(upper_bounds))\n",
    "    options = {'c1': 0.5, 'c2': 0.3, 'w': 0.9}\n",
    "    optimizer = GlobalBestPSO(n_particles=n_particles, dimensions=len(domain), options=options, bounds=bounds)\n",
    "\n",
    "    return optimizer.optimize(f, 1000)"
   ]
  },
  {
   "cell_type": "markdown",
   "id": "preceding-opposition",
   "metadata": {},
   "source": [
    "# Evaluations\n",
    "## Binomial entropy"
   ]
  },
  {
   "cell_type": "code",
   "execution_count": 14,
   "id": "liquid-empty",
   "metadata": {},
   "outputs": [
    {
     "data": {
      "text/plain": [
       "1.0"
      ]
     },
     "execution_count": 14,
     "metadata": {},
     "output_type": "execute_result"
    }
   ],
   "source": [
    "def bern_entropy(x):\n",
    "    p = x[0]\n",
    "    return -np.log2(np.exp(st.bernoulli(p).entropy()))\n",
    "\n",
    "Maximum_x = [0.5]\n",
    "maximum_f = [1]\n",
    "\n",
    "parameters_domain = [\n",
    "    {\"domain\": (0,1)}\n",
    "]"
   ]
  },
  {
   "cell_type": "code",
   "execution_count": null,
   "id": "social-vatican",
   "metadata": {},
   "outputs": [],
   "source": []
  },
  {
   "cell_type": "code",
   "execution_count": null,
   "id": "novel-joshua",
   "metadata": {},
   "outputs": [],
   "source": []
  }
 ],
 "metadata": {
  "kernelspec": {
   "display_name": "Python 3",
   "language": "python",
   "name": "python3"
  },
  "language_info": {
   "codemirror_mode": {
    "name": "ipython",
    "version": 3
   },
   "file_extension": ".py",
   "mimetype": "text/x-python",
   "name": "python",
   "nbconvert_exporter": "python",
   "pygments_lexer": "ipython3",
   "version": "3.7.9"
  }
 },
 "nbformat": 4,
 "nbformat_minor": 5
}
