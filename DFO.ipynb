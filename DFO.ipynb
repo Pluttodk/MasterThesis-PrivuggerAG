{
 "cells": [
  {
   "cell_type": "markdown",
   "id": "renewable-emphasis",
   "metadata": {},
   "source": [
    "# Comparing different DFO for Privugger-AG\n",
    "*MADE BY: Mathias Oliver Valdbjørn Jørgensen maoj@itu.dk*\n",
    "\n",
    "\n",
    "This document contains a comparison of different derivative free optimization technique for privacy risk analysis.\n",
    "\n",
    "# Imports"
   ]
  },
  {
   "cell_type": "code",
   "execution_count": null,
   "id": "lesbian-spelling",
   "metadata": {},
   "outputs": [],
   "source": [
    "import numpy as np\n",
    "import opendp.smartnoise.core as sn\n",
    "from sklearn.feature_selection import mutual_info_regression\n",
    "from typing import List, Tuple\n",
    "from scipy import stats as st\n",
    "from matplotlib import pyplot as plt\n",
    "import pandas as pd\n",
    "import seaborn as sns\n",
    "import re\n",
    "import subprocess\n",
    "from entropy_estimators import continuous\n",
    "from GPyOpt.methods import BayesianOptimization #Bayesian Optimization\n",
    "import pybobyqa # For Bobyqa\n",
    "from scipy import optimize # For Powell\n",
    "import pyswarms as ps"
   ]
  },
  {
   "cell_type": "markdown",
   "id": "lesbian-award",
   "metadata": {},
   "source": [
    "## Random Search"
   ]
  },
  {
   "cell_type": "code",
   "execution_count": null,
   "id": "emerging-cosmetic",
   "metadata": {},
   "outputs": [],
   "source": [
    "def random_search(f, domain, iterations=10_000):\n",
    "    def val():\n",
    "        v = []\n",
    "        for d in domain:\n",
    "            s = np.random.uniform(d[\"domain\"][0],d[\"domain\"][1])\n",
    "            v.append(s)\n",
    "        return np.array(v)\n",
    "    best = np.inf\n",
    "    x_best = []\n",
    "    for i in range(iterations):\n",
    "        x = val()\n",
    "        b = f(x)\n",
    "        if b < best:\n",
    "            best = b\n",
    "            x_best = x\n",
    "    return best, x_best"
   ]
  },
  {
   "cell_type": "markdown",
   "id": "through-forty",
   "metadata": {},
   "source": [
    "## Powell"
   ]
  },
  {
   "cell_type": "code",
   "execution_count": null,
   "id": "attractive-airplane",
   "metadata": {},
   "outputs": [],
   "source": [
    "def powell(f, domain):\n",
    "    v = []\n",
    "    for d in domain:\n",
    "        v.append(np.random.uniform(d[\"domain\"][0],d[\"domain\"][1]))\n",
    "    bounds = [d[\"domain\"] for d in domain]\n",
    "    \n",
    "    return optimize.minimize(f, \n",
    "            v, \n",
    "            method=\"Powell\", \n",
    "            bounds=bounds,\n",
    "            options={'xtol': 0.0000001, 'ftol': 0.000001})"
   ]
  },
  {
   "cell_type": "markdown",
   "id": "offensive-accounting",
   "metadata": {},
   "source": [
    "## Bobyqa"
   ]
  },
  {
   "cell_type": "code",
   "execution_count": null,
   "id": "intended-litigation",
   "metadata": {},
   "outputs": [],
   "source": [
    "def boby(f, domain):\n",
    "    x0 = []\n",
    "    for d in domain:\n",
    "        x0.append(np.random.uniform(d[\"domain\"][0],d[\"domain\"][1]))\n",
    "    lower_bounds = [d[\"domain\"][0] for d in domain]\n",
    "    upper_bounds = [d[\"domain\"][1] for d in domain]\n",
    "    return pybobyqa.solve(f, x0, bounds=(lower_bounds, upper_bounds))"
   ]
  },
  {
   "cell_type": "markdown",
   "id": "established-anderson",
   "metadata": {},
   "source": [
    "## Particle Swarm"
   ]
  },
  {
   "cell_type": "code",
   "execution_count": null,
   "id": "furnished-increase",
   "metadata": {},
   "outputs": [],
   "source": [
    "def particle_swarm(f,domain, n_particles=30):\n",
    "    lower_bounds = [d[\"domain\"][0] for d in domain]\n",
    "    upper_bounds = [d[\"domain\"][1] for d in domain]\n",
    "    bounds = (np.array(lower_bounds), np.array(upper_bounds))\n",
    "    options = {'c1': 0.5, 'c2': 0.3, 'w': 0.9}\n",
    "    optimizer = ps.single.GlobalBestPSO(n_particles=n_particles, dimensions=len(domain), options=options, bounds=bounds)\n",
    "\n",
    "    return optimizer.optimize(f, 180)"
   ]
  },
  {
   "cell_type": "markdown",
   "id": "9ed603e0",
   "metadata": {},
   "source": [
    "## Bayesian optimization"
   ]
  },
  {
   "cell_type": "code",
   "execution_count": null,
   "id": "b838a84f",
   "metadata": {},
   "outputs": [],
   "source": [
    "def b_opt(f, domain):\n",
    "    INITIAL_DESIGN_NUMDATA = 10\n",
    "    MAX_ITER = 50\n",
    "    ds = []\n",
    "    for i,d in enumerate(domain):\n",
    "        ds.append({\"name\": f\"alice_{i}\", \"type\": \"continuous\", \"domain\": d[\"domain\"]})\n",
    "    Bopt =  BayesianOptimization(f=f, domain=ds, \n",
    "                             acquisition_type='EI',        # Expected Improvement\n",
    "                             initial_design_numdata=INITIAL_DESIGN_NUMDATA,\n",
    "                             exact_feval = True)\n",
    "    Bopt.run_optimization(max_iter = MAX_ITER-INITIAL_DESIGN_NUMDATA, eps=1e-8) \n",
    "    return (Bopt.fx_opt, Bopt.x_opt)"
   ]
  },
  {
   "cell_type": "markdown",
   "id": "preceding-opposition",
   "metadata": {},
   "source": [
    "# Evaluations\n"
   ]
  },
  {
   "cell_type": "code",
   "execution_count": null,
   "id": "b9d40e2b",
   "metadata": {},
   "outputs": [],
   "source": [
    "def evaluate(f, domain, best_f, best_x,eps=0.02):\n",
    "    reachesMax = [False]*5\n",
    "    accuracy = [0]*5\n",
    "    for i in range(100):\n",
    "        f1, x1 = random_search(f,domain, iterations=1_000)\n",
    "\n",
    "        temp = powell(f,domain)\n",
    "        f2 = temp.fun\n",
    "        x2 = temp.x\n",
    "\n",
    "        temp = boby(f, domain)\n",
    "        f3, x3 = temp.f, temp.x\n",
    "        \n",
    "        f_part = lambda x: np.array([f(xi) for xi in x])\n",
    "        f4, x4 = particle_swarm(f_part,domain)\n",
    "        \n",
    "        f_bo = lambda x: f(x[0])\n",
    "        f5,x5 = b_opt(f_bo,domain)\n",
    "        \n",
    "        for i,res in enumerate([f1,f2,f3,f4,f5]):\n",
    "            if best_f-eps <= res <= eps+best_f:\n",
    "                accuracy[i] += 1\n",
    "                reachesMax[i] = True\n",
    "            \n",
    "    return accuracy, reachesMax"
   ]
  },
  {
   "cell_type": "markdown",
   "id": "b5e8dfac",
   "metadata": {},
   "source": [
    "## Binomial entropy"
   ]
  },
  {
   "cell_type": "code",
   "execution_count": null,
   "id": "liquid-empty",
   "metadata": {
    "scrolled": true
   },
   "outputs": [],
   "source": [
    "def bern_entropy(x):\n",
    "    p = x[0]\n",
    "    return -np.log2(np.exp(st.bernoulli(p).entropy()))\n",
    "\n",
    "maximum_x = [0.5]\n",
    "maximum_f = -1\n",
    "\n",
    "parameters_domain = [\n",
    "    {\"domain\": (0,1)}\n",
    "]\n",
    "evaluate(bern_entropy, parameters_domain, maximum_f, maximum_x)"
   ]
  },
  {
   "cell_type": "markdown",
   "id": "63cb6d19",
   "metadata": {},
   "source": [
    "## Uniform entropy"
   ]
  },
  {
   "cell_type": "code",
   "execution_count": null,
   "id": "cba416e8",
   "metadata": {},
   "outputs": [],
   "source": [
    "def uni_entropy(x):\n",
    "    u,l = max(x), min(x)\n",
    "    return -np.log2(np.exp(st.randint(l,u).entropy()))\n",
    "\n",
    "maximum_x = [0,200]\n",
    "maximum_f = np.log2(200)\n",
    "\n",
    "parameters_domain = [\n",
    "    {\"domain\": (0,100)},\n",
    "    {\"domain\": (100,200)}\n",
    "]\n",
    "evaluate(uni_entropy, parameters_domain, maximum_f, maximum_x)"
   ]
  },
  {
   "cell_type": "markdown",
   "id": "af5b9328",
   "metadata": {},
   "source": [
    "## Normal entropy"
   ]
  },
  {
   "cell_type": "code",
   "execution_count": null,
   "id": "40a7f2a3",
   "metadata": {},
   "outputs": [],
   "source": [
    "def normal_MI(x):\n",
    "    mu1, sigma1, mu2, sigma2 = np.abs(x)\n",
    "    a = st.norm(mu1, sigma1).rvs(10_000)\n",
    "    b = st.norm(mu2,sigma2).rvs(10_000)\n",
    "    o = (a+b)/2\n",
    "    return -mutual_info_regression(a.reshape(-1,1),o,discrete_features=False)[0]\n",
    "\n",
    "maximum_x = [10,15,10,0.1]\n",
    "maximum_f = normal_MI(maximum_x)\n",
    "\n",
    "parameters_domain = [\n",
    "    {\"domain\": (0,100)},\n",
    "    {\"domain\": (0.1,15)},\n",
    "    {\"domain\": (0,100)},\n",
    "    {\"domain\": (0.1,15)}\n",
    "]\n",
    "evaluate(normal_MI, parameters_domain, maximum_f, maximum_x)"
   ]
  }
 ],
 "metadata": {
  "kernelspec": {
   "display_name": "Python 3",
   "language": "python",
   "name": "python3"
  },
  "language_info": {
   "codemirror_mode": {
    "name": "ipython",
    "version": 3
   },
   "file_extension": ".py",
   "mimetype": "text/x-python",
   "name": "python",
   "nbconvert_exporter": "python",
   "pygments_lexer": "ipython3",
   "version": "3.7.9"
  }
 },
 "nbformat": 4,
 "nbformat_minor": 5
}
