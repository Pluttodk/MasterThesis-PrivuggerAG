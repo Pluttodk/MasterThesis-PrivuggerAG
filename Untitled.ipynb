{
 "cells": [
  {
   "cell_type": "code",
   "execution_count": 1,
   "id": "efficient-sequence",
   "metadata": {},
   "outputs": [],
   "source": [
    "import theano\n",
    "import theano.tensor as tt\n",
    "import pymc3 as pm\n",
    "import numpy as np\n",
    "import arviz as az\n",
    "from sklearn.feature_selection import mutual_info_regression"
   ]
  },
  {
   "cell_type": "code",
   "execution_count": 2,
   "id": "exact-prize",
   "metadata": {},
   "outputs": [],
   "source": [
    "@theano.compile.ops.as_op(itypes=[tt.dscalar, tt.dscalar],\n",
    "                          otypes=[tt.dscalar])\n",
    "def numpy_normal(s1,s2):\n",
    "        #s1,s2 = X\n",
    "        x = np.random.normal(0, s1, size=10_000)\n",
    "        y = np.random.normal(0, s2, size=10_000)\n",
    "\n",
    "        out = x+y\n",
    "        I = mutual_info_regression(x.reshape((-1,1)),out, discrete_features=False)[0]\n",
    "        return np.array(I, dtype=np.float64)"
   ]
  },
  {
   "cell_type": "code",
   "execution_count": 3,
   "id": "choice-journey",
   "metadata": {},
   "outputs": [
    {
     "name": "stderr",
     "output_type": "stream",
     "text": [
      "Auto-assigning NUTS sampler...\n",
      "Initializing NUTS using jitter+adapt_diag...\n",
      "Initializing NUTS failed. Falling back to elementwise auto-assignment.\n",
      "Sequential sampling (2 chains in 1 job)\n",
      "CompoundStep\n",
      ">Slice: [s2]\n",
      ">Slice: [s1]\n"
     ]
    },
    {
     "data": {
      "text/html": [
       "\n",
       "    <div>\n",
       "        <style>\n",
       "            /* Turns off some styling */\n",
       "            progress {\n",
       "                /* gets rid of default border in Firefox and Opera. */\n",
       "                border: none;\n",
       "                /* Needs to be in here for Safari polyfill so background images work as expected. */\n",
       "                background-size: auto;\n",
       "            }\n",
       "            .progress-bar-interrupted, .progress-bar-interrupted::-webkit-progress-bar {\n",
       "                background: #F44336;\n",
       "            }\n",
       "        </style>\n",
       "      <progress value='583' class='' max='2000' style='width:300px; height:20px; vertical-align: middle;'></progress>\n",
       "      29.15% [583/2000 07:08<17:22 Sampling chain 0, 0 divergences]\n",
       "    </div>\n",
       "    "
      ],
      "text/plain": [
       "<IPython.core.display.HTML object>"
      ]
     },
     "metadata": {},
     "output_type": "display_data"
    },
    {
     "name": "stderr",
     "output_type": "stream",
     "text": [
      "Sampling 1 chain for 583 tune and 0 draw iterations (583 + 0 draws total) took 429 seconds.\n",
      "No posterior samples. Unable to run convergence checks\n"
     ]
    }
   ],
   "source": [
    "with pm.Model() as model:\n",
    "    s1 = pm.Uniform(\"s1\", 0.1,26)\n",
    "    \n",
    "    s2 = pm.Uniform(\"s2\", 0.1,26)\n",
    "    \n",
    "    Is = numpy_normal(s1,s2)\n",
    "    obs = pm.Normal(\"obs\", Is > 4, 0.1, observed = 1)\n",
    "    \n",
    "    trace = pm.sample(1000, cores=1, return_inferencedata=False)"
   ]
  },
  {
   "cell_type": "code",
   "execution_count": null,
   "id": "generous-thailand",
   "metadata": {},
   "outputs": [],
   "source": []
  }
 ],
 "metadata": {
  "kernelspec": {
   "display_name": "Python 3",
   "language": "python",
   "name": "python3"
  },
  "language_info": {
   "codemirror_mode": {
    "name": "ipython",
    "version": 3
   },
   "file_extension": ".py",
   "mimetype": "text/x-python",
   "name": "python",
   "nbconvert_exporter": "python",
   "pygments_lexer": "ipython3",
   "version": "3.8.5"
  }
 },
 "nbformat": 4,
 "nbformat_minor": 5
}
