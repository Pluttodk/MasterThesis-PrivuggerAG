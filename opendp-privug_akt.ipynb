{
 "cells": [
  {
   "cell_type": "code",
   "execution_count": 2,
   "metadata": {},
   "outputs": [],
   "source": [
    "import numpy as np\n",
    "import pandas as pd\n",
    "import opendp.smartnoise.core as sn\n",
    "import pymc3 as pm\n",
    "import arviz as az\n",
    "import theano.tensor as tt\n",
    "import theano\n",
    "from sklearn.feature_selection import mutual_info_regression\n",
    "from GPyOpt.methods import BayesianOptimization\n",
    "import matplotlib.pyplot as plt"
   ]
  },
  {
   "cell_type": "code",
   "execution_count": 5,
   "metadata": {},
   "outputs": [],
   "source": [
    "## opendp program\n",
    "def dp_program(age,sex,educ,race,income,married,N=10):\n",
    "    temp_file='temp.csv'    \n",
    "    var_names = [\"age\", \"sex\", \"educ\", \"race\", \"income\", \"married\"]\n",
    "    data = {\n",
    "        \"age\":     age,\n",
    "        \"sex\":     sex,\n",
    "        \"educ\":    educ,\n",
    "        \"race\":    race,\n",
    "        \"income\":  income,\n",
    "        \"married\": married\n",
    "    }\n",
    "    df = pd.DataFrame(data,columns=var_names)\n",
    "    df.to_csv(temp_file)\n",
    "    with sn.Analysis() as analysis:\n",
    "        # load data\n",
    "        data = sn.Dataset(path=temp_file,column_names=var_names)\n",
    "\n",
    "        # get mean of age\n",
    "        age_mean = sn.dp_mean(data = sn.to_float(data['income']),\n",
    "                              privacy_usage = {'epsilon': .1},\n",
    "                              data_lower = 0., # min income\n",
    "                              data_upper = 200., # max income                   \n",
    "                              data_rows = N\n",
    "                             )\n",
    "    analysis.release()\n",
    "    return np.float64(age_mean.value)    "
   ]
  },
  {
   "cell_type": "code",
   "execution_count": 6,
   "metadata": {},
   "outputs": [],
   "source": [
    "age = np.random.random_integers(0, 10, (10,10_000))\n",
    "sex = np.random.random_integers(0, 10, (10,10_000))\n",
    "educ = np.random.random_integers(0, 10, (10,10_000))\n",
    "race = np.random.random_integers(0, 10, (10,10_000))\n",
    "income = np.random.normal(0, 10, (10,10_000))\n",
    "married = np.random.random_integers(0, 10, (10,10_000))\n",
    "\n",
    "out = np.empty(10_000, dtype=np.float64)\n",
    "for i in range(10_000)\n",
    "    out[i] = dp_program(age[:,i], sex[:,i], educ[:,i],race[:,i],income[:,i], married[:,i]) for i in range(10_000)"
   ]
  },
  {
   "cell_type": "code",
   "execution_count": 8,
   "metadata": {},
   "outputs": [
    {
     "data": {
      "text/plain": [
       "array([0.01054878])"
      ]
     },
     "execution_count": 8,
     "metadata": {},
     "output_type": "execute_result"
    }
   ],
   "source": [
    "mutual_info_regression(age[0].reshape((-1,1)), out)"
   ]
  },
  {
   "cell_type": "code",
   "execution_count": 24,
   "metadata": {},
   "outputs": [],
   "source": [
    "@theano.compile.ops.as_op(itypes=[tt.dscalar,tt.dscalar],\n",
    "                          otypes=[tt.dscalar])\n",
    "def f_pymc3(mu,sigma):\n",
    "    with pm.Model() as model:\n",
    "        unique_identifier = np.random.randint(0,1_000_000)\n",
    "        \n",
    "        N = 10\n",
    "        N_rv = pm.Constant(\"N\"+str(unique_identifier), N)\n",
    "        \n",
    "        age = pm.DiscreteUniform(\"age\"+str(unique_identifier), 0,150, shape=N)\n",
    "        sex = pm.DiscreteUniform(\"sex\"+str(unique_identifier), 0,2, shape=N)\n",
    "        educ = pm.DiscreteUniform(\"educ\"+str(unique_identifier), 0,10, shape=N)\n",
    "        race = pm.DiscreteUniform(\"race\"+str(unique_identifier), 0,50, shape=N)\n",
    "        income = pm.Normal(\"income\"+str(unique_identifier), mu, sigma, shape=N)\n",
    "        married = pm.DiscreteUniform(\"married\"+str(unique_identifier), 0,1, shape=N)\n",
    "        \n",
    "        pm.Deterministic(\"output\"+str(unique_identifier),dp_program(age,sex,educ,race,income,married,N_rv))\n",
    "        \n",
    "        trace=pm.sample(500, return_inferencedata=False, cores=1)\n",
    "        \n",
    "        I = 0\n",
    "        names = [\"age\"+str(unique_identifier), \"sex\"+str(unique_identifier), \"educ\"+str(unique_identifier), \"race\"+str(unique_identifier), \"income\"+str(unique_identifier),\"married\"+str(unique_identifier)]\n",
    "        for n in names:\n",
    "            I += mutual_info_regression(trace[n][:,0].reshape(-1,1), trace[\"output\"+str(unique_identifier)])[0]\n",
    "    return I"
   ]
  },
  {
   "cell_type": "code",
   "execution_count": 25,
   "metadata": {},
   "outputs": [
    {
     "name": "stderr",
     "output_type": "stream",
     "text": [
      "Sequential sampling (2 chains in 1 job)\n",
      "CompoundStep\n",
      ">CompoundStep\n",
      ">>Metropolis: [married402027]\n",
      ">>Metropolis: [race402027]\n",
      ">>Metropolis: [educ402027]\n",
      ">>Metropolis: [sex402027]\n",
      ">>Metropolis: [age402027]\n",
      ">>Metropolis: [N402027]\n",
      ">NUTS: [income402027]\n"
     ]
    },
    {
     "data": {
      "text/html": [
       "\n",
       "    <div>\n",
       "        <style>\n",
       "            /* Turns off some styling */\n",
       "            progress {\n",
       "                /* gets rid of default border in Firefox and Opera. */\n",
       "                border: none;\n",
       "                /* Needs to be in here for Safari polyfill so background images work as expected. */\n",
       "                background-size: auto;\n",
       "            }\n",
       "            .progress-bar-interrupted, .progress-bar-interrupted::-webkit-progress-bar {\n",
       "                background: #F44336;\n",
       "            }\n",
       "        </style>\n",
       "      <progress value='1500' class='' max='1500' style='width:300px; height:20px; vertical-align: middle;'></progress>\n",
       "      100.00% [1500/1500 00:15<00:00 Sampling chain 0, 0 divergences]\n",
       "    </div>\n",
       "    "
      ],
      "text/plain": [
       "<IPython.core.display.HTML object>"
      ]
     },
     "metadata": {},
     "output_type": "display_data"
    },
    {
     "data": {
      "text/html": [
       "\n",
       "    <div>\n",
       "        <style>\n",
       "            /* Turns off some styling */\n",
       "            progress {\n",
       "                /* gets rid of default border in Firefox and Opera. */\n",
       "                border: none;\n",
       "                /* Needs to be in here for Safari polyfill so background images work as expected. */\n",
       "                background-size: auto;\n",
       "            }\n",
       "            .progress-bar-interrupted, .progress-bar-interrupted::-webkit-progress-bar {\n",
       "                background: #F44336;\n",
       "            }\n",
       "        </style>\n",
       "      <progress value='1500' class='' max='1500' style='width:300px; height:20px; vertical-align: middle;'></progress>\n",
       "      100.00% [1500/1500 00:15<00:00 Sampling chain 1, 0 divergences]\n",
       "    </div>\n",
       "    "
      ],
      "text/plain": [
       "<IPython.core.display.HTML object>"
      ]
     },
     "metadata": {},
     "output_type": "display_data"
    },
    {
     "name": "stderr",
     "output_type": "stream",
     "text": [
      "Sampling 2 chains for 1_000 tune and 500 draw iterations (2_000 + 1_000 draws total) took 31 seconds.\n",
      "The estimated number of effective samples is smaller than 200 for some parameters.\n",
      "Only 100 samples in chain.\n",
      "Sequential sampling (2 chains in 1 job)\n",
      "CompoundStep\n",
      ">NUTS: [income402027, sigma, Mu]\n",
      ">CompoundStep\n",
      ">>Metropolis: [married402027]\n",
      ">>Metropolis: [race402027]\n",
      ">>Metropolis: [educ402027]\n",
      ">>Metropolis: [sex402027]\n",
      ">>Metropolis: [age402027]\n",
      ">>Metropolis: [N402027]\n"
     ]
    },
    {
     "data": {
      "text/html": [
       "\n",
       "    <div>\n",
       "        <style>\n",
       "            /* Turns off some styling */\n",
       "            progress {\n",
       "                /* gets rid of default border in Firefox and Opera. */\n",
       "                border: none;\n",
       "                /* Needs to be in here for Safari polyfill so background images work as expected. */\n",
       "                background-size: auto;\n",
       "            }\n",
       "            .progress-bar-interrupted, .progress-bar-interrupted::-webkit-progress-bar {\n",
       "                background: #F44336;\n",
       "            }\n",
       "        </style>\n",
       "      <progress value='8' class='' max='1100' style='width:300px; height:20px; vertical-align: middle;'></progress>\n",
       "      0.73% [8/1100 05:13<11:53:35 Sampling chain 0, 0 divergences]\n",
       "    </div>\n",
       "    "
      ],
      "text/plain": [
       "<IPython.core.display.HTML object>"
      ]
     },
     "metadata": {},
     "output_type": "display_data"
    },
    {
     "name": "stderr",
     "output_type": "stream",
     "text": [
      "Sequential sampling (2 chains in 1 job)\n",
      "CompoundStep\n",
      ">CompoundStep\n",
      ">>Metropolis: [married322448]\n",
      ">>Metropolis: [race322448]\n",
      ">>Metropolis: [educ322448]\n",
      ">>Metropolis: [sex322448]\n",
      ">>Metropolis: [age322448]\n",
      ">>Metropolis: [N322448]\n",
      ">NUTS: [income322448]\n"
     ]
    },
    {
     "data": {
      "text/html": [
       "\n",
       "    <div>\n",
       "        <style>\n",
       "            /* Turns off some styling */\n",
       "            progress {\n",
       "                /* gets rid of default border in Firefox and Opera. */\n",
       "                border: none;\n",
       "                /* Needs to be in here for Safari polyfill so background images work as expected. */\n",
       "                background-size: auto;\n",
       "            }\n",
       "            .progress-bar-interrupted, .progress-bar-interrupted::-webkit-progress-bar {\n",
       "                background: #F44336;\n",
       "            }\n",
       "        </style>\n",
       "      <progress value='1500' class='' max='1500' style='width:300px; height:20px; vertical-align: middle;'></progress>\n",
       "      100.00% [1500/1500 00:15<00:00 Sampling chain 0, 0 divergences]\n",
       "    </div>\n",
       "    "
      ],
      "text/plain": [
       "<IPython.core.display.HTML object>"
      ]
     },
     "metadata": {},
     "output_type": "display_data"
    },
    {
     "data": {
      "text/html": [
       "\n",
       "    <div>\n",
       "        <style>\n",
       "            /* Turns off some styling */\n",
       "            progress {\n",
       "                /* gets rid of default border in Firefox and Opera. */\n",
       "                border: none;\n",
       "                /* Needs to be in here for Safari polyfill so background images work as expected. */\n",
       "                background-size: auto;\n",
       "            }\n",
       "            .progress-bar-interrupted, .progress-bar-interrupted::-webkit-progress-bar {\n",
       "                background: #F44336;\n",
       "            }\n",
       "        </style>\n",
       "      <progress value='1500' class='' max='1500' style='width:300px; height:20px; vertical-align: middle;'></progress>\n",
       "      100.00% [1500/1500 00:14<00:00 Sampling chain 1, 0 divergences]\n",
       "    </div>\n",
       "    "
      ],
      "text/plain": [
       "<IPython.core.display.HTML object>"
      ]
     },
     "metadata": {},
     "output_type": "display_data"
    },
    {
     "name": "stderr",
     "output_type": "stream",
     "text": [
      "Sampling 2 chains for 1_000 tune and 500 draw iterations (2_000 + 1_000 draws total) took 31 seconds.\n",
      "The estimated number of effective samples is smaller than 200 for some parameters.\n",
      "Sequential sampling (2 chains in 1 job)\n",
      "CompoundStep\n",
      ">CompoundStep\n",
      ">>Metropolis: [married108137]\n",
      ">>Metropolis: [race108137]\n",
      ">>Metropolis: [educ108137]\n",
      ">>Metropolis: [sex108137]\n",
      ">>Metropolis: [age108137]\n",
      ">>Metropolis: [N108137]\n",
      ">NUTS: [income108137]\n"
     ]
    },
    {
     "data": {
      "text/html": [
       "\n",
       "    <div>\n",
       "        <style>\n",
       "            /* Turns off some styling */\n",
       "            progress {\n",
       "                /* gets rid of default border in Firefox and Opera. */\n",
       "                border: none;\n",
       "                /* Needs to be in here for Safari polyfill so background images work as expected. */\n",
       "                background-size: auto;\n",
       "            }\n",
       "            .progress-bar-interrupted, .progress-bar-interrupted::-webkit-progress-bar {\n",
       "                background: #F44336;\n",
       "            }\n",
       "        </style>\n",
       "      <progress value='1500' class='' max='1500' style='width:300px; height:20px; vertical-align: middle;'></progress>\n",
       "      100.00% [1500/1500 00:15<00:00 Sampling chain 0, 0 divergences]\n",
       "    </div>\n",
       "    "
      ],
      "text/plain": [
       "<IPython.core.display.HTML object>"
      ]
     },
     "metadata": {},
     "output_type": "display_data"
    },
    {
     "data": {
      "text/html": [
       "\n",
       "    <div>\n",
       "        <style>\n",
       "            /* Turns off some styling */\n",
       "            progress {\n",
       "                /* gets rid of default border in Firefox and Opera. */\n",
       "                border: none;\n",
       "                /* Needs to be in here for Safari polyfill so background images work as expected. */\n",
       "                background-size: auto;\n",
       "            }\n",
       "            .progress-bar-interrupted, .progress-bar-interrupted::-webkit-progress-bar {\n",
       "                background: #F44336;\n",
       "            }\n",
       "        </style>\n",
       "      <progress value='1500' class='' max='1500' style='width:300px; height:20px; vertical-align: middle;'></progress>\n",
       "      100.00% [1500/1500 00:15<00:00 Sampling chain 1, 0 divergences]\n",
       "    </div>\n",
       "    "
      ],
      "text/plain": [
       "<IPython.core.display.HTML object>"
      ]
     },
     "metadata": {},
     "output_type": "display_data"
    },
    {
     "name": "stderr",
     "output_type": "stream",
     "text": [
      "Sampling 2 chains for 1_000 tune and 500 draw iterations (2_000 + 1_000 draws total) took 31 seconds.\n",
      "The estimated number of effective samples is smaller than 200 for some parameters.\n",
      "Sequential sampling (2 chains in 1 job)\n",
      "CompoundStep\n",
      ">CompoundStep\n",
      ">>Metropolis: [married500942]\n",
      ">>Metropolis: [race500942]\n",
      ">>Metropolis: [educ500942]\n",
      ">>Metropolis: [sex500942]\n",
      ">>Metropolis: [age500942]\n",
      ">>Metropolis: [N500942]\n",
      ">NUTS: [income500942]\n"
     ]
    },
    {
     "data": {
      "text/html": [
       "\n",
       "    <div>\n",
       "        <style>\n",
       "            /* Turns off some styling */\n",
       "            progress {\n",
       "                /* gets rid of default border in Firefox and Opera. */\n",
       "                border: none;\n",
       "                /* Needs to be in here for Safari polyfill so background images work as expected. */\n",
       "                background-size: auto;\n",
       "            }\n",
       "            .progress-bar-interrupted, .progress-bar-interrupted::-webkit-progress-bar {\n",
       "                background: #F44336;\n",
       "            }\n",
       "        </style>\n",
       "      <progress value='1500' class='' max='1500' style='width:300px; height:20px; vertical-align: middle;'></progress>\n",
       "      100.00% [1500/1500 00:14<00:00 Sampling chain 0, 0 divergences]\n",
       "    </div>\n",
       "    "
      ],
      "text/plain": [
       "<IPython.core.display.HTML object>"
      ]
     },
     "metadata": {},
     "output_type": "display_data"
    },
    {
     "data": {
      "text/html": [
       "\n",
       "    <div>\n",
       "        <style>\n",
       "            /* Turns off some styling */\n",
       "            progress {\n",
       "                /* gets rid of default border in Firefox and Opera. */\n",
       "                border: none;\n",
       "                /* Needs to be in here for Safari polyfill so background images work as expected. */\n",
       "                background-size: auto;\n",
       "            }\n",
       "            .progress-bar-interrupted, .progress-bar-interrupted::-webkit-progress-bar {\n",
       "                background: #F44336;\n",
       "            }\n",
       "        </style>\n",
       "      <progress value='1500' class='' max='1500' style='width:300px; height:20px; vertical-align: middle;'></progress>\n",
       "      100.00% [1500/1500 00:14<00:00 Sampling chain 1, 0 divergences]\n",
       "    </div>\n",
       "    "
      ],
      "text/plain": [
       "<IPython.core.display.HTML object>"
      ]
     },
     "metadata": {},
     "output_type": "display_data"
    },
    {
     "name": "stderr",
     "output_type": "stream",
     "text": [
      "Sampling 2 chains for 1_000 tune and 500 draw iterations (2_000 + 1_000 draws total) took 30 seconds.\n",
      "The estimated number of effective samples is smaller than 200 for some parameters.\n",
      "Sequential sampling (2 chains in 1 job)\n",
      "CompoundStep\n",
      ">CompoundStep\n",
      ">>Metropolis: [married667208]\n",
      ">>Metropolis: [race667208]\n",
      ">>Metropolis: [educ667208]\n",
      ">>Metropolis: [sex667208]\n",
      ">>Metropolis: [age667208]\n",
      ">>Metropolis: [N667208]\n",
      ">NUTS: [income667208]\n"
     ]
    },
    {
     "data": {
      "text/html": [
       "\n",
       "    <div>\n",
       "        <style>\n",
       "            /* Turns off some styling */\n",
       "            progress {\n",
       "                /* gets rid of default border in Firefox and Opera. */\n",
       "                border: none;\n",
       "                /* Needs to be in here for Safari polyfill so background images work as expected. */\n",
       "                background-size: auto;\n",
       "            }\n",
       "            .progress-bar-interrupted, .progress-bar-interrupted::-webkit-progress-bar {\n",
       "                background: #F44336;\n",
       "            }\n",
       "        </style>\n",
       "      <progress value='1500' class='' max='1500' style='width:300px; height:20px; vertical-align: middle;'></progress>\n",
       "      100.00% [1500/1500 00:17<00:00 Sampling chain 0, 0 divergences]\n",
       "    </div>\n",
       "    "
      ],
      "text/plain": [
       "<IPython.core.display.HTML object>"
      ]
     },
     "metadata": {},
     "output_type": "display_data"
    },
    {
     "data": {
      "text/html": [
       "\n",
       "    <div>\n",
       "        <style>\n",
       "            /* Turns off some styling */\n",
       "            progress {\n",
       "                /* gets rid of default border in Firefox and Opera. */\n",
       "                border: none;\n",
       "                /* Needs to be in here for Safari polyfill so background images work as expected. */\n",
       "                background-size: auto;\n",
       "            }\n",
       "            .progress-bar-interrupted, .progress-bar-interrupted::-webkit-progress-bar {\n",
       "                background: #F44336;\n",
       "            }\n",
       "        </style>\n",
       "      <progress value='1500' class='' max='1500' style='width:300px; height:20px; vertical-align: middle;'></progress>\n",
       "      100.00% [1500/1500 00:15<00:00 Sampling chain 1, 0 divergences]\n",
       "    </div>\n",
       "    "
      ],
      "text/plain": [
       "<IPython.core.display.HTML object>"
      ]
     },
     "metadata": {},
     "output_type": "display_data"
    },
    {
     "name": "stderr",
     "output_type": "stream",
     "text": [
      "Sampling 2 chains for 1_000 tune and 500 draw iterations (2_000 + 1_000 draws total) took 33 seconds.\n",
      "The estimated number of effective samples is smaller than 200 for some parameters.\n",
      "Sequential sampling (2 chains in 1 job)\n",
      "CompoundStep\n",
      ">CompoundStep\n",
      ">>Metropolis: [married395761]\n",
      ">>Metropolis: [race395761]\n",
      ">>Metropolis: [educ395761]\n",
      ">>Metropolis: [sex395761]\n",
      ">>Metropolis: [age395761]\n",
      ">>Metropolis: [N395761]\n",
      ">NUTS: [income395761]\n"
     ]
    },
    {
     "data": {
      "text/html": [
       "\n",
       "    <div>\n",
       "        <style>\n",
       "            /* Turns off some styling */\n",
       "            progress {\n",
       "                /* gets rid of default border in Firefox and Opera. */\n",
       "                border: none;\n",
       "                /* Needs to be in here for Safari polyfill so background images work as expected. */\n",
       "                background-size: auto;\n",
       "            }\n",
       "            .progress-bar-interrupted, .progress-bar-interrupted::-webkit-progress-bar {\n",
       "                background: #F44336;\n",
       "            }\n",
       "        </style>\n",
       "      <progress value='1500' class='' max='1500' style='width:300px; height:20px; vertical-align: middle;'></progress>\n",
       "      100.00% [1500/1500 00:15<00:00 Sampling chain 0, 0 divergences]\n",
       "    </div>\n",
       "    "
      ],
      "text/plain": [
       "<IPython.core.display.HTML object>"
      ]
     },
     "metadata": {},
     "output_type": "display_data"
    },
    {
     "data": {
      "text/html": [
       "\n",
       "    <div>\n",
       "        <style>\n",
       "            /* Turns off some styling */\n",
       "            progress {\n",
       "                /* gets rid of default border in Firefox and Opera. */\n",
       "                border: none;\n",
       "                /* Needs to be in here for Safari polyfill so background images work as expected. */\n",
       "                background-size: auto;\n",
       "            }\n",
       "            .progress-bar-interrupted, .progress-bar-interrupted::-webkit-progress-bar {\n",
       "                background: #F44336;\n",
       "            }\n",
       "        </style>\n",
       "      <progress value='1500' class='' max='1500' style='width:300px; height:20px; vertical-align: middle;'></progress>\n",
       "      100.00% [1500/1500 00:16<00:00 Sampling chain 1, 0 divergences]\n",
       "    </div>\n",
       "    "
      ],
      "text/plain": [
       "<IPython.core.display.HTML object>"
      ]
     },
     "metadata": {},
     "output_type": "display_data"
    },
    {
     "name": "stderr",
     "output_type": "stream",
     "text": [
      "Sampling 2 chains for 1_000 tune and 500 draw iterations (2_000 + 1_000 draws total) took 32 seconds.\n",
      "The estimated number of effective samples is smaller than 200 for some parameters.\n",
      "Sequential sampling (2 chains in 1 job)\n",
      "CompoundStep\n",
      ">CompoundStep\n",
      ">>Metropolis: [married491338]\n",
      ">>Metropolis: [race491338]\n",
      ">>Metropolis: [educ491338]\n",
      ">>Metropolis: [sex491338]\n",
      ">>Metropolis: [age491338]\n",
      ">>Metropolis: [N491338]\n",
      ">NUTS: [income491338]\n"
     ]
    },
    {
     "data": {
      "text/html": [
       "\n",
       "    <div>\n",
       "        <style>\n",
       "            /* Turns off some styling */\n",
       "            progress {\n",
       "                /* gets rid of default border in Firefox and Opera. */\n",
       "                border: none;\n",
       "                /* Needs to be in here for Safari polyfill so background images work as expected. */\n",
       "                background-size: auto;\n",
       "            }\n",
       "            .progress-bar-interrupted, .progress-bar-interrupted::-webkit-progress-bar {\n",
       "                background: #F44336;\n",
       "            }\n",
       "        </style>\n",
       "      <progress value='1500' class='' max='1500' style='width:300px; height:20px; vertical-align: middle;'></progress>\n",
       "      100.00% [1500/1500 00:15<00:00 Sampling chain 0, 0 divergences]\n",
       "    </div>\n",
       "    "
      ],
      "text/plain": [
       "<IPython.core.display.HTML object>"
      ]
     },
     "metadata": {},
     "output_type": "display_data"
    },
    {
     "data": {
      "text/html": [
       "\n",
       "    <div>\n",
       "        <style>\n",
       "            /* Turns off some styling */\n",
       "            progress {\n",
       "                /* gets rid of default border in Firefox and Opera. */\n",
       "                border: none;\n",
       "                /* Needs to be in here for Safari polyfill so background images work as expected. */\n",
       "                background-size: auto;\n",
       "            }\n",
       "            .progress-bar-interrupted, .progress-bar-interrupted::-webkit-progress-bar {\n",
       "                background: #F44336;\n",
       "            }\n",
       "        </style>\n",
       "      <progress value='1500' class='' max='1500' style='width:300px; height:20px; vertical-align: middle;'></progress>\n",
       "      100.00% [1500/1500 00:15<00:00 Sampling chain 1, 0 divergences]\n",
       "    </div>\n",
       "    "
      ],
      "text/plain": [
       "<IPython.core.display.HTML object>"
      ]
     },
     "metadata": {},
     "output_type": "display_data"
    },
    {
     "name": "stderr",
     "output_type": "stream",
     "text": [
      "Sampling 2 chains for 1_000 tune and 500 draw iterations (2_000 + 1_000 draws total) took 31 seconds.\n",
      "The estimated number of effective samples is smaller than 200 for some parameters.\n",
      "Sequential sampling (2 chains in 1 job)\n",
      "CompoundStep\n",
      ">CompoundStep\n",
      ">>Metropolis: [married550455]\n",
      ">>Metropolis: [race550455]\n",
      ">>Metropolis: [educ550455]\n",
      ">>Metropolis: [sex550455]\n",
      ">>Metropolis: [age550455]\n",
      ">>Metropolis: [N550455]\n",
      ">NUTS: [income550455]\n"
     ]
    },
    {
     "data": {
      "text/html": [
       "\n",
       "    <div>\n",
       "        <style>\n",
       "            /* Turns off some styling */\n",
       "            progress {\n",
       "                /* gets rid of default border in Firefox and Opera. */\n",
       "                border: none;\n",
       "                /* Needs to be in here for Safari polyfill so background images work as expected. */\n",
       "                background-size: auto;\n",
       "            }\n",
       "            .progress-bar-interrupted, .progress-bar-interrupted::-webkit-progress-bar {\n",
       "                background: #F44336;\n",
       "            }\n",
       "        </style>\n",
       "      <progress value='1500' class='' max='1500' style='width:300px; height:20px; vertical-align: middle;'></progress>\n",
       "      100.00% [1500/1500 00:15<00:00 Sampling chain 0, 0 divergences]\n",
       "    </div>\n",
       "    "
      ],
      "text/plain": [
       "<IPython.core.display.HTML object>"
      ]
     },
     "metadata": {},
     "output_type": "display_data"
    },
    {
     "data": {
      "text/html": [
       "\n",
       "    <div>\n",
       "        <style>\n",
       "            /* Turns off some styling */\n",
       "            progress {\n",
       "                /* gets rid of default border in Firefox and Opera. */\n",
       "                border: none;\n",
       "                /* Needs to be in here for Safari polyfill so background images work as expected. */\n",
       "                background-size: auto;\n",
       "            }\n",
       "            .progress-bar-interrupted, .progress-bar-interrupted::-webkit-progress-bar {\n",
       "                background: #F44336;\n",
       "            }\n",
       "        </style>\n",
       "      <progress value='1500' class='' max='1500' style='width:300px; height:20px; vertical-align: middle;'></progress>\n",
       "      100.00% [1500/1500 00:15<00:00 Sampling chain 1, 0 divergences]\n",
       "    </div>\n",
       "    "
      ],
      "text/plain": [
       "<IPython.core.display.HTML object>"
      ]
     },
     "metadata": {},
     "output_type": "display_data"
    },
    {
     "name": "stderr",
     "output_type": "stream",
     "text": [
      "Sampling 2 chains for 1_000 tune and 500 draw iterations (2_000 + 1_000 draws total) took 31 seconds.\n",
      "The estimated number of effective samples is smaller than 200 for some parameters.\n",
      "Sequential sampling (2 chains in 1 job)\n",
      "CompoundStep\n",
      ">CompoundStep\n",
      ">>Metropolis: [married894325]\n",
      ">>Metropolis: [race894325]\n",
      ">>Metropolis: [educ894325]\n",
      ">>Metropolis: [sex894325]\n",
      ">>Metropolis: [age894325]\n",
      ">>Metropolis: [N894325]\n",
      ">NUTS: [income894325]\n"
     ]
    },
    {
     "data": {
      "text/html": [
       "\n",
       "    <div>\n",
       "        <style>\n",
       "            /* Turns off some styling */\n",
       "            progress {\n",
       "                /* gets rid of default border in Firefox and Opera. */\n",
       "                border: none;\n",
       "                /* Needs to be in here for Safari polyfill so background images work as expected. */\n",
       "                background-size: auto;\n",
       "            }\n",
       "            .progress-bar-interrupted, .progress-bar-interrupted::-webkit-progress-bar {\n",
       "                background: #F44336;\n",
       "            }\n",
       "        </style>\n",
       "      <progress value='1500' class='' max='1500' style='width:300px; height:20px; vertical-align: middle;'></progress>\n",
       "      100.00% [1500/1500 00:15<00:00 Sampling chain 0, 0 divergences]\n",
       "    </div>\n",
       "    "
      ],
      "text/plain": [
       "<IPython.core.display.HTML object>"
      ]
     },
     "metadata": {},
     "output_type": "display_data"
    },
    {
     "data": {
      "text/html": [
       "\n",
       "    <div>\n",
       "        <style>\n",
       "            /* Turns off some styling */\n",
       "            progress {\n",
       "                /* gets rid of default border in Firefox and Opera. */\n",
       "                border: none;\n",
       "                /* Needs to be in here for Safari polyfill so background images work as expected. */\n",
       "                background-size: auto;\n",
       "            }\n",
       "            .progress-bar-interrupted, .progress-bar-interrupted::-webkit-progress-bar {\n",
       "                background: #F44336;\n",
       "            }\n",
       "        </style>\n",
       "      <progress value='1500' class='' max='1500' style='width:300px; height:20px; vertical-align: middle;'></progress>\n",
       "      100.00% [1500/1500 00:16<00:00 Sampling chain 1, 0 divergences]\n",
       "    </div>\n",
       "    "
      ],
      "text/plain": [
       "<IPython.core.display.HTML object>"
      ]
     },
     "metadata": {},
     "output_type": "display_data"
    },
    {
     "name": "stderr",
     "output_type": "stream",
     "text": [
      "Sampling 2 chains for 1_000 tune and 500 draw iterations (2_000 + 1_000 draws total) took 32 seconds.\n",
      "The estimated number of effective samples is smaller than 200 for some parameters.\n",
      "Sequential sampling (2 chains in 1 job)\n",
      "CompoundStep\n",
      ">CompoundStep\n",
      ">>Metropolis: [married730874]\n",
      ">>Metropolis: [race730874]\n",
      ">>Metropolis: [educ730874]\n",
      ">>Metropolis: [sex730874]\n",
      ">>Metropolis: [age730874]\n",
      ">>Metropolis: [N730874]\n",
      ">NUTS: [income730874]\n"
     ]
    },
    {
     "data": {
      "text/html": [
       "\n",
       "    <div>\n",
       "        <style>\n",
       "            /* Turns off some styling */\n",
       "            progress {\n",
       "                /* gets rid of default border in Firefox and Opera. */\n",
       "                border: none;\n",
       "                /* Needs to be in here for Safari polyfill so background images work as expected. */\n",
       "                background-size: auto;\n",
       "            }\n",
       "            .progress-bar-interrupted, .progress-bar-interrupted::-webkit-progress-bar {\n",
       "                background: #F44336;\n",
       "            }\n",
       "        </style>\n",
       "      <progress value='1500' class='' max='1500' style='width:300px; height:20px; vertical-align: middle;'></progress>\n",
       "      100.00% [1500/1500 00:15<00:00 Sampling chain 0, 0 divergences]\n",
       "    </div>\n",
       "    "
      ],
      "text/plain": [
       "<IPython.core.display.HTML object>"
      ]
     },
     "metadata": {},
     "output_type": "display_data"
    },
    {
     "data": {
      "text/html": [
       "\n",
       "    <div>\n",
       "        <style>\n",
       "            /* Turns off some styling */\n",
       "            progress {\n",
       "                /* gets rid of default border in Firefox and Opera. */\n",
       "                border: none;\n",
       "                /* Needs to be in here for Safari polyfill so background images work as expected. */\n",
       "                background-size: auto;\n",
       "            }\n",
       "            .progress-bar-interrupted, .progress-bar-interrupted::-webkit-progress-bar {\n",
       "                background: #F44336;\n",
       "            }\n",
       "        </style>\n",
       "      <progress value='1500' class='' max='1500' style='width:300px; height:20px; vertical-align: middle;'></progress>\n",
       "      100.00% [1500/1500 00:15<00:00 Sampling chain 1, 0 divergences]\n",
       "    </div>\n",
       "    "
      ],
      "text/plain": [
       "<IPython.core.display.HTML object>"
      ]
     },
     "metadata": {},
     "output_type": "display_data"
    },
    {
     "name": "stderr",
     "output_type": "stream",
     "text": [
      "Sampling 2 chains for 1_000 tune and 500 draw iterations (2_000 + 1_000 draws total) took 32 seconds.\n",
      "The estimated number of effective samples is smaller than 200 for some parameters.\n",
      "Sequential sampling (2 chains in 1 job)\n",
      "CompoundStep\n",
      ">CompoundStep\n",
      ">>Metropolis: [married573320]\n",
      ">>Metropolis: [race573320]\n",
      ">>Metropolis: [educ573320]\n",
      ">>Metropolis: [sex573320]\n",
      ">>Metropolis: [age573320]\n",
      ">>Metropolis: [N573320]\n",
      ">NUTS: [income573320]\n"
     ]
    },
    {
     "data": {
      "text/html": [
       "\n",
       "    <div>\n",
       "        <style>\n",
       "            /* Turns off some styling */\n",
       "            progress {\n",
       "                /* gets rid of default border in Firefox and Opera. */\n",
       "                border: none;\n",
       "                /* Needs to be in here for Safari polyfill so background images work as expected. */\n",
       "                background-size: auto;\n",
       "            }\n",
       "            .progress-bar-interrupted, .progress-bar-interrupted::-webkit-progress-bar {\n",
       "                background: #F44336;\n",
       "            }\n",
       "        </style>\n",
       "      <progress value='1500' class='' max='1500' style='width:300px; height:20px; vertical-align: middle;'></progress>\n",
       "      100.00% [1500/1500 00:14<00:00 Sampling chain 0, 0 divergences]\n",
       "    </div>\n",
       "    "
      ],
      "text/plain": [
       "<IPython.core.display.HTML object>"
      ]
     },
     "metadata": {},
     "output_type": "display_data"
    },
    {
     "data": {
      "text/html": [
       "\n",
       "    <div>\n",
       "        <style>\n",
       "            /* Turns off some styling */\n",
       "            progress {\n",
       "                /* gets rid of default border in Firefox and Opera. */\n",
       "                border: none;\n",
       "                /* Needs to be in here for Safari polyfill so background images work as expected. */\n",
       "                background-size: auto;\n",
       "            }\n",
       "            .progress-bar-interrupted, .progress-bar-interrupted::-webkit-progress-bar {\n",
       "                background: #F44336;\n",
       "            }\n",
       "        </style>\n",
       "      <progress value='1500' class='' max='1500' style='width:300px; height:20px; vertical-align: middle;'></progress>\n",
       "      100.00% [1500/1500 00:15<00:00 Sampling chain 1, 0 divergences]\n",
       "    </div>\n",
       "    "
      ],
      "text/plain": [
       "<IPython.core.display.HTML object>"
      ]
     },
     "metadata": {},
     "output_type": "display_data"
    },
    {
     "name": "stderr",
     "output_type": "stream",
     "text": [
      "Sampling 2 chains for 1_000 tune and 500 draw iterations (2_000 + 1_000 draws total) took 30 seconds.\n",
      "The estimated number of effective samples is smaller than 200 for some parameters.\n",
      "Sampling 1 chain for 8 tune and 0 draw iterations (8 + 0 draws total) took 317 seconds.\n",
      "No posterior samples. Unable to run convergence checks\n"
     ]
    }
   ],
   "source": [
    "with pm.Model() as model2:\n",
    "    mu = pm.Uniform(\"Mu\", 0,100)\n",
    "    sigma = pm.HalfNormal(\"sigma\", 10)\n",
    "    \n",
    "    out = pm.Deterministic(\"out\", f_pymc3(mu, sigma))\n",
    "    \n",
    "    t = pm.sample(100, return_inferencedata=False, cores=1)"
   ]
  },
  {
   "cell_type": "code",
   "execution_count": 50,
   "metadata": {},
   "outputs": [
    {
     "name": "stdout",
     "output_type": "stream",
     "text": [
      "[0. 1. 0. 1. 1. 1.]\n",
      "[189.  55.  42.  12.  37.  10.]\n",
      "[  6. 127. 149. 197.  73.  92.]\n"
     ]
    },
    {
     "name": "stderr",
     "output_type": "stream",
     "text": [
      "Sequential sampling (2 chains in 1 job)\n",
      "CompoundStep\n",
      ">CompoundStep\n",
      ">>Metropolis: [married_a]\n",
      ">>Metropolis: [race_a]\n",
      ">>Metropolis: [educ_a]\n",
      ">>Metropolis: [sex_a]\n",
      ">>Metropolis: [age_a]\n",
      ">>Metropolis: [N]\n",
      ">NUTS: [income_a]\n"
     ]
    },
    {
     "data": {
      "text/html": [
       "\n",
       "    <div>\n",
       "        <style>\n",
       "            /* Turns off some styling */\n",
       "            progress {\n",
       "                /* gets rid of default border in Firefox and Opera. */\n",
       "                border: none;\n",
       "                /* Needs to be in here for Safari polyfill so background images work as expected. */\n",
       "                background-size: auto;\n",
       "            }\n",
       "            .progress-bar-interrupted, .progress-bar-interrupted::-webkit-progress-bar {\n",
       "                background: #F44336;\n",
       "            }\n",
       "        </style>\n",
       "      <progress value='4000' class='' max='4000' style='width:300px; height:20px; vertical-align: middle;'></progress>\n",
       "      100.00% [4000/4000 00:36<00:00 Sampling chain 0, 0 divergences]\n",
       "    </div>\n",
       "    "
      ],
      "text/plain": [
       "<IPython.core.display.HTML object>"
      ]
     },
     "metadata": {},
     "output_type": "display_data"
    },
    {
     "data": {
      "text/html": [
       "\n",
       "    <div>\n",
       "        <style>\n",
       "            /* Turns off some styling */\n",
       "            progress {\n",
       "                /* gets rid of default border in Firefox and Opera. */\n",
       "                border: none;\n",
       "                /* Needs to be in here for Safari polyfill so background images work as expected. */\n",
       "                background-size: auto;\n",
       "            }\n",
       "            .progress-bar-interrupted, .progress-bar-interrupted::-webkit-progress-bar {\n",
       "                background: #F44336;\n",
       "            }\n",
       "        </style>\n",
       "      <progress value='4000' class='' max='4000' style='width:300px; height:20px; vertical-align: middle;'></progress>\n",
       "      100.00% [4000/4000 00:32<00:00 Sampling chain 1, 0 divergences]\n",
       "    </div>\n",
       "    "
      ],
      "text/plain": [
       "<IPython.core.display.HTML object>"
      ]
     },
     "metadata": {},
     "output_type": "display_data"
    },
    {
     "name": "stderr",
     "output_type": "stream",
     "text": [
      "Sampling 2 chains for 1_000 tune and 3_000 draw iterations (2_000 + 6_000 draws total) took 69 seconds.\n",
      "The estimated number of effective samples is smaller than 200 for some parameters.\n"
     ]
    },
    {
     "name": "stdout",
     "output_type": "stream",
     "text": [
      "[0. 0. 0. 1. 0. 0.]\n",
      "[ 78.   7.  42. 102.  76.  31.]\n",
      "[128. 136. 124.  55. 136. 149.]\n"
     ]
    },
    {
     "name": "stderr",
     "output_type": "stream",
     "text": [
      "Sequential sampling (2 chains in 1 job)\n",
      "CompoundStep\n",
      ">CompoundStep\n",
      ">>Metropolis: [married_a]\n",
      ">>Metropolis: [race_a]\n",
      ">>Metropolis: [educ_a]\n",
      ">>Metropolis: [sex_a]\n",
      ">>Metropolis: [age_a]\n",
      ">>Metropolis: [N]\n",
      ">NUTS: [income_a]\n"
     ]
    },
    {
     "data": {
      "text/html": [
       "\n",
       "    <div>\n",
       "        <style>\n",
       "            /* Turns off some styling */\n",
       "            progress {\n",
       "                /* gets rid of default border in Firefox and Opera. */\n",
       "                border: none;\n",
       "                /* Needs to be in here for Safari polyfill so background images work as expected. */\n",
       "                background-size: auto;\n",
       "            }\n",
       "            .progress-bar-interrupted, .progress-bar-interrupted::-webkit-progress-bar {\n",
       "                background: #F44336;\n",
       "            }\n",
       "        </style>\n",
       "      <progress value='4000' class='' max='4000' style='width:300px; height:20px; vertical-align: middle;'></progress>\n",
       "      100.00% [4000/4000 00:32<00:00 Sampling chain 0, 0 divergences]\n",
       "    </div>\n",
       "    "
      ],
      "text/plain": [
       "<IPython.core.display.HTML object>"
      ]
     },
     "metadata": {},
     "output_type": "display_data"
    },
    {
     "data": {
      "text/html": [
       "\n",
       "    <div>\n",
       "        <style>\n",
       "            /* Turns off some styling */\n",
       "            progress {\n",
       "                /* gets rid of default border in Firefox and Opera. */\n",
       "                border: none;\n",
       "                /* Needs to be in here for Safari polyfill so background images work as expected. */\n",
       "                background-size: auto;\n",
       "            }\n",
       "            .progress-bar-interrupted, .progress-bar-interrupted::-webkit-progress-bar {\n",
       "                background: #F44336;\n",
       "            }\n",
       "        </style>\n",
       "      <progress value='4000' class='' max='4000' style='width:300px; height:20px; vertical-align: middle;'></progress>\n",
       "      100.00% [4000/4000 00:37<00:00 Sampling chain 1, 0 divergences]\n",
       "    </div>\n",
       "    "
      ],
      "text/plain": [
       "<IPython.core.display.HTML object>"
      ]
     },
     "metadata": {},
     "output_type": "display_data"
    },
    {
     "name": "stderr",
     "output_type": "stream",
     "text": [
      "Sampling 2 chains for 1_000 tune and 3_000 draw iterations (2_000 + 6_000 draws total) took 71 seconds.\n",
      "The estimated number of effective samples is smaller than 200 for some parameters.\n"
     ]
    },
    {
     "name": "stdout",
     "output_type": "stream",
     "text": [
      "[0. 0. 0. 1. 0. 1.]\n",
      "[ 37. 136.  99. 138. 180.   7.]\n",
      "[105.  55. 155. 133. 128. 185.]\n"
     ]
    },
    {
     "name": "stderr",
     "output_type": "stream",
     "text": [
      "Sequential sampling (2 chains in 1 job)\n",
      "CompoundStep\n",
      ">CompoundStep\n",
      ">>Metropolis: [married_a]\n",
      ">>Metropolis: [race_a]\n",
      ">>Metropolis: [educ_a]\n",
      ">>Metropolis: [sex_a]\n",
      ">>Metropolis: [age_a]\n",
      ">>Metropolis: [N]\n",
      ">NUTS: [income_a]\n"
     ]
    },
    {
     "data": {
      "text/html": [
       "\n",
       "    <div>\n",
       "        <style>\n",
       "            /* Turns off some styling */\n",
       "            progress {\n",
       "                /* gets rid of default border in Firefox and Opera. */\n",
       "                border: none;\n",
       "                /* Needs to be in here for Safari polyfill so background images work as expected. */\n",
       "                background-size: auto;\n",
       "            }\n",
       "            .progress-bar-interrupted, .progress-bar-interrupted::-webkit-progress-bar {\n",
       "                background: #F44336;\n",
       "            }\n",
       "        </style>\n",
       "      <progress value='4000' class='' max='4000' style='width:300px; height:20px; vertical-align: middle;'></progress>\n",
       "      100.00% [4000/4000 00:28<00:00 Sampling chain 0, 0 divergences]\n",
       "    </div>\n",
       "    "
      ],
      "text/plain": [
       "<IPython.core.display.HTML object>"
      ]
     },
     "metadata": {},
     "output_type": "display_data"
    },
    {
     "data": {
      "text/html": [
       "\n",
       "    <div>\n",
       "        <style>\n",
       "            /* Turns off some styling */\n",
       "            progress {\n",
       "                /* gets rid of default border in Firefox and Opera. */\n",
       "                border: none;\n",
       "                /* Needs to be in here for Safari polyfill so background images work as expected. */\n",
       "                background-size: auto;\n",
       "            }\n",
       "            .progress-bar-interrupted, .progress-bar-interrupted::-webkit-progress-bar {\n",
       "                background: #F44336;\n",
       "            }\n",
       "        </style>\n",
       "      <progress value='4000' class='' max='4000' style='width:300px; height:20px; vertical-align: middle;'></progress>\n",
       "      100.00% [4000/4000 00:30<00:00 Sampling chain 1, 0 divergences]\n",
       "    </div>\n",
       "    "
      ],
      "text/plain": [
       "<IPython.core.display.HTML object>"
      ]
     },
     "metadata": {},
     "output_type": "display_data"
    },
    {
     "name": "stderr",
     "output_type": "stream",
     "text": [
      "Sampling 2 chains for 1_000 tune and 3_000 draw iterations (2_000 + 6_000 draws total) took 59 seconds.\n",
      "The estimated number of effective samples is smaller than 200 for some parameters.\n"
     ]
    },
    {
     "name": "stdout",
     "output_type": "stream",
     "text": [
      "[1. 1. 0. 0. 1. 1.]\n",
      "[172.  11. 151.  40. 186.  88.]\n",
      "[ 10. 150.  68.  98. 171. 133.]\n"
     ]
    },
    {
     "name": "stderr",
     "output_type": "stream",
     "text": [
      "Sequential sampling (2 chains in 1 job)\n",
      "CompoundStep\n",
      ">CompoundStep\n",
      ">>Metropolis: [married_a]\n",
      ">>Metropolis: [race_a]\n",
      ">>Metropolis: [educ_a]\n",
      ">>Metropolis: [sex_a]\n",
      ">>Metropolis: [age_a]\n",
      ">>Metropolis: [N]\n",
      ">NUTS: [income_a]\n"
     ]
    },
    {
     "data": {
      "text/html": [
       "\n",
       "    <div>\n",
       "        <style>\n",
       "            /* Turns off some styling */\n",
       "            progress {\n",
       "                /* gets rid of default border in Firefox and Opera. */\n",
       "                border: none;\n",
       "                /* Needs to be in here for Safari polyfill so background images work as expected. */\n",
       "                background-size: auto;\n",
       "            }\n",
       "            .progress-bar-interrupted, .progress-bar-interrupted::-webkit-progress-bar {\n",
       "                background: #F44336;\n",
       "            }\n",
       "        </style>\n",
       "      <progress value='4000' class='' max='4000' style='width:300px; height:20px; vertical-align: middle;'></progress>\n",
       "      100.00% [4000/4000 00:30<00:00 Sampling chain 0, 0 divergences]\n",
       "    </div>\n",
       "    "
      ],
      "text/plain": [
       "<IPython.core.display.HTML object>"
      ]
     },
     "metadata": {},
     "output_type": "display_data"
    },
    {
     "data": {
      "text/html": [
       "\n",
       "    <div>\n",
       "        <style>\n",
       "            /* Turns off some styling */\n",
       "            progress {\n",
       "                /* gets rid of default border in Firefox and Opera. */\n",
       "                border: none;\n",
       "                /* Needs to be in here for Safari polyfill so background images work as expected. */\n",
       "                background-size: auto;\n",
       "            }\n",
       "            .progress-bar-interrupted, .progress-bar-interrupted::-webkit-progress-bar {\n",
       "                background: #F44336;\n",
       "            }\n",
       "        </style>\n",
       "      <progress value='4000' class='' max='4000' style='width:300px; height:20px; vertical-align: middle;'></progress>\n",
       "      100.00% [4000/4000 00:28<00:00 Sampling chain 1, 0 divergences]\n",
       "    </div>\n",
       "    "
      ],
      "text/plain": [
       "<IPython.core.display.HTML object>"
      ]
     },
     "metadata": {},
     "output_type": "display_data"
    },
    {
     "name": "stderr",
     "output_type": "stream",
     "text": [
      "Sampling 2 chains for 1_000 tune and 3_000 draw iterations (2_000 + 6_000 draws total) took 60 seconds.\n",
      "The estimated number of effective samples is smaller than 200 for some parameters.\n"
     ]
    },
    {
     "name": "stdout",
     "output_type": "stream",
     "text": [
      "[1. 0. 1. 1. 1. 1.]\n",
      "[ 69. 132.  12.  97.  51. 165.]\n",
      "[129. 182. 105. 107.  72.  64.]\n"
     ]
    },
    {
     "name": "stderr",
     "output_type": "stream",
     "text": [
      "Sequential sampling (2 chains in 1 job)\n",
      "CompoundStep\n",
      ">CompoundStep\n",
      ">>Metropolis: [married_a]\n",
      ">>Metropolis: [race_a]\n",
      ">>Metropolis: [educ_a]\n",
      ">>Metropolis: [sex_a]\n",
      ">>Metropolis: [age_a]\n",
      ">>Metropolis: [N]\n",
      ">NUTS: [income_a]\n"
     ]
    },
    {
     "data": {
      "text/html": [
       "\n",
       "    <div>\n",
       "        <style>\n",
       "            /* Turns off some styling */\n",
       "            progress {\n",
       "                /* gets rid of default border in Firefox and Opera. */\n",
       "                border: none;\n",
       "                /* Needs to be in here for Safari polyfill so background images work as expected. */\n",
       "                background-size: auto;\n",
       "            }\n",
       "            .progress-bar-interrupted, .progress-bar-interrupted::-webkit-progress-bar {\n",
       "                background: #F44336;\n",
       "            }\n",
       "        </style>\n",
       "      <progress value='4000' class='' max='4000' style='width:300px; height:20px; vertical-align: middle;'></progress>\n",
       "      100.00% [4000/4000 00:30<00:00 Sampling chain 0, 0 divergences]\n",
       "    </div>\n",
       "    "
      ],
      "text/plain": [
       "<IPython.core.display.HTML object>"
      ]
     },
     "metadata": {},
     "output_type": "display_data"
    },
    {
     "data": {
      "text/html": [
       "\n",
       "    <div>\n",
       "        <style>\n",
       "            /* Turns off some styling */\n",
       "            progress {\n",
       "                /* gets rid of default border in Firefox and Opera. */\n",
       "                border: none;\n",
       "                /* Needs to be in here for Safari polyfill so background images work as expected. */\n",
       "                background-size: auto;\n",
       "            }\n",
       "            .progress-bar-interrupted, .progress-bar-interrupted::-webkit-progress-bar {\n",
       "                background: #F44336;\n",
       "            }\n",
       "        </style>\n",
       "      <progress value='4000' class='' max='4000' style='width:300px; height:20px; vertical-align: middle;'></progress>\n",
       "      100.00% [4000/4000 00:30<00:00 Sampling chain 1, 0 divergences]\n",
       "    </div>\n",
       "    "
      ],
      "text/plain": [
       "<IPython.core.display.HTML object>"
      ]
     },
     "metadata": {},
     "output_type": "display_data"
    },
    {
     "name": "stderr",
     "output_type": "stream",
     "text": [
      "Sampling 2 chains for 1_000 tune and 3_000 draw iterations (2_000 + 6_000 draws total) took 60 seconds.\n",
      "The estimated number of effective samples is smaller than 200 for some parameters.\n"
     ]
    },
    {
     "name": "stdout",
     "output_type": "stream",
     "text": [
      "[0. 1. 0. 1. 1. 0.]\n",
      "[ 72. 123. 154. 106. 107.  26.]\n",
      "[123.  94.  41. 170.  83. 191.]\n"
     ]
    },
    {
     "name": "stderr",
     "output_type": "stream",
     "text": [
      "Sequential sampling (2 chains in 1 job)\n",
      "CompoundStep\n",
      ">CompoundStep\n",
      ">>Metropolis: [married_a]\n",
      ">>Metropolis: [race_a]\n",
      ">>Metropolis: [educ_a]\n",
      ">>Metropolis: [sex_a]\n",
      ">>Metropolis: [age_a]\n",
      ">>Metropolis: [N]\n",
      ">NUTS: [income_a]\n"
     ]
    },
    {
     "data": {
      "text/html": [
       "\n",
       "    <div>\n",
       "        <style>\n",
       "            /* Turns off some styling */\n",
       "            progress {\n",
       "                /* gets rid of default border in Firefox and Opera. */\n",
       "                border: none;\n",
       "                /* Needs to be in here for Safari polyfill so background images work as expected. */\n",
       "                background-size: auto;\n",
       "            }\n",
       "            .progress-bar-interrupted, .progress-bar-interrupted::-webkit-progress-bar {\n",
       "                background: #F44336;\n",
       "            }\n",
       "        </style>\n",
       "      <progress value='4000' class='' max='4000' style='width:300px; height:20px; vertical-align: middle;'></progress>\n",
       "      100.00% [4000/4000 00:29<00:00 Sampling chain 0, 0 divergences]\n",
       "    </div>\n",
       "    "
      ],
      "text/plain": [
       "<IPython.core.display.HTML object>"
      ]
     },
     "metadata": {},
     "output_type": "display_data"
    },
    {
     "data": {
      "text/html": [
       "\n",
       "    <div>\n",
       "        <style>\n",
       "            /* Turns off some styling */\n",
       "            progress {\n",
       "                /* gets rid of default border in Firefox and Opera. */\n",
       "                border: none;\n",
       "                /* Needs to be in here for Safari polyfill so background images work as expected. */\n",
       "                background-size: auto;\n",
       "            }\n",
       "            .progress-bar-interrupted, .progress-bar-interrupted::-webkit-progress-bar {\n",
       "                background: #F44336;\n",
       "            }\n",
       "        </style>\n",
       "      <progress value='4000' class='' max='4000' style='width:300px; height:20px; vertical-align: middle;'></progress>\n",
       "      100.00% [4000/4000 00:24<00:00 Sampling chain 1, 0 divergences]\n",
       "    </div>\n",
       "    "
      ],
      "text/plain": [
       "<IPython.core.display.HTML object>"
      ]
     },
     "metadata": {},
     "output_type": "display_data"
    },
    {
     "name": "stderr",
     "output_type": "stream",
     "text": [
      "Sampling 2 chains for 1_000 tune and 3_000 draw iterations (2_000 + 6_000 draws total) took 54 seconds.\n",
      "The estimated number of effective samples is smaller than 200 for some parameters.\n"
     ]
    },
    {
     "name": "stdout",
     "output_type": "stream",
     "text": [
      "[1. 0. 0. 0. 0. 1.]\n",
      "[ 39. 172. 150.  42. 151. 111.]\n",
      "[106. 156.  79.  49. 126. 189.]\n"
     ]
    },
    {
     "name": "stderr",
     "output_type": "stream",
     "text": [
      "Sequential sampling (2 chains in 1 job)\n",
      "CompoundStep\n",
      ">CompoundStep\n",
      ">>Metropolis: [married_a]\n",
      ">>Metropolis: [race_a]\n",
      ">>Metropolis: [educ_a]\n",
      ">>Metropolis: [sex_a]\n",
      ">>Metropolis: [age_a]\n",
      ">>Metropolis: [N]\n",
      ">NUTS: [income_a]\n"
     ]
    },
    {
     "data": {
      "text/html": [
       "\n",
       "    <div>\n",
       "        <style>\n",
       "            /* Turns off some styling */\n",
       "            progress {\n",
       "                /* gets rid of default border in Firefox and Opera. */\n",
       "                border: none;\n",
       "                /* Needs to be in here for Safari polyfill so background images work as expected. */\n",
       "                background-size: auto;\n",
       "            }\n",
       "            .progress-bar-interrupted, .progress-bar-interrupted::-webkit-progress-bar {\n",
       "                background: #F44336;\n",
       "            }\n",
       "        </style>\n",
       "      <progress value='4000' class='' max='4000' style='width:300px; height:20px; vertical-align: middle;'></progress>\n",
       "      100.00% [4000/4000 00:23<00:00 Sampling chain 0, 0 divergences]\n",
       "    </div>\n",
       "    "
      ],
      "text/plain": [
       "<IPython.core.display.HTML object>"
      ]
     },
     "metadata": {},
     "output_type": "display_data"
    },
    {
     "data": {
      "text/html": [
       "\n",
       "    <div>\n",
       "        <style>\n",
       "            /* Turns off some styling */\n",
       "            progress {\n",
       "                /* gets rid of default border in Firefox and Opera. */\n",
       "                border: none;\n",
       "                /* Needs to be in here for Safari polyfill so background images work as expected. */\n",
       "                background-size: auto;\n",
       "            }\n",
       "            .progress-bar-interrupted, .progress-bar-interrupted::-webkit-progress-bar {\n",
       "                background: #F44336;\n",
       "            }\n",
       "        </style>\n",
       "      <progress value='4000' class='' max='4000' style='width:300px; height:20px; vertical-align: middle;'></progress>\n",
       "      100.00% [4000/4000 00:26<00:00 Sampling chain 1, 0 divergences]\n",
       "    </div>\n",
       "    "
      ],
      "text/plain": [
       "<IPython.core.display.HTML object>"
      ]
     },
     "metadata": {},
     "output_type": "display_data"
    },
    {
     "name": "stderr",
     "output_type": "stream",
     "text": [
      "Sampling 2 chains for 1_000 tune and 3_000 draw iterations (2_000 + 6_000 draws total) took 50 seconds.\n",
      "The estimated number of effective samples is smaller than 200 for some parameters.\n"
     ]
    },
    {
     "name": "stdout",
     "output_type": "stream",
     "text": [
      "[0. 1. 0. 0. 0. 1.]\n",
      "[ 44.  17. 186.  90.  96.  88.]\n",
      "[191. 169. 124. 120.  44.  49.]\n"
     ]
    },
    {
     "name": "stderr",
     "output_type": "stream",
     "text": [
      "Sequential sampling (2 chains in 1 job)\n",
      "CompoundStep\n",
      ">CompoundStep\n",
      ">>Metropolis: [married_a]\n",
      ">>Metropolis: [race_a]\n",
      ">>Metropolis: [educ_a]\n",
      ">>Metropolis: [sex_a]\n",
      ">>Metropolis: [age_a]\n",
      ">>Metropolis: [N]\n",
      ">NUTS: [income_a]\n"
     ]
    },
    {
     "data": {
      "text/html": [
       "\n",
       "    <div>\n",
       "        <style>\n",
       "            /* Turns off some styling */\n",
       "            progress {\n",
       "                /* gets rid of default border in Firefox and Opera. */\n",
       "                border: none;\n",
       "                /* Needs to be in here for Safari polyfill so background images work as expected. */\n",
       "                background-size: auto;\n",
       "            }\n",
       "            .progress-bar-interrupted, .progress-bar-interrupted::-webkit-progress-bar {\n",
       "                background: #F44336;\n",
       "            }\n",
       "        </style>\n",
       "      <progress value='4000' class='' max='4000' style='width:300px; height:20px; vertical-align: middle;'></progress>\n",
       "      100.00% [4000/4000 00:23<00:00 Sampling chain 0, 0 divergences]\n",
       "    </div>\n",
       "    "
      ],
      "text/plain": [
       "<IPython.core.display.HTML object>"
      ]
     },
     "metadata": {},
     "output_type": "display_data"
    },
    {
     "data": {
      "text/html": [
       "\n",
       "    <div>\n",
       "        <style>\n",
       "            /* Turns off some styling */\n",
       "            progress {\n",
       "                /* gets rid of default border in Firefox and Opera. */\n",
       "                border: none;\n",
       "                /* Needs to be in here for Safari polyfill so background images work as expected. */\n",
       "                background-size: auto;\n",
       "            }\n",
       "            .progress-bar-interrupted, .progress-bar-interrupted::-webkit-progress-bar {\n",
       "                background: #F44336;\n",
       "            }\n",
       "        </style>\n",
       "      <progress value='4000' class='' max='4000' style='width:300px; height:20px; vertical-align: middle;'></progress>\n",
       "      100.00% [4000/4000 00:25<00:00 Sampling chain 1, 0 divergences]\n",
       "    </div>\n",
       "    "
      ],
      "text/plain": [
       "<IPython.core.display.HTML object>"
      ]
     },
     "metadata": {},
     "output_type": "display_data"
    },
    {
     "name": "stderr",
     "output_type": "stream",
     "text": [
      "Sampling 2 chains for 1_000 tune and 3_000 draw iterations (2_000 + 6_000 draws total) took 50 seconds.\n",
      "The estimated number of effective samples is smaller than 200 for some parameters.\n"
     ]
    },
    {
     "name": "stdout",
     "output_type": "stream",
     "text": [
      "[1. 0. 1. 1. 1. 0.]\n",
      "[180. 130.  33. 119.   0. 189.]\n",
      "[ 28. 172. 134.  98. 111. 181.]\n"
     ]
    },
    {
     "name": "stderr",
     "output_type": "stream",
     "text": [
      "Sequential sampling (2 chains in 1 job)\n",
      "CompoundStep\n",
      ">CompoundStep\n",
      ">>Metropolis: [married_a]\n",
      ">>Metropolis: [race_a]\n",
      ">>Metropolis: [educ_a]\n",
      ">>Metropolis: [sex_a]\n",
      ">>Metropolis: [age_a]\n",
      ">>Metropolis: [N]\n",
      ">NUTS: [income_a]\n"
     ]
    },
    {
     "data": {
      "text/html": [
       "\n",
       "    <div>\n",
       "        <style>\n",
       "            /* Turns off some styling */\n",
       "            progress {\n",
       "                /* gets rid of default border in Firefox and Opera. */\n",
       "                border: none;\n",
       "                /* Needs to be in here for Safari polyfill so background images work as expected. */\n",
       "                background-size: auto;\n",
       "            }\n",
       "            .progress-bar-interrupted, .progress-bar-interrupted::-webkit-progress-bar {\n",
       "                background: #F44336;\n",
       "            }\n",
       "        </style>\n",
       "      <progress value='4000' class='' max='4000' style='width:300px; height:20px; vertical-align: middle;'></progress>\n",
       "      100.00% [4000/4000 00:24<00:00 Sampling chain 0, 0 divergences]\n",
       "    </div>\n",
       "    "
      ],
      "text/plain": [
       "<IPython.core.display.HTML object>"
      ]
     },
     "metadata": {},
     "output_type": "display_data"
    },
    {
     "data": {
      "text/html": [
       "\n",
       "    <div>\n",
       "        <style>\n",
       "            /* Turns off some styling */\n",
       "            progress {\n",
       "                /* gets rid of default border in Firefox and Opera. */\n",
       "                border: none;\n",
       "                /* Needs to be in here for Safari polyfill so background images work as expected. */\n",
       "                background-size: auto;\n",
       "            }\n",
       "            .progress-bar-interrupted, .progress-bar-interrupted::-webkit-progress-bar {\n",
       "                background: #F44336;\n",
       "            }\n",
       "        </style>\n",
       "      <progress value='4000' class='' max='4000' style='width:300px; height:20px; vertical-align: middle;'></progress>\n",
       "      100.00% [4000/4000 00:24<00:00 Sampling chain 1, 0 divergences]\n",
       "    </div>\n",
       "    "
      ],
      "text/plain": [
       "<IPython.core.display.HTML object>"
      ]
     },
     "metadata": {},
     "output_type": "display_data"
    },
    {
     "name": "stderr",
     "output_type": "stream",
     "text": [
      "Sampling 2 chains for 1_000 tune and 3_000 draw iterations (2_000 + 6_000 draws total) took 49 seconds.\n",
      "The estimated number of effective samples is smaller than 200 for some parameters.\n"
     ]
    },
    {
     "name": "stdout",
     "output_type": "stream",
     "text": [
      "[0. 0. 1. 0. 1. 1.]\n",
      "[ 69. 127.  51. 107.  52.  67.]\n",
      "[ 28. 179.  97.  76.  47. 109.]\n"
     ]
    },
    {
     "name": "stderr",
     "output_type": "stream",
     "text": [
      "Sequential sampling (2 chains in 1 job)\n",
      "CompoundStep\n",
      ">CompoundStep\n",
      ">>Metropolis: [married_a]\n",
      ">>Metropolis: [race_a]\n",
      ">>Metropolis: [educ_a]\n",
      ">>Metropolis: [sex_a]\n",
      ">>Metropolis: [age_a]\n",
      ">>Metropolis: [N]\n",
      ">NUTS: [income_a]\n"
     ]
    },
    {
     "data": {
      "text/html": [
       "\n",
       "    <div>\n",
       "        <style>\n",
       "            /* Turns off some styling */\n",
       "            progress {\n",
       "                /* gets rid of default border in Firefox and Opera. */\n",
       "                border: none;\n",
       "                /* Needs to be in here for Safari polyfill so background images work as expected. */\n",
       "                background-size: auto;\n",
       "            }\n",
       "            .progress-bar-interrupted, .progress-bar-interrupted::-webkit-progress-bar {\n",
       "                background: #F44336;\n",
       "            }\n",
       "        </style>\n",
       "      <progress value='4000' class='' max='4000' style='width:300px; height:20px; vertical-align: middle;'></progress>\n",
       "      100.00% [4000/4000 00:24<00:00 Sampling chain 0, 0 divergences]\n",
       "    </div>\n",
       "    "
      ],
      "text/plain": [
       "<IPython.core.display.HTML object>"
      ]
     },
     "metadata": {},
     "output_type": "display_data"
    },
    {
     "data": {
      "text/html": [
       "\n",
       "    <div>\n",
       "        <style>\n",
       "            /* Turns off some styling */\n",
       "            progress {\n",
       "                /* gets rid of default border in Firefox and Opera. */\n",
       "                border: none;\n",
       "                /* Needs to be in here for Safari polyfill so background images work as expected. */\n",
       "                background-size: auto;\n",
       "            }\n",
       "            .progress-bar-interrupted, .progress-bar-interrupted::-webkit-progress-bar {\n",
       "                background: #F44336;\n",
       "            }\n",
       "        </style>\n",
       "      <progress value='4000' class='' max='4000' style='width:300px; height:20px; vertical-align: middle;'></progress>\n",
       "      100.00% [4000/4000 00:25<00:00 Sampling chain 1, 0 divergences]\n",
       "    </div>\n",
       "    "
      ],
      "text/plain": [
       "<IPython.core.display.HTML object>"
      ]
     },
     "metadata": {},
     "output_type": "display_data"
    },
    {
     "name": "stderr",
     "output_type": "stream",
     "text": [
      "Sampling 2 chains for 1_000 tune and 3_000 draw iterations (2_000 + 6_000 draws total) took 50 seconds.\n",
      "The estimated number of effective samples is smaller than 200 for some parameters.\n"
     ]
    },
    {
     "name": "stdout",
     "output_type": "stream",
     "text": [
      "[1. 0. 0. 0. 0. 1.]\n",
      "[172. 111. 191. 144. 143. 143.]\n",
      "[147.   8.  60.  42. 154.  87.]\n"
     ]
    },
    {
     "name": "stderr",
     "output_type": "stream",
     "text": [
      "Sequential sampling (2 chains in 1 job)\n",
      "CompoundStep\n",
      ">CompoundStep\n",
      ">>Metropolis: [married_a]\n",
      ">>Metropolis: [race_a]\n",
      ">>Metropolis: [educ_a]\n",
      ">>Metropolis: [sex_a]\n",
      ">>Metropolis: [age_a]\n",
      ">>Metropolis: [N]\n",
      ">NUTS: [income_a]\n"
     ]
    },
    {
     "data": {
      "text/html": [
       "\n",
       "    <div>\n",
       "        <style>\n",
       "            /* Turns off some styling */\n",
       "            progress {\n",
       "                /* gets rid of default border in Firefox and Opera. */\n",
       "                border: none;\n",
       "                /* Needs to be in here for Safari polyfill so background images work as expected. */\n",
       "                background-size: auto;\n",
       "            }\n",
       "            .progress-bar-interrupted, .progress-bar-interrupted::-webkit-progress-bar {\n",
       "                background: #F44336;\n",
       "            }\n",
       "        </style>\n",
       "      <progress value='4000' class='' max='4000' style='width:300px; height:20px; vertical-align: middle;'></progress>\n",
       "      100.00% [4000/4000 00:25<00:00 Sampling chain 0, 0 divergences]\n",
       "    </div>\n",
       "    "
      ],
      "text/plain": [
       "<IPython.core.display.HTML object>"
      ]
     },
     "metadata": {},
     "output_type": "display_data"
    },
    {
     "data": {
      "text/html": [
       "\n",
       "    <div>\n",
       "        <style>\n",
       "            /* Turns off some styling */\n",
       "            progress {\n",
       "                /* gets rid of default border in Firefox and Opera. */\n",
       "                border: none;\n",
       "                /* Needs to be in here for Safari polyfill so background images work as expected. */\n",
       "                background-size: auto;\n",
       "            }\n",
       "            .progress-bar-interrupted, .progress-bar-interrupted::-webkit-progress-bar {\n",
       "                background: #F44336;\n",
       "            }\n",
       "        </style>\n",
       "      <progress value='4000' class='' max='4000' style='width:300px; height:20px; vertical-align: middle;'></progress>\n",
       "      100.00% [4000/4000 00:24<00:00 Sampling chain 1, 0 divergences]\n",
       "    </div>\n",
       "    "
      ],
      "text/plain": [
       "<IPython.core.display.HTML object>"
      ]
     },
     "metadata": {},
     "output_type": "display_data"
    },
    {
     "name": "stderr",
     "output_type": "stream",
     "text": [
      "Sampling 2 chains for 1_000 tune and 3_000 draw iterations (2_000 + 6_000 draws total) took 50 seconds.\n",
      "The estimated number of effective samples is smaller than 200 for some parameters.\n"
     ]
    },
    {
     "name": "stdout",
     "output_type": "stream",
     "text": [
      "[1. 1. 1. 0. 1. 0.]\n",
      "[146.  88. 153. 177.  10.  13.]\n",
      "[ 15. 154.  82.  84.  97. 174.]\n"
     ]
    },
    {
     "name": "stderr",
     "output_type": "stream",
     "text": [
      "Sequential sampling (2 chains in 1 job)\n",
      "CompoundStep\n",
      ">CompoundStep\n",
      ">>Metropolis: [married_a]\n",
      ">>Metropolis: [race_a]\n",
      ">>Metropolis: [educ_a]\n",
      ">>Metropolis: [sex_a]\n",
      ">>Metropolis: [age_a]\n",
      ">>Metropolis: [N]\n",
      ">NUTS: [income_a]\n"
     ]
    },
    {
     "data": {
      "text/html": [
       "\n",
       "    <div>\n",
       "        <style>\n",
       "            /* Turns off some styling */\n",
       "            progress {\n",
       "                /* gets rid of default border in Firefox and Opera. */\n",
       "                border: none;\n",
       "                /* Needs to be in here for Safari polyfill so background images work as expected. */\n",
       "                background-size: auto;\n",
       "            }\n",
       "            .progress-bar-interrupted, .progress-bar-interrupted::-webkit-progress-bar {\n",
       "                background: #F44336;\n",
       "            }\n",
       "        </style>\n",
       "      <progress value='4000' class='' max='4000' style='width:300px; height:20px; vertical-align: middle;'></progress>\n",
       "      100.00% [4000/4000 00:24<00:00 Sampling chain 0, 0 divergences]\n",
       "    </div>\n",
       "    "
      ],
      "text/plain": [
       "<IPython.core.display.HTML object>"
      ]
     },
     "metadata": {},
     "output_type": "display_data"
    },
    {
     "data": {
      "text/html": [
       "\n",
       "    <div>\n",
       "        <style>\n",
       "            /* Turns off some styling */\n",
       "            progress {\n",
       "                /* gets rid of default border in Firefox and Opera. */\n",
       "                border: none;\n",
       "                /* Needs to be in here for Safari polyfill so background images work as expected. */\n",
       "                background-size: auto;\n",
       "            }\n",
       "            .progress-bar-interrupted, .progress-bar-interrupted::-webkit-progress-bar {\n",
       "                background: #F44336;\n",
       "            }\n",
       "        </style>\n",
       "      <progress value='4000' class='' max='4000' style='width:300px; height:20px; vertical-align: middle;'></progress>\n",
       "      100.00% [4000/4000 00:24<00:00 Sampling chain 1, 0 divergences]\n",
       "    </div>\n",
       "    "
      ],
      "text/plain": [
       "<IPython.core.display.HTML object>"
      ]
     },
     "metadata": {},
     "output_type": "display_data"
    },
    {
     "name": "stderr",
     "output_type": "stream",
     "text": [
      "Sampling 2 chains for 1_000 tune and 3_000 draw iterations (2_000 + 6_000 draws total) took 49 seconds.\n",
      "The estimated number of effective samples is smaller than 200 for some parameters.\n"
     ]
    },
    {
     "name": "stdout",
     "output_type": "stream",
     "text": [
      "[0. 1. 1. 1. 1. 0.]\n",
      "[ 63.  53.   1.  95. 196.  59.]\n",
      "[176. 189.   1. 124.  89.  64.]\n"
     ]
    },
    {
     "name": "stderr",
     "output_type": "stream",
     "text": [
      "Sequential sampling (2 chains in 1 job)\n",
      "CompoundStep\n",
      ">CompoundStep\n",
      ">>Metropolis: [married_a]\n",
      ">>Metropolis: [race_a]\n",
      ">>Metropolis: [educ_a]\n",
      ">>Metropolis: [sex_a]\n",
      ">>Metropolis: [age_a]\n",
      ">>Metropolis: [N]\n",
      ">NUTS: [income_a]\n"
     ]
    },
    {
     "data": {
      "text/html": [
       "\n",
       "    <div>\n",
       "        <style>\n",
       "            /* Turns off some styling */\n",
       "            progress {\n",
       "                /* gets rid of default border in Firefox and Opera. */\n",
       "                border: none;\n",
       "                /* Needs to be in here for Safari polyfill so background images work as expected. */\n",
       "                background-size: auto;\n",
       "            }\n",
       "            .progress-bar-interrupted, .progress-bar-interrupted::-webkit-progress-bar {\n",
       "                background: #F44336;\n",
       "            }\n",
       "        </style>\n",
       "      <progress value='4000' class='' max='4000' style='width:300px; height:20px; vertical-align: middle;'></progress>\n",
       "      100.00% [4000/4000 00:23<00:00 Sampling chain 0, 0 divergences]\n",
       "    </div>\n",
       "    "
      ],
      "text/plain": [
       "<IPython.core.display.HTML object>"
      ]
     },
     "metadata": {},
     "output_type": "display_data"
    },
    {
     "data": {
      "text/html": [
       "\n",
       "    <div>\n",
       "        <style>\n",
       "            /* Turns off some styling */\n",
       "            progress {\n",
       "                /* gets rid of default border in Firefox and Opera. */\n",
       "                border: none;\n",
       "                /* Needs to be in here for Safari polyfill so background images work as expected. */\n",
       "                background-size: auto;\n",
       "            }\n",
       "            .progress-bar-interrupted, .progress-bar-interrupted::-webkit-progress-bar {\n",
       "                background: #F44336;\n",
       "            }\n",
       "        </style>\n",
       "      <progress value='4000' class='' max='4000' style='width:300px; height:20px; vertical-align: middle;'></progress>\n",
       "      100.00% [4000/4000 00:25<00:00 Sampling chain 1, 0 divergences]\n",
       "    </div>\n",
       "    "
      ],
      "text/plain": [
       "<IPython.core.display.HTML object>"
      ]
     },
     "metadata": {},
     "output_type": "display_data"
    },
    {
     "name": "stderr",
     "output_type": "stream",
     "text": [
      "Sampling 2 chains for 1_000 tune and 3_000 draw iterations (2_000 + 6_000 draws total) took 49 seconds.\n",
      "The estimated number of effective samples is smaller than 200 for some parameters.\n"
     ]
    },
    {
     "name": "stdout",
     "output_type": "stream",
     "text": [
      "[1. 0. 1. 0. 1. 0.]\n",
      "[156. 129.  34. 195.   3. 124.]\n",
      "[188.  91. 184.  26. 107.  56.]\n"
     ]
    },
    {
     "name": "stderr",
     "output_type": "stream",
     "text": [
      "Sequential sampling (2 chains in 1 job)\n",
      "CompoundStep\n",
      ">CompoundStep\n",
      ">>Metropolis: [married_a]\n",
      ">>Metropolis: [race_a]\n",
      ">>Metropolis: [educ_a]\n",
      ">>Metropolis: [sex_a]\n",
      ">>Metropolis: [age_a]\n",
      ">>Metropolis: [N]\n",
      ">NUTS: [income_a]\n"
     ]
    },
    {
     "data": {
      "text/html": [
       "\n",
       "    <div>\n",
       "        <style>\n",
       "            /* Turns off some styling */\n",
       "            progress {\n",
       "                /* gets rid of default border in Firefox and Opera. */\n",
       "                border: none;\n",
       "                /* Needs to be in here for Safari polyfill so background images work as expected. */\n",
       "                background-size: auto;\n",
       "            }\n",
       "            .progress-bar-interrupted, .progress-bar-interrupted::-webkit-progress-bar {\n",
       "                background: #F44336;\n",
       "            }\n",
       "        </style>\n",
       "      <progress value='4000' class='' max='4000' style='width:300px; height:20px; vertical-align: middle;'></progress>\n",
       "      100.00% [4000/4000 00:24<00:00 Sampling chain 0, 0 divergences]\n",
       "    </div>\n",
       "    "
      ],
      "text/plain": [
       "<IPython.core.display.HTML object>"
      ]
     },
     "metadata": {},
     "output_type": "display_data"
    },
    {
     "data": {
      "text/html": [
       "\n",
       "    <div>\n",
       "        <style>\n",
       "            /* Turns off some styling */\n",
       "            progress {\n",
       "                /* gets rid of default border in Firefox and Opera. */\n",
       "                border: none;\n",
       "                /* Needs to be in here for Safari polyfill so background images work as expected. */\n",
       "                background-size: auto;\n",
       "            }\n",
       "            .progress-bar-interrupted, .progress-bar-interrupted::-webkit-progress-bar {\n",
       "                background: #F44336;\n",
       "            }\n",
       "        </style>\n",
       "      <progress value='4000' class='' max='4000' style='width:300px; height:20px; vertical-align: middle;'></progress>\n",
       "      100.00% [4000/4000 00:23<00:00 Sampling chain 1, 0 divergences]\n",
       "    </div>\n",
       "    "
      ],
      "text/plain": [
       "<IPython.core.display.HTML object>"
      ]
     },
     "metadata": {},
     "output_type": "display_data"
    },
    {
     "name": "stderr",
     "output_type": "stream",
     "text": [
      "Sampling 2 chains for 1_000 tune and 3_000 draw iterations (2_000 + 6_000 draws total) took 48 seconds.\n",
      "There was 1 divergence after tuning. Increase `target_accept` or reparameterize.\n",
      "The estimated number of effective samples is smaller than 200 for some parameters.\n"
     ]
    },
    {
     "name": "stdout",
     "output_type": "stream",
     "text": [
      "[1. 0. 0. 1. 0. 0.]\n",
      "[ 16. 136. 100. 160.  36.  88.]\n",
      "[126. 189. 194.  68. 109.  49.]\n"
     ]
    },
    {
     "name": "stderr",
     "output_type": "stream",
     "text": [
      "Sequential sampling (2 chains in 1 job)\n",
      "CompoundStep\n",
      ">CompoundStep\n",
      ">>Metropolis: [married_a]\n",
      ">>Metropolis: [race_a]\n",
      ">>Metropolis: [educ_a]\n",
      ">>Metropolis: [sex_a]\n",
      ">>Metropolis: [age_a]\n",
      ">>Metropolis: [N]\n",
      ">NUTS: [income_a]\n"
     ]
    },
    {
     "data": {
      "text/html": [
       "\n",
       "    <div>\n",
       "        <style>\n",
       "            /* Turns off some styling */\n",
       "            progress {\n",
       "                /* gets rid of default border in Firefox and Opera. */\n",
       "                border: none;\n",
       "                /* Needs to be in here for Safari polyfill so background images work as expected. */\n",
       "                background-size: auto;\n",
       "            }\n",
       "            .progress-bar-interrupted, .progress-bar-interrupted::-webkit-progress-bar {\n",
       "                background: #F44336;\n",
       "            }\n",
       "        </style>\n",
       "      <progress value='4000' class='' max='4000' style='width:300px; height:20px; vertical-align: middle;'></progress>\n",
       "      100.00% [4000/4000 00:24<00:00 Sampling chain 0, 0 divergences]\n",
       "    </div>\n",
       "    "
      ],
      "text/plain": [
       "<IPython.core.display.HTML object>"
      ]
     },
     "metadata": {},
     "output_type": "display_data"
    },
    {
     "data": {
      "text/html": [
       "\n",
       "    <div>\n",
       "        <style>\n",
       "            /* Turns off some styling */\n",
       "            progress {\n",
       "                /* gets rid of default border in Firefox and Opera. */\n",
       "                border: none;\n",
       "                /* Needs to be in here for Safari polyfill so background images work as expected. */\n",
       "                background-size: auto;\n",
       "            }\n",
       "            .progress-bar-interrupted, .progress-bar-interrupted::-webkit-progress-bar {\n",
       "                background: #F44336;\n",
       "            }\n",
       "        </style>\n",
       "      <progress value='4000' class='' max='4000' style='width:300px; height:20px; vertical-align: middle;'></progress>\n",
       "      100.00% [4000/4000 00:24<00:00 Sampling chain 1, 0 divergences]\n",
       "    </div>\n",
       "    "
      ],
      "text/plain": [
       "<IPython.core.display.HTML object>"
      ]
     },
     "metadata": {},
     "output_type": "display_data"
    },
    {
     "name": "stderr",
     "output_type": "stream",
     "text": [
      "Sampling 2 chains for 1_000 tune and 3_000 draw iterations (2_000 + 6_000 draws total) took 48 seconds.\n",
      "The estimated number of effective samples is smaller than 200 for some parameters.\n"
     ]
    },
    {
     "name": "stdout",
     "output_type": "stream",
     "text": [
      "[0. 1. 0. 1. 1. 0.]\n",
      "[114.  90.  95. 135.   1. 162.]\n",
      "[186.  41.  54.   3. 127. 115.]\n"
     ]
    },
    {
     "name": "stderr",
     "output_type": "stream",
     "text": [
      "Sequential sampling (2 chains in 1 job)\n",
      "CompoundStep\n",
      ">CompoundStep\n",
      ">>Metropolis: [married_a]\n",
      ">>Metropolis: [race_a]\n",
      ">>Metropolis: [educ_a]\n",
      ">>Metropolis: [sex_a]\n",
      ">>Metropolis: [age_a]\n",
      ">>Metropolis: [N]\n",
      ">NUTS: [income_a]\n"
     ]
    },
    {
     "data": {
      "text/html": [
       "\n",
       "    <div>\n",
       "        <style>\n",
       "            /* Turns off some styling */\n",
       "            progress {\n",
       "                /* gets rid of default border in Firefox and Opera. */\n",
       "                border: none;\n",
       "                /* Needs to be in here for Safari polyfill so background images work as expected. */\n",
       "                background-size: auto;\n",
       "            }\n",
       "            .progress-bar-interrupted, .progress-bar-interrupted::-webkit-progress-bar {\n",
       "                background: #F44336;\n",
       "            }\n",
       "        </style>\n",
       "      <progress value='4000' class='' max='4000' style='width:300px; height:20px; vertical-align: middle;'></progress>\n",
       "      100.00% [4000/4000 00:23<00:00 Sampling chain 0, 0 divergences]\n",
       "    </div>\n",
       "    "
      ],
      "text/plain": [
       "<IPython.core.display.HTML object>"
      ]
     },
     "metadata": {},
     "output_type": "display_data"
    },
    {
     "data": {
      "text/html": [
       "\n",
       "    <div>\n",
       "        <style>\n",
       "            /* Turns off some styling */\n",
       "            progress {\n",
       "                /* gets rid of default border in Firefox and Opera. */\n",
       "                border: none;\n",
       "                /* Needs to be in here for Safari polyfill so background images work as expected. */\n",
       "                background-size: auto;\n",
       "            }\n",
       "            .progress-bar-interrupted, .progress-bar-interrupted::-webkit-progress-bar {\n",
       "                background: #F44336;\n",
       "            }\n",
       "        </style>\n",
       "      <progress value='4000' class='' max='4000' style='width:300px; height:20px; vertical-align: middle;'></progress>\n",
       "      100.00% [4000/4000 00:23<00:00 Sampling chain 1, 0 divergences]\n",
       "    </div>\n",
       "    "
      ],
      "text/plain": [
       "<IPython.core.display.HTML object>"
      ]
     },
     "metadata": {},
     "output_type": "display_data"
    },
    {
     "name": "stderr",
     "output_type": "stream",
     "text": [
      "Sampling 2 chains for 1_000 tune and 3_000 draw iterations (2_000 + 6_000 draws total) took 48 seconds.\n",
      "The estimated number of effective samples is smaller than 200 for some parameters.\n"
     ]
    },
    {
     "name": "stdout",
     "output_type": "stream",
     "text": [
      "[1. 0. 1. 1. 0. 0.]\n",
      "[129. 164. 141. 138. 177. 114.]\n",
      "[195. 172. 166.  54.  23. 190.]\n"
     ]
    },
    {
     "name": "stderr",
     "output_type": "stream",
     "text": [
      "Sequential sampling (2 chains in 1 job)\n",
      "CompoundStep\n",
      ">CompoundStep\n",
      ">>Metropolis: [married_a]\n",
      ">>Metropolis: [race_a]\n",
      ">>Metropolis: [educ_a]\n",
      ">>Metropolis: [sex_a]\n",
      ">>Metropolis: [age_a]\n",
      ">>Metropolis: [N]\n",
      ">NUTS: [income_a]\n"
     ]
    },
    {
     "data": {
      "text/html": [
       "\n",
       "    <div>\n",
       "        <style>\n",
       "            /* Turns off some styling */\n",
       "            progress {\n",
       "                /* gets rid of default border in Firefox and Opera. */\n",
       "                border: none;\n",
       "                /* Needs to be in here for Safari polyfill so background images work as expected. */\n",
       "                background-size: auto;\n",
       "            }\n",
       "            .progress-bar-interrupted, .progress-bar-interrupted::-webkit-progress-bar {\n",
       "                background: #F44336;\n",
       "            }\n",
       "        </style>\n",
       "      <progress value='4000' class='' max='4000' style='width:300px; height:20px; vertical-align: middle;'></progress>\n",
       "      100.00% [4000/4000 00:23<00:00 Sampling chain 0, 0 divergences]\n",
       "    </div>\n",
       "    "
      ],
      "text/plain": [
       "<IPython.core.display.HTML object>"
      ]
     },
     "metadata": {},
     "output_type": "display_data"
    },
    {
     "data": {
      "text/html": [
       "\n",
       "    <div>\n",
       "        <style>\n",
       "            /* Turns off some styling */\n",
       "            progress {\n",
       "                /* gets rid of default border in Firefox and Opera. */\n",
       "                border: none;\n",
       "                /* Needs to be in here for Safari polyfill so background images work as expected. */\n",
       "                background-size: auto;\n",
       "            }\n",
       "            .progress-bar-interrupted, .progress-bar-interrupted::-webkit-progress-bar {\n",
       "                background: #F44336;\n",
       "            }\n",
       "        </style>\n",
       "      <progress value='4000' class='' max='4000' style='width:300px; height:20px; vertical-align: middle;'></progress>\n",
       "      100.00% [4000/4000 00:25<00:00 Sampling chain 1, 0 divergences]\n",
       "    </div>\n",
       "    "
      ],
      "text/plain": [
       "<IPython.core.display.HTML object>"
      ]
     },
     "metadata": {},
     "output_type": "display_data"
    },
    {
     "name": "stderr",
     "output_type": "stream",
     "text": [
      "Sampling 2 chains for 1_000 tune and 3_000 draw iterations (2_000 + 6_000 draws total) took 49 seconds.\n",
      "The estimated number of effective samples is smaller than 200 for some parameters.\n"
     ]
    },
    {
     "name": "stdout",
     "output_type": "stream",
     "text": [
      "[1. 0. 1. 1. 1. 1.]\n",
      "[ 69. 171.  80. 199.  59.  90.]\n",
      "[109. 186.  66. 143. 155.  35.]\n"
     ]
    },
    {
     "name": "stderr",
     "output_type": "stream",
     "text": [
      "Sequential sampling (2 chains in 1 job)\n",
      "CompoundStep\n",
      ">CompoundStep\n",
      ">>Metropolis: [married_a]\n",
      ">>Metropolis: [race_a]\n",
      ">>Metropolis: [educ_a]\n",
      ">>Metropolis: [sex_a]\n",
      ">>Metropolis: [age_a]\n",
      ">>Metropolis: [N]\n",
      ">NUTS: [income_a]\n"
     ]
    },
    {
     "data": {
      "text/html": [
       "\n",
       "    <div>\n",
       "        <style>\n",
       "            /* Turns off some styling */\n",
       "            progress {\n",
       "                /* gets rid of default border in Firefox and Opera. */\n",
       "                border: none;\n",
       "                /* Needs to be in here for Safari polyfill so background images work as expected. */\n",
       "                background-size: auto;\n",
       "            }\n",
       "            .progress-bar-interrupted, .progress-bar-interrupted::-webkit-progress-bar {\n",
       "                background: #F44336;\n",
       "            }\n",
       "        </style>\n",
       "      <progress value='4000' class='' max='4000' style='width:300px; height:20px; vertical-align: middle;'></progress>\n",
       "      100.00% [4000/4000 00:23<00:00 Sampling chain 0, 0 divergences]\n",
       "    </div>\n",
       "    "
      ],
      "text/plain": [
       "<IPython.core.display.HTML object>"
      ]
     },
     "metadata": {},
     "output_type": "display_data"
    },
    {
     "data": {
      "text/html": [
       "\n",
       "    <div>\n",
       "        <style>\n",
       "            /* Turns off some styling */\n",
       "            progress {\n",
       "                /* gets rid of default border in Firefox and Opera. */\n",
       "                border: none;\n",
       "                /* Needs to be in here for Safari polyfill so background images work as expected. */\n",
       "                background-size: auto;\n",
       "            }\n",
       "            .progress-bar-interrupted, .progress-bar-interrupted::-webkit-progress-bar {\n",
       "                background: #F44336;\n",
       "            }\n",
       "        </style>\n",
       "      <progress value='4000' class='' max='4000' style='width:300px; height:20px; vertical-align: middle;'></progress>\n",
       "      100.00% [4000/4000 00:25<00:00 Sampling chain 1, 0 divergences]\n",
       "    </div>\n",
       "    "
      ],
      "text/plain": [
       "<IPython.core.display.HTML object>"
      ]
     },
     "metadata": {},
     "output_type": "display_data"
    },
    {
     "name": "stderr",
     "output_type": "stream",
     "text": [
      "Sampling 2 chains for 1_000 tune and 3_000 draw iterations (2_000 + 6_000 draws total) took 49 seconds.\n",
      "The estimated number of effective samples is smaller than 200 for some parameters.\n"
     ]
    },
    {
     "name": "stdout",
     "output_type": "stream",
     "text": [
      "[0. 1. 0. 1. 1. 1.]\n",
      "[116.  94.  66.  86. 111.  13.]\n",
      "[110. 195.  94.  76.  60. 169.]\n"
     ]
    },
    {
     "name": "stderr",
     "output_type": "stream",
     "text": [
      "Sequential sampling (2 chains in 1 job)\n",
      "CompoundStep\n",
      ">CompoundStep\n",
      ">>Metropolis: [married_a]\n",
      ">>Metropolis: [race_a]\n",
      ">>Metropolis: [educ_a]\n",
      ">>Metropolis: [sex_a]\n",
      ">>Metropolis: [age_a]\n",
      ">>Metropolis: [N]\n",
      ">NUTS: [income_a]\n"
     ]
    },
    {
     "data": {
      "text/html": [
       "\n",
       "    <div>\n",
       "        <style>\n",
       "            /* Turns off some styling */\n",
       "            progress {\n",
       "                /* gets rid of default border in Firefox and Opera. */\n",
       "                border: none;\n",
       "                /* Needs to be in here for Safari polyfill so background images work as expected. */\n",
       "                background-size: auto;\n",
       "            }\n",
       "            .progress-bar-interrupted, .progress-bar-interrupted::-webkit-progress-bar {\n",
       "                background: #F44336;\n",
       "            }\n",
       "        </style>\n",
       "      <progress value='4000' class='' max='4000' style='width:300px; height:20px; vertical-align: middle;'></progress>\n",
       "      100.00% [4000/4000 00:24<00:00 Sampling chain 0, 0 divergences]\n",
       "    </div>\n",
       "    "
      ],
      "text/plain": [
       "<IPython.core.display.HTML object>"
      ]
     },
     "metadata": {},
     "output_type": "display_data"
    },
    {
     "data": {
      "text/html": [
       "\n",
       "    <div>\n",
       "        <style>\n",
       "            /* Turns off some styling */\n",
       "            progress {\n",
       "                /* gets rid of default border in Firefox and Opera. */\n",
       "                border: none;\n",
       "                /* Needs to be in here for Safari polyfill so background images work as expected. */\n",
       "                background-size: auto;\n",
       "            }\n",
       "            .progress-bar-interrupted, .progress-bar-interrupted::-webkit-progress-bar {\n",
       "                background: #F44336;\n",
       "            }\n",
       "        </style>\n",
       "      <progress value='4000' class='' max='4000' style='width:300px; height:20px; vertical-align: middle;'></progress>\n",
       "      100.00% [4000/4000 00:24<00:00 Sampling chain 1, 0 divergences]\n",
       "    </div>\n",
       "    "
      ],
      "text/plain": [
       "<IPython.core.display.HTML object>"
      ]
     },
     "metadata": {},
     "output_type": "display_data"
    },
    {
     "name": "stderr",
     "output_type": "stream",
     "text": [
      "Sampling 2 chains for 1_000 tune and 3_000 draw iterations (2_000 + 6_000 draws total) took 49 seconds.\n",
      "The estimated number of effective samples is smaller than 200 for some parameters.\n"
     ]
    },
    {
     "name": "stdout",
     "output_type": "stream",
     "text": [
      "[1. 0. 0. 0. 0. 0.]\n",
      "[ 35.  81. 185. 129. 157. 167.]\n",
      "[192.  85.  75.  91.  67. 139.]\n"
     ]
    },
    {
     "name": "stderr",
     "output_type": "stream",
     "text": [
      "Sequential sampling (2 chains in 1 job)\n",
      "CompoundStep\n",
      ">CompoundStep\n",
      ">>Metropolis: [married_a]\n",
      ">>Metropolis: [race_a]\n",
      ">>Metropolis: [educ_a]\n",
      ">>Metropolis: [sex_a]\n",
      ">>Metropolis: [age_a]\n",
      ">>Metropolis: [N]\n",
      ">NUTS: [income_a]\n"
     ]
    },
    {
     "data": {
      "text/html": [
       "\n",
       "    <div>\n",
       "        <style>\n",
       "            /* Turns off some styling */\n",
       "            progress {\n",
       "                /* gets rid of default border in Firefox and Opera. */\n",
       "                border: none;\n",
       "                /* Needs to be in here for Safari polyfill so background images work as expected. */\n",
       "                background-size: auto;\n",
       "            }\n",
       "            .progress-bar-interrupted, .progress-bar-interrupted::-webkit-progress-bar {\n",
       "                background: #F44336;\n",
       "            }\n",
       "        </style>\n",
       "      <progress value='4000' class='' max='4000' style='width:300px; height:20px; vertical-align: middle;'></progress>\n",
       "      100.00% [4000/4000 00:24<00:00 Sampling chain 0, 0 divergences]\n",
       "    </div>\n",
       "    "
      ],
      "text/plain": [
       "<IPython.core.display.HTML object>"
      ]
     },
     "metadata": {},
     "output_type": "display_data"
    },
    {
     "data": {
      "text/html": [
       "\n",
       "    <div>\n",
       "        <style>\n",
       "            /* Turns off some styling */\n",
       "            progress {\n",
       "                /* gets rid of default border in Firefox and Opera. */\n",
       "                border: none;\n",
       "                /* Needs to be in here for Safari polyfill so background images work as expected. */\n",
       "                background-size: auto;\n",
       "            }\n",
       "            .progress-bar-interrupted, .progress-bar-interrupted::-webkit-progress-bar {\n",
       "                background: #F44336;\n",
       "            }\n",
       "        </style>\n",
       "      <progress value='4000' class='' max='4000' style='width:300px; height:20px; vertical-align: middle;'></progress>\n",
       "      100.00% [4000/4000 00:24<00:00 Sampling chain 1, 0 divergences]\n",
       "    </div>\n",
       "    "
      ],
      "text/plain": [
       "<IPython.core.display.HTML object>"
      ]
     },
     "metadata": {},
     "output_type": "display_data"
    },
    {
     "name": "stderr",
     "output_type": "stream",
     "text": [
      "Sampling 2 chains for 1_000 tune and 3_000 draw iterations (2_000 + 6_000 draws total) took 49 seconds.\n",
      "The estimated number of effective samples is smaller than 200 for some parameters.\n"
     ]
    },
    {
     "name": "stdout",
     "output_type": "stream",
     "text": [
      "[1. 0. 0. 1. 0. 1.]\n",
      "[ 66.  13. 106. 120.  18. 112.]\n",
      "[136.  84.  66.  19. 192. 132.]\n"
     ]
    },
    {
     "name": "stderr",
     "output_type": "stream",
     "text": [
      "Sequential sampling (2 chains in 1 job)\n",
      "CompoundStep\n",
      ">CompoundStep\n",
      ">>Metropolis: [married_a]\n",
      ">>Metropolis: [race_a]\n",
      ">>Metropolis: [educ_a]\n",
      ">>Metropolis: [sex_a]\n",
      ">>Metropolis: [age_a]\n",
      ">>Metropolis: [N]\n",
      ">NUTS: [income_a]\n"
     ]
    },
    {
     "data": {
      "text/html": [
       "\n",
       "    <div>\n",
       "        <style>\n",
       "            /* Turns off some styling */\n",
       "            progress {\n",
       "                /* gets rid of default border in Firefox and Opera. */\n",
       "                border: none;\n",
       "                /* Needs to be in here for Safari polyfill so background images work as expected. */\n",
       "                background-size: auto;\n",
       "            }\n",
       "            .progress-bar-interrupted, .progress-bar-interrupted::-webkit-progress-bar {\n",
       "                background: #F44336;\n",
       "            }\n",
       "        </style>\n",
       "      <progress value='4000' class='' max='4000' style='width:300px; height:20px; vertical-align: middle;'></progress>\n",
       "      100.00% [4000/4000 00:23<00:00 Sampling chain 0, 0 divergences]\n",
       "    </div>\n",
       "    "
      ],
      "text/plain": [
       "<IPython.core.display.HTML object>"
      ]
     },
     "metadata": {},
     "output_type": "display_data"
    },
    {
     "data": {
      "text/html": [
       "\n",
       "    <div>\n",
       "        <style>\n",
       "            /* Turns off some styling */\n",
       "            progress {\n",
       "                /* gets rid of default border in Firefox and Opera. */\n",
       "                border: none;\n",
       "                /* Needs to be in here for Safari polyfill so background images work as expected. */\n",
       "                background-size: auto;\n",
       "            }\n",
       "            .progress-bar-interrupted, .progress-bar-interrupted::-webkit-progress-bar {\n",
       "                background: #F44336;\n",
       "            }\n",
       "        </style>\n",
       "      <progress value='4000' class='' max='4000' style='width:300px; height:20px; vertical-align: middle;'></progress>\n",
       "      100.00% [4000/4000 00:25<00:00 Sampling chain 1, 0 divergences]\n",
       "    </div>\n",
       "    "
      ],
      "text/plain": [
       "<IPython.core.display.HTML object>"
      ]
     },
     "metadata": {},
     "output_type": "display_data"
    },
    {
     "name": "stderr",
     "output_type": "stream",
     "text": [
      "Sampling 2 chains for 1_000 tune and 3_000 draw iterations (2_000 + 6_000 draws total) took 49 seconds.\n",
      "The estimated number of effective samples is smaller than 200 for some parameters.\n"
     ]
    },
    {
     "name": "stdout",
     "output_type": "stream",
     "text": [
      "[0. 1. 1. 0. 0. 0.]\n",
      "[ 44. 196.  33.  92.  97. 140.]\n",
      "[128.  65.  87. 107. 103.  92.]\n"
     ]
    },
    {
     "name": "stderr",
     "output_type": "stream",
     "text": [
      "Sequential sampling (2 chains in 1 job)\n",
      "CompoundStep\n",
      ">CompoundStep\n",
      ">>Metropolis: [married_a]\n",
      ">>Metropolis: [race_a]\n",
      ">>Metropolis: [educ_a]\n",
      ">>Metropolis: [sex_a]\n",
      ">>Metropolis: [age_a]\n",
      ">>Metropolis: [N]\n",
      ">NUTS: [income_a]\n"
     ]
    },
    {
     "data": {
      "text/html": [
       "\n",
       "    <div>\n",
       "        <style>\n",
       "            /* Turns off some styling */\n",
       "            progress {\n",
       "                /* gets rid of default border in Firefox and Opera. */\n",
       "                border: none;\n",
       "                /* Needs to be in here for Safari polyfill so background images work as expected. */\n",
       "                background-size: auto;\n",
       "            }\n",
       "            .progress-bar-interrupted, .progress-bar-interrupted::-webkit-progress-bar {\n",
       "                background: #F44336;\n",
       "            }\n",
       "        </style>\n",
       "      <progress value='4000' class='' max='4000' style='width:300px; height:20px; vertical-align: middle;'></progress>\n",
       "      100.00% [4000/4000 00:24<00:00 Sampling chain 0, 0 divergences]\n",
       "    </div>\n",
       "    "
      ],
      "text/plain": [
       "<IPython.core.display.HTML object>"
      ]
     },
     "metadata": {},
     "output_type": "display_data"
    },
    {
     "data": {
      "text/html": [
       "\n",
       "    <div>\n",
       "        <style>\n",
       "            /* Turns off some styling */\n",
       "            progress {\n",
       "                /* gets rid of default border in Firefox and Opera. */\n",
       "                border: none;\n",
       "                /* Needs to be in here for Safari polyfill so background images work as expected. */\n",
       "                background-size: auto;\n",
       "            }\n",
       "            .progress-bar-interrupted, .progress-bar-interrupted::-webkit-progress-bar {\n",
       "                background: #F44336;\n",
       "            }\n",
       "        </style>\n",
       "      <progress value='4000' class='' max='4000' style='width:300px; height:20px; vertical-align: middle;'></progress>\n",
       "      100.00% [4000/4000 00:24<00:00 Sampling chain 1, 0 divergences]\n",
       "    </div>\n",
       "    "
      ],
      "text/plain": [
       "<IPython.core.display.HTML object>"
      ]
     },
     "metadata": {},
     "output_type": "display_data"
    },
    {
     "name": "stderr",
     "output_type": "stream",
     "text": [
      "Sampling 2 chains for 1_000 tune and 3_000 draw iterations (2_000 + 6_000 draws total) took 49 seconds.\n",
      "The estimated number of effective samples is smaller than 200 for some parameters.\n"
     ]
    },
    {
     "name": "stdout",
     "output_type": "stream",
     "text": [
      "[1. 1. 1. 1. 1. 0.]\n",
      "[123.  53.   2. 112.  30.  74.]\n",
      "[118. 138.  76.  23.  27.  63.]\n"
     ]
    },
    {
     "name": "stderr",
     "output_type": "stream",
     "text": [
      "Sequential sampling (2 chains in 1 job)\n",
      "CompoundStep\n",
      ">CompoundStep\n",
      ">>Metropolis: [married_a]\n",
      ">>Metropolis: [race_a]\n",
      ">>Metropolis: [educ_a]\n",
      ">>Metropolis: [sex_a]\n",
      ">>Metropolis: [age_a]\n",
      ">>Metropolis: [N]\n",
      ">NUTS: [income_a]\n"
     ]
    },
    {
     "data": {
      "text/html": [
       "\n",
       "    <div>\n",
       "        <style>\n",
       "            /* Turns off some styling */\n",
       "            progress {\n",
       "                /* gets rid of default border in Firefox and Opera. */\n",
       "                border: none;\n",
       "                /* Needs to be in here for Safari polyfill so background images work as expected. */\n",
       "                background-size: auto;\n",
       "            }\n",
       "            .progress-bar-interrupted, .progress-bar-interrupted::-webkit-progress-bar {\n",
       "                background: #F44336;\n",
       "            }\n",
       "        </style>\n",
       "      <progress value='4000' class='' max='4000' style='width:300px; height:20px; vertical-align: middle;'></progress>\n",
       "      100.00% [4000/4000 00:23<00:00 Sampling chain 0, 0 divergences]\n",
       "    </div>\n",
       "    "
      ],
      "text/plain": [
       "<IPython.core.display.HTML object>"
      ]
     },
     "metadata": {},
     "output_type": "display_data"
    },
    {
     "data": {
      "text/html": [
       "\n",
       "    <div>\n",
       "        <style>\n",
       "            /* Turns off some styling */\n",
       "            progress {\n",
       "                /* gets rid of default border in Firefox and Opera. */\n",
       "                border: none;\n",
       "                /* Needs to be in here for Safari polyfill so background images work as expected. */\n",
       "                background-size: auto;\n",
       "            }\n",
       "            .progress-bar-interrupted, .progress-bar-interrupted::-webkit-progress-bar {\n",
       "                background: #F44336;\n",
       "            }\n",
       "        </style>\n",
       "      <progress value='4000' class='' max='4000' style='width:300px; height:20px; vertical-align: middle;'></progress>\n",
       "      100.00% [4000/4000 00:24<00:00 Sampling chain 1, 0 divergences]\n",
       "    </div>\n",
       "    "
      ],
      "text/plain": [
       "<IPython.core.display.HTML object>"
      ]
     },
     "metadata": {},
     "output_type": "display_data"
    },
    {
     "name": "stderr",
     "output_type": "stream",
     "text": [
      "Sampling 2 chains for 1_000 tune and 3_000 draw iterations (2_000 + 6_000 draws total) took 49 seconds.\n",
      "The estimated number of effective samples is smaller than 200 for some parameters.\n"
     ]
    },
    {
     "name": "stdout",
     "output_type": "stream",
     "text": [
      "[1. 0. 0. 1. 1. 1.]\n",
      "[ 86.  81. 149. 148. 132.  87.]\n",
      "[169.  37.  26. 120. 135. 126.]\n"
     ]
    },
    {
     "name": "stderr",
     "output_type": "stream",
     "text": [
      "Sequential sampling (2 chains in 1 job)\n",
      "CompoundStep\n",
      ">CompoundStep\n",
      ">>Metropolis: [married_a]\n",
      ">>Metropolis: [race_a]\n",
      ">>Metropolis: [educ_a]\n",
      ">>Metropolis: [sex_a]\n",
      ">>Metropolis: [age_a]\n",
      ">>Metropolis: [N]\n",
      ">NUTS: [income_a]\n"
     ]
    },
    {
     "data": {
      "text/html": [
       "\n",
       "    <div>\n",
       "        <style>\n",
       "            /* Turns off some styling */\n",
       "            progress {\n",
       "                /* gets rid of default border in Firefox and Opera. */\n",
       "                border: none;\n",
       "                /* Needs to be in here for Safari polyfill so background images work as expected. */\n",
       "                background-size: auto;\n",
       "            }\n",
       "            .progress-bar-interrupted, .progress-bar-interrupted::-webkit-progress-bar {\n",
       "                background: #F44336;\n",
       "            }\n",
       "        </style>\n",
       "      <progress value='4000' class='' max='4000' style='width:300px; height:20px; vertical-align: middle;'></progress>\n",
       "      100.00% [4000/4000 00:24<00:00 Sampling chain 0, 0 divergences]\n",
       "    </div>\n",
       "    "
      ],
      "text/plain": [
       "<IPython.core.display.HTML object>"
      ]
     },
     "metadata": {},
     "output_type": "display_data"
    },
    {
     "data": {
      "text/html": [
       "\n",
       "    <div>\n",
       "        <style>\n",
       "            /* Turns off some styling */\n",
       "            progress {\n",
       "                /* gets rid of default border in Firefox and Opera. */\n",
       "                border: none;\n",
       "                /* Needs to be in here for Safari polyfill so background images work as expected. */\n",
       "                background-size: auto;\n",
       "            }\n",
       "            .progress-bar-interrupted, .progress-bar-interrupted::-webkit-progress-bar {\n",
       "                background: #F44336;\n",
       "            }\n",
       "        </style>\n",
       "      <progress value='4000' class='' max='4000' style='width:300px; height:20px; vertical-align: middle;'></progress>\n",
       "      100.00% [4000/4000 00:24<00:00 Sampling chain 1, 0 divergences]\n",
       "    </div>\n",
       "    "
      ],
      "text/plain": [
       "<IPython.core.display.HTML object>"
      ]
     },
     "metadata": {},
     "output_type": "display_data"
    },
    {
     "name": "stderr",
     "output_type": "stream",
     "text": [
      "Sampling 2 chains for 1_000 tune and 3_000 draw iterations (2_000 + 6_000 draws total) took 48 seconds.\n",
      "The estimated number of effective samples is smaller than 200 for some parameters.\n"
     ]
    },
    {
     "name": "stdout",
     "output_type": "stream",
     "text": [
      "[0. 1. 1. 1. 1. 0.]\n",
      "[198.  79. 129.  97.  69. 192.]\n",
      "[151. 165.  58. 169. 142. 119.]\n"
     ]
    },
    {
     "name": "stderr",
     "output_type": "stream",
     "text": [
      "Sequential sampling (2 chains in 1 job)\n",
      "CompoundStep\n",
      ">CompoundStep\n",
      ">>Metropolis: [married_a]\n",
      ">>Metropolis: [race_a]\n",
      ">>Metropolis: [educ_a]\n",
      ">>Metropolis: [sex_a]\n",
      ">>Metropolis: [age_a]\n",
      ">>Metropolis: [N]\n",
      ">NUTS: [income_a]\n"
     ]
    },
    {
     "data": {
      "text/html": [
       "\n",
       "    <div>\n",
       "        <style>\n",
       "            /* Turns off some styling */\n",
       "            progress {\n",
       "                /* gets rid of default border in Firefox and Opera. */\n",
       "                border: none;\n",
       "                /* Needs to be in here for Safari polyfill so background images work as expected. */\n",
       "                background-size: auto;\n",
       "            }\n",
       "            .progress-bar-interrupted, .progress-bar-interrupted::-webkit-progress-bar {\n",
       "                background: #F44336;\n",
       "            }\n",
       "        </style>\n",
       "      <progress value='4000' class='' max='4000' style='width:300px; height:20px; vertical-align: middle;'></progress>\n",
       "      100.00% [4000/4000 00:24<00:00 Sampling chain 0, 0 divergences]\n",
       "    </div>\n",
       "    "
      ],
      "text/plain": [
       "<IPython.core.display.HTML object>"
      ]
     },
     "metadata": {},
     "output_type": "display_data"
    },
    {
     "data": {
      "text/html": [
       "\n",
       "    <div>\n",
       "        <style>\n",
       "            /* Turns off some styling */\n",
       "            progress {\n",
       "                /* gets rid of default border in Firefox and Opera. */\n",
       "                border: none;\n",
       "                /* Needs to be in here for Safari polyfill so background images work as expected. */\n",
       "                background-size: auto;\n",
       "            }\n",
       "            .progress-bar-interrupted, .progress-bar-interrupted::-webkit-progress-bar {\n",
       "                background: #F44336;\n",
       "            }\n",
       "        </style>\n",
       "      <progress value='4000' class='' max='4000' style='width:300px; height:20px; vertical-align: middle;'></progress>\n",
       "      100.00% [4000/4000 00:24<00:00 Sampling chain 1, 0 divergences]\n",
       "    </div>\n",
       "    "
      ],
      "text/plain": [
       "<IPython.core.display.HTML object>"
      ]
     },
     "metadata": {},
     "output_type": "display_data"
    },
    {
     "name": "stderr",
     "output_type": "stream",
     "text": [
      "Sampling 2 chains for 1_000 tune and 3_000 draw iterations (2_000 + 6_000 draws total) took 49 seconds.\n",
      "The estimated number of effective samples is smaller than 200 for some parameters.\n"
     ]
    },
    {
     "name": "stdout",
     "output_type": "stream",
     "text": [
      "[0. 1. 1. 1. 0. 0.]\n",
      "[ 60. 109. 190.  42.  11.  97.]\n",
      "[ 54.  57. 158.  79. 104.  44.]\n"
     ]
    },
    {
     "name": "stderr",
     "output_type": "stream",
     "text": [
      "Sequential sampling (2 chains in 1 job)\n",
      "CompoundStep\n",
      ">CompoundStep\n",
      ">>Metropolis: [married_a]\n",
      ">>Metropolis: [race_a]\n",
      ">>Metropolis: [educ_a]\n",
      ">>Metropolis: [sex_a]\n",
      ">>Metropolis: [age_a]\n",
      ">>Metropolis: [N]\n",
      ">NUTS: [income_a]\n"
     ]
    },
    {
     "data": {
      "text/html": [
       "\n",
       "    <div>\n",
       "        <style>\n",
       "            /* Turns off some styling */\n",
       "            progress {\n",
       "                /* gets rid of default border in Firefox and Opera. */\n",
       "                border: none;\n",
       "                /* Needs to be in here for Safari polyfill so background images work as expected. */\n",
       "                background-size: auto;\n",
       "            }\n",
       "            .progress-bar-interrupted, .progress-bar-interrupted::-webkit-progress-bar {\n",
       "                background: #F44336;\n",
       "            }\n",
       "        </style>\n",
       "      <progress value='4000' class='' max='4000' style='width:300px; height:20px; vertical-align: middle;'></progress>\n",
       "      100.00% [4000/4000 00:23<00:00 Sampling chain 0, 0 divergences]\n",
       "    </div>\n",
       "    "
      ],
      "text/plain": [
       "<IPython.core.display.HTML object>"
      ]
     },
     "metadata": {},
     "output_type": "display_data"
    },
    {
     "data": {
      "text/html": [
       "\n",
       "    <div>\n",
       "        <style>\n",
       "            /* Turns off some styling */\n",
       "            progress {\n",
       "                /* gets rid of default border in Firefox and Opera. */\n",
       "                border: none;\n",
       "                /* Needs to be in here for Safari polyfill so background images work as expected. */\n",
       "                background-size: auto;\n",
       "            }\n",
       "            .progress-bar-interrupted, .progress-bar-interrupted::-webkit-progress-bar {\n",
       "                background: #F44336;\n",
       "            }\n",
       "        </style>\n",
       "      <progress value='4000' class='' max='4000' style='width:300px; height:20px; vertical-align: middle;'></progress>\n",
       "      100.00% [4000/4000 00:26<00:00 Sampling chain 1, 0 divergences]\n",
       "    </div>\n",
       "    "
      ],
      "text/plain": [
       "<IPython.core.display.HTML object>"
      ]
     },
     "metadata": {},
     "output_type": "display_data"
    },
    {
     "name": "stderr",
     "output_type": "stream",
     "text": [
      "Sampling 2 chains for 1_000 tune and 3_000 draw iterations (2_000 + 6_000 draws total) took 50 seconds.\n",
      "The estimated number of effective samples is smaller than 200 for some parameters.\n"
     ]
    },
    {
     "name": "stdout",
     "output_type": "stream",
     "text": [
      "[0. 0. 0. 0. 1. 1.]\n",
      "[123.  49.  66.  73. 190.  51.]\n",
      "[137.  74. 140.  61. 166.  84.]\n"
     ]
    },
    {
     "name": "stderr",
     "output_type": "stream",
     "text": [
      "Sequential sampling (2 chains in 1 job)\n",
      "CompoundStep\n",
      ">CompoundStep\n",
      ">>Metropolis: [married_a]\n",
      ">>Metropolis: [race_a]\n",
      ">>Metropolis: [educ_a]\n",
      ">>Metropolis: [sex_a]\n",
      ">>Metropolis: [age_a]\n",
      ">>Metropolis: [N]\n",
      ">NUTS: [income_a]\n"
     ]
    },
    {
     "data": {
      "text/html": [
       "\n",
       "    <div>\n",
       "        <style>\n",
       "            /* Turns off some styling */\n",
       "            progress {\n",
       "                /* gets rid of default border in Firefox and Opera. */\n",
       "                border: none;\n",
       "                /* Needs to be in here for Safari polyfill so background images work as expected. */\n",
       "                background-size: auto;\n",
       "            }\n",
       "            .progress-bar-interrupted, .progress-bar-interrupted::-webkit-progress-bar {\n",
       "                background: #F44336;\n",
       "            }\n",
       "        </style>\n",
       "      <progress value='4000' class='' max='4000' style='width:300px; height:20px; vertical-align: middle;'></progress>\n",
       "      100.00% [4000/4000 00:24<00:00 Sampling chain 0, 0 divergences]\n",
       "    </div>\n",
       "    "
      ],
      "text/plain": [
       "<IPython.core.display.HTML object>"
      ]
     },
     "metadata": {},
     "output_type": "display_data"
    },
    {
     "data": {
      "text/html": [
       "\n",
       "    <div>\n",
       "        <style>\n",
       "            /* Turns off some styling */\n",
       "            progress {\n",
       "                /* gets rid of default border in Firefox and Opera. */\n",
       "                border: none;\n",
       "                /* Needs to be in here for Safari polyfill so background images work as expected. */\n",
       "                background-size: auto;\n",
       "            }\n",
       "            .progress-bar-interrupted, .progress-bar-interrupted::-webkit-progress-bar {\n",
       "                background: #F44336;\n",
       "            }\n",
       "        </style>\n",
       "      <progress value='4000' class='' max='4000' style='width:300px; height:20px; vertical-align: middle;'></progress>\n",
       "      100.00% [4000/4000 00:24<00:00 Sampling chain 1, 0 divergences]\n",
       "    </div>\n",
       "    "
      ],
      "text/plain": [
       "<IPython.core.display.HTML object>"
      ]
     },
     "metadata": {},
     "output_type": "display_data"
    },
    {
     "name": "stderr",
     "output_type": "stream",
     "text": [
      "Sampling 2 chains for 1_000 tune and 3_000 draw iterations (2_000 + 6_000 draws total) took 49 seconds.\n",
      "The estimated number of effective samples is smaller than 200 for some parameters.\n"
     ]
    },
    {
     "name": "stdout",
     "output_type": "stream",
     "text": [
      "[1. 0. 0. 0. 1. 0.]\n",
      "[ 71. 141.  21.  34.  66. 122.]\n",
      "[ 23.  41. 151. 104.  73. 142.]\n"
     ]
    },
    {
     "name": "stderr",
     "output_type": "stream",
     "text": [
      "Sequential sampling (2 chains in 1 job)\n",
      "CompoundStep\n",
      ">CompoundStep\n",
      ">>Metropolis: [married_a]\n",
      ">>Metropolis: [race_a]\n",
      ">>Metropolis: [educ_a]\n",
      ">>Metropolis: [sex_a]\n",
      ">>Metropolis: [age_a]\n",
      ">>Metropolis: [N]\n",
      ">NUTS: [income_a]\n"
     ]
    },
    {
     "data": {
      "text/html": [
       "\n",
       "    <div>\n",
       "        <style>\n",
       "            /* Turns off some styling */\n",
       "            progress {\n",
       "                /* gets rid of default border in Firefox and Opera. */\n",
       "                border: none;\n",
       "                /* Needs to be in here for Safari polyfill so background images work as expected. */\n",
       "                background-size: auto;\n",
       "            }\n",
       "            .progress-bar-interrupted, .progress-bar-interrupted::-webkit-progress-bar {\n",
       "                background: #F44336;\n",
       "            }\n",
       "        </style>\n",
       "      <progress value='4000' class='' max='4000' style='width:300px; height:20px; vertical-align: middle;'></progress>\n",
       "      100.00% [4000/4000 00:23<00:00 Sampling chain 0, 0 divergences]\n",
       "    </div>\n",
       "    "
      ],
      "text/plain": [
       "<IPython.core.display.HTML object>"
      ]
     },
     "metadata": {},
     "output_type": "display_data"
    },
    {
     "data": {
      "text/html": [
       "\n",
       "    <div>\n",
       "        <style>\n",
       "            /* Turns off some styling */\n",
       "            progress {\n",
       "                /* gets rid of default border in Firefox and Opera. */\n",
       "                border: none;\n",
       "                /* Needs to be in here for Safari polyfill so background images work as expected. */\n",
       "                background-size: auto;\n",
       "            }\n",
       "            .progress-bar-interrupted, .progress-bar-interrupted::-webkit-progress-bar {\n",
       "                background: #F44336;\n",
       "            }\n",
       "        </style>\n",
       "      <progress value='4000' class='' max='4000' style='width:300px; height:20px; vertical-align: middle;'></progress>\n",
       "      100.00% [4000/4000 00:25<00:00 Sampling chain 1, 0 divergences]\n",
       "    </div>\n",
       "    "
      ],
      "text/plain": [
       "<IPython.core.display.HTML object>"
      ]
     },
     "metadata": {},
     "output_type": "display_data"
    },
    {
     "name": "stderr",
     "output_type": "stream",
     "text": [
      "Sampling 2 chains for 1_000 tune and 3_000 draw iterations (2_000 + 6_000 draws total) took 49 seconds.\n",
      "The estimated number of effective samples is smaller than 200 for some parameters.\n"
     ]
    },
    {
     "name": "stdout",
     "output_type": "stream",
     "text": [
      "[1. 1. 1. 0. 0. 1.]\n",
      "[ 65. 199.  37.  82.   8. 117.]\n",
      "[ 56.  17.  30. 103.  62. 155.]\n"
     ]
    },
    {
     "name": "stderr",
     "output_type": "stream",
     "text": [
      "Sequential sampling (2 chains in 1 job)\n",
      "CompoundStep\n",
      ">CompoundStep\n",
      ">>Metropolis: [married_a]\n",
      ">>Metropolis: [race_a]\n",
      ">>Metropolis: [educ_a]\n",
      ">>Metropolis: [sex_a]\n",
      ">>Metropolis: [age_a]\n",
      ">>Metropolis: [N]\n",
      ">NUTS: [income_a]\n"
     ]
    },
    {
     "data": {
      "text/html": [
       "\n",
       "    <div>\n",
       "        <style>\n",
       "            /* Turns off some styling */\n",
       "            progress {\n",
       "                /* gets rid of default border in Firefox and Opera. */\n",
       "                border: none;\n",
       "                /* Needs to be in here for Safari polyfill so background images work as expected. */\n",
       "                background-size: auto;\n",
       "            }\n",
       "            .progress-bar-interrupted, .progress-bar-interrupted::-webkit-progress-bar {\n",
       "                background: #F44336;\n",
       "            }\n",
       "        </style>\n",
       "      <progress value='4000' class='' max='4000' style='width:300px; height:20px; vertical-align: middle;'></progress>\n",
       "      100.00% [4000/4000 00:25<00:00 Sampling chain 0, 0 divergences]\n",
       "    </div>\n",
       "    "
      ],
      "text/plain": [
       "<IPython.core.display.HTML object>"
      ]
     },
     "metadata": {},
     "output_type": "display_data"
    },
    {
     "data": {
      "text/html": [
       "\n",
       "    <div>\n",
       "        <style>\n",
       "            /* Turns off some styling */\n",
       "            progress {\n",
       "                /* gets rid of default border in Firefox and Opera. */\n",
       "                border: none;\n",
       "                /* Needs to be in here for Safari polyfill so background images work as expected. */\n",
       "                background-size: auto;\n",
       "            }\n",
       "            .progress-bar-interrupted, .progress-bar-interrupted::-webkit-progress-bar {\n",
       "                background: #F44336;\n",
       "            }\n",
       "        </style>\n",
       "      <progress value='4000' class='' max='4000' style='width:300px; height:20px; vertical-align: middle;'></progress>\n",
       "      100.00% [4000/4000 00:25<00:00 Sampling chain 1, 0 divergences]\n",
       "    </div>\n",
       "    "
      ],
      "text/plain": [
       "<IPython.core.display.HTML object>"
      ]
     },
     "metadata": {},
     "output_type": "display_data"
    },
    {
     "name": "stderr",
     "output_type": "stream",
     "text": [
      "Sampling 2 chains for 1_000 tune and 3_000 draw iterations (2_000 + 6_000 draws total) took 51 seconds.\n",
      "The estimated number of effective samples is smaller than 200 for some parameters.\n"
     ]
    },
    {
     "name": "stdout",
     "output_type": "stream",
     "text": [
      "[0. 1. 0. 0. 1. 0.]\n",
      "[158.  48. 144.  73.  22.   7.]\n",
      "[175. 181.  45.  31.  55. 153.]\n"
     ]
    },
    {
     "name": "stderr",
     "output_type": "stream",
     "text": [
      "Sequential sampling (2 chains in 1 job)\n",
      "CompoundStep\n",
      ">CompoundStep\n",
      ">>Metropolis: [married_a]\n",
      ">>Metropolis: [race_a]\n",
      ">>Metropolis: [educ_a]\n",
      ">>Metropolis: [sex_a]\n",
      ">>Metropolis: [age_a]\n",
      ">>Metropolis: [N]\n",
      ">NUTS: [income_a]\n"
     ]
    },
    {
     "data": {
      "text/html": [
       "\n",
       "    <div>\n",
       "        <style>\n",
       "            /* Turns off some styling */\n",
       "            progress {\n",
       "                /* gets rid of default border in Firefox and Opera. */\n",
       "                border: none;\n",
       "                /* Needs to be in here for Safari polyfill so background images work as expected. */\n",
       "                background-size: auto;\n",
       "            }\n",
       "            .progress-bar-interrupted, .progress-bar-interrupted::-webkit-progress-bar {\n",
       "                background: #F44336;\n",
       "            }\n",
       "        </style>\n",
       "      <progress value='4000' class='' max='4000' style='width:300px; height:20px; vertical-align: middle;'></progress>\n",
       "      100.00% [4000/4000 00:23<00:00 Sampling chain 0, 0 divergences]\n",
       "    </div>\n",
       "    "
      ],
      "text/plain": [
       "<IPython.core.display.HTML object>"
      ]
     },
     "metadata": {},
     "output_type": "display_data"
    },
    {
     "data": {
      "text/html": [
       "\n",
       "    <div>\n",
       "        <style>\n",
       "            /* Turns off some styling */\n",
       "            progress {\n",
       "                /* gets rid of default border in Firefox and Opera. */\n",
       "                border: none;\n",
       "                /* Needs to be in here for Safari polyfill so background images work as expected. */\n",
       "                background-size: auto;\n",
       "            }\n",
       "            .progress-bar-interrupted, .progress-bar-interrupted::-webkit-progress-bar {\n",
       "                background: #F44336;\n",
       "            }\n",
       "        </style>\n",
       "      <progress value='4000' class='' max='4000' style='width:300px; height:20px; vertical-align: middle;'></progress>\n",
       "      100.00% [4000/4000 00:24<00:00 Sampling chain 1, 0 divergences]\n",
       "    </div>\n",
       "    "
      ],
      "text/plain": [
       "<IPython.core.display.HTML object>"
      ]
     },
     "metadata": {},
     "output_type": "display_data"
    },
    {
     "name": "stderr",
     "output_type": "stream",
     "text": [
      "Sampling 2 chains for 1_000 tune and 3_000 draw iterations (2_000 + 6_000 draws total) took 48 seconds.\n",
      "The estimated number of effective samples is smaller than 200 for some parameters.\n"
     ]
    },
    {
     "name": "stdout",
     "output_type": "stream",
     "text": [
      "[1. 0. 1. 0. 0. 1.]\n",
      "[ 75.  95.  67.  39. 145. 147.]\n",
      "[112. 114.  10.   4. 186. 142.]\n"
     ]
    },
    {
     "name": "stderr",
     "output_type": "stream",
     "text": [
      "Sequential sampling (2 chains in 1 job)\n",
      "CompoundStep\n",
      ">CompoundStep\n",
      ">>Metropolis: [married_a]\n",
      ">>Metropolis: [race_a]\n",
      ">>Metropolis: [educ_a]\n",
      ">>Metropolis: [sex_a]\n",
      ">>Metropolis: [age_a]\n",
      ">>Metropolis: [N]\n",
      ">NUTS: [income_a]\n"
     ]
    },
    {
     "data": {
      "text/html": [
       "\n",
       "    <div>\n",
       "        <style>\n",
       "            /* Turns off some styling */\n",
       "            progress {\n",
       "                /* gets rid of default border in Firefox and Opera. */\n",
       "                border: none;\n",
       "                /* Needs to be in here for Safari polyfill so background images work as expected. */\n",
       "                background-size: auto;\n",
       "            }\n",
       "            .progress-bar-interrupted, .progress-bar-interrupted::-webkit-progress-bar {\n",
       "                background: #F44336;\n",
       "            }\n",
       "        </style>\n",
       "      <progress value='4000' class='' max='4000' style='width:300px; height:20px; vertical-align: middle;'></progress>\n",
       "      100.00% [4000/4000 00:22<00:00 Sampling chain 0, 0 divergences]\n",
       "    </div>\n",
       "    "
      ],
      "text/plain": [
       "<IPython.core.display.HTML object>"
      ]
     },
     "metadata": {},
     "output_type": "display_data"
    },
    {
     "data": {
      "text/html": [
       "\n",
       "    <div>\n",
       "        <style>\n",
       "            /* Turns off some styling */\n",
       "            progress {\n",
       "                /* gets rid of default border in Firefox and Opera. */\n",
       "                border: none;\n",
       "                /* Needs to be in here for Safari polyfill so background images work as expected. */\n",
       "                background-size: auto;\n",
       "            }\n",
       "            .progress-bar-interrupted, .progress-bar-interrupted::-webkit-progress-bar {\n",
       "                background: #F44336;\n",
       "            }\n",
       "        </style>\n",
       "      <progress value='4000' class='' max='4000' style='width:300px; height:20px; vertical-align: middle;'></progress>\n",
       "      100.00% [4000/4000 00:23<00:00 Sampling chain 1, 0 divergences]\n",
       "    </div>\n",
       "    "
      ],
      "text/plain": [
       "<IPython.core.display.HTML object>"
      ]
     },
     "metadata": {},
     "output_type": "display_data"
    },
    {
     "name": "stderr",
     "output_type": "stream",
     "text": [
      "Sampling 2 chains for 1_000 tune and 3_000 draw iterations (2_000 + 6_000 draws total) took 47 seconds.\n",
      "The estimated number of effective samples is smaller than 200 for some parameters.\n"
     ]
    },
    {
     "name": "stdout",
     "output_type": "stream",
     "text": [
      "[0. 1. 0. 0. 1. 0.]\n",
      "[ 17. 156.  16. 101.   9.  94.]\n",
      "[ 40.  71.  29. 179. 160.  98.]\n"
     ]
    },
    {
     "name": "stderr",
     "output_type": "stream",
     "text": [
      "Sequential sampling (2 chains in 1 job)\n",
      "CompoundStep\n",
      ">CompoundStep\n",
      ">>Metropolis: [married_a]\n",
      ">>Metropolis: [race_a]\n",
      ">>Metropolis: [educ_a]\n",
      ">>Metropolis: [sex_a]\n",
      ">>Metropolis: [age_a]\n",
      ">>Metropolis: [N]\n",
      ">NUTS: [income_a]\n"
     ]
    },
    {
     "data": {
      "text/html": [
       "\n",
       "    <div>\n",
       "        <style>\n",
       "            /* Turns off some styling */\n",
       "            progress {\n",
       "                /* gets rid of default border in Firefox and Opera. */\n",
       "                border: none;\n",
       "                /* Needs to be in here for Safari polyfill so background images work as expected. */\n",
       "                background-size: auto;\n",
       "            }\n",
       "            .progress-bar-interrupted, .progress-bar-interrupted::-webkit-progress-bar {\n",
       "                background: #F44336;\n",
       "            }\n",
       "        </style>\n",
       "      <progress value='4000' class='' max='4000' style='width:300px; height:20px; vertical-align: middle;'></progress>\n",
       "      100.00% [4000/4000 00:24<00:00 Sampling chain 0, 0 divergences]\n",
       "    </div>\n",
       "    "
      ],
      "text/plain": [
       "<IPython.core.display.HTML object>"
      ]
     },
     "metadata": {},
     "output_type": "display_data"
    },
    {
     "data": {
      "text/html": [
       "\n",
       "    <div>\n",
       "        <style>\n",
       "            /* Turns off some styling */\n",
       "            progress {\n",
       "                /* gets rid of default border in Firefox and Opera. */\n",
       "                border: none;\n",
       "                /* Needs to be in here for Safari polyfill so background images work as expected. */\n",
       "                background-size: auto;\n",
       "            }\n",
       "            .progress-bar-interrupted, .progress-bar-interrupted::-webkit-progress-bar {\n",
       "                background: #F44336;\n",
       "            }\n",
       "        </style>\n",
       "      <progress value='4000' class='' max='4000' style='width:300px; height:20px; vertical-align: middle;'></progress>\n",
       "      100.00% [4000/4000 00:24<00:00 Sampling chain 1, 0 divergences]\n",
       "    </div>\n",
       "    "
      ],
      "text/plain": [
       "<IPython.core.display.HTML object>"
      ]
     },
     "metadata": {},
     "output_type": "display_data"
    },
    {
     "name": "stderr",
     "output_type": "stream",
     "text": [
      "Sampling 2 chains for 1_000 tune and 3_000 draw iterations (2_000 + 6_000 draws total) took 49 seconds.\n",
      "The estimated number of effective samples is smaller than 200 for some parameters.\n"
     ]
    },
    {
     "name": "stdout",
     "output_type": "stream",
     "text": [
      "[1. 1. 0. 0. 1. 0.]\n",
      "[ 69.   6.  31. 154. 118. 157.]\n",
      "[126. 164.  22. 115.  49. 105.]\n"
     ]
    },
    {
     "name": "stderr",
     "output_type": "stream",
     "text": [
      "Sequential sampling (2 chains in 1 job)\n",
      "CompoundStep\n",
      ">CompoundStep\n",
      ">>Metropolis: [married_a]\n",
      ">>Metropolis: [race_a]\n",
      ">>Metropolis: [educ_a]\n",
      ">>Metropolis: [sex_a]\n",
      ">>Metropolis: [age_a]\n",
      ">>Metropolis: [N]\n",
      ">NUTS: [income_a]\n"
     ]
    },
    {
     "data": {
      "text/html": [
       "\n",
       "    <div>\n",
       "        <style>\n",
       "            /* Turns off some styling */\n",
       "            progress {\n",
       "                /* gets rid of default border in Firefox and Opera. */\n",
       "                border: none;\n",
       "                /* Needs to be in here for Safari polyfill so background images work as expected. */\n",
       "                background-size: auto;\n",
       "            }\n",
       "            .progress-bar-interrupted, .progress-bar-interrupted::-webkit-progress-bar {\n",
       "                background: #F44336;\n",
       "            }\n",
       "        </style>\n",
       "      <progress value='4000' class='' max='4000' style='width:300px; height:20px; vertical-align: middle;'></progress>\n",
       "      100.00% [4000/4000 00:24<00:00 Sampling chain 0, 0 divergences]\n",
       "    </div>\n",
       "    "
      ],
      "text/plain": [
       "<IPython.core.display.HTML object>"
      ]
     },
     "metadata": {},
     "output_type": "display_data"
    },
    {
     "data": {
      "text/html": [
       "\n",
       "    <div>\n",
       "        <style>\n",
       "            /* Turns off some styling */\n",
       "            progress {\n",
       "                /* gets rid of default border in Firefox and Opera. */\n",
       "                border: none;\n",
       "                /* Needs to be in here for Safari polyfill so background images work as expected. */\n",
       "                background-size: auto;\n",
       "            }\n",
       "            .progress-bar-interrupted, .progress-bar-interrupted::-webkit-progress-bar {\n",
       "                background: #F44336;\n",
       "            }\n",
       "        </style>\n",
       "      <progress value='4000' class='' max='4000' style='width:300px; height:20px; vertical-align: middle;'></progress>\n",
       "      100.00% [4000/4000 00:23<00:00 Sampling chain 1, 0 divergences]\n",
       "    </div>\n",
       "    "
      ],
      "text/plain": [
       "<IPython.core.display.HTML object>"
      ]
     },
     "metadata": {},
     "output_type": "display_data"
    },
    {
     "name": "stderr",
     "output_type": "stream",
     "text": [
      "Sampling 2 chains for 1_000 tune and 3_000 draw iterations (2_000 + 6_000 draws total) took 48 seconds.\n",
      "The estimated number of effective samples is smaller than 200 for some parameters.\n"
     ]
    },
    {
     "name": "stdout",
     "output_type": "stream",
     "text": [
      "[0. 0. 0. 1. 1. 1.]\n",
      "[100. 100.  94. 150. 103. 131.]\n",
      "[ 75.  61.  10. 151. 135. 113.]\n"
     ]
    },
    {
     "name": "stderr",
     "output_type": "stream",
     "text": [
      "Sequential sampling (2 chains in 1 job)\n",
      "CompoundStep\n",
      ">CompoundStep\n",
      ">>Metropolis: [married_a]\n",
      ">>Metropolis: [race_a]\n",
      ">>Metropolis: [educ_a]\n",
      ">>Metropolis: [sex_a]\n",
      ">>Metropolis: [age_a]\n",
      ">>Metropolis: [N]\n",
      ">NUTS: [income_a]\n"
     ]
    },
    {
     "data": {
      "text/html": [
       "\n",
       "    <div>\n",
       "        <style>\n",
       "            /* Turns off some styling */\n",
       "            progress {\n",
       "                /* gets rid of default border in Firefox and Opera. */\n",
       "                border: none;\n",
       "                /* Needs to be in here for Safari polyfill so background images work as expected. */\n",
       "                background-size: auto;\n",
       "            }\n",
       "            .progress-bar-interrupted, .progress-bar-interrupted::-webkit-progress-bar {\n",
       "                background: #F44336;\n",
       "            }\n",
       "        </style>\n",
       "      <progress value='4000' class='' max='4000' style='width:300px; height:20px; vertical-align: middle;'></progress>\n",
       "      100.00% [4000/4000 00:24<00:00 Sampling chain 0, 0 divergences]\n",
       "    </div>\n",
       "    "
      ],
      "text/plain": [
       "<IPython.core.display.HTML object>"
      ]
     },
     "metadata": {},
     "output_type": "display_data"
    },
    {
     "data": {
      "text/html": [
       "\n",
       "    <div>\n",
       "        <style>\n",
       "            /* Turns off some styling */\n",
       "            progress {\n",
       "                /* gets rid of default border in Firefox and Opera. */\n",
       "                border: none;\n",
       "                /* Needs to be in here for Safari polyfill so background images work as expected. */\n",
       "                background-size: auto;\n",
       "            }\n",
       "            .progress-bar-interrupted, .progress-bar-interrupted::-webkit-progress-bar {\n",
       "                background: #F44336;\n",
       "            }\n",
       "        </style>\n",
       "      <progress value='4000' class='' max='4000' style='width:300px; height:20px; vertical-align: middle;'></progress>\n",
       "      100.00% [4000/4000 00:24<00:00 Sampling chain 1, 0 divergences]\n",
       "    </div>\n",
       "    "
      ],
      "text/plain": [
       "<IPython.core.display.HTML object>"
      ]
     },
     "metadata": {},
     "output_type": "display_data"
    },
    {
     "name": "stderr",
     "output_type": "stream",
     "text": [
      "Sampling 2 chains for 1_000 tune and 3_000 draw iterations (2_000 + 6_000 draws total) took 48 seconds.\n",
      "The estimated number of effective samples is smaller than 200 for some parameters.\n"
     ]
    },
    {
     "name": "stdout",
     "output_type": "stream",
     "text": [
      "[1. 0. 0. 0. 1. 1.]\n",
      "[152.   7.  25. 167.  94.  80.]\n",
      "[180.  61. 170. 128.  94. 142.]\n"
     ]
    },
    {
     "name": "stderr",
     "output_type": "stream",
     "text": [
      "Sequential sampling (2 chains in 1 job)\n",
      "CompoundStep\n",
      ">CompoundStep\n",
      ">>Metropolis: [married_a]\n",
      ">>Metropolis: [race_a]\n",
      ">>Metropolis: [educ_a]\n",
      ">>Metropolis: [sex_a]\n",
      ">>Metropolis: [age_a]\n",
      ">>Metropolis: [N]\n",
      ">NUTS: [income_a]\n"
     ]
    },
    {
     "data": {
      "text/html": [
       "\n",
       "    <div>\n",
       "        <style>\n",
       "            /* Turns off some styling */\n",
       "            progress {\n",
       "                /* gets rid of default border in Firefox and Opera. */\n",
       "                border: none;\n",
       "                /* Needs to be in here for Safari polyfill so background images work as expected. */\n",
       "                background-size: auto;\n",
       "            }\n",
       "            .progress-bar-interrupted, .progress-bar-interrupted::-webkit-progress-bar {\n",
       "                background: #F44336;\n",
       "            }\n",
       "        </style>\n",
       "      <progress value='4000' class='' max='4000' style='width:300px; height:20px; vertical-align: middle;'></progress>\n",
       "      100.00% [4000/4000 00:23<00:00 Sampling chain 0, 0 divergences]\n",
       "    </div>\n",
       "    "
      ],
      "text/plain": [
       "<IPython.core.display.HTML object>"
      ]
     },
     "metadata": {},
     "output_type": "display_data"
    },
    {
     "data": {
      "text/html": [
       "\n",
       "    <div>\n",
       "        <style>\n",
       "            /* Turns off some styling */\n",
       "            progress {\n",
       "                /* gets rid of default border in Firefox and Opera. */\n",
       "                border: none;\n",
       "                /* Needs to be in here for Safari polyfill so background images work as expected. */\n",
       "                background-size: auto;\n",
       "            }\n",
       "            .progress-bar-interrupted, .progress-bar-interrupted::-webkit-progress-bar {\n",
       "                background: #F44336;\n",
       "            }\n",
       "        </style>\n",
       "      <progress value='4000' class='' max='4000' style='width:300px; height:20px; vertical-align: middle;'></progress>\n",
       "      100.00% [4000/4000 00:23<00:00 Sampling chain 1, 0 divergences]\n",
       "    </div>\n",
       "    "
      ],
      "text/plain": [
       "<IPython.core.display.HTML object>"
      ]
     },
     "metadata": {},
     "output_type": "display_data"
    },
    {
     "name": "stderr",
     "output_type": "stream",
     "text": [
      "Sampling 2 chains for 1_000 tune and 3_000 draw iterations (2_000 + 6_000 draws total) took 47 seconds.\n",
      "The estimated number of effective samples is smaller than 200 for some parameters.\n"
     ]
    },
    {
     "name": "stdout",
     "output_type": "stream",
     "text": [
      "[0. 0. 0. 1. 0. 1.]\n",
      "[127.  42.  84.   1. 157. 137.]\n",
      "[199. 106. 155. 109.  32. 183.]\n"
     ]
    },
    {
     "name": "stderr",
     "output_type": "stream",
     "text": [
      "Sequential sampling (2 chains in 1 job)\n",
      "CompoundStep\n",
      ">CompoundStep\n",
      ">>Metropolis: [married_a]\n",
      ">>Metropolis: [race_a]\n",
      ">>Metropolis: [educ_a]\n",
      ">>Metropolis: [sex_a]\n",
      ">>Metropolis: [age_a]\n",
      ">>Metropolis: [N]\n",
      ">NUTS: [income_a]\n"
     ]
    },
    {
     "data": {
      "text/html": [
       "\n",
       "    <div>\n",
       "        <style>\n",
       "            /* Turns off some styling */\n",
       "            progress {\n",
       "                /* gets rid of default border in Firefox and Opera. */\n",
       "                border: none;\n",
       "                /* Needs to be in here for Safari polyfill so background images work as expected. */\n",
       "                background-size: auto;\n",
       "            }\n",
       "            .progress-bar-interrupted, .progress-bar-interrupted::-webkit-progress-bar {\n",
       "                background: #F44336;\n",
       "            }\n",
       "        </style>\n",
       "      <progress value='4000' class='' max='4000' style='width:300px; height:20px; vertical-align: middle;'></progress>\n",
       "      100.00% [4000/4000 00:24<00:00 Sampling chain 0, 0 divergences]\n",
       "    </div>\n",
       "    "
      ],
      "text/plain": [
       "<IPython.core.display.HTML object>"
      ]
     },
     "metadata": {},
     "output_type": "display_data"
    },
    {
     "data": {
      "text/html": [
       "\n",
       "    <div>\n",
       "        <style>\n",
       "            /* Turns off some styling */\n",
       "            progress {\n",
       "                /* gets rid of default border in Firefox and Opera. */\n",
       "                border: none;\n",
       "                /* Needs to be in here for Safari polyfill so background images work as expected. */\n",
       "                background-size: auto;\n",
       "            }\n",
       "            .progress-bar-interrupted, .progress-bar-interrupted::-webkit-progress-bar {\n",
       "                background: #F44336;\n",
       "            }\n",
       "        </style>\n",
       "      <progress value='4000' class='' max='4000' style='width:300px; height:20px; vertical-align: middle;'></progress>\n",
       "      100.00% [4000/4000 00:24<00:00 Sampling chain 1, 0 divergences]\n",
       "    </div>\n",
       "    "
      ],
      "text/plain": [
       "<IPython.core.display.HTML object>"
      ]
     },
     "metadata": {},
     "output_type": "display_data"
    },
    {
     "name": "stderr",
     "output_type": "stream",
     "text": [
      "Sampling 2 chains for 1_000 tune and 3_000 draw iterations (2_000 + 6_000 draws total) took 49 seconds.\n",
      "The estimated number of effective samples is smaller than 200 for some parameters.\n"
     ]
    },
    {
     "name": "stdout",
     "output_type": "stream",
     "text": [
      "[0. 0. 0. 1. 0. 0.]\n",
      "[152. 125. 112.  72. 193. 168.]\n",
      "[ 99. 131. 181.  83.  81.  47.]\n"
     ]
    },
    {
     "name": "stderr",
     "output_type": "stream",
     "text": [
      "Sequential sampling (2 chains in 1 job)\n",
      "CompoundStep\n",
      ">CompoundStep\n",
      ">>Metropolis: [married_a]\n",
      ">>Metropolis: [race_a]\n",
      ">>Metropolis: [educ_a]\n",
      ">>Metropolis: [sex_a]\n",
      ">>Metropolis: [age_a]\n",
      ">>Metropolis: [N]\n",
      ">NUTS: [income_a]\n"
     ]
    },
    {
     "data": {
      "text/html": [
       "\n",
       "    <div>\n",
       "        <style>\n",
       "            /* Turns off some styling */\n",
       "            progress {\n",
       "                /* gets rid of default border in Firefox and Opera. */\n",
       "                border: none;\n",
       "                /* Needs to be in here for Safari polyfill so background images work as expected. */\n",
       "                background-size: auto;\n",
       "            }\n",
       "            .progress-bar-interrupted, .progress-bar-interrupted::-webkit-progress-bar {\n",
       "                background: #F44336;\n",
       "            }\n",
       "        </style>\n",
       "      <progress value='4000' class='' max='4000' style='width:300px; height:20px; vertical-align: middle;'></progress>\n",
       "      100.00% [4000/4000 00:23<00:00 Sampling chain 0, 0 divergences]\n",
       "    </div>\n",
       "    "
      ],
      "text/plain": [
       "<IPython.core.display.HTML object>"
      ]
     },
     "metadata": {},
     "output_type": "display_data"
    },
    {
     "data": {
      "text/html": [
       "\n",
       "    <div>\n",
       "        <style>\n",
       "            /* Turns off some styling */\n",
       "            progress {\n",
       "                /* gets rid of default border in Firefox and Opera. */\n",
       "                border: none;\n",
       "                /* Needs to be in here for Safari polyfill so background images work as expected. */\n",
       "                background-size: auto;\n",
       "            }\n",
       "            .progress-bar-interrupted, .progress-bar-interrupted::-webkit-progress-bar {\n",
       "                background: #F44336;\n",
       "            }\n",
       "        </style>\n",
       "      <progress value='4000' class='' max='4000' style='width:300px; height:20px; vertical-align: middle;'></progress>\n",
       "      100.00% [4000/4000 00:23<00:00 Sampling chain 1, 0 divergences]\n",
       "    </div>\n",
       "    "
      ],
      "text/plain": [
       "<IPython.core.display.HTML object>"
      ]
     },
     "metadata": {},
     "output_type": "display_data"
    },
    {
     "name": "stderr",
     "output_type": "stream",
     "text": [
      "Sampling 2 chains for 1_000 tune and 3_000 draw iterations (2_000 + 6_000 draws total) took 48 seconds.\n",
      "The estimated number of effective samples is smaller than 200 for some parameters.\n"
     ]
    },
    {
     "name": "stdout",
     "output_type": "stream",
     "text": [
      "[0. 1. 0. 1. 1. 0.]\n",
      "[177. 141. 137.   9.  73.  37.]\n",
      "[102.  14. 145. 114.  98. 176.]\n"
     ]
    },
    {
     "name": "stderr",
     "output_type": "stream",
     "text": [
      "Sequential sampling (2 chains in 1 job)\n",
      "CompoundStep\n",
      ">CompoundStep\n",
      ">>Metropolis: [married_a]\n",
      ">>Metropolis: [race_a]\n",
      ">>Metropolis: [educ_a]\n",
      ">>Metropolis: [sex_a]\n",
      ">>Metropolis: [age_a]\n",
      ">>Metropolis: [N]\n",
      ">NUTS: [income_a]\n"
     ]
    },
    {
     "data": {
      "text/html": [
       "\n",
       "    <div>\n",
       "        <style>\n",
       "            /* Turns off some styling */\n",
       "            progress {\n",
       "                /* gets rid of default border in Firefox and Opera. */\n",
       "                border: none;\n",
       "                /* Needs to be in here for Safari polyfill so background images work as expected. */\n",
       "                background-size: auto;\n",
       "            }\n",
       "            .progress-bar-interrupted, .progress-bar-interrupted::-webkit-progress-bar {\n",
       "                background: #F44336;\n",
       "            }\n",
       "        </style>\n",
       "      <progress value='4000' class='' max='4000' style='width:300px; height:20px; vertical-align: middle;'></progress>\n",
       "      100.00% [4000/4000 00:24<00:00 Sampling chain 0, 0 divergences]\n",
       "    </div>\n",
       "    "
      ],
      "text/plain": [
       "<IPython.core.display.HTML object>"
      ]
     },
     "metadata": {},
     "output_type": "display_data"
    },
    {
     "data": {
      "text/html": [
       "\n",
       "    <div>\n",
       "        <style>\n",
       "            /* Turns off some styling */\n",
       "            progress {\n",
       "                /* gets rid of default border in Firefox and Opera. */\n",
       "                border: none;\n",
       "                /* Needs to be in here for Safari polyfill so background images work as expected. */\n",
       "                background-size: auto;\n",
       "            }\n",
       "            .progress-bar-interrupted, .progress-bar-interrupted::-webkit-progress-bar {\n",
       "                background: #F44336;\n",
       "            }\n",
       "        </style>\n",
       "      <progress value='4000' class='' max='4000' style='width:300px; height:20px; vertical-align: middle;'></progress>\n",
       "      100.00% [4000/4000 00:24<00:00 Sampling chain 1, 0 divergences]\n",
       "    </div>\n",
       "    "
      ],
      "text/plain": [
       "<IPython.core.display.HTML object>"
      ]
     },
     "metadata": {},
     "output_type": "display_data"
    },
    {
     "name": "stderr",
     "output_type": "stream",
     "text": [
      "Sampling 2 chains for 1_000 tune and 3_000 draw iterations (2_000 + 6_000 draws total) took 49 seconds.\n",
      "The estimated number of effective samples is smaller than 200 for some parameters.\n"
     ]
    },
    {
     "name": "stdout",
     "output_type": "stream",
     "text": [
      "[1. 0. 1. 1. 1. 0.]\n",
      "[ 33. 104. 160.  10. 145. 151.]\n",
      "[158.  55.  79.  29. 104.  50.]\n"
     ]
    },
    {
     "name": "stderr",
     "output_type": "stream",
     "text": [
      "Sequential sampling (2 chains in 1 job)\n",
      "CompoundStep\n",
      ">CompoundStep\n",
      ">>Metropolis: [married_a]\n",
      ">>Metropolis: [race_a]\n",
      ">>Metropolis: [educ_a]\n",
      ">>Metropolis: [sex_a]\n",
      ">>Metropolis: [age_a]\n",
      ">>Metropolis: [N]\n",
      ">NUTS: [income_a]\n"
     ]
    },
    {
     "data": {
      "text/html": [
       "\n",
       "    <div>\n",
       "        <style>\n",
       "            /* Turns off some styling */\n",
       "            progress {\n",
       "                /* gets rid of default border in Firefox and Opera. */\n",
       "                border: none;\n",
       "                /* Needs to be in here for Safari polyfill so background images work as expected. */\n",
       "                background-size: auto;\n",
       "            }\n",
       "            .progress-bar-interrupted, .progress-bar-interrupted::-webkit-progress-bar {\n",
       "                background: #F44336;\n",
       "            }\n",
       "        </style>\n",
       "      <progress value='4000' class='' max='4000' style='width:300px; height:20px; vertical-align: middle;'></progress>\n",
       "      100.00% [4000/4000 00:24<00:00 Sampling chain 0, 0 divergences]\n",
       "    </div>\n",
       "    "
      ],
      "text/plain": [
       "<IPython.core.display.HTML object>"
      ]
     },
     "metadata": {},
     "output_type": "display_data"
    },
    {
     "data": {
      "text/html": [
       "\n",
       "    <div>\n",
       "        <style>\n",
       "            /* Turns off some styling */\n",
       "            progress {\n",
       "                /* gets rid of default border in Firefox and Opera. */\n",
       "                border: none;\n",
       "                /* Needs to be in here for Safari polyfill so background images work as expected. */\n",
       "                background-size: auto;\n",
       "            }\n",
       "            .progress-bar-interrupted, .progress-bar-interrupted::-webkit-progress-bar {\n",
       "                background: #F44336;\n",
       "            }\n",
       "        </style>\n",
       "      <progress value='4000' class='' max='4000' style='width:300px; height:20px; vertical-align: middle;'></progress>\n",
       "      100.00% [4000/4000 00:24<00:00 Sampling chain 1, 0 divergences]\n",
       "    </div>\n",
       "    "
      ],
      "text/plain": [
       "<IPython.core.display.HTML object>"
      ]
     },
     "metadata": {},
     "output_type": "display_data"
    },
    {
     "name": "stderr",
     "output_type": "stream",
     "text": [
      "Sampling 2 chains for 1_000 tune and 3_000 draw iterations (2_000 + 6_000 draws total) took 48 seconds.\n",
      "The estimated number of effective samples is smaller than 200 for some parameters.\n"
     ]
    },
    {
     "name": "stdout",
     "output_type": "stream",
     "text": [
      "[1. 0. 0. 0. 1. 1.]\n",
      "[123. 170.   1. 107.  98. 132.]\n",
      "[132. 151. 178.  18. 158.  56.]\n"
     ]
    },
    {
     "name": "stderr",
     "output_type": "stream",
     "text": [
      "Sequential sampling (2 chains in 1 job)\n",
      "CompoundStep\n",
      ">CompoundStep\n",
      ">>Metropolis: [married_a]\n",
      ">>Metropolis: [race_a]\n",
      ">>Metropolis: [educ_a]\n",
      ">>Metropolis: [sex_a]\n",
      ">>Metropolis: [age_a]\n",
      ">>Metropolis: [N]\n",
      ">NUTS: [income_a]\n"
     ]
    },
    {
     "data": {
      "text/html": [
       "\n",
       "    <div>\n",
       "        <style>\n",
       "            /* Turns off some styling */\n",
       "            progress {\n",
       "                /* gets rid of default border in Firefox and Opera. */\n",
       "                border: none;\n",
       "                /* Needs to be in here for Safari polyfill so background images work as expected. */\n",
       "                background-size: auto;\n",
       "            }\n",
       "            .progress-bar-interrupted, .progress-bar-interrupted::-webkit-progress-bar {\n",
       "                background: #F44336;\n",
       "            }\n",
       "        </style>\n",
       "      <progress value='4000' class='' max='4000' style='width:300px; height:20px; vertical-align: middle;'></progress>\n",
       "      100.00% [4000/4000 00:23<00:00 Sampling chain 0, 0 divergences]\n",
       "    </div>\n",
       "    "
      ],
      "text/plain": [
       "<IPython.core.display.HTML object>"
      ]
     },
     "metadata": {},
     "output_type": "display_data"
    },
    {
     "data": {
      "text/html": [
       "\n",
       "    <div>\n",
       "        <style>\n",
       "            /* Turns off some styling */\n",
       "            progress {\n",
       "                /* gets rid of default border in Firefox and Opera. */\n",
       "                border: none;\n",
       "                /* Needs to be in here for Safari polyfill so background images work as expected. */\n",
       "                background-size: auto;\n",
       "            }\n",
       "            .progress-bar-interrupted, .progress-bar-interrupted::-webkit-progress-bar {\n",
       "                background: #F44336;\n",
       "            }\n",
       "        </style>\n",
       "      <progress value='4000' class='' max='4000' style='width:300px; height:20px; vertical-align: middle;'></progress>\n",
       "      100.00% [4000/4000 00:24<00:00 Sampling chain 1, 0 divergences]\n",
       "    </div>\n",
       "    "
      ],
      "text/plain": [
       "<IPython.core.display.HTML object>"
      ]
     },
     "metadata": {},
     "output_type": "display_data"
    },
    {
     "name": "stderr",
     "output_type": "stream",
     "text": [
      "Sampling 2 chains for 1_000 tune and 3_000 draw iterations (2_000 + 6_000 draws total) took 48 seconds.\n",
      "The estimated number of effective samples is smaller than 200 for some parameters.\n"
     ]
    },
    {
     "name": "stdout",
     "output_type": "stream",
     "text": [
      "[0. 0. 0. 1. 1. 1.]\n",
      "[113. 128.  44.  63.  31.  80.]\n",
      "[193. 114.  53.  39. 143.  35.]\n"
     ]
    },
    {
     "name": "stderr",
     "output_type": "stream",
     "text": [
      "Sequential sampling (2 chains in 1 job)\n",
      "CompoundStep\n",
      ">CompoundStep\n",
      ">>Metropolis: [married_a]\n",
      ">>Metropolis: [race_a]\n",
      ">>Metropolis: [educ_a]\n",
      ">>Metropolis: [sex_a]\n",
      ">>Metropolis: [age_a]\n",
      ">>Metropolis: [N]\n",
      ">NUTS: [income_a]\n"
     ]
    },
    {
     "data": {
      "text/html": [
       "\n",
       "    <div>\n",
       "        <style>\n",
       "            /* Turns off some styling */\n",
       "            progress {\n",
       "                /* gets rid of default border in Firefox and Opera. */\n",
       "                border: none;\n",
       "                /* Needs to be in here for Safari polyfill so background images work as expected. */\n",
       "                background-size: auto;\n",
       "            }\n",
       "            .progress-bar-interrupted, .progress-bar-interrupted::-webkit-progress-bar {\n",
       "                background: #F44336;\n",
       "            }\n",
       "        </style>\n",
       "      <progress value='4000' class='' max='4000' style='width:300px; height:20px; vertical-align: middle;'></progress>\n",
       "      100.00% [4000/4000 00:24<00:00 Sampling chain 0, 0 divergences]\n",
       "    </div>\n",
       "    "
      ],
      "text/plain": [
       "<IPython.core.display.HTML object>"
      ]
     },
     "metadata": {},
     "output_type": "display_data"
    },
    {
     "data": {
      "text/html": [
       "\n",
       "    <div>\n",
       "        <style>\n",
       "            /* Turns off some styling */\n",
       "            progress {\n",
       "                /* gets rid of default border in Firefox and Opera. */\n",
       "                border: none;\n",
       "                /* Needs to be in here for Safari polyfill so background images work as expected. */\n",
       "                background-size: auto;\n",
       "            }\n",
       "            .progress-bar-interrupted, .progress-bar-interrupted::-webkit-progress-bar {\n",
       "                background: #F44336;\n",
       "            }\n",
       "        </style>\n",
       "      <progress value='4000' class='' max='4000' style='width:300px; height:20px; vertical-align: middle;'></progress>\n",
       "      100.00% [4000/4000 00:24<00:00 Sampling chain 1, 0 divergences]\n",
       "    </div>\n",
       "    "
      ],
      "text/plain": [
       "<IPython.core.display.HTML object>"
      ]
     },
     "metadata": {},
     "output_type": "display_data"
    },
    {
     "name": "stderr",
     "output_type": "stream",
     "text": [
      "Sampling 2 chains for 1_000 tune and 3_000 draw iterations (2_000 + 6_000 draws total) took 49 seconds.\n",
      "The estimated number of effective samples is smaller than 200 for some parameters.\n"
     ]
    },
    {
     "name": "stdout",
     "output_type": "stream",
     "text": [
      "[1. 1. 1. 0. 0. 0.]\n",
      "[180. 132. 126. 196. 168.  84.]\n",
      "[ 19.  86.  49.  81. 106.  61.]\n"
     ]
    },
    {
     "name": "stderr",
     "output_type": "stream",
     "text": [
      "Sequential sampling (2 chains in 1 job)\n",
      "CompoundStep\n",
      ">CompoundStep\n",
      ">>Metropolis: [married_a]\n",
      ">>Metropolis: [race_a]\n",
      ">>Metropolis: [educ_a]\n",
      ">>Metropolis: [sex_a]\n",
      ">>Metropolis: [age_a]\n",
      ">>Metropolis: [N]\n",
      ">NUTS: [income_a]\n"
     ]
    },
    {
     "data": {
      "text/html": [
       "\n",
       "    <div>\n",
       "        <style>\n",
       "            /* Turns off some styling */\n",
       "            progress {\n",
       "                /* gets rid of default border in Firefox and Opera. */\n",
       "                border: none;\n",
       "                /* Needs to be in here for Safari polyfill so background images work as expected. */\n",
       "                background-size: auto;\n",
       "            }\n",
       "            .progress-bar-interrupted, .progress-bar-interrupted::-webkit-progress-bar {\n",
       "                background: #F44336;\n",
       "            }\n",
       "        </style>\n",
       "      <progress value='4000' class='' max='4000' style='width:300px; height:20px; vertical-align: middle;'></progress>\n",
       "      100.00% [4000/4000 00:23<00:00 Sampling chain 0, 0 divergences]\n",
       "    </div>\n",
       "    "
      ],
      "text/plain": [
       "<IPython.core.display.HTML object>"
      ]
     },
     "metadata": {},
     "output_type": "display_data"
    },
    {
     "data": {
      "text/html": [
       "\n",
       "    <div>\n",
       "        <style>\n",
       "            /* Turns off some styling */\n",
       "            progress {\n",
       "                /* gets rid of default border in Firefox and Opera. */\n",
       "                border: none;\n",
       "                /* Needs to be in here for Safari polyfill so background images work as expected. */\n",
       "                background-size: auto;\n",
       "            }\n",
       "            .progress-bar-interrupted, .progress-bar-interrupted::-webkit-progress-bar {\n",
       "                background: #F44336;\n",
       "            }\n",
       "        </style>\n",
       "      <progress value='4000' class='' max='4000' style='width:300px; height:20px; vertical-align: middle;'></progress>\n",
       "      100.00% [4000/4000 00:24<00:00 Sampling chain 1, 0 divergences]\n",
       "    </div>\n",
       "    "
      ],
      "text/plain": [
       "<IPython.core.display.HTML object>"
      ]
     },
     "metadata": {},
     "output_type": "display_data"
    },
    {
     "name": "stderr",
     "output_type": "stream",
     "text": [
      "Sampling 2 chains for 1_000 tune and 3_000 draw iterations (2_000 + 6_000 draws total) took 49 seconds.\n",
      "The estimated number of effective samples is smaller than 200 for some parameters.\n"
     ]
    },
    {
     "name": "stdout",
     "output_type": "stream",
     "text": [
      "[1. 0. 0. 1. 0. 0.]\n",
      "[171. 143.   3.  85. 137.  88.]\n",
      "[  9.  74. 198.  48. 147.  25.]\n"
     ]
    },
    {
     "name": "stderr",
     "output_type": "stream",
     "text": [
      "Sequential sampling (2 chains in 1 job)\n",
      "CompoundStep\n",
      ">CompoundStep\n",
      ">>Metropolis: [married_a]\n",
      ">>Metropolis: [race_a]\n",
      ">>Metropolis: [educ_a]\n",
      ">>Metropolis: [sex_a]\n",
      ">>Metropolis: [age_a]\n",
      ">>Metropolis: [N]\n",
      ">NUTS: [income_a]\n"
     ]
    },
    {
     "data": {
      "text/html": [
       "\n",
       "    <div>\n",
       "        <style>\n",
       "            /* Turns off some styling */\n",
       "            progress {\n",
       "                /* gets rid of default border in Firefox and Opera. */\n",
       "                border: none;\n",
       "                /* Needs to be in here for Safari polyfill so background images work as expected. */\n",
       "                background-size: auto;\n",
       "            }\n",
       "            .progress-bar-interrupted, .progress-bar-interrupted::-webkit-progress-bar {\n",
       "                background: #F44336;\n",
       "            }\n",
       "        </style>\n",
       "      <progress value='4000' class='' max='4000' style='width:300px; height:20px; vertical-align: middle;'></progress>\n",
       "      100.00% [4000/4000 00:23<00:00 Sampling chain 0, 0 divergences]\n",
       "    </div>\n",
       "    "
      ],
      "text/plain": [
       "<IPython.core.display.HTML object>"
      ]
     },
     "metadata": {},
     "output_type": "display_data"
    },
    {
     "data": {
      "text/html": [
       "\n",
       "    <div>\n",
       "        <style>\n",
       "            /* Turns off some styling */\n",
       "            progress {\n",
       "                /* gets rid of default border in Firefox and Opera. */\n",
       "                border: none;\n",
       "                /* Needs to be in here for Safari polyfill so background images work as expected. */\n",
       "                background-size: auto;\n",
       "            }\n",
       "            .progress-bar-interrupted, .progress-bar-interrupted::-webkit-progress-bar {\n",
       "                background: #F44336;\n",
       "            }\n",
       "        </style>\n",
       "      <progress value='4000' class='' max='4000' style='width:300px; height:20px; vertical-align: middle;'></progress>\n",
       "      100.00% [4000/4000 00:23<00:00 Sampling chain 1, 0 divergences]\n",
       "    </div>\n",
       "    "
      ],
      "text/plain": [
       "<IPython.core.display.HTML object>"
      ]
     },
     "metadata": {},
     "output_type": "display_data"
    },
    {
     "name": "stderr",
     "output_type": "stream",
     "text": [
      "Sampling 2 chains for 1_000 tune and 3_000 draw iterations (2_000 + 6_000 draws total) took 48 seconds.\n",
      "The estimated number of effective samples is smaller than 200 for some parameters.\n"
     ]
    },
    {
     "name": "stdout",
     "output_type": "stream",
     "text": [
      "[1. 0. 0. 0. 0. 0.]\n",
      "[ 73.  85. 184.  14. 139.  64.]\n",
      "[145.  65.  87.  74.  38. 186.]\n"
     ]
    },
    {
     "name": "stderr",
     "output_type": "stream",
     "text": [
      "Sequential sampling (2 chains in 1 job)\n",
      "CompoundStep\n",
      ">CompoundStep\n",
      ">>Metropolis: [married_a]\n",
      ">>Metropolis: [race_a]\n",
      ">>Metropolis: [educ_a]\n",
      ">>Metropolis: [sex_a]\n",
      ">>Metropolis: [age_a]\n",
      ">>Metropolis: [N]\n",
      ">NUTS: [income_a]\n"
     ]
    },
    {
     "data": {
      "text/html": [
       "\n",
       "    <div>\n",
       "        <style>\n",
       "            /* Turns off some styling */\n",
       "            progress {\n",
       "                /* gets rid of default border in Firefox and Opera. */\n",
       "                border: none;\n",
       "                /* Needs to be in here for Safari polyfill so background images work as expected. */\n",
       "                background-size: auto;\n",
       "            }\n",
       "            .progress-bar-interrupted, .progress-bar-interrupted::-webkit-progress-bar {\n",
       "                background: #F44336;\n",
       "            }\n",
       "        </style>\n",
       "      <progress value='4000' class='' max='4000' style='width:300px; height:20px; vertical-align: middle;'></progress>\n",
       "      100.00% [4000/4000 00:23<00:00 Sampling chain 0, 0 divergences]\n",
       "    </div>\n",
       "    "
      ],
      "text/plain": [
       "<IPython.core.display.HTML object>"
      ]
     },
     "metadata": {},
     "output_type": "display_data"
    },
    {
     "data": {
      "text/html": [
       "\n",
       "    <div>\n",
       "        <style>\n",
       "            /* Turns off some styling */\n",
       "            progress {\n",
       "                /* gets rid of default border in Firefox and Opera. */\n",
       "                border: none;\n",
       "                /* Needs to be in here for Safari polyfill so background images work as expected. */\n",
       "                background-size: auto;\n",
       "            }\n",
       "            .progress-bar-interrupted, .progress-bar-interrupted::-webkit-progress-bar {\n",
       "                background: #F44336;\n",
       "            }\n",
       "        </style>\n",
       "      <progress value='4000' class='' max='4000' style='width:300px; height:20px; vertical-align: middle;'></progress>\n",
       "      100.00% [4000/4000 00:23<00:00 Sampling chain 1, 0 divergences]\n",
       "    </div>\n",
       "    "
      ],
      "text/plain": [
       "<IPython.core.display.HTML object>"
      ]
     },
     "metadata": {},
     "output_type": "display_data"
    },
    {
     "name": "stderr",
     "output_type": "stream",
     "text": [
      "Sampling 2 chains for 1_000 tune and 3_000 draw iterations (2_000 + 6_000 draws total) took 48 seconds.\n",
      "The estimated number of effective samples is smaller than 200 for some parameters.\n"
     ]
    },
    {
     "name": "stdout",
     "output_type": "stream",
     "text": [
      "[1. 0. 1. 1. 1. 1.]\n",
      "[ 11.  69. 113. 176. 155.  23.]\n",
      "[181.  38.  79.  84. 150. 194.]\n"
     ]
    },
    {
     "name": "stderr",
     "output_type": "stream",
     "text": [
      "Sequential sampling (2 chains in 1 job)\n",
      "CompoundStep\n",
      ">CompoundStep\n",
      ">>Metropolis: [married_a]\n",
      ">>Metropolis: [race_a]\n",
      ">>Metropolis: [educ_a]\n",
      ">>Metropolis: [sex_a]\n",
      ">>Metropolis: [age_a]\n",
      ">>Metropolis: [N]\n",
      ">NUTS: [income_a]\n"
     ]
    },
    {
     "data": {
      "text/html": [
       "\n",
       "    <div>\n",
       "        <style>\n",
       "            /* Turns off some styling */\n",
       "            progress {\n",
       "                /* gets rid of default border in Firefox and Opera. */\n",
       "                border: none;\n",
       "                /* Needs to be in here for Safari polyfill so background images work as expected. */\n",
       "                background-size: auto;\n",
       "            }\n",
       "            .progress-bar-interrupted, .progress-bar-interrupted::-webkit-progress-bar {\n",
       "                background: #F44336;\n",
       "            }\n",
       "        </style>\n",
       "      <progress value='4000' class='' max='4000' style='width:300px; height:20px; vertical-align: middle;'></progress>\n",
       "      100.00% [4000/4000 00:23<00:00 Sampling chain 0, 0 divergences]\n",
       "    </div>\n",
       "    "
      ],
      "text/plain": [
       "<IPython.core.display.HTML object>"
      ]
     },
     "metadata": {},
     "output_type": "display_data"
    },
    {
     "data": {
      "text/html": [
       "\n",
       "    <div>\n",
       "        <style>\n",
       "            /* Turns off some styling */\n",
       "            progress {\n",
       "                /* gets rid of default border in Firefox and Opera. */\n",
       "                border: none;\n",
       "                /* Needs to be in here for Safari polyfill so background images work as expected. */\n",
       "                background-size: auto;\n",
       "            }\n",
       "            .progress-bar-interrupted, .progress-bar-interrupted::-webkit-progress-bar {\n",
       "                background: #F44336;\n",
       "            }\n",
       "        </style>\n",
       "      <progress value='4000' class='' max='4000' style='width:300px; height:20px; vertical-align: middle;'></progress>\n",
       "      100.00% [4000/4000 00:23<00:00 Sampling chain 1, 0 divergences]\n",
       "    </div>\n",
       "    "
      ],
      "text/plain": [
       "<IPython.core.display.HTML object>"
      ]
     },
     "metadata": {},
     "output_type": "display_data"
    },
    {
     "name": "stderr",
     "output_type": "stream",
     "text": [
      "Sampling 2 chains for 1_000 tune and 3_000 draw iterations (2_000 + 6_000 draws total) took 48 seconds.\n",
      "The estimated number of effective samples is smaller than 200 for some parameters.\n"
     ]
    },
    {
     "name": "stdout",
     "output_type": "stream",
     "text": [
      "[0. 1. 1. 0. 1. 1.]\n",
      "[ 95. 128.  36.  65.  84. 126.]\n",
      "[ 30. 108. 157. 180.  65. 145.]\n"
     ]
    },
    {
     "name": "stderr",
     "output_type": "stream",
     "text": [
      "Sequential sampling (2 chains in 1 job)\n",
      "CompoundStep\n",
      ">CompoundStep\n",
      ">>Metropolis: [married_a]\n",
      ">>Metropolis: [race_a]\n",
      ">>Metropolis: [educ_a]\n",
      ">>Metropolis: [sex_a]\n",
      ">>Metropolis: [age_a]\n",
      ">>Metropolis: [N]\n",
      ">NUTS: [income_a]\n"
     ]
    },
    {
     "data": {
      "text/html": [
       "\n",
       "    <div>\n",
       "        <style>\n",
       "            /* Turns off some styling */\n",
       "            progress {\n",
       "                /* gets rid of default border in Firefox and Opera. */\n",
       "                border: none;\n",
       "                /* Needs to be in here for Safari polyfill so background images work as expected. */\n",
       "                background-size: auto;\n",
       "            }\n",
       "            .progress-bar-interrupted, .progress-bar-interrupted::-webkit-progress-bar {\n",
       "                background: #F44336;\n",
       "            }\n",
       "        </style>\n",
       "      <progress value='4000' class='' max='4000' style='width:300px; height:20px; vertical-align: middle;'></progress>\n",
       "      100.00% [4000/4000 00:24<00:00 Sampling chain 0, 0 divergences]\n",
       "    </div>\n",
       "    "
      ],
      "text/plain": [
       "<IPython.core.display.HTML object>"
      ]
     },
     "metadata": {},
     "output_type": "display_data"
    },
    {
     "data": {
      "text/html": [
       "\n",
       "    <div>\n",
       "        <style>\n",
       "            /* Turns off some styling */\n",
       "            progress {\n",
       "                /* gets rid of default border in Firefox and Opera. */\n",
       "                border: none;\n",
       "                /* Needs to be in here for Safari polyfill so background images work as expected. */\n",
       "                background-size: auto;\n",
       "            }\n",
       "            .progress-bar-interrupted, .progress-bar-interrupted::-webkit-progress-bar {\n",
       "                background: #F44336;\n",
       "            }\n",
       "        </style>\n",
       "      <progress value='4000' class='' max='4000' style='width:300px; height:20px; vertical-align: middle;'></progress>\n",
       "      100.00% [4000/4000 00:25<00:00 Sampling chain 1, 0 divergences]\n",
       "    </div>\n",
       "    "
      ],
      "text/plain": [
       "<IPython.core.display.HTML object>"
      ]
     },
     "metadata": {},
     "output_type": "display_data"
    },
    {
     "name": "stderr",
     "output_type": "stream",
     "text": [
      "Sampling 2 chains for 1_000 tune and 3_000 draw iterations (2_000 + 6_000 draws total) took 50 seconds.\n",
      "The estimated number of effective samples is smaller than 200 for some parameters.\n"
     ]
    },
    {
     "name": "stdout",
     "output_type": "stream",
     "text": [
      "[1. 0. 1. 1. 1. 1.]\n",
      "[126. 160. 151. 191.  34. 174.]\n",
      "[ 70. 173. 135. 132. 133. 177.]\n"
     ]
    },
    {
     "name": "stderr",
     "output_type": "stream",
     "text": [
      "Sequential sampling (2 chains in 1 job)\n",
      "CompoundStep\n",
      ">CompoundStep\n",
      ">>Metropolis: [married_a]\n",
      ">>Metropolis: [race_a]\n",
      ">>Metropolis: [educ_a]\n",
      ">>Metropolis: [sex_a]\n",
      ">>Metropolis: [age_a]\n",
      ">>Metropolis: [N]\n",
      ">NUTS: [income_a]\n"
     ]
    },
    {
     "data": {
      "text/html": [
       "\n",
       "    <div>\n",
       "        <style>\n",
       "            /* Turns off some styling */\n",
       "            progress {\n",
       "                /* gets rid of default border in Firefox and Opera. */\n",
       "                border: none;\n",
       "                /* Needs to be in here for Safari polyfill so background images work as expected. */\n",
       "                background-size: auto;\n",
       "            }\n",
       "            .progress-bar-interrupted, .progress-bar-interrupted::-webkit-progress-bar {\n",
       "                background: #F44336;\n",
       "            }\n",
       "        </style>\n",
       "      <progress value='4000' class='' max='4000' style='width:300px; height:20px; vertical-align: middle;'></progress>\n",
       "      100.00% [4000/4000 00:24<00:00 Sampling chain 0, 0 divergences]\n",
       "    </div>\n",
       "    "
      ],
      "text/plain": [
       "<IPython.core.display.HTML object>"
      ]
     },
     "metadata": {},
     "output_type": "display_data"
    },
    {
     "data": {
      "text/html": [
       "\n",
       "    <div>\n",
       "        <style>\n",
       "            /* Turns off some styling */\n",
       "            progress {\n",
       "                /* gets rid of default border in Firefox and Opera. */\n",
       "                border: none;\n",
       "                /* Needs to be in here for Safari polyfill so background images work as expected. */\n",
       "                background-size: auto;\n",
       "            }\n",
       "            .progress-bar-interrupted, .progress-bar-interrupted::-webkit-progress-bar {\n",
       "                background: #F44336;\n",
       "            }\n",
       "        </style>\n",
       "      <progress value='4000' class='' max='4000' style='width:300px; height:20px; vertical-align: middle;'></progress>\n",
       "      100.00% [4000/4000 00:24<00:00 Sampling chain 1, 0 divergences]\n",
       "    </div>\n",
       "    "
      ],
      "text/plain": [
       "<IPython.core.display.HTML object>"
      ]
     },
     "metadata": {},
     "output_type": "display_data"
    },
    {
     "name": "stderr",
     "output_type": "stream",
     "text": [
      "Sampling 2 chains for 1_000 tune and 3_000 draw iterations (2_000 + 6_000 draws total) took 49 seconds.\n",
      "The estimated number of effective samples is smaller than 200 for some parameters.\n"
     ]
    },
    {
     "name": "stdout",
     "output_type": "stream",
     "text": [
      "[0. 1. 0. 1. 1. 0.]\n",
      "[ 36.  75.  88. 189.   0. 178.]\n",
      "[ 77. 156. 185. 193. 177.  73.]\n"
     ]
    },
    {
     "name": "stderr",
     "output_type": "stream",
     "text": [
      "Sequential sampling (2 chains in 1 job)\n",
      "CompoundStep\n",
      ">CompoundStep\n",
      ">>Metropolis: [married_a]\n",
      ">>Metropolis: [race_a]\n",
      ">>Metropolis: [educ_a]\n",
      ">>Metropolis: [sex_a]\n",
      ">>Metropolis: [age_a]\n",
      ">>Metropolis: [N]\n",
      ">NUTS: [income_a]\n"
     ]
    },
    {
     "data": {
      "text/html": [
       "\n",
       "    <div>\n",
       "        <style>\n",
       "            /* Turns off some styling */\n",
       "            progress {\n",
       "                /* gets rid of default border in Firefox and Opera. */\n",
       "                border: none;\n",
       "                /* Needs to be in here for Safari polyfill so background images work as expected. */\n",
       "                background-size: auto;\n",
       "            }\n",
       "            .progress-bar-interrupted, .progress-bar-interrupted::-webkit-progress-bar {\n",
       "                background: #F44336;\n",
       "            }\n",
       "        </style>\n",
       "      <progress value='4000' class='' max='4000' style='width:300px; height:20px; vertical-align: middle;'></progress>\n",
       "      100.00% [4000/4000 00:24<00:00 Sampling chain 0, 0 divergences]\n",
       "    </div>\n",
       "    "
      ],
      "text/plain": [
       "<IPython.core.display.HTML object>"
      ]
     },
     "metadata": {},
     "output_type": "display_data"
    },
    {
     "data": {
      "text/html": [
       "\n",
       "    <div>\n",
       "        <style>\n",
       "            /* Turns off some styling */\n",
       "            progress {\n",
       "                /* gets rid of default border in Firefox and Opera. */\n",
       "                border: none;\n",
       "                /* Needs to be in here for Safari polyfill so background images work as expected. */\n",
       "                background-size: auto;\n",
       "            }\n",
       "            .progress-bar-interrupted, .progress-bar-interrupted::-webkit-progress-bar {\n",
       "                background: #F44336;\n",
       "            }\n",
       "        </style>\n",
       "      <progress value='4000' class='' max='4000' style='width:300px; height:20px; vertical-align: middle;'></progress>\n",
       "      100.00% [4000/4000 00:23<00:00 Sampling chain 1, 0 divergences]\n",
       "    </div>\n",
       "    "
      ],
      "text/plain": [
       "<IPython.core.display.HTML object>"
      ]
     },
     "metadata": {},
     "output_type": "display_data"
    },
    {
     "name": "stderr",
     "output_type": "stream",
     "text": [
      "Sampling 2 chains for 1_000 tune and 3_000 draw iterations (2_000 + 6_000 draws total) took 48 seconds.\n",
      "The estimated number of effective samples is smaller than 200 for some parameters.\n"
     ]
    },
    {
     "name": "stdout",
     "output_type": "stream",
     "text": [
      "[0. 0. 1. 0. 1. 0.]\n",
      "[140.   7. 153.   6. 135. 168.]\n",
      "[182. 155.  74. 100.  96.  98.]\n"
     ]
    },
    {
     "name": "stderr",
     "output_type": "stream",
     "text": [
      "Sequential sampling (2 chains in 1 job)\n",
      "CompoundStep\n",
      ">CompoundStep\n",
      ">>Metropolis: [married_a]\n",
      ">>Metropolis: [race_a]\n",
      ">>Metropolis: [educ_a]\n",
      ">>Metropolis: [sex_a]\n",
      ">>Metropolis: [age_a]\n",
      ">>Metropolis: [N]\n",
      ">NUTS: [income_a]\n"
     ]
    },
    {
     "data": {
      "text/html": [
       "\n",
       "    <div>\n",
       "        <style>\n",
       "            /* Turns off some styling */\n",
       "            progress {\n",
       "                /* gets rid of default border in Firefox and Opera. */\n",
       "                border: none;\n",
       "                /* Needs to be in here for Safari polyfill so background images work as expected. */\n",
       "                background-size: auto;\n",
       "            }\n",
       "            .progress-bar-interrupted, .progress-bar-interrupted::-webkit-progress-bar {\n",
       "                background: #F44336;\n",
       "            }\n",
       "        </style>\n",
       "      <progress value='4000' class='' max='4000' style='width:300px; height:20px; vertical-align: middle;'></progress>\n",
       "      100.00% [4000/4000 00:24<00:00 Sampling chain 0, 0 divergences]\n",
       "    </div>\n",
       "    "
      ],
      "text/plain": [
       "<IPython.core.display.HTML object>"
      ]
     },
     "metadata": {},
     "output_type": "display_data"
    },
    {
     "data": {
      "text/html": [
       "\n",
       "    <div>\n",
       "        <style>\n",
       "            /* Turns off some styling */\n",
       "            progress {\n",
       "                /* gets rid of default border in Firefox and Opera. */\n",
       "                border: none;\n",
       "                /* Needs to be in here for Safari polyfill so background images work as expected. */\n",
       "                background-size: auto;\n",
       "            }\n",
       "            .progress-bar-interrupted, .progress-bar-interrupted::-webkit-progress-bar {\n",
       "                background: #F44336;\n",
       "            }\n",
       "        </style>\n",
       "      <progress value='4000' class='' max='4000' style='width:300px; height:20px; vertical-align: middle;'></progress>\n",
       "      100.00% [4000/4000 00:24<00:00 Sampling chain 1, 0 divergences]\n",
       "    </div>\n",
       "    "
      ],
      "text/plain": [
       "<IPython.core.display.HTML object>"
      ]
     },
     "metadata": {},
     "output_type": "display_data"
    },
    {
     "name": "stderr",
     "output_type": "stream",
     "text": [
      "Sampling 2 chains for 1_000 tune and 3_000 draw iterations (2_000 + 6_000 draws total) took 49 seconds.\n",
      "The estimated number of effective samples is smaller than 200 for some parameters.\n"
     ]
    },
    {
     "name": "stdout",
     "output_type": "stream",
     "text": [
      "[0. 0. 0. 1. 0. 1.]\n",
      "[ 66. 151.  73.   1.  72.  88.]\n",
      "[153. 130. 177. 102. 160. 199.]\n"
     ]
    },
    {
     "name": "stderr",
     "output_type": "stream",
     "text": [
      "Sequential sampling (2 chains in 1 job)\n",
      "CompoundStep\n",
      ">CompoundStep\n",
      ">>Metropolis: [married_a]\n",
      ">>Metropolis: [race_a]\n",
      ">>Metropolis: [educ_a]\n",
      ">>Metropolis: [sex_a]\n",
      ">>Metropolis: [age_a]\n",
      ">>Metropolis: [N]\n",
      ">NUTS: [income_a]\n"
     ]
    },
    {
     "data": {
      "text/html": [
       "\n",
       "    <div>\n",
       "        <style>\n",
       "            /* Turns off some styling */\n",
       "            progress {\n",
       "                /* gets rid of default border in Firefox and Opera. */\n",
       "                border: none;\n",
       "                /* Needs to be in here for Safari polyfill so background images work as expected. */\n",
       "                background-size: auto;\n",
       "            }\n",
       "            .progress-bar-interrupted, .progress-bar-interrupted::-webkit-progress-bar {\n",
       "                background: #F44336;\n",
       "            }\n",
       "        </style>\n",
       "      <progress value='4000' class='' max='4000' style='width:300px; height:20px; vertical-align: middle;'></progress>\n",
       "      100.00% [4000/4000 00:28<00:00 Sampling chain 0, 0 divergences]\n",
       "    </div>\n",
       "    "
      ],
      "text/plain": [
       "<IPython.core.display.HTML object>"
      ]
     },
     "metadata": {},
     "output_type": "display_data"
    },
    {
     "data": {
      "text/html": [
       "\n",
       "    <div>\n",
       "        <style>\n",
       "            /* Turns off some styling */\n",
       "            progress {\n",
       "                /* gets rid of default border in Firefox and Opera. */\n",
       "                border: none;\n",
       "                /* Needs to be in here for Safari polyfill so background images work as expected. */\n",
       "                background-size: auto;\n",
       "            }\n",
       "            .progress-bar-interrupted, .progress-bar-interrupted::-webkit-progress-bar {\n",
       "                background: #F44336;\n",
       "            }\n",
       "        </style>\n",
       "      <progress value='4000' class='' max='4000' style='width:300px; height:20px; vertical-align: middle;'></progress>\n",
       "      100.00% [4000/4000 00:24<00:00 Sampling chain 1, 0 divergences]\n",
       "    </div>\n",
       "    "
      ],
      "text/plain": [
       "<IPython.core.display.HTML object>"
      ]
     },
     "metadata": {},
     "output_type": "display_data"
    },
    {
     "name": "stderr",
     "output_type": "stream",
     "text": [
      "Sampling 2 chains for 1_000 tune and 3_000 draw iterations (2_000 + 6_000 draws total) took 54 seconds.\n",
      "The estimated number of effective samples is smaller than 200 for some parameters.\n"
     ]
    },
    {
     "name": "stdout",
     "output_type": "stream",
     "text": [
      "[0. 1. 1. 0. 1. 0.]\n",
      "[ 21. 126.  48. 132. 182.  74.]\n",
      "[ 57.  32. 194. 115. 193. 172.]\n"
     ]
    },
    {
     "name": "stderr",
     "output_type": "stream",
     "text": [
      "Sequential sampling (2 chains in 1 job)\n",
      "CompoundStep\n",
      ">CompoundStep\n",
      ">>Metropolis: [married_a]\n",
      ">>Metropolis: [race_a]\n",
      ">>Metropolis: [educ_a]\n",
      ">>Metropolis: [sex_a]\n",
      ">>Metropolis: [age_a]\n",
      ">>Metropolis: [N]\n",
      ">NUTS: [income_a]\n"
     ]
    },
    {
     "data": {
      "text/html": [
       "\n",
       "    <div>\n",
       "        <style>\n",
       "            /* Turns off some styling */\n",
       "            progress {\n",
       "                /* gets rid of default border in Firefox and Opera. */\n",
       "                border: none;\n",
       "                /* Needs to be in here for Safari polyfill so background images work as expected. */\n",
       "                background-size: auto;\n",
       "            }\n",
       "            .progress-bar-interrupted, .progress-bar-interrupted::-webkit-progress-bar {\n",
       "                background: #F44336;\n",
       "            }\n",
       "        </style>\n",
       "      <progress value='4000' class='' max='4000' style='width:300px; height:20px; vertical-align: middle;'></progress>\n",
       "      100.00% [4000/4000 00:25<00:00 Sampling chain 0, 0 divergences]\n",
       "    </div>\n",
       "    "
      ],
      "text/plain": [
       "<IPython.core.display.HTML object>"
      ]
     },
     "metadata": {},
     "output_type": "display_data"
    },
    {
     "data": {
      "text/html": [
       "\n",
       "    <div>\n",
       "        <style>\n",
       "            /* Turns off some styling */\n",
       "            progress {\n",
       "                /* gets rid of default border in Firefox and Opera. */\n",
       "                border: none;\n",
       "                /* Needs to be in here for Safari polyfill so background images work as expected. */\n",
       "                background-size: auto;\n",
       "            }\n",
       "            .progress-bar-interrupted, .progress-bar-interrupted::-webkit-progress-bar {\n",
       "                background: #F44336;\n",
       "            }\n",
       "        </style>\n",
       "      <progress value='4000' class='' max='4000' style='width:300px; height:20px; vertical-align: middle;'></progress>\n",
       "      100.00% [4000/4000 00:24<00:00 Sampling chain 1, 0 divergences]\n",
       "    </div>\n",
       "    "
      ],
      "text/plain": [
       "<IPython.core.display.HTML object>"
      ]
     },
     "metadata": {},
     "output_type": "display_data"
    },
    {
     "name": "stderr",
     "output_type": "stream",
     "text": [
      "Sampling 2 chains for 1_000 tune and 3_000 draw iterations (2_000 + 6_000 draws total) took 50 seconds.\n",
      "The estimated number of effective samples is smaller than 200 for some parameters.\n"
     ]
    },
    {
     "name": "stdout",
     "output_type": "stream",
     "text": [
      "[1. 1. 1. 1. 1. 1.]\n",
      "[168.  27.  20.  14.  10.  56.]\n",
      "[195.  64.  27.  17.  95.  81.]\n"
     ]
    },
    {
     "name": "stderr",
     "output_type": "stream",
     "text": [
      "Sequential sampling (2 chains in 1 job)\n",
      "CompoundStep\n",
      ">CompoundStep\n",
      ">>Metropolis: [married_a]\n",
      ">>Metropolis: [race_a]\n",
      ">>Metropolis: [educ_a]\n",
      ">>Metropolis: [sex_a]\n",
      ">>Metropolis: [age_a]\n",
      ">>Metropolis: [N]\n",
      ">NUTS: [income_a]\n"
     ]
    },
    {
     "data": {
      "text/html": [
       "\n",
       "    <div>\n",
       "        <style>\n",
       "            /* Turns off some styling */\n",
       "            progress {\n",
       "                /* gets rid of default border in Firefox and Opera. */\n",
       "                border: none;\n",
       "                /* Needs to be in here for Safari polyfill so background images work as expected. */\n",
       "                background-size: auto;\n",
       "            }\n",
       "            .progress-bar-interrupted, .progress-bar-interrupted::-webkit-progress-bar {\n",
       "                background: #F44336;\n",
       "            }\n",
       "        </style>\n",
       "      <progress value='4000' class='' max='4000' style='width:300px; height:20px; vertical-align: middle;'></progress>\n",
       "      100.00% [4000/4000 00:23<00:00 Sampling chain 0, 0 divergences]\n",
       "    </div>\n",
       "    "
      ],
      "text/plain": [
       "<IPython.core.display.HTML object>"
      ]
     },
     "metadata": {},
     "output_type": "display_data"
    },
    {
     "data": {
      "text/html": [
       "\n",
       "    <div>\n",
       "        <style>\n",
       "            /* Turns off some styling */\n",
       "            progress {\n",
       "                /* gets rid of default border in Firefox and Opera. */\n",
       "                border: none;\n",
       "                /* Needs to be in here for Safari polyfill so background images work as expected. */\n",
       "                background-size: auto;\n",
       "            }\n",
       "            .progress-bar-interrupted, .progress-bar-interrupted::-webkit-progress-bar {\n",
       "                background: #F44336;\n",
       "            }\n",
       "        </style>\n",
       "      <progress value='4000' class='' max='4000' style='width:300px; height:20px; vertical-align: middle;'></progress>\n",
       "      100.00% [4000/4000 00:24<00:00 Sampling chain 1, 0 divergences]\n",
       "    </div>\n",
       "    "
      ],
      "text/plain": [
       "<IPython.core.display.HTML object>"
      ]
     },
     "metadata": {},
     "output_type": "display_data"
    },
    {
     "name": "stderr",
     "output_type": "stream",
     "text": [
      "Sampling 2 chains for 1_000 tune and 3_000 draw iterations (2_000 + 6_000 draws total) took 49 seconds.\n",
      "The estimated number of effective samples is smaller than 200 for some parameters.\n"
     ]
    },
    {
     "name": "stdout",
     "output_type": "stream",
     "text": [
      "[1. 0. 1. 0. 1. 1.]\n",
      "[174.  50.  99. 167.  31.  86.]\n",
      "[ 95.  71.  96. 179. 126. 151.]\n"
     ]
    },
    {
     "name": "stderr",
     "output_type": "stream",
     "text": [
      "Sequential sampling (2 chains in 1 job)\n",
      "CompoundStep\n",
      ">CompoundStep\n",
      ">>Metropolis: [married_a]\n",
      ">>Metropolis: [race_a]\n",
      ">>Metropolis: [educ_a]\n",
      ">>Metropolis: [sex_a]\n",
      ">>Metropolis: [age_a]\n",
      ">>Metropolis: [N]\n",
      ">NUTS: [income_a]\n"
     ]
    },
    {
     "data": {
      "text/html": [
       "\n",
       "    <div>\n",
       "        <style>\n",
       "            /* Turns off some styling */\n",
       "            progress {\n",
       "                /* gets rid of default border in Firefox and Opera. */\n",
       "                border: none;\n",
       "                /* Needs to be in here for Safari polyfill so background images work as expected. */\n",
       "                background-size: auto;\n",
       "            }\n",
       "            .progress-bar-interrupted, .progress-bar-interrupted::-webkit-progress-bar {\n",
       "                background: #F44336;\n",
       "            }\n",
       "        </style>\n",
       "      <progress value='4000' class='' max='4000' style='width:300px; height:20px; vertical-align: middle;'></progress>\n",
       "      100.00% [4000/4000 00:23<00:00 Sampling chain 0, 0 divergences]\n",
       "    </div>\n",
       "    "
      ],
      "text/plain": [
       "<IPython.core.display.HTML object>"
      ]
     },
     "metadata": {},
     "output_type": "display_data"
    },
    {
     "data": {
      "text/html": [
       "\n",
       "    <div>\n",
       "        <style>\n",
       "            /* Turns off some styling */\n",
       "            progress {\n",
       "                /* gets rid of default border in Firefox and Opera. */\n",
       "                border: none;\n",
       "                /* Needs to be in here for Safari polyfill so background images work as expected. */\n",
       "                background-size: auto;\n",
       "            }\n",
       "            .progress-bar-interrupted, .progress-bar-interrupted::-webkit-progress-bar {\n",
       "                background: #F44336;\n",
       "            }\n",
       "        </style>\n",
       "      <progress value='4000' class='' max='4000' style='width:300px; height:20px; vertical-align: middle;'></progress>\n",
       "      100.00% [4000/4000 00:25<00:00 Sampling chain 1, 0 divergences]\n",
       "    </div>\n",
       "    "
      ],
      "text/plain": [
       "<IPython.core.display.HTML object>"
      ]
     },
     "metadata": {},
     "output_type": "display_data"
    },
    {
     "name": "stderr",
     "output_type": "stream",
     "text": [
      "Sampling 2 chains for 1_000 tune and 3_000 draw iterations (2_000 + 6_000 draws total) took 50 seconds.\n",
      "The estimated number of effective samples is smaller than 200 for some parameters.\n"
     ]
    },
    {
     "name": "stdout",
     "output_type": "stream",
     "text": [
      "[0. 1. 0. 0. 0. 1.]\n",
      "[ 60. 158.  40. 120. 149.  22.]\n",
      "[ 42. 156. 140.   2. 123. 145.]\n"
     ]
    },
    {
     "name": "stderr",
     "output_type": "stream",
     "text": [
      "Sequential sampling (2 chains in 1 job)\n",
      "CompoundStep\n",
      ">CompoundStep\n",
      ">>Metropolis: [married_a]\n",
      ">>Metropolis: [race_a]\n",
      ">>Metropolis: [educ_a]\n",
      ">>Metropolis: [sex_a]\n",
      ">>Metropolis: [age_a]\n",
      ">>Metropolis: [N]\n",
      ">NUTS: [income_a]\n"
     ]
    },
    {
     "data": {
      "text/html": [
       "\n",
       "    <div>\n",
       "        <style>\n",
       "            /* Turns off some styling */\n",
       "            progress {\n",
       "                /* gets rid of default border in Firefox and Opera. */\n",
       "                border: none;\n",
       "                /* Needs to be in here for Safari polyfill so background images work as expected. */\n",
       "                background-size: auto;\n",
       "            }\n",
       "            .progress-bar-interrupted, .progress-bar-interrupted::-webkit-progress-bar {\n",
       "                background: #F44336;\n",
       "            }\n",
       "        </style>\n",
       "      <progress value='4000' class='' max='4000' style='width:300px; height:20px; vertical-align: middle;'></progress>\n",
       "      100.00% [4000/4000 00:24<00:00 Sampling chain 0, 0 divergences]\n",
       "    </div>\n",
       "    "
      ],
      "text/plain": [
       "<IPython.core.display.HTML object>"
      ]
     },
     "metadata": {},
     "output_type": "display_data"
    },
    {
     "data": {
      "text/html": [
       "\n",
       "    <div>\n",
       "        <style>\n",
       "            /* Turns off some styling */\n",
       "            progress {\n",
       "                /* gets rid of default border in Firefox and Opera. */\n",
       "                border: none;\n",
       "                /* Needs to be in here for Safari polyfill so background images work as expected. */\n",
       "                background-size: auto;\n",
       "            }\n",
       "            .progress-bar-interrupted, .progress-bar-interrupted::-webkit-progress-bar {\n",
       "                background: #F44336;\n",
       "            }\n",
       "        </style>\n",
       "      <progress value='4000' class='' max='4000' style='width:300px; height:20px; vertical-align: middle;'></progress>\n",
       "      100.00% [4000/4000 00:24<00:00 Sampling chain 1, 0 divergences]\n",
       "    </div>\n",
       "    "
      ],
      "text/plain": [
       "<IPython.core.display.HTML object>"
      ]
     },
     "metadata": {},
     "output_type": "display_data"
    },
    {
     "name": "stderr",
     "output_type": "stream",
     "text": [
      "Sampling 2 chains for 1_000 tune and 3_000 draw iterations (2_000 + 6_000 draws total) took 49 seconds.\n",
      "The estimated number of effective samples is smaller than 200 for some parameters.\n"
     ]
    },
    {
     "name": "stdout",
     "output_type": "stream",
     "text": [
      "[0. 0. 1. 1. 1. 1.]\n",
      "[130.  37.  85. 130. 107.  91.]\n",
      "[ 58. 116. 183. 104. 179. 112.]\n"
     ]
    },
    {
     "name": "stderr",
     "output_type": "stream",
     "text": [
      "Sequential sampling (2 chains in 1 job)\n",
      "CompoundStep\n",
      ">CompoundStep\n",
      ">>Metropolis: [married_a]\n",
      ">>Metropolis: [race_a]\n",
      ">>Metropolis: [educ_a]\n",
      ">>Metropolis: [sex_a]\n",
      ">>Metropolis: [age_a]\n",
      ">>Metropolis: [N]\n",
      ">NUTS: [income_a]\n"
     ]
    },
    {
     "data": {
      "text/html": [
       "\n",
       "    <div>\n",
       "        <style>\n",
       "            /* Turns off some styling */\n",
       "            progress {\n",
       "                /* gets rid of default border in Firefox and Opera. */\n",
       "                border: none;\n",
       "                /* Needs to be in here for Safari polyfill so background images work as expected. */\n",
       "                background-size: auto;\n",
       "            }\n",
       "            .progress-bar-interrupted, .progress-bar-interrupted::-webkit-progress-bar {\n",
       "                background: #F44336;\n",
       "            }\n",
       "        </style>\n",
       "      <progress value='4000' class='' max='4000' style='width:300px; height:20px; vertical-align: middle;'></progress>\n",
       "      100.00% [4000/4000 00:24<00:00 Sampling chain 0, 0 divergences]\n",
       "    </div>\n",
       "    "
      ],
      "text/plain": [
       "<IPython.core.display.HTML object>"
      ]
     },
     "metadata": {},
     "output_type": "display_data"
    },
    {
     "data": {
      "text/html": [
       "\n",
       "    <div>\n",
       "        <style>\n",
       "            /* Turns off some styling */\n",
       "            progress {\n",
       "                /* gets rid of default border in Firefox and Opera. */\n",
       "                border: none;\n",
       "                /* Needs to be in here for Safari polyfill so background images work as expected. */\n",
       "                background-size: auto;\n",
       "            }\n",
       "            .progress-bar-interrupted, .progress-bar-interrupted::-webkit-progress-bar {\n",
       "                background: #F44336;\n",
       "            }\n",
       "        </style>\n",
       "      <progress value='4000' class='' max='4000' style='width:300px; height:20px; vertical-align: middle;'></progress>\n",
       "      100.00% [4000/4000 00:24<00:00 Sampling chain 1, 0 divergences]\n",
       "    </div>\n",
       "    "
      ],
      "text/plain": [
       "<IPython.core.display.HTML object>"
      ]
     },
     "metadata": {},
     "output_type": "display_data"
    },
    {
     "name": "stderr",
     "output_type": "stream",
     "text": [
      "Sampling 2 chains for 1_000 tune and 3_000 draw iterations (2_000 + 6_000 draws total) took 49 seconds.\n",
      "The estimated number of effective samples is smaller than 200 for some parameters.\n"
     ]
    },
    {
     "name": "stdout",
     "output_type": "stream",
     "text": [
      "[1. 1. 0. 0. 1. 1.]\n",
      "[190. 101. 137. 125.  99.  92.]\n",
      "[ 39.  70. 145.   7. 116.  34.]\n"
     ]
    },
    {
     "name": "stderr",
     "output_type": "stream",
     "text": [
      "Sequential sampling (2 chains in 1 job)\n",
      "CompoundStep\n",
      ">CompoundStep\n",
      ">>Metropolis: [married_a]\n",
      ">>Metropolis: [race_a]\n",
      ">>Metropolis: [educ_a]\n",
      ">>Metropolis: [sex_a]\n",
      ">>Metropolis: [age_a]\n",
      ">>Metropolis: [N]\n",
      ">NUTS: [income_a]\n"
     ]
    },
    {
     "data": {
      "text/html": [
       "\n",
       "    <div>\n",
       "        <style>\n",
       "            /* Turns off some styling */\n",
       "            progress {\n",
       "                /* gets rid of default border in Firefox and Opera. */\n",
       "                border: none;\n",
       "                /* Needs to be in here for Safari polyfill so background images work as expected. */\n",
       "                background-size: auto;\n",
       "            }\n",
       "            .progress-bar-interrupted, .progress-bar-interrupted::-webkit-progress-bar {\n",
       "                background: #F44336;\n",
       "            }\n",
       "        </style>\n",
       "      <progress value='4000' class='' max='4000' style='width:300px; height:20px; vertical-align: middle;'></progress>\n",
       "      100.00% [4000/4000 00:25<00:00 Sampling chain 0, 0 divergences]\n",
       "    </div>\n",
       "    "
      ],
      "text/plain": [
       "<IPython.core.display.HTML object>"
      ]
     },
     "metadata": {},
     "output_type": "display_data"
    },
    {
     "data": {
      "text/html": [
       "\n",
       "    <div>\n",
       "        <style>\n",
       "            /* Turns off some styling */\n",
       "            progress {\n",
       "                /* gets rid of default border in Firefox and Opera. */\n",
       "                border: none;\n",
       "                /* Needs to be in here for Safari polyfill so background images work as expected. */\n",
       "                background-size: auto;\n",
       "            }\n",
       "            .progress-bar-interrupted, .progress-bar-interrupted::-webkit-progress-bar {\n",
       "                background: #F44336;\n",
       "            }\n",
       "        </style>\n",
       "      <progress value='4000' class='' max='4000' style='width:300px; height:20px; vertical-align: middle;'></progress>\n",
       "      100.00% [4000/4000 00:23<00:00 Sampling chain 1, 0 divergences]\n",
       "    </div>\n",
       "    "
      ],
      "text/plain": [
       "<IPython.core.display.HTML object>"
      ]
     },
     "metadata": {},
     "output_type": "display_data"
    },
    {
     "name": "stderr",
     "output_type": "stream",
     "text": [
      "Sampling 2 chains for 1_000 tune and 3_000 draw iterations (2_000 + 6_000 draws total) took 49 seconds.\n",
      "The estimated number of effective samples is smaller than 200 for some parameters.\n"
     ]
    },
    {
     "name": "stdout",
     "output_type": "stream",
     "text": [
      "[1. 1. 1. 0. 1. 1.]\n",
      "[ 17. 117. 172.  78.   9.  27.]\n",
      "[ 84. 180.  92.  11. 197. 127.]\n"
     ]
    },
    {
     "name": "stderr",
     "output_type": "stream",
     "text": [
      "Sequential sampling (2 chains in 1 job)\n",
      "CompoundStep\n",
      ">CompoundStep\n",
      ">>Metropolis: [married_a]\n",
      ">>Metropolis: [race_a]\n",
      ">>Metropolis: [educ_a]\n",
      ">>Metropolis: [sex_a]\n",
      ">>Metropolis: [age_a]\n",
      ">>Metropolis: [N]\n",
      ">NUTS: [income_a]\n"
     ]
    },
    {
     "data": {
      "text/html": [
       "\n",
       "    <div>\n",
       "        <style>\n",
       "            /* Turns off some styling */\n",
       "            progress {\n",
       "                /* gets rid of default border in Firefox and Opera. */\n",
       "                border: none;\n",
       "                /* Needs to be in here for Safari polyfill so background images work as expected. */\n",
       "                background-size: auto;\n",
       "            }\n",
       "            .progress-bar-interrupted, .progress-bar-interrupted::-webkit-progress-bar {\n",
       "                background: #F44336;\n",
       "            }\n",
       "        </style>\n",
       "      <progress value='4000' class='' max='4000' style='width:300px; height:20px; vertical-align: middle;'></progress>\n",
       "      100.00% [4000/4000 00:23<00:00 Sampling chain 0, 0 divergences]\n",
       "    </div>\n",
       "    "
      ],
      "text/plain": [
       "<IPython.core.display.HTML object>"
      ]
     },
     "metadata": {},
     "output_type": "display_data"
    },
    {
     "data": {
      "text/html": [
       "\n",
       "    <div>\n",
       "        <style>\n",
       "            /* Turns off some styling */\n",
       "            progress {\n",
       "                /* gets rid of default border in Firefox and Opera. */\n",
       "                border: none;\n",
       "                /* Needs to be in here for Safari polyfill so background images work as expected. */\n",
       "                background-size: auto;\n",
       "            }\n",
       "            .progress-bar-interrupted, .progress-bar-interrupted::-webkit-progress-bar {\n",
       "                background: #F44336;\n",
       "            }\n",
       "        </style>\n",
       "      <progress value='4000' class='' max='4000' style='width:300px; height:20px; vertical-align: middle;'></progress>\n",
       "      100.00% [4000/4000 00:23<00:00 Sampling chain 1, 0 divergences]\n",
       "    </div>\n",
       "    "
      ],
      "text/plain": [
       "<IPython.core.display.HTML object>"
      ]
     },
     "metadata": {},
     "output_type": "display_data"
    },
    {
     "name": "stderr",
     "output_type": "stream",
     "text": [
      "Sampling 2 chains for 1_000 tune and 3_000 draw iterations (2_000 + 6_000 draws total) took 48 seconds.\n",
      "The estimated number of effective samples is smaller than 200 for some parameters.\n"
     ]
    },
    {
     "name": "stdout",
     "output_type": "stream",
     "text": [
      "[1. 0. 0. 0. 0. 0.]\n",
      "[ 71. 111. 128. 174.  66. 178.]\n",
      "[ 85.  53.   3.  98. 142.  36.]\n"
     ]
    },
    {
     "name": "stderr",
     "output_type": "stream",
     "text": [
      "Sequential sampling (2 chains in 1 job)\n",
      "CompoundStep\n",
      ">CompoundStep\n",
      ">>Metropolis: [married_a]\n",
      ">>Metropolis: [race_a]\n",
      ">>Metropolis: [educ_a]\n",
      ">>Metropolis: [sex_a]\n",
      ">>Metropolis: [age_a]\n",
      ">>Metropolis: [N]\n",
      ">NUTS: [income_a]\n"
     ]
    },
    {
     "data": {
      "text/html": [
       "\n",
       "    <div>\n",
       "        <style>\n",
       "            /* Turns off some styling */\n",
       "            progress {\n",
       "                /* gets rid of default border in Firefox and Opera. */\n",
       "                border: none;\n",
       "                /* Needs to be in here for Safari polyfill so background images work as expected. */\n",
       "                background-size: auto;\n",
       "            }\n",
       "            .progress-bar-interrupted, .progress-bar-interrupted::-webkit-progress-bar {\n",
       "                background: #F44336;\n",
       "            }\n",
       "        </style>\n",
       "      <progress value='4000' class='' max='4000' style='width:300px; height:20px; vertical-align: middle;'></progress>\n",
       "      100.00% [4000/4000 00:24<00:00 Sampling chain 0, 0 divergences]\n",
       "    </div>\n",
       "    "
      ],
      "text/plain": [
       "<IPython.core.display.HTML object>"
      ]
     },
     "metadata": {},
     "output_type": "display_data"
    },
    {
     "data": {
      "text/html": [
       "\n",
       "    <div>\n",
       "        <style>\n",
       "            /* Turns off some styling */\n",
       "            progress {\n",
       "                /* gets rid of default border in Firefox and Opera. */\n",
       "                border: none;\n",
       "                /* Needs to be in here for Safari polyfill so background images work as expected. */\n",
       "                background-size: auto;\n",
       "            }\n",
       "            .progress-bar-interrupted, .progress-bar-interrupted::-webkit-progress-bar {\n",
       "                background: #F44336;\n",
       "            }\n",
       "        </style>\n",
       "      <progress value='4000' class='' max='4000' style='width:300px; height:20px; vertical-align: middle;'></progress>\n",
       "      100.00% [4000/4000 00:24<00:00 Sampling chain 1, 0 divergences]\n",
       "    </div>\n",
       "    "
      ],
      "text/plain": [
       "<IPython.core.display.HTML object>"
      ]
     },
     "metadata": {},
     "output_type": "display_data"
    },
    {
     "name": "stderr",
     "output_type": "stream",
     "text": [
      "Sampling 2 chains for 1_000 tune and 3_000 draw iterations (2_000 + 6_000 draws total) took 49 seconds.\n",
      "The estimated number of effective samples is smaller than 200 for some parameters.\n"
     ]
    },
    {
     "name": "stdout",
     "output_type": "stream",
     "text": [
      "[0. 0. 0. 0. 1. 0.]\n",
      "[ 79. 127. 162. 158. 136. 102.]\n",
      "[ 51. 185.  16. 130.  50. 170.]\n"
     ]
    },
    {
     "name": "stderr",
     "output_type": "stream",
     "text": [
      "Sequential sampling (2 chains in 1 job)\n",
      "CompoundStep\n",
      ">CompoundStep\n",
      ">>Metropolis: [married_a]\n",
      ">>Metropolis: [race_a]\n",
      ">>Metropolis: [educ_a]\n",
      ">>Metropolis: [sex_a]\n",
      ">>Metropolis: [age_a]\n",
      ">>Metropolis: [N]\n",
      ">NUTS: [income_a]\n"
     ]
    },
    {
     "data": {
      "text/html": [
       "\n",
       "    <div>\n",
       "        <style>\n",
       "            /* Turns off some styling */\n",
       "            progress {\n",
       "                /* gets rid of default border in Firefox and Opera. */\n",
       "                border: none;\n",
       "                /* Needs to be in here for Safari polyfill so background images work as expected. */\n",
       "                background-size: auto;\n",
       "            }\n",
       "            .progress-bar-interrupted, .progress-bar-interrupted::-webkit-progress-bar {\n",
       "                background: #F44336;\n",
       "            }\n",
       "        </style>\n",
       "      <progress value='4000' class='' max='4000' style='width:300px; height:20px; vertical-align: middle;'></progress>\n",
       "      100.00% [4000/4000 00:24<00:00 Sampling chain 0, 0 divergences]\n",
       "    </div>\n",
       "    "
      ],
      "text/plain": [
       "<IPython.core.display.HTML object>"
      ]
     },
     "metadata": {},
     "output_type": "display_data"
    },
    {
     "data": {
      "text/html": [
       "\n",
       "    <div>\n",
       "        <style>\n",
       "            /* Turns off some styling */\n",
       "            progress {\n",
       "                /* gets rid of default border in Firefox and Opera. */\n",
       "                border: none;\n",
       "                /* Needs to be in here for Safari polyfill so background images work as expected. */\n",
       "                background-size: auto;\n",
       "            }\n",
       "            .progress-bar-interrupted, .progress-bar-interrupted::-webkit-progress-bar {\n",
       "                background: #F44336;\n",
       "            }\n",
       "        </style>\n",
       "      <progress value='4000' class='' max='4000' style='width:300px; height:20px; vertical-align: middle;'></progress>\n",
       "      100.00% [4000/4000 00:25<00:00 Sampling chain 1, 0 divergences]\n",
       "    </div>\n",
       "    "
      ],
      "text/plain": [
       "<IPython.core.display.HTML object>"
      ]
     },
     "metadata": {},
     "output_type": "display_data"
    },
    {
     "name": "stderr",
     "output_type": "stream",
     "text": [
      "Sampling 2 chains for 1_000 tune and 3_000 draw iterations (2_000 + 6_000 draws total) took 50 seconds.\n",
      "The estimated number of effective samples is smaller than 200 for some parameters.\n"
     ]
    },
    {
     "name": "stdout",
     "output_type": "stream",
     "text": [
      "[0. 1. 1. 1. 1. 1.]\n",
      "[131.  39.  84.  38.  89.  55.]\n",
      "[105. 123. 176.  64. 113.  54.]\n"
     ]
    },
    {
     "name": "stderr",
     "output_type": "stream",
     "text": [
      "Sequential sampling (2 chains in 1 job)\n",
      "CompoundStep\n",
      ">CompoundStep\n",
      ">>Metropolis: [married_a]\n",
      ">>Metropolis: [race_a]\n",
      ">>Metropolis: [educ_a]\n",
      ">>Metropolis: [sex_a]\n",
      ">>Metropolis: [age_a]\n",
      ">>Metropolis: [N]\n",
      ">NUTS: [income_a]\n"
     ]
    },
    {
     "data": {
      "text/html": [
       "\n",
       "    <div>\n",
       "        <style>\n",
       "            /* Turns off some styling */\n",
       "            progress {\n",
       "                /* gets rid of default border in Firefox and Opera. */\n",
       "                border: none;\n",
       "                /* Needs to be in here for Safari polyfill so background images work as expected. */\n",
       "                background-size: auto;\n",
       "            }\n",
       "            .progress-bar-interrupted, .progress-bar-interrupted::-webkit-progress-bar {\n",
       "                background: #F44336;\n",
       "            }\n",
       "        </style>\n",
       "      <progress value='4000' class='' max='4000' style='width:300px; height:20px; vertical-align: middle;'></progress>\n",
       "      100.00% [4000/4000 00:24<00:00 Sampling chain 0, 0 divergences]\n",
       "    </div>\n",
       "    "
      ],
      "text/plain": [
       "<IPython.core.display.HTML object>"
      ]
     },
     "metadata": {},
     "output_type": "display_data"
    },
    {
     "data": {
      "text/html": [
       "\n",
       "    <div>\n",
       "        <style>\n",
       "            /* Turns off some styling */\n",
       "            progress {\n",
       "                /* gets rid of default border in Firefox and Opera. */\n",
       "                border: none;\n",
       "                /* Needs to be in here for Safari polyfill so background images work as expected. */\n",
       "                background-size: auto;\n",
       "            }\n",
       "            .progress-bar-interrupted, .progress-bar-interrupted::-webkit-progress-bar {\n",
       "                background: #F44336;\n",
       "            }\n",
       "        </style>\n",
       "      <progress value='4000' class='' max='4000' style='width:300px; height:20px; vertical-align: middle;'></progress>\n",
       "      100.00% [4000/4000 00:25<00:00 Sampling chain 1, 0 divergences]\n",
       "    </div>\n",
       "    "
      ],
      "text/plain": [
       "<IPython.core.display.HTML object>"
      ]
     },
     "metadata": {},
     "output_type": "display_data"
    },
    {
     "name": "stderr",
     "output_type": "stream",
     "text": [
      "Sampling 2 chains for 1_000 tune and 3_000 draw iterations (2_000 + 6_000 draws total) took 50 seconds.\n",
      "The estimated number of effective samples is smaller than 200 for some parameters.\n"
     ]
    },
    {
     "name": "stdout",
     "output_type": "stream",
     "text": [
      "====================\n",
      "Value of (x,y) that minimises the objective:[2.00000000e+00 1.45413810e+02 2.15698075e-04 0.00000000e+00\n",
      " 0.00000000e+00 0.00000000e+00 1.00000000e+00 0.00000000e+00\n",
      " 0.00000000e+00 7.80000000e+01 7.00000000e+00 4.20000000e+01\n",
      " 5.50000000e+01 7.60000000e+01 3.10000000e+01 1.28000000e+02\n",
      " 1.36000000e+02 1.24000000e+02 1.02000000e+02 1.36000000e+02\n",
      " 1.49000000e+02]\n",
      "Minimum value of the objective: -0.07462770202493996\n",
      "====================\n"
     ]
    },
    {
     "data": {
      "application/javascript": [
       "/* Put everything inside the global mpl namespace */\n",
       "/* global mpl */\n",
       "window.mpl = {};\n",
       "\n",
       "mpl.get_websocket_type = function () {\n",
       "    if (typeof WebSocket !== 'undefined') {\n",
       "        return WebSocket;\n",
       "    } else if (typeof MozWebSocket !== 'undefined') {\n",
       "        return MozWebSocket;\n",
       "    } else {\n",
       "        alert(\n",
       "            'Your browser does not have WebSocket support. ' +\n",
       "                'Please try Chrome, Safari or Firefox ≥ 6. ' +\n",
       "                'Firefox 4 and 5 are also supported but you ' +\n",
       "                'have to enable WebSockets in about:config.'\n",
       "        );\n",
       "    }\n",
       "};\n",
       "\n",
       "mpl.figure = function (figure_id, websocket, ondownload, parent_element) {\n",
       "    this.id = figure_id;\n",
       "\n",
       "    this.ws = websocket;\n",
       "\n",
       "    this.supports_binary = this.ws.binaryType !== undefined;\n",
       "\n",
       "    if (!this.supports_binary) {\n",
       "        var warnings = document.getElementById('mpl-warnings');\n",
       "        if (warnings) {\n",
       "            warnings.style.display = 'block';\n",
       "            warnings.textContent =\n",
       "                'This browser does not support binary websocket messages. ' +\n",
       "                'Performance may be slow.';\n",
       "        }\n",
       "    }\n",
       "\n",
       "    this.imageObj = new Image();\n",
       "\n",
       "    this.context = undefined;\n",
       "    this.message = undefined;\n",
       "    this.canvas = undefined;\n",
       "    this.rubberband_canvas = undefined;\n",
       "    this.rubberband_context = undefined;\n",
       "    this.format_dropdown = undefined;\n",
       "\n",
       "    this.image_mode = 'full';\n",
       "\n",
       "    this.root = document.createElement('div');\n",
       "    this.root.setAttribute('style', 'display: inline-block');\n",
       "    this._root_extra_style(this.root);\n",
       "\n",
       "    parent_element.appendChild(this.root);\n",
       "\n",
       "    this._init_header(this);\n",
       "    this._init_canvas(this);\n",
       "    this._init_toolbar(this);\n",
       "\n",
       "    var fig = this;\n",
       "\n",
       "    this.waiting = false;\n",
       "\n",
       "    this.ws.onopen = function () {\n",
       "        fig.send_message('supports_binary', { value: fig.supports_binary });\n",
       "        fig.send_message('send_image_mode', {});\n",
       "        if (fig.ratio !== 1) {\n",
       "            fig.send_message('set_dpi_ratio', { dpi_ratio: fig.ratio });\n",
       "        }\n",
       "        fig.send_message('refresh', {});\n",
       "    };\n",
       "\n",
       "    this.imageObj.onload = function () {\n",
       "        if (fig.image_mode === 'full') {\n",
       "            // Full images could contain transparency (where diff images\n",
       "            // almost always do), so we need to clear the canvas so that\n",
       "            // there is no ghosting.\n",
       "            fig.context.clearRect(0, 0, fig.canvas.width, fig.canvas.height);\n",
       "        }\n",
       "        fig.context.drawImage(fig.imageObj, 0, 0);\n",
       "    };\n",
       "\n",
       "    this.imageObj.onunload = function () {\n",
       "        fig.ws.close();\n",
       "    };\n",
       "\n",
       "    this.ws.onmessage = this._make_on_message_function(this);\n",
       "\n",
       "    this.ondownload = ondownload;\n",
       "};\n",
       "\n",
       "mpl.figure.prototype._init_header = function () {\n",
       "    var titlebar = document.createElement('div');\n",
       "    titlebar.classList =\n",
       "        'ui-dialog-titlebar ui-widget-header ui-corner-all ui-helper-clearfix';\n",
       "    var titletext = document.createElement('div');\n",
       "    titletext.classList = 'ui-dialog-title';\n",
       "    titletext.setAttribute(\n",
       "        'style',\n",
       "        'width: 100%; text-align: center; padding: 3px;'\n",
       "    );\n",
       "    titlebar.appendChild(titletext);\n",
       "    this.root.appendChild(titlebar);\n",
       "    this.header = titletext;\n",
       "};\n",
       "\n",
       "mpl.figure.prototype._canvas_extra_style = function (_canvas_div) {};\n",
       "\n",
       "mpl.figure.prototype._root_extra_style = function (_canvas_div) {};\n",
       "\n",
       "mpl.figure.prototype._init_canvas = function () {\n",
       "    var fig = this;\n",
       "\n",
       "    var canvas_div = (this.canvas_div = document.createElement('div'));\n",
       "    canvas_div.setAttribute(\n",
       "        'style',\n",
       "        'border: 1px solid #ddd;' +\n",
       "            'box-sizing: content-box;' +\n",
       "            'clear: both;' +\n",
       "            'min-height: 1px;' +\n",
       "            'min-width: 1px;' +\n",
       "            'outline: 0;' +\n",
       "            'overflow: hidden;' +\n",
       "            'position: relative;' +\n",
       "            'resize: both;'\n",
       "    );\n",
       "\n",
       "    function on_keyboard_event_closure(name) {\n",
       "        return function (event) {\n",
       "            return fig.key_event(event, name);\n",
       "        };\n",
       "    }\n",
       "\n",
       "    canvas_div.addEventListener(\n",
       "        'keydown',\n",
       "        on_keyboard_event_closure('key_press')\n",
       "    );\n",
       "    canvas_div.addEventListener(\n",
       "        'keyup',\n",
       "        on_keyboard_event_closure('key_release')\n",
       "    );\n",
       "\n",
       "    this._canvas_extra_style(canvas_div);\n",
       "    this.root.appendChild(canvas_div);\n",
       "\n",
       "    var canvas = (this.canvas = document.createElement('canvas'));\n",
       "    canvas.classList.add('mpl-canvas');\n",
       "    canvas.setAttribute('style', 'box-sizing: content-box;');\n",
       "\n",
       "    this.context = canvas.getContext('2d');\n",
       "\n",
       "    var backingStore =\n",
       "        this.context.backingStorePixelRatio ||\n",
       "        this.context.webkitBackingStorePixelRatio ||\n",
       "        this.context.mozBackingStorePixelRatio ||\n",
       "        this.context.msBackingStorePixelRatio ||\n",
       "        this.context.oBackingStorePixelRatio ||\n",
       "        this.context.backingStorePixelRatio ||\n",
       "        1;\n",
       "\n",
       "    this.ratio = (window.devicePixelRatio || 1) / backingStore;\n",
       "    if (this.ratio !== 1) {\n",
       "        fig.send_message('set_dpi_ratio', { dpi_ratio: this.ratio });\n",
       "    }\n",
       "\n",
       "    var rubberband_canvas = (this.rubberband_canvas = document.createElement(\n",
       "        'canvas'\n",
       "    ));\n",
       "    rubberband_canvas.setAttribute(\n",
       "        'style',\n",
       "        'box-sizing: content-box; position: absolute; left: 0; top: 0; z-index: 1;'\n",
       "    );\n",
       "\n",
       "    var resizeObserver = new ResizeObserver(function (entries) {\n",
       "        var nentries = entries.length;\n",
       "        for (var i = 0; i < nentries; i++) {\n",
       "            var entry = entries[i];\n",
       "            var width, height;\n",
       "            if (entry.contentBoxSize) {\n",
       "                if (entry.contentBoxSize instanceof Array) {\n",
       "                    // Chrome 84 implements new version of spec.\n",
       "                    width = entry.contentBoxSize[0].inlineSize;\n",
       "                    height = entry.contentBoxSize[0].blockSize;\n",
       "                } else {\n",
       "                    // Firefox implements old version of spec.\n",
       "                    width = entry.contentBoxSize.inlineSize;\n",
       "                    height = entry.contentBoxSize.blockSize;\n",
       "                }\n",
       "            } else {\n",
       "                // Chrome <84 implements even older version of spec.\n",
       "                width = entry.contentRect.width;\n",
       "                height = entry.contentRect.height;\n",
       "            }\n",
       "\n",
       "            // Keep the size of the canvas and rubber band canvas in sync with\n",
       "            // the canvas container.\n",
       "            if (entry.devicePixelContentBoxSize) {\n",
       "                // Chrome 84 implements new version of spec.\n",
       "                canvas.setAttribute(\n",
       "                    'width',\n",
       "                    entry.devicePixelContentBoxSize[0].inlineSize\n",
       "                );\n",
       "                canvas.setAttribute(\n",
       "                    'height',\n",
       "                    entry.devicePixelContentBoxSize[0].blockSize\n",
       "                );\n",
       "            } else {\n",
       "                canvas.setAttribute('width', width * fig.ratio);\n",
       "                canvas.setAttribute('height', height * fig.ratio);\n",
       "            }\n",
       "            canvas.setAttribute(\n",
       "                'style',\n",
       "                'width: ' + width + 'px; height: ' + height + 'px;'\n",
       "            );\n",
       "\n",
       "            rubberband_canvas.setAttribute('width', width);\n",
       "            rubberband_canvas.setAttribute('height', height);\n",
       "\n",
       "            // And update the size in Python. We ignore the initial 0/0 size\n",
       "            // that occurs as the element is placed into the DOM, which should\n",
       "            // otherwise not happen due to the minimum size styling.\n",
       "            if (width != 0 && height != 0) {\n",
       "                fig.request_resize(width, height);\n",
       "            }\n",
       "        }\n",
       "    });\n",
       "    resizeObserver.observe(canvas_div);\n",
       "\n",
       "    function on_mouse_event_closure(name) {\n",
       "        return function (event) {\n",
       "            return fig.mouse_event(event, name);\n",
       "        };\n",
       "    }\n",
       "\n",
       "    rubberband_canvas.addEventListener(\n",
       "        'mousedown',\n",
       "        on_mouse_event_closure('button_press')\n",
       "    );\n",
       "    rubberband_canvas.addEventListener(\n",
       "        'mouseup',\n",
       "        on_mouse_event_closure('button_release')\n",
       "    );\n",
       "    // Throttle sequential mouse events to 1 every 20ms.\n",
       "    rubberband_canvas.addEventListener(\n",
       "        'mousemove',\n",
       "        on_mouse_event_closure('motion_notify')\n",
       "    );\n",
       "\n",
       "    rubberband_canvas.addEventListener(\n",
       "        'mouseenter',\n",
       "        on_mouse_event_closure('figure_enter')\n",
       "    );\n",
       "    rubberband_canvas.addEventListener(\n",
       "        'mouseleave',\n",
       "        on_mouse_event_closure('figure_leave')\n",
       "    );\n",
       "\n",
       "    canvas_div.addEventListener('wheel', function (event) {\n",
       "        if (event.deltaY < 0) {\n",
       "            event.step = 1;\n",
       "        } else {\n",
       "            event.step = -1;\n",
       "        }\n",
       "        on_mouse_event_closure('scroll')(event);\n",
       "    });\n",
       "\n",
       "    canvas_div.appendChild(canvas);\n",
       "    canvas_div.appendChild(rubberband_canvas);\n",
       "\n",
       "    this.rubberband_context = rubberband_canvas.getContext('2d');\n",
       "    this.rubberband_context.strokeStyle = '#000000';\n",
       "\n",
       "    this._resize_canvas = function (width, height, forward) {\n",
       "        if (forward) {\n",
       "            canvas_div.style.width = width + 'px';\n",
       "            canvas_div.style.height = height + 'px';\n",
       "        }\n",
       "    };\n",
       "\n",
       "    // Disable right mouse context menu.\n",
       "    this.rubberband_canvas.addEventListener('contextmenu', function (_e) {\n",
       "        event.preventDefault();\n",
       "        return false;\n",
       "    });\n",
       "\n",
       "    function set_focus() {\n",
       "        canvas.focus();\n",
       "        canvas_div.focus();\n",
       "    }\n",
       "\n",
       "    window.setTimeout(set_focus, 100);\n",
       "};\n",
       "\n",
       "mpl.figure.prototype._init_toolbar = function () {\n",
       "    var fig = this;\n",
       "\n",
       "    var toolbar = document.createElement('div');\n",
       "    toolbar.classList = 'mpl-toolbar';\n",
       "    this.root.appendChild(toolbar);\n",
       "\n",
       "    function on_click_closure(name) {\n",
       "        return function (_event) {\n",
       "            return fig.toolbar_button_onclick(name);\n",
       "        };\n",
       "    }\n",
       "\n",
       "    function on_mouseover_closure(tooltip) {\n",
       "        return function (event) {\n",
       "            if (!event.currentTarget.disabled) {\n",
       "                return fig.toolbar_button_onmouseover(tooltip);\n",
       "            }\n",
       "        };\n",
       "    }\n",
       "\n",
       "    fig.buttons = {};\n",
       "    var buttonGroup = document.createElement('div');\n",
       "    buttonGroup.classList = 'mpl-button-group';\n",
       "    for (var toolbar_ind in mpl.toolbar_items) {\n",
       "        var name = mpl.toolbar_items[toolbar_ind][0];\n",
       "        var tooltip = mpl.toolbar_items[toolbar_ind][1];\n",
       "        var image = mpl.toolbar_items[toolbar_ind][2];\n",
       "        var method_name = mpl.toolbar_items[toolbar_ind][3];\n",
       "\n",
       "        if (!name) {\n",
       "            /* Instead of a spacer, we start a new button group. */\n",
       "            if (buttonGroup.hasChildNodes()) {\n",
       "                toolbar.appendChild(buttonGroup);\n",
       "            }\n",
       "            buttonGroup = document.createElement('div');\n",
       "            buttonGroup.classList = 'mpl-button-group';\n",
       "            continue;\n",
       "        }\n",
       "\n",
       "        var button = (fig.buttons[name] = document.createElement('button'));\n",
       "        button.classList = 'mpl-widget';\n",
       "        button.setAttribute('role', 'button');\n",
       "        button.setAttribute('aria-disabled', 'false');\n",
       "        button.addEventListener('click', on_click_closure(method_name));\n",
       "        button.addEventListener('mouseover', on_mouseover_closure(tooltip));\n",
       "\n",
       "        var icon_img = document.createElement('img');\n",
       "        icon_img.src = '_images/' + image + '.png';\n",
       "        icon_img.srcset = '_images/' + image + '_large.png 2x';\n",
       "        icon_img.alt = tooltip;\n",
       "        button.appendChild(icon_img);\n",
       "\n",
       "        buttonGroup.appendChild(button);\n",
       "    }\n",
       "\n",
       "    if (buttonGroup.hasChildNodes()) {\n",
       "        toolbar.appendChild(buttonGroup);\n",
       "    }\n",
       "\n",
       "    var fmt_picker = document.createElement('select');\n",
       "    fmt_picker.classList = 'mpl-widget';\n",
       "    toolbar.appendChild(fmt_picker);\n",
       "    this.format_dropdown = fmt_picker;\n",
       "\n",
       "    for (var ind in mpl.extensions) {\n",
       "        var fmt = mpl.extensions[ind];\n",
       "        var option = document.createElement('option');\n",
       "        option.selected = fmt === mpl.default_extension;\n",
       "        option.innerHTML = fmt;\n",
       "        fmt_picker.appendChild(option);\n",
       "    }\n",
       "\n",
       "    var status_bar = document.createElement('span');\n",
       "    status_bar.classList = 'mpl-message';\n",
       "    toolbar.appendChild(status_bar);\n",
       "    this.message = status_bar;\n",
       "};\n",
       "\n",
       "mpl.figure.prototype.request_resize = function (x_pixels, y_pixels) {\n",
       "    // Request matplotlib to resize the figure. Matplotlib will then trigger a resize in the client,\n",
       "    // which will in turn request a refresh of the image.\n",
       "    this.send_message('resize', { width: x_pixels, height: y_pixels });\n",
       "};\n",
       "\n",
       "mpl.figure.prototype.send_message = function (type, properties) {\n",
       "    properties['type'] = type;\n",
       "    properties['figure_id'] = this.id;\n",
       "    this.ws.send(JSON.stringify(properties));\n",
       "};\n",
       "\n",
       "mpl.figure.prototype.send_draw_message = function () {\n",
       "    if (!this.waiting) {\n",
       "        this.waiting = true;\n",
       "        this.ws.send(JSON.stringify({ type: 'draw', figure_id: this.id }));\n",
       "    }\n",
       "};\n",
       "\n",
       "mpl.figure.prototype.handle_save = function (fig, _msg) {\n",
       "    var format_dropdown = fig.format_dropdown;\n",
       "    var format = format_dropdown.options[format_dropdown.selectedIndex].value;\n",
       "    fig.ondownload(fig, format);\n",
       "};\n",
       "\n",
       "mpl.figure.prototype.handle_resize = function (fig, msg) {\n",
       "    var size = msg['size'];\n",
       "    if (size[0] !== fig.canvas.width || size[1] !== fig.canvas.height) {\n",
       "        fig._resize_canvas(size[0], size[1], msg['forward']);\n",
       "        fig.send_message('refresh', {});\n",
       "    }\n",
       "};\n",
       "\n",
       "mpl.figure.prototype.handle_rubberband = function (fig, msg) {\n",
       "    var x0 = msg['x0'] / fig.ratio;\n",
       "    var y0 = (fig.canvas.height - msg['y0']) / fig.ratio;\n",
       "    var x1 = msg['x1'] / fig.ratio;\n",
       "    var y1 = (fig.canvas.height - msg['y1']) / fig.ratio;\n",
       "    x0 = Math.floor(x0) + 0.5;\n",
       "    y0 = Math.floor(y0) + 0.5;\n",
       "    x1 = Math.floor(x1) + 0.5;\n",
       "    y1 = Math.floor(y1) + 0.5;\n",
       "    var min_x = Math.min(x0, x1);\n",
       "    var min_y = Math.min(y0, y1);\n",
       "    var width = Math.abs(x1 - x0);\n",
       "    var height = Math.abs(y1 - y0);\n",
       "\n",
       "    fig.rubberband_context.clearRect(\n",
       "        0,\n",
       "        0,\n",
       "        fig.canvas.width / fig.ratio,\n",
       "        fig.canvas.height / fig.ratio\n",
       "    );\n",
       "\n",
       "    fig.rubberband_context.strokeRect(min_x, min_y, width, height);\n",
       "};\n",
       "\n",
       "mpl.figure.prototype.handle_figure_label = function (fig, msg) {\n",
       "    // Updates the figure title.\n",
       "    fig.header.textContent = msg['label'];\n",
       "};\n",
       "\n",
       "mpl.figure.prototype.handle_cursor = function (fig, msg) {\n",
       "    var cursor = msg['cursor'];\n",
       "    switch (cursor) {\n",
       "        case 0:\n",
       "            cursor = 'pointer';\n",
       "            break;\n",
       "        case 1:\n",
       "            cursor = 'default';\n",
       "            break;\n",
       "        case 2:\n",
       "            cursor = 'crosshair';\n",
       "            break;\n",
       "        case 3:\n",
       "            cursor = 'move';\n",
       "            break;\n",
       "    }\n",
       "    fig.rubberband_canvas.style.cursor = cursor;\n",
       "};\n",
       "\n",
       "mpl.figure.prototype.handle_message = function (fig, msg) {\n",
       "    fig.message.textContent = msg['message'];\n",
       "};\n",
       "\n",
       "mpl.figure.prototype.handle_draw = function (fig, _msg) {\n",
       "    // Request the server to send over a new figure.\n",
       "    fig.send_draw_message();\n",
       "};\n",
       "\n",
       "mpl.figure.prototype.handle_image_mode = function (fig, msg) {\n",
       "    fig.image_mode = msg['mode'];\n",
       "};\n",
       "\n",
       "mpl.figure.prototype.handle_history_buttons = function (fig, msg) {\n",
       "    for (var key in msg) {\n",
       "        if (!(key in fig.buttons)) {\n",
       "            continue;\n",
       "        }\n",
       "        fig.buttons[key].disabled = !msg[key];\n",
       "        fig.buttons[key].setAttribute('aria-disabled', !msg[key]);\n",
       "    }\n",
       "};\n",
       "\n",
       "mpl.figure.prototype.handle_navigate_mode = function (fig, msg) {\n",
       "    if (msg['mode'] === 'PAN') {\n",
       "        fig.buttons['Pan'].classList.add('active');\n",
       "        fig.buttons['Zoom'].classList.remove('active');\n",
       "    } else if (msg['mode'] === 'ZOOM') {\n",
       "        fig.buttons['Pan'].classList.remove('active');\n",
       "        fig.buttons['Zoom'].classList.add('active');\n",
       "    } else {\n",
       "        fig.buttons['Pan'].classList.remove('active');\n",
       "        fig.buttons['Zoom'].classList.remove('active');\n",
       "    }\n",
       "};\n",
       "\n",
       "mpl.figure.prototype.updated_canvas_event = function () {\n",
       "    // Called whenever the canvas gets updated.\n",
       "    this.send_message('ack', {});\n",
       "};\n",
       "\n",
       "// A function to construct a web socket function for onmessage handling.\n",
       "// Called in the figure constructor.\n",
       "mpl.figure.prototype._make_on_message_function = function (fig) {\n",
       "    return function socket_on_message(evt) {\n",
       "        if (evt.data instanceof Blob) {\n",
       "            /* FIXME: We get \"Resource interpreted as Image but\n",
       "             * transferred with MIME type text/plain:\" errors on\n",
       "             * Chrome.  But how to set the MIME type?  It doesn't seem\n",
       "             * to be part of the websocket stream */\n",
       "            evt.data.type = 'image/png';\n",
       "\n",
       "            /* Free the memory for the previous frames */\n",
       "            if (fig.imageObj.src) {\n",
       "                (window.URL || window.webkitURL).revokeObjectURL(\n",
       "                    fig.imageObj.src\n",
       "                );\n",
       "            }\n",
       "\n",
       "            fig.imageObj.src = (window.URL || window.webkitURL).createObjectURL(\n",
       "                evt.data\n",
       "            );\n",
       "            fig.updated_canvas_event();\n",
       "            fig.waiting = false;\n",
       "            return;\n",
       "        } else if (\n",
       "            typeof evt.data === 'string' &&\n",
       "            evt.data.slice(0, 21) === 'data:image/png;base64'\n",
       "        ) {\n",
       "            fig.imageObj.src = evt.data;\n",
       "            fig.updated_canvas_event();\n",
       "            fig.waiting = false;\n",
       "            return;\n",
       "        }\n",
       "\n",
       "        var msg = JSON.parse(evt.data);\n",
       "        var msg_type = msg['type'];\n",
       "\n",
       "        // Call the  \"handle_{type}\" callback, which takes\n",
       "        // the figure and JSON message as its only arguments.\n",
       "        try {\n",
       "            var callback = fig['handle_' + msg_type];\n",
       "        } catch (e) {\n",
       "            console.log(\n",
       "                \"No handler for the '\" + msg_type + \"' message type: \",\n",
       "                msg\n",
       "            );\n",
       "            return;\n",
       "        }\n",
       "\n",
       "        if (callback) {\n",
       "            try {\n",
       "                // console.log(\"Handling '\" + msg_type + \"' message: \", msg);\n",
       "                callback(fig, msg);\n",
       "            } catch (e) {\n",
       "                console.log(\n",
       "                    \"Exception inside the 'handler_\" + msg_type + \"' callback:\",\n",
       "                    e,\n",
       "                    e.stack,\n",
       "                    msg\n",
       "                );\n",
       "            }\n",
       "        }\n",
       "    };\n",
       "};\n",
       "\n",
       "// from http://stackoverflow.com/questions/1114465/getting-mouse-location-in-canvas\n",
       "mpl.findpos = function (e) {\n",
       "    //this section is from http://www.quirksmode.org/js/events_properties.html\n",
       "    var targ;\n",
       "    if (!e) {\n",
       "        e = window.event;\n",
       "    }\n",
       "    if (e.target) {\n",
       "        targ = e.target;\n",
       "    } else if (e.srcElement) {\n",
       "        targ = e.srcElement;\n",
       "    }\n",
       "    if (targ.nodeType === 3) {\n",
       "        // defeat Safari bug\n",
       "        targ = targ.parentNode;\n",
       "    }\n",
       "\n",
       "    // pageX,Y are the mouse positions relative to the document\n",
       "    var boundingRect = targ.getBoundingClientRect();\n",
       "    var x = e.pageX - (boundingRect.left + document.body.scrollLeft);\n",
       "    var y = e.pageY - (boundingRect.top + document.body.scrollTop);\n",
       "\n",
       "    return { x: x, y: y };\n",
       "};\n",
       "\n",
       "/*\n",
       " * return a copy of an object with only non-object keys\n",
       " * we need this to avoid circular references\n",
       " * http://stackoverflow.com/a/24161582/3208463\n",
       " */\n",
       "function simpleKeys(original) {\n",
       "    return Object.keys(original).reduce(function (obj, key) {\n",
       "        if (typeof original[key] !== 'object') {\n",
       "            obj[key] = original[key];\n",
       "        }\n",
       "        return obj;\n",
       "    }, {});\n",
       "}\n",
       "\n",
       "mpl.figure.prototype.mouse_event = function (event, name) {\n",
       "    var canvas_pos = mpl.findpos(event);\n",
       "\n",
       "    if (name === 'button_press') {\n",
       "        this.canvas.focus();\n",
       "        this.canvas_div.focus();\n",
       "    }\n",
       "\n",
       "    var x = canvas_pos.x * this.ratio;\n",
       "    var y = canvas_pos.y * this.ratio;\n",
       "\n",
       "    this.send_message(name, {\n",
       "        x: x,\n",
       "        y: y,\n",
       "        button: event.button,\n",
       "        step: event.step,\n",
       "        guiEvent: simpleKeys(event),\n",
       "    });\n",
       "\n",
       "    /* This prevents the web browser from automatically changing to\n",
       "     * the text insertion cursor when the button is pressed.  We want\n",
       "     * to control all of the cursor setting manually through the\n",
       "     * 'cursor' event from matplotlib */\n",
       "    event.preventDefault();\n",
       "    return false;\n",
       "};\n",
       "\n",
       "mpl.figure.prototype._key_event_extra = function (_event, _name) {\n",
       "    // Handle any extra behaviour associated with a key event\n",
       "};\n",
       "\n",
       "mpl.figure.prototype.key_event = function (event, name) {\n",
       "    // Prevent repeat events\n",
       "    if (name === 'key_press') {\n",
       "        if (event.which === this._key) {\n",
       "            return;\n",
       "        } else {\n",
       "            this._key = event.which;\n",
       "        }\n",
       "    }\n",
       "    if (name === 'key_release') {\n",
       "        this._key = null;\n",
       "    }\n",
       "\n",
       "    var value = '';\n",
       "    if (event.ctrlKey && event.which !== 17) {\n",
       "        value += 'ctrl+';\n",
       "    }\n",
       "    if (event.altKey && event.which !== 18) {\n",
       "        value += 'alt+';\n",
       "    }\n",
       "    if (event.shiftKey && event.which !== 16) {\n",
       "        value += 'shift+';\n",
       "    }\n",
       "\n",
       "    value += 'k';\n",
       "    value += event.which.toString();\n",
       "\n",
       "    this._key_event_extra(event, name);\n",
       "\n",
       "    this.send_message(name, { key: value, guiEvent: simpleKeys(event) });\n",
       "    return false;\n",
       "};\n",
       "\n",
       "mpl.figure.prototype.toolbar_button_onclick = function (name) {\n",
       "    if (name === 'download') {\n",
       "        this.handle_save(this, null);\n",
       "    } else {\n",
       "        this.send_message('toolbar_button', { name: name });\n",
       "    }\n",
       "};\n",
       "\n",
       "mpl.figure.prototype.toolbar_button_onmouseover = function (tooltip) {\n",
       "    this.message.textContent = tooltip;\n",
       "};\n",
       "mpl.toolbar_items = [[\"Home\", \"Reset original view\", \"fa fa-home icon-home\", \"home\"], [\"Back\", \"Back to previous view\", \"fa fa-arrow-left icon-arrow-left\", \"back\"], [\"Forward\", \"Forward to next view\", \"fa fa-arrow-right icon-arrow-right\", \"forward\"], [\"\", \"\", \"\", \"\"], [\"Pan\", \"Left button pans, Right button zooms\\nx/y fixes axis, CTRL fixes aspect\", \"fa fa-arrows icon-move\", \"pan\"], [\"Zoom\", \"Zoom to rectangle\\nx/y fixes axis, CTRL fixes aspect\", \"fa fa-square-o icon-check-empty\", \"zoom\"], [\"\", \"\", \"\", \"\"], [\"Download\", \"Download plot\", \"fa fa-floppy-o icon-save\", \"download\"]];\n",
       "\n",
       "mpl.extensions = [\"eps\", \"jpeg\", \"pdf\", \"png\", \"ps\", \"raw\", \"svg\", \"tif\"];\n",
       "\n",
       "mpl.default_extension = \"png\";/* global mpl */\n",
       "\n",
       "var comm_websocket_adapter = function (comm) {\n",
       "    // Create a \"websocket\"-like object which calls the given IPython comm\n",
       "    // object with the appropriate methods. Currently this is a non binary\n",
       "    // socket, so there is still some room for performance tuning.\n",
       "    var ws = {};\n",
       "\n",
       "    ws.close = function () {\n",
       "        comm.close();\n",
       "    };\n",
       "    ws.send = function (m) {\n",
       "        //console.log('sending', m);\n",
       "        comm.send(m);\n",
       "    };\n",
       "    // Register the callback with on_msg.\n",
       "    comm.on_msg(function (msg) {\n",
       "        //console.log('receiving', msg['content']['data'], msg);\n",
       "        // Pass the mpl event to the overridden (by mpl) onmessage function.\n",
       "        ws.onmessage(msg['content']['data']);\n",
       "    });\n",
       "    return ws;\n",
       "};\n",
       "\n",
       "mpl.mpl_figure_comm = function (comm, msg) {\n",
       "    // This is the function which gets called when the mpl process\n",
       "    // starts-up an IPython Comm through the \"matplotlib\" channel.\n",
       "\n",
       "    var id = msg.content.data.id;\n",
       "    // Get hold of the div created by the display call when the Comm\n",
       "    // socket was opened in Python.\n",
       "    var element = document.getElementById(id);\n",
       "    var ws_proxy = comm_websocket_adapter(comm);\n",
       "\n",
       "    function ondownload(figure, _format) {\n",
       "        window.open(figure.canvas.toDataURL());\n",
       "    }\n",
       "\n",
       "    var fig = new mpl.figure(id, ws_proxy, ondownload, element);\n",
       "\n",
       "    // Call onopen now - mpl needs it, as it is assuming we've passed it a real\n",
       "    // web socket which is closed, not our websocket->open comm proxy.\n",
       "    ws_proxy.onopen();\n",
       "\n",
       "    fig.parent_element = element;\n",
       "    fig.cell_info = mpl.find_output_cell(\"<div id='\" + id + \"'></div>\");\n",
       "    if (!fig.cell_info) {\n",
       "        console.error('Failed to find cell for figure', id, fig);\n",
       "        return;\n",
       "    }\n",
       "    fig.cell_info[0].output_area.element.one(\n",
       "        'cleared',\n",
       "        { fig: fig },\n",
       "        fig._remove_fig_handler\n",
       "    );\n",
       "};\n",
       "\n",
       "mpl.figure.prototype.handle_close = function (fig, msg) {\n",
       "    var width = fig.canvas.width / fig.ratio;\n",
       "    fig.cell_info[0].output_area.element.off(\n",
       "        'cleared',\n",
       "        fig._remove_fig_handler\n",
       "    );\n",
       "\n",
       "    // Update the output cell to use the data from the current canvas.\n",
       "    fig.push_to_output();\n",
       "    var dataURL = fig.canvas.toDataURL();\n",
       "    // Re-enable the keyboard manager in IPython - without this line, in FF,\n",
       "    // the notebook keyboard shortcuts fail.\n",
       "    IPython.keyboard_manager.enable();\n",
       "    fig.parent_element.innerHTML =\n",
       "        '<img src=\"' + dataURL + '\" width=\"' + width + '\">';\n",
       "    fig.close_ws(fig, msg);\n",
       "};\n",
       "\n",
       "mpl.figure.prototype.close_ws = function (fig, msg) {\n",
       "    fig.send_message('closing', msg);\n",
       "    // fig.ws.close()\n",
       "};\n",
       "\n",
       "mpl.figure.prototype.push_to_output = function (_remove_interactive) {\n",
       "    // Turn the data on the canvas into data in the output cell.\n",
       "    var width = this.canvas.width / this.ratio;\n",
       "    var dataURL = this.canvas.toDataURL();\n",
       "    this.cell_info[1]['text/html'] =\n",
       "        '<img src=\"' + dataURL + '\" width=\"' + width + '\">';\n",
       "};\n",
       "\n",
       "mpl.figure.prototype.updated_canvas_event = function () {\n",
       "    // Tell IPython that the notebook contents must change.\n",
       "    IPython.notebook.set_dirty(true);\n",
       "    this.send_message('ack', {});\n",
       "    var fig = this;\n",
       "    // Wait a second, then push the new image to the DOM so\n",
       "    // that it is saved nicely (might be nice to debounce this).\n",
       "    setTimeout(function () {\n",
       "        fig.push_to_output();\n",
       "    }, 1000);\n",
       "};\n",
       "\n",
       "mpl.figure.prototype._init_toolbar = function () {\n",
       "    var fig = this;\n",
       "\n",
       "    var toolbar = document.createElement('div');\n",
       "    toolbar.classList = 'btn-toolbar';\n",
       "    this.root.appendChild(toolbar);\n",
       "\n",
       "    function on_click_closure(name) {\n",
       "        return function (_event) {\n",
       "            return fig.toolbar_button_onclick(name);\n",
       "        };\n",
       "    }\n",
       "\n",
       "    function on_mouseover_closure(tooltip) {\n",
       "        return function (event) {\n",
       "            if (!event.currentTarget.disabled) {\n",
       "                return fig.toolbar_button_onmouseover(tooltip);\n",
       "            }\n",
       "        };\n",
       "    }\n",
       "\n",
       "    fig.buttons = {};\n",
       "    var buttonGroup = document.createElement('div');\n",
       "    buttonGroup.classList = 'btn-group';\n",
       "    var button;\n",
       "    for (var toolbar_ind in mpl.toolbar_items) {\n",
       "        var name = mpl.toolbar_items[toolbar_ind][0];\n",
       "        var tooltip = mpl.toolbar_items[toolbar_ind][1];\n",
       "        var image = mpl.toolbar_items[toolbar_ind][2];\n",
       "        var method_name = mpl.toolbar_items[toolbar_ind][3];\n",
       "\n",
       "        if (!name) {\n",
       "            /* Instead of a spacer, we start a new button group. */\n",
       "            if (buttonGroup.hasChildNodes()) {\n",
       "                toolbar.appendChild(buttonGroup);\n",
       "            }\n",
       "            buttonGroup = document.createElement('div');\n",
       "            buttonGroup.classList = 'btn-group';\n",
       "            continue;\n",
       "        }\n",
       "\n",
       "        button = fig.buttons[name] = document.createElement('button');\n",
       "        button.classList = 'btn btn-default';\n",
       "        button.href = '#';\n",
       "        button.title = name;\n",
       "        button.innerHTML = '<i class=\"fa ' + image + ' fa-lg\"></i>';\n",
       "        button.addEventListener('click', on_click_closure(method_name));\n",
       "        button.addEventListener('mouseover', on_mouseover_closure(tooltip));\n",
       "        buttonGroup.appendChild(button);\n",
       "    }\n",
       "\n",
       "    if (buttonGroup.hasChildNodes()) {\n",
       "        toolbar.appendChild(buttonGroup);\n",
       "    }\n",
       "\n",
       "    // Add the status bar.\n",
       "    var status_bar = document.createElement('span');\n",
       "    status_bar.classList = 'mpl-message pull-right';\n",
       "    toolbar.appendChild(status_bar);\n",
       "    this.message = status_bar;\n",
       "\n",
       "    // Add the close button to the window.\n",
       "    var buttongrp = document.createElement('div');\n",
       "    buttongrp.classList = 'btn-group inline pull-right';\n",
       "    button = document.createElement('button');\n",
       "    button.classList = 'btn btn-mini btn-primary';\n",
       "    button.href = '#';\n",
       "    button.title = 'Stop Interaction';\n",
       "    button.innerHTML = '<i class=\"fa fa-power-off icon-remove icon-large\"></i>';\n",
       "    button.addEventListener('click', function (_evt) {\n",
       "        fig.handle_close(fig, {});\n",
       "    });\n",
       "    button.addEventListener(\n",
       "        'mouseover',\n",
       "        on_mouseover_closure('Stop Interaction')\n",
       "    );\n",
       "    buttongrp.appendChild(button);\n",
       "    var titlebar = this.root.querySelector('.ui-dialog-titlebar');\n",
       "    titlebar.insertBefore(buttongrp, titlebar.firstChild);\n",
       "};\n",
       "\n",
       "mpl.figure.prototype._remove_fig_handler = function (event) {\n",
       "    var fig = event.data.fig;\n",
       "    fig.close_ws(fig, {});\n",
       "};\n",
       "\n",
       "mpl.figure.prototype._root_extra_style = function (el) {\n",
       "    el.style.boxSizing = 'content-box'; // override notebook setting of border-box.\n",
       "};\n",
       "\n",
       "mpl.figure.prototype._canvas_extra_style = function (el) {\n",
       "    // this is important to make the div 'focusable\n",
       "    el.setAttribute('tabindex', 0);\n",
       "    // reach out to IPython and tell the keyboard manager to turn it's self\n",
       "    // off when our div gets focus\n",
       "\n",
       "    // location in version 3\n",
       "    if (IPython.notebook.keyboard_manager) {\n",
       "        IPython.notebook.keyboard_manager.register_events(el);\n",
       "    } else {\n",
       "        // location in version 2\n",
       "        IPython.keyboard_manager.register_events(el);\n",
       "    }\n",
       "};\n",
       "\n",
       "mpl.figure.prototype._key_event_extra = function (event, _name) {\n",
       "    var manager = IPython.notebook.keyboard_manager;\n",
       "    if (!manager) {\n",
       "        manager = IPython.keyboard_manager;\n",
       "    }\n",
       "\n",
       "    // Check for shift+enter\n",
       "    if (event.shiftKey && event.which === 13) {\n",
       "        this.canvas_div.blur();\n",
       "        // select the cell after this one\n",
       "        var index = IPython.notebook.find_cell_index(this.cell_info[0]);\n",
       "        IPython.notebook.select(index + 1);\n",
       "    }\n",
       "};\n",
       "\n",
       "mpl.figure.prototype.handle_save = function (fig, _msg) {\n",
       "    fig.ondownload(fig, null);\n",
       "};\n",
       "\n",
       "mpl.find_output_cell = function (html_output) {\n",
       "    // Return the cell and output element which can be found *uniquely* in the notebook.\n",
       "    // Note - this is a bit hacky, but it is done because the \"notebook_saving.Notebook\"\n",
       "    // IPython event is triggered only after the cells have been serialised, which for\n",
       "    // our purposes (turning an active figure into a static one), is too late.\n",
       "    var cells = IPython.notebook.get_cells();\n",
       "    var ncells = cells.length;\n",
       "    for (var i = 0; i < ncells; i++) {\n",
       "        var cell = cells[i];\n",
       "        if (cell.cell_type === 'code') {\n",
       "            for (var j = 0; j < cell.output_area.outputs.length; j++) {\n",
       "                var data = cell.output_area.outputs[j];\n",
       "                if (data.data) {\n",
       "                    // IPython >= 3 moved mimebundle to data attribute of output\n",
       "                    data = data.data;\n",
       "                }\n",
       "                if (data['text/html'] === html_output) {\n",
       "                    return [cell, data, j];\n",
       "                }\n",
       "            }\n",
       "        }\n",
       "    }\n",
       "};\n",
       "\n",
       "// Register the function which deals with the matplotlib target/channel.\n",
       "// The kernel may be null if the page has been refreshed.\n",
       "if (IPython.notebook.kernel !== null) {\n",
       "    IPython.notebook.kernel.comm_manager.register_target(\n",
       "        'matplotlib',\n",
       "        mpl.mpl_figure_comm\n",
       "    );\n",
       "}\n"
      ],
      "text/plain": [
       "<IPython.core.display.Javascript object>"
      ]
     },
     "metadata": {},
     "output_type": "display_data"
    },
    {
     "data": {
      "text/html": [
       "<img src=\"data:image/png;base64,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\" width=\"1000\">"
      ],
      "text/plain": [
       "<IPython.core.display.HTML object>"
      ]
     },
     "metadata": {},
     "output_type": "display_data"
    }
   ],
   "source": [
    "possible_mus = (0, 200)\n",
    "possible_sigmas = (1e-5, 10e-4)\n",
    "possible_lowers = tuple([i for i in range(200)])\n",
    "possible_highers = possible_lowers\n",
    "domain = [\n",
    "    {\"name\": \"var_1\", \"type\": \"discrete\", \"domain\": (0,1,2)},\n",
    "    {\"name\": \"var_2\", \"type\": \"continuous\", \"domain\": possible_mus},\n",
    "    {\"name\": \"var_3\", \"type\": \"continuous\", \"domain\": possible_sigmas},\n",
    "    {\"name\": \"var_4\", \"type\": \"discrete\", \"domain\": (0,1), \"dimensionality\": 6},\n",
    "    {\"name\": \"var_5\", \"type\": \"discrete\", \"domain\": possible_lowers, \"dimensionality\": 6},\n",
    "    {\"name\": \"var_6\", \"type\": \"discrete\", \"domain\": possible_highers, \"dimensionality\": 6}\n",
    "]\n",
    "\n",
    "Bopt = BayesianOptimization(f=f_pymc3, domain=domain,acquisition_type = 'EI',              \n",
    "                                            normalize_Y = True,\n",
    "                                            initial_design_numdata = 10,\n",
    "                                            evaluator_type = 'local_penalization',\n",
    "                                            acquisition_jitter = 0)\n",
    "Bopt.run_optimization(max_iter = 50,eps=1e-6)\n",
    "print(\"=\"*20)\n",
    "print(\"Value of (x,y) that minimises the objective:\"+str(Bopt.x_opt))    \n",
    "print(\"Minimum value of the objective: \"+str(Bopt.fx_opt))     \n",
    "print(\"=\"*20)\n",
    "Bopt.plot_convergence()"
   ]
  },
  {
   "cell_type": "code",
   "execution_count": 11,
   "metadata": {},
   "outputs": [
    {
     "name": "stderr",
     "output_type": "stream",
     "text": [
      "Sequential sampling (2 chains in 1 job)\n",
      "CompoundStep\n",
      ">CompoundStep\n",
      ">>Metropolis: [married_a]\n",
      ">>Metropolis: [race_a]\n",
      ">>Metropolis: [educ_a]\n",
      ">>Metropolis: [sex_a]\n",
      ">>Metropolis: [age_a]\n",
      ">>Metropolis: [N]\n",
      ">NUTS: [income_a]\n"
     ]
    },
    {
     "data": {
      "text/html": [
       "\n",
       "    <div>\n",
       "        <style>\n",
       "            /* Turns off some styling */\n",
       "            progress {\n",
       "                /* gets rid of default border in Firefox and Opera. */\n",
       "                border: none;\n",
       "                /* Needs to be in here for Safari polyfill so background images work as expected. */\n",
       "                background-size: auto;\n",
       "            }\n",
       "            .progress-bar-interrupted, .progress-bar-interrupted::-webkit-progress-bar {\n",
       "                background: #F44336;\n",
       "            }\n",
       "        </style>\n",
       "      <progress value='4000' class='' max='4000' style='width:300px; height:20px; vertical-align: middle;'></progress>\n",
       "      100.00% [4000/4000 00:35<00:00 Sampling chain 0, 0 divergences]\n",
       "    </div>\n",
       "    "
      ],
      "text/plain": [
       "<IPython.core.display.HTML object>"
      ]
     },
     "metadata": {},
     "output_type": "display_data"
    },
    {
     "data": {
      "text/html": [
       "\n",
       "    <div>\n",
       "        <style>\n",
       "            /* Turns off some styling */\n",
       "            progress {\n",
       "                /* gets rid of default border in Firefox and Opera. */\n",
       "                border: none;\n",
       "                /* Needs to be in here for Safari polyfill so background images work as expected. */\n",
       "                background-size: auto;\n",
       "            }\n",
       "            .progress-bar-interrupted, .progress-bar-interrupted::-webkit-progress-bar {\n",
       "                background: #F44336;\n",
       "            }\n",
       "        </style>\n",
       "      <progress value='4000' class='' max='4000' style='width:300px; height:20px; vertical-align: middle;'></progress>\n",
       "      100.00% [4000/4000 00:28<00:00 Sampling chain 1, 0 divergences]\n",
       "    </div>\n",
       "    "
      ],
      "text/plain": [
       "<IPython.core.display.HTML object>"
      ]
     },
     "metadata": {},
     "output_type": "display_data"
    },
    {
     "name": "stderr",
     "output_type": "stream",
     "text": [
      "Sampling 2 chains for 1_000 tune and 3_000 draw iterations (2_000 + 6_000 draws total) took 64 seconds.\n",
      "The estimated number of effective samples is smaller than 200 for some parameters.\n"
     ]
    }
   ],
   "source": [
    "I, (trace, model) = f_pymc3(np.asarray([Bopt.x_opt]), return_trace=True)"
   ]
  },
  {
   "cell_type": "code",
   "execution_count": 12,
   "metadata": {},
   "outputs": [
    {
     "data": {
      "image/png": "[encoded data removed]",
      "text/plain": [
       "<Figure size 1987.2x3312 with 40 Axes>"
      ]
     },
     "metadata": {
      "needs_background": "light"
     },
     "output_type": "display_data"
    }
   ],
   "source": [
    "with model:\n",
    "    az.plot_posterior(trace)"
   ]
  },
  {
   "cell_type": "code",
   "execution_count": 15,
   "metadata": {},
   "outputs": [
    {
     "data": {
      "text/plain": [
       "<AxesSubplot:>"
      ]
     },
     "execution_count": 15,
     "metadata": {},
     "output_type": "execute_result"
    },
    {
     "data": {
      "image/png": "[encoded data removed]",
      "text/plain": [
       "<Figure size 432x288 with 1 Axes>"
      ]
     },
     "metadata": {
      "needs_background": "light"
     },
     "output_type": "display_data"
    }
   ],
   "source": [
    "az.plot_kde(trace[\"sex_a\"][:,0], trace[\"output\"])"
   ]
  },
  {
   "cell_type": "code",
   "execution_count": 14,
   "metadata": {},
   "outputs": [
    {
     "data": {
      "image/png": "[encoded data removed]",
      "text/plain": [
       "<Figure size 432x288 with 1 Axes>"
      ]
     },
     "metadata": {
      "needs_background": "light"
     },
     "output_type": "display_data"
    }
   ],
   "source": [
    "with model:\n",
    "    az.plot_posterior(trace,var_names=['output'],hdi_prob=.95)"
   ]
  },
  {
   "cell_type": "code",
   "execution_count": 20,
   "metadata": {},
   "outputs": [
    {
     "name": "stdout",
     "output_type": "stream",
     "text": [
      "MakeVector{dtype='float64'}.0\n"
     ]
    }
   ],
   "source": [
    "import theano.tensor as tt\n",
    "with pm.Model() as mudal:\n",
    "    s = pm.Uniform(\"test\", 0, 100, shape=10)\n",
    "    out = tt.stack([s[0],s[1]], axis=2)\n",
    "    pm.sample()\n",
    "    print(out)"
   ]
  },
  {
   "cell_type": "code",
   "execution_count": 20,
   "metadata": {},
   "outputs": [
    {
     "name": "stdout",
     "output_type": "stream",
     "text": [
      "Evaluation \t Proposed point \t  Current eval. \t Best eval.\n",
      "init   \t [3.25027846]. \t  -0.1084719588823907 \t -0.1084719588823907\n",
      "init   \t [5.94994152]. \t  -0.32711007941725473 \t -0.1084719588823907\n",
      "init   \t [4.80952551]. \t  -0.9952859553348876 \t -0.1084719588823907\n",
      "1      \t [1.58178017]. \t  \u001b[92m0.9999396782415523\u001b[0m \t 0.9999396782415523\n",
      "2      \t [0.66932347]. \t  0.6204555671229247 \t 0.9999396782415523\n",
      "3      \t [2.06732055]. \t  0.879243634245828 \t 0.9999396782415523\n",
      "4      \t [0.]. \t  0.0    \t 0.9999396782415523\n",
      "5      \t [1.44115493]. \t  0.9916083166314503 \t 0.9999396782415523\n",
      "6      \t [1.57443681]. \t  \u001b[92m0.99999337343526\u001b[0m \t 0.99999337343526\n",
      "7      \t [1.57340324]. \t  \u001b[92m0.9999966020119506\u001b[0m \t 0.9999966020119506\n",
      "8      \t [1.57299501]. \t  \u001b[92m0.9999975828909311\u001b[0m \t 0.9999975828909311\n",
      "9      \t [1.57277186]. \t  \u001b[92m0.9999980486267337\u001b[0m \t 0.9999980486267337\n",
      "10     \t [1.57264093]. \t  \u001b[92m0.9999982987182412\u001b[0m \t 0.9999982987182412\n",
      "11     \t [1.5725505]. \t  \u001b[92m0.9999984614461296\u001b[0m \t 0.9999984614461296\n",
      "12     \t [1.57248585]. \t  \u001b[92m0.9999985727535291\u001b[0m \t 0.9999985727535291\n",
      "13     \t [1.572432]. \t  \u001b[92m0.999998662289427\u001b[0m \t 0.999998662289427\n",
      "14     \t [1.57239494]. \t  \u001b[92m0.9999987222101985\u001b[0m \t 0.9999987222101985\n",
      "15     \t [1.57237483]. \t  \u001b[92m0.999998754168174\u001b[0m \t 0.999998754168174\n",
      "16     \t [1.4632084]. \t  0.9942179990126183 \t 0.999998754168174\n",
      "17     \t [1.57233518]. \t  \u001b[92m0.9999988159687151\u001b[0m \t 0.9999988159687151\n",
      "18     \t [1.57231652]. \t  \u001b[92m0.9999988445132963\u001b[0m \t 0.9999988445132963\n",
      "19     \t [1.5722913]. \t  \u001b[92m0.9999988825323924\u001b[0m \t 0.9999988825323924\n",
      "20     \t [1.68351045]. \t  0.9936544850785723 \t 0.9999988825323924\n"
     ]
    }
   ],
   "source": [
    "import numpy as np\n",
    "from pyGPGO.covfunc import squaredExponential\n",
    "from pyGPGO.acquisition import Acquisition\n",
    "from pyGPGO.surrogates.GaussianProcess import GaussianProcess\n",
    "from pyGPGO.GPGO import GPGO\n",
    "\n",
    "def f(x):\n",
    "    return (np.sin(x))\n",
    "\n",
    "\n",
    "sexp = squaredExponential()\n",
    "gp = GaussianProcess(sexp)\n",
    "acq = Acquisition(mode='ExpectedImprovement')\n",
    "param = {'x': ('cont', [0, 2 * np.pi])}\n",
    "\n",
    "np.random.seed(23)\n",
    "gpgo = GPGO(gp, acq, f, param)\n",
    "gpgo.run(max_iter=20)"
   ]
  },
  {
   "cell_type": "code",
   "execution_count": 22,
   "metadata": {},
   "outputs": [
    {
     "data": {
      "text/plain": [
       "<pyGPGO.surrogates.GaussianProcess.GaussianProcess at 0x7fa15ea776d0>"
      ]
     },
     "execution_count": 22,
     "metadata": {},
     "output_type": "execute_result"
    }
   ],
   "source": [
    "gpgo.GP"
   ]
  },
  {
   "cell_type": "code",
   "execution_count": 34,
   "metadata": {},
   "outputs": [
    {
     "name": "stdout",
     "output_type": "stream",
     "text": [
      "[[ 1.         87.66388737 29.07998593]]\n"
     ]
    },
    {
     "ename": "ValueError",
     "evalue": "The truth value of an array with more than one element is ambiguous. Use a.any() or a.all()",
     "output_type": "error",
     "traceback": [
      "\u001b[0;31m---------------------------------------------------------------------------\u001b[0m",
      "\u001b[0;31mValueError\u001b[0m                                Traceback (most recent call last)",
      "\u001b[0;32m<ipython-input-34-cedbf465b694>\u001b[0m in \u001b[0;36m<module>\u001b[0;34m\u001b[0m\n\u001b[1;32m     14\u001b[0m ]\n\u001b[1;32m     15\u001b[0m \u001b[0;34m\u001b[0m\u001b[0m\n\u001b[0;32m---> 16\u001b[0;31m \u001b[0mBopt\u001b[0m \u001b[0;34m=\u001b[0m \u001b[0mBayesianOptimization\u001b[0m\u001b[0;34m(\u001b[0m\u001b[0mf\u001b[0m\u001b[0;34m=\u001b[0m\u001b[0mf\u001b[0m\u001b[0;34m,\u001b[0m \u001b[0mdomain\u001b[0m\u001b[0;34m=\u001b[0m\u001b[0mdomain\u001b[0m\u001b[0;34m)\u001b[0m\u001b[0;34m\u001b[0m\u001b[0;34m\u001b[0m\u001b[0m\n\u001b[0m\u001b[1;32m     17\u001b[0m \u001b[0mBopt\u001b[0m\u001b[0;34m.\u001b[0m\u001b[0mrun_optimization\u001b[0m\u001b[0;34m(\u001b[0m\u001b[0mmax_iter\u001b[0m \u001b[0;34m=\u001b[0m \u001b[0;36m10\u001b[0m\u001b[0;34m,\u001b[0m\u001b[0meps\u001b[0m\u001b[0;34m=\u001b[0m\u001b[0;36m1e-6\u001b[0m\u001b[0;34m)\u001b[0m\u001b[0;34m\u001b[0m\u001b[0;34m\u001b[0m\u001b[0m\n\u001b[1;32m     18\u001b[0m \u001b[0mprint\u001b[0m\u001b[0;34m(\u001b[0m\u001b[0;34m\"=\"\u001b[0m\u001b[0;34m*\u001b[0m\u001b[0;36m20\u001b[0m\u001b[0;34m)\u001b[0m\u001b[0;34m\u001b[0m\u001b[0;34m\u001b[0m\u001b[0m\n",
      "\u001b[0;32m~/opt/anaconda3/envs/dev/lib/python3.7/site-packages/GPyOpt/methods/bayesian_optimization.py\u001b[0m in \u001b[0;36m__init__\u001b[0;34m(self, f, domain, constraints, cost_withGradients, model_type, X, Y, initial_design_numdata, initial_design_type, acquisition_type, normalize_Y, exact_feval, acquisition_optimizer_type, model_update_interval, evaluator_type, batch_size, num_cores, verbosity, verbosity_model, maximize, de_duplication, **kwargs)\u001b[0m\n\u001b[1;32m    117\u001b[0m         \u001b[0mself\u001b[0m\u001b[0;34m.\u001b[0m\u001b[0minitial_design_type\u001b[0m  \u001b[0;34m=\u001b[0m \u001b[0minitial_design_type\u001b[0m\u001b[0;34m\u001b[0m\u001b[0;34m\u001b[0m\u001b[0m\n\u001b[1;32m    118\u001b[0m         \u001b[0mself\u001b[0m\u001b[0;34m.\u001b[0m\u001b[0minitial_design_numdata\u001b[0m \u001b[0;34m=\u001b[0m \u001b[0minitial_design_numdata\u001b[0m\u001b[0;34m\u001b[0m\u001b[0;34m\u001b[0m\u001b[0m\n\u001b[0;32m--> 119\u001b[0;31m         \u001b[0mself\u001b[0m\u001b[0;34m.\u001b[0m\u001b[0m_init_design_chooser\u001b[0m\u001b[0;34m(\u001b[0m\u001b[0;34m)\u001b[0m\u001b[0;34m\u001b[0m\u001b[0;34m\u001b[0m\u001b[0m\n\u001b[0m\u001b[1;32m    120\u001b[0m \u001b[0;34m\u001b[0m\u001b[0m\n\u001b[1;32m    121\u001b[0m         \u001b[0;31m# --- CHOOSE the model type. If an instance of a GPyOpt model is passed (possibly user defined), it is used.\u001b[0m\u001b[0;34m\u001b[0m\u001b[0;34m\u001b[0m\u001b[0;34m\u001b[0m\u001b[0m\n",
      "\u001b[0;32m~/opt/anaconda3/envs/dev/lib/python3.7/site-packages/GPyOpt/methods/bayesian_optimization.py\u001b[0m in \u001b[0;36m_init_design_chooser\u001b[0;34m(self)\u001b[0m\n\u001b[1;32m    193\u001b[0m         \u001b[0;32mif\u001b[0m \u001b[0mself\u001b[0m\u001b[0;34m.\u001b[0m\u001b[0mX\u001b[0m \u001b[0;32mis\u001b[0m \u001b[0;32mNone\u001b[0m\u001b[0;34m:\u001b[0m\u001b[0;34m\u001b[0m\u001b[0;34m\u001b[0m\u001b[0m\n\u001b[1;32m    194\u001b[0m             \u001b[0mself\u001b[0m\u001b[0;34m.\u001b[0m\u001b[0mX\u001b[0m \u001b[0;34m=\u001b[0m \u001b[0minitial_design\u001b[0m\u001b[0;34m(\u001b[0m\u001b[0mself\u001b[0m\u001b[0;34m.\u001b[0m\u001b[0minitial_design_type\u001b[0m\u001b[0;34m,\u001b[0m \u001b[0mself\u001b[0m\u001b[0;34m.\u001b[0m\u001b[0mspace\u001b[0m\u001b[0;34m,\u001b[0m \u001b[0mself\u001b[0m\u001b[0;34m.\u001b[0m\u001b[0minitial_design_numdata\u001b[0m\u001b[0;34m)\u001b[0m\u001b[0;34m\u001b[0m\u001b[0;34m\u001b[0m\u001b[0m\n\u001b[0;32m--> 195\u001b[0;31m             \u001b[0mself\u001b[0m\u001b[0;34m.\u001b[0m\u001b[0mY\u001b[0m\u001b[0;34m,\u001b[0m \u001b[0m_\u001b[0m \u001b[0;34m=\u001b[0m \u001b[0mself\u001b[0m\u001b[0;34m.\u001b[0m\u001b[0mobjective\u001b[0m\u001b[0;34m.\u001b[0m\u001b[0mevaluate\u001b[0m\u001b[0;34m(\u001b[0m\u001b[0mself\u001b[0m\u001b[0;34m.\u001b[0m\u001b[0mX\u001b[0m\u001b[0;34m)\u001b[0m\u001b[0;34m\u001b[0m\u001b[0;34m\u001b[0m\u001b[0m\n\u001b[0m\u001b[1;32m    196\u001b[0m         \u001b[0;31m# Case 2\u001b[0m\u001b[0;34m\u001b[0m\u001b[0;34m\u001b[0m\u001b[0;34m\u001b[0m\u001b[0m\n\u001b[1;32m    197\u001b[0m         \u001b[0;32melif\u001b[0m \u001b[0mself\u001b[0m\u001b[0;34m.\u001b[0m\u001b[0mX\u001b[0m \u001b[0;32mis\u001b[0m \u001b[0;32mnot\u001b[0m \u001b[0;32mNone\u001b[0m \u001b[0;32mand\u001b[0m \u001b[0mself\u001b[0m\u001b[0;34m.\u001b[0m\u001b[0mY\u001b[0m \u001b[0;32mis\u001b[0m \u001b[0;32mNone\u001b[0m\u001b[0;34m:\u001b[0m\u001b[0;34m\u001b[0m\u001b[0;34m\u001b[0m\u001b[0m\n",
      "\u001b[0;32m~/opt/anaconda3/envs/dev/lib/python3.7/site-packages/GPyOpt/core/task/objective.py\u001b[0m in \u001b[0;36mevaluate\u001b[0;34m(self, x)\u001b[0m\n\u001b[1;32m     48\u001b[0m \u001b[0;34m\u001b[0m\u001b[0m\n\u001b[1;32m     49\u001b[0m         \u001b[0;32mif\u001b[0m \u001b[0mself\u001b[0m\u001b[0;34m.\u001b[0m\u001b[0mn_procs\u001b[0m \u001b[0;34m==\u001b[0m \u001b[0;36m1\u001b[0m\u001b[0;34m:\u001b[0m\u001b[0;34m\u001b[0m\u001b[0;34m\u001b[0m\u001b[0m\n\u001b[0;32m---> 50\u001b[0;31m             \u001b[0mf_evals\u001b[0m\u001b[0;34m,\u001b[0m \u001b[0mcost_evals\u001b[0m \u001b[0;34m=\u001b[0m \u001b[0mself\u001b[0m\u001b[0;34m.\u001b[0m\u001b[0m_eval_func\u001b[0m\u001b[0;34m(\u001b[0m\u001b[0mx\u001b[0m\u001b[0;34m)\u001b[0m\u001b[0;34m\u001b[0m\u001b[0;34m\u001b[0m\u001b[0m\n\u001b[0m\u001b[1;32m     51\u001b[0m         \u001b[0;32melse\u001b[0m\u001b[0;34m:\u001b[0m\u001b[0;34m\u001b[0m\u001b[0;34m\u001b[0m\u001b[0m\n\u001b[1;32m     52\u001b[0m             \u001b[0;32mtry\u001b[0m\u001b[0;34m:\u001b[0m\u001b[0;34m\u001b[0m\u001b[0;34m\u001b[0m\u001b[0m\n",
      "\u001b[0;32m~/opt/anaconda3/envs/dev/lib/python3.7/site-packages/GPyOpt/core/task/objective.py\u001b[0m in \u001b[0;36m_eval_func\u001b[0;34m(self, x)\u001b[0m\n\u001b[1;32m     72\u001b[0m         \u001b[0;32mfor\u001b[0m \u001b[0mi\u001b[0m \u001b[0;32min\u001b[0m \u001b[0mrange\u001b[0m\u001b[0;34m(\u001b[0m\u001b[0mx\u001b[0m\u001b[0;34m.\u001b[0m\u001b[0mshape\u001b[0m\u001b[0;34m[\u001b[0m\u001b[0;36m0\u001b[0m\u001b[0;34m]\u001b[0m\u001b[0;34m)\u001b[0m\u001b[0;34m:\u001b[0m\u001b[0;34m\u001b[0m\u001b[0;34m\u001b[0m\u001b[0m\n\u001b[1;32m     73\u001b[0m             \u001b[0mst_time\u001b[0m    \u001b[0;34m=\u001b[0m \u001b[0mtime\u001b[0m\u001b[0;34m.\u001b[0m\u001b[0mtime\u001b[0m\u001b[0;34m(\u001b[0m\u001b[0;34m)\u001b[0m\u001b[0;34m\u001b[0m\u001b[0;34m\u001b[0m\u001b[0m\n\u001b[0;32m---> 74\u001b[0;31m             \u001b[0mrlt\u001b[0m \u001b[0;34m=\u001b[0m \u001b[0mself\u001b[0m\u001b[0;34m.\u001b[0m\u001b[0mfunc\u001b[0m\u001b[0;34m(\u001b[0m\u001b[0mnp\u001b[0m\u001b[0;34m.\u001b[0m\u001b[0matleast_2d\u001b[0m\u001b[0;34m(\u001b[0m\u001b[0mx\u001b[0m\u001b[0;34m[\u001b[0m\u001b[0mi\u001b[0m\u001b[0;34m]\u001b[0m\u001b[0;34m)\u001b[0m\u001b[0;34m)\u001b[0m\u001b[0;34m\u001b[0m\u001b[0;34m\u001b[0m\u001b[0m\n\u001b[0m\u001b[1;32m     75\u001b[0m             \u001b[0mf_evals\u001b[0m     \u001b[0;34m=\u001b[0m \u001b[0mnp\u001b[0m\u001b[0;34m.\u001b[0m\u001b[0mvstack\u001b[0m\u001b[0;34m(\u001b[0m\u001b[0;34m[\u001b[0m\u001b[0mf_evals\u001b[0m\u001b[0;34m,\u001b[0m\u001b[0mrlt\u001b[0m\u001b[0;34m]\u001b[0m\u001b[0;34m)\u001b[0m\u001b[0;34m\u001b[0m\u001b[0;34m\u001b[0m\u001b[0m\n\u001b[1;32m     76\u001b[0m             \u001b[0mcost_evals\u001b[0m \u001b[0;34m+=\u001b[0m \u001b[0;34m[\u001b[0m\u001b[0mtime\u001b[0m\u001b[0;34m.\u001b[0m\u001b[0mtime\u001b[0m\u001b[0;34m(\u001b[0m\u001b[0;34m)\u001b[0m\u001b[0;34m-\u001b[0m\u001b[0mst_time\u001b[0m\u001b[0;34m]\u001b[0m\u001b[0;34m\u001b[0m\u001b[0;34m\u001b[0m\u001b[0m\n",
      "\u001b[0;32m<ipython-input-34-cedbf465b694>\u001b[0m in \u001b[0;36mf\u001b[0;34m(X)\u001b[0m\n\u001b[1;32m      4\u001b[0m \u001b[0;32mdef\u001b[0m \u001b[0mf\u001b[0m\u001b[0;34m(\u001b[0m\u001b[0mX\u001b[0m\u001b[0;34m)\u001b[0m\u001b[0;34m:\u001b[0m\u001b[0;34m\u001b[0m\u001b[0;34m\u001b[0m\u001b[0m\n\u001b[1;32m      5\u001b[0m     \u001b[0mprint\u001b[0m\u001b[0;34m(\u001b[0m\u001b[0mX\u001b[0m\u001b[0;34m)\u001b[0m\u001b[0;34m\u001b[0m\u001b[0;34m\u001b[0m\u001b[0m\n\u001b[0;32m----> 6\u001b[0;31m     \u001b[0;32mif\u001b[0m \u001b[0mx\u001b[0m \u001b[0;34m==\u001b[0m \u001b[0;36m1024\u001b[0m\u001b[0;34m:\u001b[0m\u001b[0;34m\u001b[0m\u001b[0;34m\u001b[0m\u001b[0m\n\u001b[0m\u001b[1;32m      7\u001b[0m         \u001b[0;32mreturn\u001b[0m \u001b[0;36m1\u001b[0m\u001b[0;34m\u001b[0m\u001b[0;34m\u001b[0m\u001b[0m\n\u001b[1;32m      8\u001b[0m     \u001b[0;32melse\u001b[0m\u001b[0;34m:\u001b[0m\u001b[0;34m\u001b[0m\u001b[0;34m\u001b[0m\u001b[0m\n",
      "\u001b[0;31mValueError\u001b[0m: The truth value of an array with more than one element is ambiguous. Use a.any() or a.all()"
     ]
    }
   ],
   "source": [
    "def split(a,b):\n",
    "    return (a, b//2), (b//2, b)\n",
    "\n",
    "def f(X):\n",
    "    print(X)\n",
    "    if x == 1024:\n",
    "        return 1\n",
    "    else:\n",
    "        return 0\n",
    "\n",
    "domain = [\n",
    "    {\"name\": \"range\", \"type\": \"continuous\", \"domain\": (0,100)},\n",
    "    {\"name\": \"var_2\", \"type\": \"continuous\", \"domain\": (0,100), \"dimensionality\": 2},\n",
    "]\n",
    "\n",
    "Bopt = BayesianOptimization(f=f, domain=domain)\n",
    "Bopt.run_optimization(max_iter = 10,eps=1e-6)\n",
    "print(\"=\"*20)\n",
    "print(\"Value of (x,y) that minimises the objective:\"+str(Bopt.x_opt))    \n",
    "print(\"Minimum value of the objective: \"+str(Bopt.fx_opt))     \n",
    "print(\"=\"*20)\n",
    "Bopt.plot_convergence()"
   ]
  },
  {
   "cell_type": "code",
   "execution_count": null,
   "metadata": {},
   "outputs": [],
   "source": []
  }
 ],
 "metadata": {
  "kernelspec": {
   "display_name": "Python 3",
   "language": "python",
   "name": "python3"
  },
  "language_info": {
   "codemirror_mode": {
    "name": "ipython",
    "version": 3
   },
   "file_extension": ".py",
   "mimetype": "text/x-python",
   "name": "python",
   "nbconvert_exporter": "python",
   "pygments_lexer": "ipython3",
   "version": "3.8.5"
  },
  "varInspector": {
   "cols": {
    "lenName": 16,
    "lenType": 16,
    "lenVar": 40
   },
   "kernels_config": {
    "python": {
     "delete_cmd_postfix": "",
     "delete_cmd_prefix": "del ",
     "library": "var_list.py",
     "varRefreshCmd": "print(var_dic_list())"
    },
    "r": {
     "delete_cmd_postfix": ") ",
     "delete_cmd_prefix": "rm(",
     "library": "var_list.r",
     "varRefreshCmd": "cat(var_dic_list()) "
    }
   },
   "position": {
    "height": "207.85px",
    "left": "200px",
    "right": "20px",
    "top": "112px",
    "width": "800px"
   },
   "types_to_exclude": [
    "module",
    "function",
    "builtin_function_or_method",
    "instance",
    "_Feature"
   ],
   "window_display": false
  }
 },
 "nbformat": 4,
 "nbformat_minor": 4
}
