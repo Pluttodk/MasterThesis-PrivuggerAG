{
 "cells": [
  {
   "cell_type": "code",
   "execution_count": 7,
   "id": "quarterly-emphasis",
   "metadata": {},
   "outputs": [],
   "source": [
    "import matplotlib.pyplot as plt\n",
    "from sklearn.feature_selection import mutual_info_regression\n",
    "import pymc3 as pm\n",
    "import numpy as np\n",
    "from GPyOpt.methods import BayesianOptimization\n",
    "import arviz as az\n",
    "import theano\n",
    "import theano.tensor as tt\n",
    "from scipy.stats import bernoulli\n",
    "from scipy import stats\n",
    "import opendp.smartnoise.core as sn\n",
    "import pandas as pd"
   ]
  },
  {
   "cell_type": "code",
   "execution_count": 2,
   "id": "impossible-strike",
   "metadata": {},
   "outputs": [],
   "source": [
    "formula = lambda p: (-(1-p)*np.log(1-p)-p*np.log(p))\n",
    "real = formula(0.5)"
   ]
  },
  {
   "cell_type": "code",
   "execution_count": 3,
   "id": "prepared-filling",
   "metadata": {},
   "outputs": [],
   "source": [
    "def f(x):\n",
    "    return x"
   ]
  },
  {
   "cell_type": "code",
   "execution_count": 11,
   "id": "vanilla-ordinance",
   "metadata": {},
   "outputs": [],
   "source": [
    "# With pymc3\n",
    "def f_pymc(samples):\n",
    "    with pm.Model() as model:\n",
    "        a = pm.Bernoulli(\"a\", 0.5)\n",
    "        out = pm.Deterministic(\"out\", f(a))\n",
    "        \n",
    "        trace = pm.sample(samples)\n",
    "        \n",
    "        return mutual_info_regression(trace[\"a\"].reshape(-1,1), trace[\"out\"])[0]"
   ]
  },
  {
   "cell_type": "code",
   "execution_count": 12,
   "id": "forward-equality",
   "metadata": {},
   "outputs": [
    {
     "name": "stderr",
     "output_type": "stream",
     "text": [
      "Only 100 samples in chain.\n",
      "Multiprocess sampling (2 chains in 2 jobs)\n",
      "BinaryGibbsMetropolis: [a]\n"
     ]
    },
    {
     "data": {
      "text/html": [
       "\n",
       "    <div>\n",
       "        <style>\n",
       "            /* Turns off some styling */\n",
       "            progress {\n",
       "                /* gets rid of default border in Firefox and Opera. */\n",
       "                border: none;\n",
       "                /* Needs to be in here for Safari polyfill so background images work as expected. */\n",
       "                background-size: auto;\n",
       "            }\n",
       "            .progress-bar-interrupted, .progress-bar-interrupted::-webkit-progress-bar {\n",
       "                background: #F44336;\n",
       "            }\n",
       "        </style>\n",
       "      <progress value='2200' class='' max='2200' style='width:300px; height:20px; vertical-align: middle;'></progress>\n",
       "      100.00% [2200/2200 00:00<00:00 Sampling 2 chains, 0 divergences]\n",
       "    </div>\n",
       "    "
      ],
      "text/plain": [
       "<IPython.core.display.HTML object>"
      ]
     },
     "metadata": {},
     "output_type": "display_data"
    },
    {
     "name": "stderr",
     "output_type": "stream",
     "text": [
      "Sampling 2 chains for 1_000 tune and 100 draw iterations (2_000 + 200 draws total) took 1 seconds.\n",
      "Multiprocess sampling (2 chains in 2 jobs)\n",
      "BinaryGibbsMetropolis: [a]\n"
     ]
    },
    {
     "data": {
      "text/html": [
       "\n",
       "    <div>\n",
       "        <style>\n",
       "            /* Turns off some styling */\n",
       "            progress {\n",
       "                /* gets rid of default border in Firefox and Opera. */\n",
       "                border: none;\n",
       "                /* Needs to be in here for Safari polyfill so background images work as expected. */\n",
       "                background-size: auto;\n",
       "            }\n",
       "            .progress-bar-interrupted, .progress-bar-interrupted::-webkit-progress-bar {\n",
       "                background: #F44336;\n",
       "            }\n",
       "        </style>\n",
       "      <progress value='4000' class='' max='4000' style='width:300px; height:20px; vertical-align: middle;'></progress>\n",
       "      100.00% [4000/4000 00:00<00:00 Sampling 2 chains, 0 divergences]\n",
       "    </div>\n",
       "    "
      ],
      "text/plain": [
       "<IPython.core.display.HTML object>"
      ]
     },
     "metadata": {},
     "output_type": "display_data"
    },
    {
     "name": "stderr",
     "output_type": "stream",
     "text": [
      "Sampling 2 chains for 1_000 tune and 1_000 draw iterations (2_000 + 2_000 draws total) took 0 seconds.\n",
      "Multiprocess sampling (2 chains in 2 jobs)\n",
      "BinaryGibbsMetropolis: [a]\n"
     ]
    },
    {
     "data": {
      "text/html": [
       "\n",
       "    <div>\n",
       "        <style>\n",
       "            /* Turns off some styling */\n",
       "            progress {\n",
       "                /* gets rid of default border in Firefox and Opera. */\n",
       "                border: none;\n",
       "                /* Needs to be in here for Safari polyfill so background images work as expected. */\n",
       "                background-size: auto;\n",
       "            }\n",
       "            .progress-bar-interrupted, .progress-bar-interrupted::-webkit-progress-bar {\n",
       "                background: #F44336;\n",
       "            }\n",
       "        </style>\n",
       "      <progress value='22000' class='' max='22000' style='width:300px; height:20px; vertical-align: middle;'></progress>\n",
       "      100.00% [22000/22000 00:01<00:00 Sampling 2 chains, 0 divergences]\n",
       "    </div>\n",
       "    "
      ],
      "text/plain": [
       "<IPython.core.display.HTML object>"
      ]
     },
     "metadata": {},
     "output_type": "display_data"
    },
    {
     "name": "stderr",
     "output_type": "stream",
     "text": [
      "Sampling 2 chains for 1_000 tune and 10_000 draw iterations (2_000 + 20_000 draws total) took 2 seconds.\n",
      "Multiprocess sampling (2 chains in 2 jobs)\n",
      "BinaryGibbsMetropolis: [a]\n"
     ]
    },
    {
     "data": {
      "text/html": [
       "\n",
       "    <div>\n",
       "        <style>\n",
       "            /* Turns off some styling */\n",
       "            progress {\n",
       "                /* gets rid of default border in Firefox and Opera. */\n",
       "                border: none;\n",
       "                /* Needs to be in here for Safari polyfill so background images work as expected. */\n",
       "                background-size: auto;\n",
       "            }\n",
       "            .progress-bar-interrupted, .progress-bar-interrupted::-webkit-progress-bar {\n",
       "                background: #F44336;\n",
       "            }\n",
       "        </style>\n",
       "      <progress value='202000' class='' max='202000' style='width:300px; height:20px; vertical-align: middle;'></progress>\n",
       "      100.00% [202000/202000 00:18<00:00 Sampling 2 chains, 0 divergences]\n",
       "    </div>\n",
       "    "
      ],
      "text/plain": [
       "<IPython.core.display.HTML object>"
      ]
     },
     "metadata": {},
     "output_type": "display_data"
    },
    {
     "name": "stderr",
     "output_type": "stream",
     "text": [
      "Sampling 2 chains for 1_000 tune and 100_000 draw iterations (2_000 + 200_000 draws total) took 19 seconds.\n"
     ]
    }
   ],
   "source": [
    "test = [100,1_000,10_000,100_000]\n",
    "y_pymc = [f_pymc(t) for t in test]"
   ]
  },
  {
   "cell_type": "code",
   "execution_count": 4,
   "id": "palestinian-insurance",
   "metadata": {},
   "outputs": [],
   "source": [
    "#using random\n",
    "def f_pm_random(samples):\n",
    "    a = pm.Bernoulli.dist(0.5).random(size=samples)\n",
    "    out = np.asarray([f(ai) for ai in a])\n",
    "    \n",
    "    return mutual_info_regression(a.reshape(-1,1), out)[0]"
   ]
  },
  {
   "cell_type": "code",
   "execution_count": 5,
   "id": "elect-minneapolis",
   "metadata": {},
   "outputs": [],
   "source": [
    "test2 = [100,1_000,10_000,100_000, 1_000_000]\n",
    "y_pm_random = [f_pm_random(t) for t in test2]"
   ]
  },
  {
   "cell_type": "code",
   "execution_count": 6,
   "id": "material-thompson",
   "metadata": {},
   "outputs": [],
   "source": [
    "from scipy.stats import bernoulli\n",
    "#using scipy\n",
    "def f_scipy(samples):\n",
    "    a = bernoulli.rvs(0.5, size=samples)\n",
    "    out = np.asarray([f(ai) for ai in a])\n",
    "    \n",
    "    return mutual_info_regression(a.reshape(-1,1), out)[0]"
   ]
  },
  {
   "cell_type": "code",
   "execution_count": 7,
   "id": "humanitarian-demand",
   "metadata": {},
   "outputs": [],
   "source": [
    "y_scipy = [f_pm_random(t) for t in test2]"
   ]
  },
  {
   "cell_type": "code",
   "execution_count": 17,
   "id": "interstate-given",
   "metadata": {},
   "outputs": [
    {
     "data": {
      "image/png": "[encoded data removed]",
      "text/plain": [
       "<Figure size 432x288 with 1 Axes>"
      ]
     },
     "metadata": {
      "needs_background": "light"
     },
     "output_type": "display_data"
    }
   ],
   "source": [
    "plt.plot([0, test2[-1]],[real,real], \"o-\", label=\"Real\")\n",
    "plt.plot(test, y_pymc,\"o-\", label=\"Pymc3 sampling\")\n",
    "plt.plot(test2, y_pm_random, \"o-\",label=\"Pymc3 random\")\n",
    "plt.plot(test2, y_scipy,\"o-\", label=\"scipy\")\n",
    "plt.legend()\n",
    "plt.show()"
   ]
  },
  {
   "cell_type": "code",
   "execution_count": 21,
   "id": "offensive-ensemble",
   "metadata": {},
   "outputs": [
    {
     "name": "stdout",
     "output_type": "stream",
     "text": [
      "0.6931471805599453 0.6928947646740964 0.6942831748317326 0.6934424436822164\n"
     ]
    }
   ],
   "source": [
    "print(real, y_pymc[-1], y_pm_random[-2], y_scipy[-2])"
   ]
  },
  {
   "cell_type": "code",
   "execution_count": 22,
   "id": "automated-pacific",
   "metadata": {},
   "outputs": [
    {
     "name": "stderr",
     "output_type": "stream",
     "text": [
      "Multiprocess sampling (2 chains in 2 jobs)\n",
      "BinaryGibbsMetropolis: [a]\n"
     ]
    },
    {
     "data": {
      "text/html": [
       "\n",
       "    <div>\n",
       "        <style>\n",
       "            /* Turns off some styling */\n",
       "            progress {\n",
       "                /* gets rid of default border in Firefox and Opera. */\n",
       "                border: none;\n",
       "                /* Needs to be in here for Safari polyfill so background images work as expected. */\n",
       "                background-size: auto;\n",
       "            }\n",
       "            .progress-bar-interrupted, .progress-bar-interrupted::-webkit-progress-bar {\n",
       "                background: #F44336;\n",
       "            }\n",
       "        </style>\n",
       "      <progress value='22000' class='' max='22000' style='width:300px; height:20px; vertical-align: middle;'></progress>\n",
       "      100.00% [22000/22000 00:01<00:00 Sampling 2 chains, 0 divergences]\n",
       "    </div>\n",
       "    "
      ],
      "text/plain": [
       "<IPython.core.display.HTML object>"
      ]
     },
     "metadata": {},
     "output_type": "display_data"
    },
    {
     "name": "stderr",
     "output_type": "stream",
     "text": [
      "Sampling 2 chains for 1_000 tune and 10_000 draw iterations (2_000 + 20_000 draws total) took 2 seconds.\n"
     ]
    },
    {
     "name": "stdout",
     "output_type": "stream",
     "text": [
      "CPU times: user 1.61 s, sys: 578 ms, total: 2.19 s\n",
      "Wall time: 2.38 s\n",
      "CPU times: user 922 ms, sys: 15.6 ms, total: 938 ms\n",
      "Wall time: 943 ms\n",
      "CPU times: user 922 ms, sys: 0 ns, total: 922 ms\n",
      "Wall time: 945 ms\n"
     ]
    },
    {
     "data": {
      "text/plain": [
       "0.6943574333410281"
      ]
     },
     "execution_count": 22,
     "metadata": {},
     "output_type": "execute_result"
    }
   ],
   "source": [
    "%time f_pymc(10_000)\n",
    "%time f_pm_random(100_000)\n",
    "%time f_scipy(100_000)"
   ]
  },
  {
   "cell_type": "code",
   "execution_count": 16,
   "id": "divided-lottery",
   "metadata": {},
   "outputs": [
    {
     "name": "stdout",
     "output_type": "stream",
     "text": [
      "499999500000\n",
      "CPU times: user 93.8 ms, sys: 0 ns, total: 93.8 ms\n",
      "Wall time: 88.6 ms\n"
     ]
    }
   ],
   "source": [
    "%%time\n",
    "s = 0\n",
    "for i in range(1_000_000):\n",
    "    s+=i\n",
    "print(s)"
   ]
  },
  {
   "cell_type": "code",
   "execution_count": 33,
   "id": "general-kruger",
   "metadata": {},
   "outputs": [
    {
     "name": "stdout",
     "output_type": "stream",
     "text": [
      "CPU times: user 13.7 s, sys: 2.16 s, total: 15.9 s\n",
      "Wall time: 10.8 s\n",
      "====================\n",
      "Value of (x,y) that minimises the objective:[0.50322541]\n",
      "Minimum value of the objective: -0.6945846585868338\n",
      "====================\n"
     ]
    },
    {
     "data": {
      "image/png": "[encoded data removed]",
      "text/plain": [
       "<Figure size 720x360 with 2 Axes>"
      ]
     },
     "metadata": {
      "needs_background": "light"
     },
     "output_type": "display_data"
    }
   ],
   "source": [
    "def f_scipy_2(p):\n",
    "    np.random.seed(12345)\n",
    "    a = bernoulli.rvs(p, size=100_000)\n",
    "    out = np.asarray([f(ai) for ai in a])\n",
    "    \n",
    "    return -mutual_info_regression(a.reshape(-1,1), out)[0]\n",
    "\n",
    "INITIAL_DESIGN_NUMDATA = 10\n",
    "PROGRESS = 0\n",
    "MAX_ITER = 50\n",
    "domain = [\n",
    "    {\"name\": \"alice_mu\", \"type\": \"continuous\", \"domain\": (0.000001, 0.999999)}\n",
    "]\n",
    "Bopt = BayesianOptimization(f=f_scipy_2, domain=domain, \n",
    "                         acquisition_type='EI',        # Expected Improvement\n",
    "                         initial_design_numdata=INITIAL_DESIGN_NUMDATA,\n",
    "                         exact_feval = True)\n",
    "%time Bopt.run_optimization(max_iter = MAX_ITER-INITIAL_DESIGN_NUMDATA, eps=1e-8)           # True evaluations, no sample noise)\n",
    "print(\"=\"*20)\n",
    "print(\"Value of (x,y) that minimises the objective:\"+str(Bopt.x_opt))    \n",
    "print(\"Minimum value of the objective: \"+str(Bopt.fx_opt))     \n",
    "print(\"=\"*20)\n",
    "Bopt.plot_convergence()"
   ]
  },
  {
   "cell_type": "code",
   "execution_count": 34,
   "id": "silver-posting",
   "metadata": {},
   "outputs": [
    {
     "data": {
      "image/png": "[encoded data removed]",
      "text/plain": [
       "<Figure size 432x288 with 1 Axes>"
      ]
     },
     "metadata": {
      "needs_background": "light"
     },
     "output_type": "display_data"
    }
   ],
   "source": [
    "Bopt.plot_acquisition()"
   ]
  },
  {
   "cell_type": "code",
   "execution_count": 30,
   "id": "loved-naples",
   "metadata": {},
   "outputs": [
    {
     "name": "stderr",
     "output_type": "stream",
     "text": [
      "Multiprocess sampling (2 chains in 2 jobs)\n",
      "BinaryGibbsMetropolis: [a]\n"
     ]
    },
    {
     "data": {
      "text/html": [
       "\n",
       "    <div>\n",
       "        <style>\n",
       "            /* Turns off some styling */\n",
       "            progress {\n",
       "                /* gets rid of default border in Firefox and Opera. */\n",
       "                border: none;\n",
       "                /* Needs to be in here for Safari polyfill so background images work as expected. */\n",
       "                background-size: auto;\n",
       "            }\n",
       "            .progress-bar-interrupted, .progress-bar-interrupted::-webkit-progress-bar {\n",
       "                background: #F44336;\n",
       "            }\n",
       "        </style>\n",
       "      <progress value='22000' class='' max='22000' style='width:300px; height:20px; vertical-align: middle;'></progress>\n",
       "      100.00% [22000/22000 00:02<00:00 Sampling 2 chains, 0 divergences]\n",
       "    </div>\n",
       "    "
      ],
      "text/plain": [
       "<IPython.core.display.HTML object>"
      ]
     },
     "metadata": {},
     "output_type": "display_data"
    },
    {
     "name": "stderr",
     "output_type": "stream",
     "text": [
      "Sampling 2 chains for 1_000 tune and 10_000 draw iterations (2_000 + 20_000 draws total) took 2 seconds.\n",
      "Multiprocess sampling (2 chains in 2 jobs)\n",
      "BinaryGibbsMetropolis: [a]\n"
     ]
    },
    {
     "data": {
      "text/html": [
       "\n",
       "    <div>\n",
       "        <style>\n",
       "            /* Turns off some styling */\n",
       "            progress {\n",
       "                /* gets rid of default border in Firefox and Opera. */\n",
       "                border: none;\n",
       "                /* Needs to be in here for Safari polyfill so background images work as expected. */\n",
       "                background-size: auto;\n",
       "            }\n",
       "            .progress-bar-interrupted, .progress-bar-interrupted::-webkit-progress-bar {\n",
       "                background: #F44336;\n",
       "            }\n",
       "        </style>\n",
       "      <progress value='22000' class='' max='22000' style='width:300px; height:20px; vertical-align: middle;'></progress>\n",
       "      100.00% [22000/22000 00:02<00:00 Sampling 2 chains, 0 divergences]\n",
       "    </div>\n",
       "    "
      ],
      "text/plain": [
       "<IPython.core.display.HTML object>"
      ]
     },
     "metadata": {},
     "output_type": "display_data"
    },
    {
     "name": "stderr",
     "output_type": "stream",
     "text": [
      "Sampling 2 chains for 1_000 tune and 10_000 draw iterations (2_000 + 20_000 draws total) took 2 seconds.\n",
      "Multiprocess sampling (2 chains in 2 jobs)\n",
      "BinaryGibbsMetropolis: [a]\n"
     ]
    },
    {
     "data": {
      "text/html": [
       "\n",
       "    <div>\n",
       "        <style>\n",
       "            /* Turns off some styling */\n",
       "            progress {\n",
       "                /* gets rid of default border in Firefox and Opera. */\n",
       "                border: none;\n",
       "                /* Needs to be in here for Safari polyfill so background images work as expected. */\n",
       "                background-size: auto;\n",
       "            }\n",
       "            .progress-bar-interrupted, .progress-bar-interrupted::-webkit-progress-bar {\n",
       "                background: #F44336;\n",
       "            }\n",
       "        </style>\n",
       "      <progress value='22000' class='' max='22000' style='width:300px; height:20px; vertical-align: middle;'></progress>\n",
       "      100.00% [22000/22000 00:02<00:00 Sampling 2 chains, 0 divergences]\n",
       "    </div>\n",
       "    "
      ],
      "text/plain": [
       "<IPython.core.display.HTML object>"
      ]
     },
     "metadata": {},
     "output_type": "display_data"
    },
    {
     "name": "stderr",
     "output_type": "stream",
     "text": [
      "Sampling 2 chains for 1_000 tune and 10_000 draw iterations (2_000 + 20_000 draws total) took 2 seconds.\n",
      "Multiprocess sampling (2 chains in 2 jobs)\n",
      "BinaryGibbsMetropolis: [a]\n"
     ]
    },
    {
     "data": {
      "text/html": [
       "\n",
       "    <div>\n",
       "        <style>\n",
       "            /* Turns off some styling */\n",
       "            progress {\n",
       "                /* gets rid of default border in Firefox and Opera. */\n",
       "                border: none;\n",
       "                /* Needs to be in here for Safari polyfill so background images work as expected. */\n",
       "                background-size: auto;\n",
       "            }\n",
       "            .progress-bar-interrupted, .progress-bar-interrupted::-webkit-progress-bar {\n",
       "                background: #F44336;\n",
       "            }\n",
       "        </style>\n",
       "      <progress value='22000' class='' max='22000' style='width:300px; height:20px; vertical-align: middle;'></progress>\n",
       "      100.00% [22000/22000 00:02<00:00 Sampling 2 chains, 0 divergences]\n",
       "    </div>\n",
       "    "
      ],
      "text/plain": [
       "<IPython.core.display.HTML object>"
      ]
     },
     "metadata": {},
     "output_type": "display_data"
    },
    {
     "name": "stderr",
     "output_type": "stream",
     "text": [
      "Sampling 2 chains for 1_000 tune and 10_000 draw iterations (2_000 + 20_000 draws total) took 2 seconds.\n",
      "Multiprocess sampling (2 chains in 2 jobs)\n",
      "BinaryGibbsMetropolis: [a]\n"
     ]
    },
    {
     "data": {
      "text/html": [
       "\n",
       "    <div>\n",
       "        <style>\n",
       "            /* Turns off some styling */\n",
       "            progress {\n",
       "                /* gets rid of default border in Firefox and Opera. */\n",
       "                border: none;\n",
       "                /* Needs to be in here for Safari polyfill so background images work as expected. */\n",
       "                background-size: auto;\n",
       "            }\n",
       "            .progress-bar-interrupted, .progress-bar-interrupted::-webkit-progress-bar {\n",
       "                background: #F44336;\n",
       "            }\n",
       "        </style>\n",
       "      <progress value='22000' class='' max='22000' style='width:300px; height:20px; vertical-align: middle;'></progress>\n",
       "      100.00% [22000/22000 00:02<00:00 Sampling 2 chains, 0 divergences]\n",
       "    </div>\n",
       "    "
      ],
      "text/plain": [
       "<IPython.core.display.HTML object>"
      ]
     },
     "metadata": {},
     "output_type": "display_data"
    },
    {
     "name": "stderr",
     "output_type": "stream",
     "text": [
      "Sampling 2 chains for 1_000 tune and 10_000 draw iterations (2_000 + 20_000 draws total) took 2 seconds.\n",
      "Multiprocess sampling (2 chains in 2 jobs)\n",
      "BinaryGibbsMetropolis: [a]\n"
     ]
    },
    {
     "data": {
      "text/html": [
       "\n",
       "    <div>\n",
       "        <style>\n",
       "            /* Turns off some styling */\n",
       "            progress {\n",
       "                /* gets rid of default border in Firefox and Opera. */\n",
       "                border: none;\n",
       "                /* Needs to be in here for Safari polyfill so background images work as expected. */\n",
       "                background-size: auto;\n",
       "            }\n",
       "            .progress-bar-interrupted, .progress-bar-interrupted::-webkit-progress-bar {\n",
       "                background: #F44336;\n",
       "            }\n",
       "        </style>\n",
       "      <progress value='22000' class='' max='22000' style='width:300px; height:20px; vertical-align: middle;'></progress>\n",
       "      100.00% [22000/22000 00:02<00:00 Sampling 2 chains, 0 divergences]\n",
       "    </div>\n",
       "    "
      ],
      "text/plain": [
       "<IPython.core.display.HTML object>"
      ]
     },
     "metadata": {},
     "output_type": "display_data"
    },
    {
     "name": "stderr",
     "output_type": "stream",
     "text": [
      "Sampling 2 chains for 1_000 tune and 10_000 draw iterations (2_000 + 20_000 draws total) took 2 seconds.\n",
      "Multiprocess sampling (2 chains in 2 jobs)\n",
      "BinaryGibbsMetropolis: [a]\n"
     ]
    },
    {
     "data": {
      "text/html": [
       "\n",
       "    <div>\n",
       "        <style>\n",
       "            /* Turns off some styling */\n",
       "            progress {\n",
       "                /* gets rid of default border in Firefox and Opera. */\n",
       "                border: none;\n",
       "                /* Needs to be in here for Safari polyfill so background images work as expected. */\n",
       "                background-size: auto;\n",
       "            }\n",
       "            .progress-bar-interrupted, .progress-bar-interrupted::-webkit-progress-bar {\n",
       "                background: #F44336;\n",
       "            }\n",
       "        </style>\n",
       "      <progress value='22000' class='' max='22000' style='width:300px; height:20px; vertical-align: middle;'></progress>\n",
       "      100.00% [22000/22000 00:02<00:00 Sampling 2 chains, 0 divergences]\n",
       "    </div>\n",
       "    "
      ],
      "text/plain": [
       "<IPython.core.display.HTML object>"
      ]
     },
     "metadata": {},
     "output_type": "display_data"
    },
    {
     "name": "stderr",
     "output_type": "stream",
     "text": [
      "Sampling 2 chains for 1_000 tune and 10_000 draw iterations (2_000 + 20_000 draws total) took 2 seconds.\n",
      "Multiprocess sampling (2 chains in 2 jobs)\n",
      "BinaryGibbsMetropolis: [a]\n"
     ]
    },
    {
     "data": {
      "text/html": [
       "\n",
       "    <div>\n",
       "        <style>\n",
       "            /* Turns off some styling */\n",
       "            progress {\n",
       "                /* gets rid of default border in Firefox and Opera. */\n",
       "                border: none;\n",
       "                /* Needs to be in here for Safari polyfill so background images work as expected. */\n",
       "                background-size: auto;\n",
       "            }\n",
       "            .progress-bar-interrupted, .progress-bar-interrupted::-webkit-progress-bar {\n",
       "                background: #F44336;\n",
       "            }\n",
       "        </style>\n",
       "      <progress value='22000' class='' max='22000' style='width:300px; height:20px; vertical-align: middle;'></progress>\n",
       "      100.00% [22000/22000 00:02<00:00 Sampling 2 chains, 0 divergences]\n",
       "    </div>\n",
       "    "
      ],
      "text/plain": [
       "<IPython.core.display.HTML object>"
      ]
     },
     "metadata": {},
     "output_type": "display_data"
    },
    {
     "name": "stderr",
     "output_type": "stream",
     "text": [
      "Sampling 2 chains for 1_000 tune and 10_000 draw iterations (2_000 + 20_000 draws total) took 2 seconds.\n",
      "Multiprocess sampling (2 chains in 2 jobs)\n",
      "BinaryGibbsMetropolis: [a]\n"
     ]
    },
    {
     "data": {
      "text/html": [
       "\n",
       "    <div>\n",
       "        <style>\n",
       "            /* Turns off some styling */\n",
       "            progress {\n",
       "                /* gets rid of default border in Firefox and Opera. */\n",
       "                border: none;\n",
       "                /* Needs to be in here for Safari polyfill so background images work as expected. */\n",
       "                background-size: auto;\n",
       "            }\n",
       "            .progress-bar-interrupted, .progress-bar-interrupted::-webkit-progress-bar {\n",
       "                background: #F44336;\n",
       "            }\n",
       "        </style>\n",
       "      <progress value='22000' class='' max='22000' style='width:300px; height:20px; vertical-align: middle;'></progress>\n",
       "      100.00% [22000/22000 00:02<00:00 Sampling 2 chains, 0 divergences]\n",
       "    </div>\n",
       "    "
      ],
      "text/plain": [
       "<IPython.core.display.HTML object>"
      ]
     },
     "metadata": {},
     "output_type": "display_data"
    },
    {
     "name": "stderr",
     "output_type": "stream",
     "text": [
      "Sampling 2 chains for 1_000 tune and 10_000 draw iterations (2_000 + 20_000 draws total) took 2 seconds.\n",
      "Multiprocess sampling (2 chains in 2 jobs)\n",
      "BinaryGibbsMetropolis: [a]\n"
     ]
    },
    {
     "data": {
      "text/html": [
       "\n",
       "    <div>\n",
       "        <style>\n",
       "            /* Turns off some styling */\n",
       "            progress {\n",
       "                /* gets rid of default border in Firefox and Opera. */\n",
       "                border: none;\n",
       "                /* Needs to be in here for Safari polyfill so background images work as expected. */\n",
       "                background-size: auto;\n",
       "            }\n",
       "            .progress-bar-interrupted, .progress-bar-interrupted::-webkit-progress-bar {\n",
       "                background: #F44336;\n",
       "            }\n",
       "        </style>\n",
       "      <progress value='22000' class='' max='22000' style='width:300px; height:20px; vertical-align: middle;'></progress>\n",
       "      100.00% [22000/22000 00:01<00:00 Sampling 2 chains, 0 divergences]\n",
       "    </div>\n",
       "    "
      ],
      "text/plain": [
       "<IPython.core.display.HTML object>"
      ]
     },
     "metadata": {},
     "output_type": "display_data"
    },
    {
     "name": "stderr",
     "output_type": "stream",
     "text": [
      "Sampling 2 chains for 1_000 tune and 10_000 draw iterations (2_000 + 20_000 draws total) took 2 seconds.\n",
      "Multiprocess sampling (2 chains in 2 jobs)\n",
      "BinaryGibbsMetropolis: [a]\n"
     ]
    },
    {
     "data": {
      "text/html": [
       "\n",
       "    <div>\n",
       "        <style>\n",
       "            /* Turns off some styling */\n",
       "            progress {\n",
       "                /* gets rid of default border in Firefox and Opera. */\n",
       "                border: none;\n",
       "                /* Needs to be in here for Safari polyfill so background images work as expected. */\n",
       "                background-size: auto;\n",
       "            }\n",
       "            .progress-bar-interrupted, .progress-bar-interrupted::-webkit-progress-bar {\n",
       "                background: #F44336;\n",
       "            }\n",
       "        </style>\n",
       "      <progress value='22000' class='' max='22000' style='width:300px; height:20px; vertical-align: middle;'></progress>\n",
       "      100.00% [22000/22000 00:01<00:00 Sampling 2 chains, 0 divergences]\n",
       "    </div>\n",
       "    "
      ],
      "text/plain": [
       "<IPython.core.display.HTML object>"
      ]
     },
     "metadata": {},
     "output_type": "display_data"
    },
    {
     "name": "stderr",
     "output_type": "stream",
     "text": [
      "Sampling 2 chains for 1_000 tune and 10_000 draw iterations (2_000 + 20_000 draws total) took 2 seconds.\n",
      "Multiprocess sampling (2 chains in 2 jobs)\n",
      "BinaryGibbsMetropolis: [a]\n"
     ]
    },
    {
     "data": {
      "text/html": [
       "\n",
       "    <div>\n",
       "        <style>\n",
       "            /* Turns off some styling */\n",
       "            progress {\n",
       "                /* gets rid of default border in Firefox and Opera. */\n",
       "                border: none;\n",
       "                /* Needs to be in here for Safari polyfill so background images work as expected. */\n",
       "                background-size: auto;\n",
       "            }\n",
       "            .progress-bar-interrupted, .progress-bar-interrupted::-webkit-progress-bar {\n",
       "                background: #F44336;\n",
       "            }\n",
       "        </style>\n",
       "      <progress value='22000' class='' max='22000' style='width:300px; height:20px; vertical-align: middle;'></progress>\n",
       "      100.00% [22000/22000 00:01<00:00 Sampling 2 chains, 0 divergences]\n",
       "    </div>\n",
       "    "
      ],
      "text/plain": [
       "<IPython.core.display.HTML object>"
      ]
     },
     "metadata": {},
     "output_type": "display_data"
    },
    {
     "name": "stderr",
     "output_type": "stream",
     "text": [
      "Sampling 2 chains for 1_000 tune and 10_000 draw iterations (2_000 + 20_000 draws total) took 2 seconds.\n",
      "Multiprocess sampling (2 chains in 2 jobs)\n",
      "BinaryGibbsMetropolis: [a]\n"
     ]
    },
    {
     "data": {
      "text/html": [
       "\n",
       "    <div>\n",
       "        <style>\n",
       "            /* Turns off some styling */\n",
       "            progress {\n",
       "                /* gets rid of default border in Firefox and Opera. */\n",
       "                border: none;\n",
       "                /* Needs to be in here for Safari polyfill so background images work as expected. */\n",
       "                background-size: auto;\n",
       "            }\n",
       "            .progress-bar-interrupted, .progress-bar-interrupted::-webkit-progress-bar {\n",
       "                background: #F44336;\n",
       "            }\n",
       "        </style>\n",
       "      <progress value='22000' class='' max='22000' style='width:300px; height:20px; vertical-align: middle;'></progress>\n",
       "      100.00% [22000/22000 00:01<00:00 Sampling 2 chains, 0 divergences]\n",
       "    </div>\n",
       "    "
      ],
      "text/plain": [
       "<IPython.core.display.HTML object>"
      ]
     },
     "metadata": {},
     "output_type": "display_data"
    },
    {
     "name": "stderr",
     "output_type": "stream",
     "text": [
      "Sampling 2 chains for 1_000 tune and 10_000 draw iterations (2_000 + 20_000 draws total) took 2 seconds.\n",
      "Multiprocess sampling (2 chains in 2 jobs)\n",
      "BinaryGibbsMetropolis: [a]\n"
     ]
    },
    {
     "data": {
      "text/html": [
       "\n",
       "    <div>\n",
       "        <style>\n",
       "            /* Turns off some styling */\n",
       "            progress {\n",
       "                /* gets rid of default border in Firefox and Opera. */\n",
       "                border: none;\n",
       "                /* Needs to be in here for Safari polyfill so background images work as expected. */\n",
       "                background-size: auto;\n",
       "            }\n",
       "            .progress-bar-interrupted, .progress-bar-interrupted::-webkit-progress-bar {\n",
       "                background: #F44336;\n",
       "            }\n",
       "        </style>\n",
       "      <progress value='22000' class='' max='22000' style='width:300px; height:20px; vertical-align: middle;'></progress>\n",
       "      100.00% [22000/22000 00:01<00:00 Sampling 2 chains, 0 divergences]\n",
       "    </div>\n",
       "    "
      ],
      "text/plain": [
       "<IPython.core.display.HTML object>"
      ]
     },
     "metadata": {},
     "output_type": "display_data"
    },
    {
     "name": "stderr",
     "output_type": "stream",
     "text": [
      "Sampling 2 chains for 1_000 tune and 10_000 draw iterations (2_000 + 20_000 draws total) took 2 seconds.\n",
      "Multiprocess sampling (2 chains in 2 jobs)\n",
      "BinaryGibbsMetropolis: [a]\n"
     ]
    },
    {
     "data": {
      "text/html": [
       "\n",
       "    <div>\n",
       "        <style>\n",
       "            /* Turns off some styling */\n",
       "            progress {\n",
       "                /* gets rid of default border in Firefox and Opera. */\n",
       "                border: none;\n",
       "                /* Needs to be in here for Safari polyfill so background images work as expected. */\n",
       "                background-size: auto;\n",
       "            }\n",
       "            .progress-bar-interrupted, .progress-bar-interrupted::-webkit-progress-bar {\n",
       "                background: #F44336;\n",
       "            }\n",
       "        </style>\n",
       "      <progress value='22000' class='' max='22000' style='width:300px; height:20px; vertical-align: middle;'></progress>\n",
       "      100.00% [22000/22000 00:01<00:00 Sampling 2 chains, 0 divergences]\n",
       "    </div>\n",
       "    "
      ],
      "text/plain": [
       "<IPython.core.display.HTML object>"
      ]
     },
     "metadata": {},
     "output_type": "display_data"
    },
    {
     "name": "stderr",
     "output_type": "stream",
     "text": [
      "Sampling 2 chains for 1_000 tune and 10_000 draw iterations (2_000 + 20_000 draws total) took 2 seconds.\n",
      "Multiprocess sampling (2 chains in 2 jobs)\n",
      "BinaryGibbsMetropolis: [a]\n"
     ]
    },
    {
     "data": {
      "text/html": [
       "\n",
       "    <div>\n",
       "        <style>\n",
       "            /* Turns off some styling */\n",
       "            progress {\n",
       "                /* gets rid of default border in Firefox and Opera. */\n",
       "                border: none;\n",
       "                /* Needs to be in here for Safari polyfill so background images work as expected. */\n",
       "                background-size: auto;\n",
       "            }\n",
       "            .progress-bar-interrupted, .progress-bar-interrupted::-webkit-progress-bar {\n",
       "                background: #F44336;\n",
       "            }\n",
       "        </style>\n",
       "      <progress value='22000' class='' max='22000' style='width:300px; height:20px; vertical-align: middle;'></progress>\n",
       "      100.00% [22000/22000 00:02<00:00 Sampling 2 chains, 0 divergences]\n",
       "    </div>\n",
       "    "
      ],
      "text/plain": [
       "<IPython.core.display.HTML object>"
      ]
     },
     "metadata": {},
     "output_type": "display_data"
    },
    {
     "name": "stderr",
     "output_type": "stream",
     "text": [
      "Sampling 2 chains for 1_000 tune and 10_000 draw iterations (2_000 + 20_000 draws total) took 2 seconds.\n",
      "Multiprocess sampling (2 chains in 2 jobs)\n",
      "BinaryGibbsMetropolis: [a]\n"
     ]
    },
    {
     "data": {
      "text/html": [
       "\n",
       "    <div>\n",
       "        <style>\n",
       "            /* Turns off some styling */\n",
       "            progress {\n",
       "                /* gets rid of default border in Firefox and Opera. */\n",
       "                border: none;\n",
       "                /* Needs to be in here for Safari polyfill so background images work as expected. */\n",
       "                background-size: auto;\n",
       "            }\n",
       "            .progress-bar-interrupted, .progress-bar-interrupted::-webkit-progress-bar {\n",
       "                background: #F44336;\n",
       "            }\n",
       "        </style>\n",
       "      <progress value='22000' class='' max='22000' style='width:300px; height:20px; vertical-align: middle;'></progress>\n",
       "      100.00% [22000/22000 00:01<00:00 Sampling 2 chains, 0 divergences]\n",
       "    </div>\n",
       "    "
      ],
      "text/plain": [
       "<IPython.core.display.HTML object>"
      ]
     },
     "metadata": {},
     "output_type": "display_data"
    },
    {
     "name": "stderr",
     "output_type": "stream",
     "text": [
      "Sampling 2 chains for 1_000 tune and 10_000 draw iterations (2_000 + 20_000 draws total) took 2 seconds.\n",
      "Multiprocess sampling (2 chains in 2 jobs)\n",
      "BinaryGibbsMetropolis: [a]\n"
     ]
    },
    {
     "data": {
      "text/html": [
       "\n",
       "    <div>\n",
       "        <style>\n",
       "            /* Turns off some styling */\n",
       "            progress {\n",
       "                /* gets rid of default border in Firefox and Opera. */\n",
       "                border: none;\n",
       "                /* Needs to be in here for Safari polyfill so background images work as expected. */\n",
       "                background-size: auto;\n",
       "            }\n",
       "            .progress-bar-interrupted, .progress-bar-interrupted::-webkit-progress-bar {\n",
       "                background: #F44336;\n",
       "            }\n",
       "        </style>\n",
       "      <progress value='22000' class='' max='22000' style='width:300px; height:20px; vertical-align: middle;'></progress>\n",
       "      100.00% [22000/22000 00:01<00:00 Sampling 2 chains, 0 divergences]\n",
       "    </div>\n",
       "    "
      ],
      "text/plain": [
       "<IPython.core.display.HTML object>"
      ]
     },
     "metadata": {},
     "output_type": "display_data"
    },
    {
     "name": "stderr",
     "output_type": "stream",
     "text": [
      "Sampling 2 chains for 1_000 tune and 10_000 draw iterations (2_000 + 20_000 draws total) took 2 seconds.\n",
      "Multiprocess sampling (2 chains in 2 jobs)\n",
      "BinaryGibbsMetropolis: [a]\n"
     ]
    },
    {
     "data": {
      "text/html": [
       "\n",
       "    <div>\n",
       "        <style>\n",
       "            /* Turns off some styling */\n",
       "            progress {\n",
       "                /* gets rid of default border in Firefox and Opera. */\n",
       "                border: none;\n",
       "                /* Needs to be in here for Safari polyfill so background images work as expected. */\n",
       "                background-size: auto;\n",
       "            }\n",
       "            .progress-bar-interrupted, .progress-bar-interrupted::-webkit-progress-bar {\n",
       "                background: #F44336;\n",
       "            }\n",
       "        </style>\n",
       "      <progress value='22000' class='' max='22000' style='width:300px; height:20px; vertical-align: middle;'></progress>\n",
       "      100.00% [22000/22000 00:01<00:00 Sampling 2 chains, 0 divergences]\n",
       "    </div>\n",
       "    "
      ],
      "text/plain": [
       "<IPython.core.display.HTML object>"
      ]
     },
     "metadata": {},
     "output_type": "display_data"
    },
    {
     "name": "stderr",
     "output_type": "stream",
     "text": [
      "Sampling 2 chains for 1_000 tune and 10_000 draw iterations (2_000 + 20_000 draws total) took 2 seconds.\n",
      "Multiprocess sampling (2 chains in 2 jobs)\n",
      "BinaryGibbsMetropolis: [a]\n"
     ]
    },
    {
     "data": {
      "text/html": [
       "\n",
       "    <div>\n",
       "        <style>\n",
       "            /* Turns off some styling */\n",
       "            progress {\n",
       "                /* gets rid of default border in Firefox and Opera. */\n",
       "                border: none;\n",
       "                /* Needs to be in here for Safari polyfill so background images work as expected. */\n",
       "                background-size: auto;\n",
       "            }\n",
       "            .progress-bar-interrupted, .progress-bar-interrupted::-webkit-progress-bar {\n",
       "                background: #F44336;\n",
       "            }\n",
       "        </style>\n",
       "      <progress value='22000' class='' max='22000' style='width:300px; height:20px; vertical-align: middle;'></progress>\n",
       "      100.00% [22000/22000 00:01<00:00 Sampling 2 chains, 0 divergences]\n",
       "    </div>\n",
       "    "
      ],
      "text/plain": [
       "<IPython.core.display.HTML object>"
      ]
     },
     "metadata": {},
     "output_type": "display_data"
    },
    {
     "name": "stderr",
     "output_type": "stream",
     "text": [
      "Sampling 2 chains for 1_000 tune and 10_000 draw iterations (2_000 + 20_000 draws total) took 2 seconds.\n",
      "Multiprocess sampling (2 chains in 2 jobs)\n",
      "BinaryGibbsMetropolis: [a]\n"
     ]
    },
    {
     "data": {
      "text/html": [
       "\n",
       "    <div>\n",
       "        <style>\n",
       "            /* Turns off some styling */\n",
       "            progress {\n",
       "                /* gets rid of default border in Firefox and Opera. */\n",
       "                border: none;\n",
       "                /* Needs to be in here for Safari polyfill so background images work as expected. */\n",
       "                background-size: auto;\n",
       "            }\n",
       "            .progress-bar-interrupted, .progress-bar-interrupted::-webkit-progress-bar {\n",
       "                background: #F44336;\n",
       "            }\n",
       "        </style>\n",
       "      <progress value='22000' class='' max='22000' style='width:300px; height:20px; vertical-align: middle;'></progress>\n",
       "      100.00% [22000/22000 00:01<00:00 Sampling 2 chains, 0 divergences]\n",
       "    </div>\n",
       "    "
      ],
      "text/plain": [
       "<IPython.core.display.HTML object>"
      ]
     },
     "metadata": {},
     "output_type": "display_data"
    },
    {
     "name": "stderr",
     "output_type": "stream",
     "text": [
      "Sampling 2 chains for 1_000 tune and 10_000 draw iterations (2_000 + 20_000 draws total) took 2 seconds.\n",
      "Multiprocess sampling (2 chains in 2 jobs)\n",
      "BinaryGibbsMetropolis: [a]\n"
     ]
    },
    {
     "data": {
      "text/html": [
       "\n",
       "    <div>\n",
       "        <style>\n",
       "            /* Turns off some styling */\n",
       "            progress {\n",
       "                /* gets rid of default border in Firefox and Opera. */\n",
       "                border: none;\n",
       "                /* Needs to be in here for Safari polyfill so background images work as expected. */\n",
       "                background-size: auto;\n",
       "            }\n",
       "            .progress-bar-interrupted, .progress-bar-interrupted::-webkit-progress-bar {\n",
       "                background: #F44336;\n",
       "            }\n",
       "        </style>\n",
       "      <progress value='22000' class='' max='22000' style='width:300px; height:20px; vertical-align: middle;'></progress>\n",
       "      100.00% [22000/22000 00:01<00:00 Sampling 2 chains, 0 divergences]\n",
       "    </div>\n",
       "    "
      ],
      "text/plain": [
       "<IPython.core.display.HTML object>"
      ]
     },
     "metadata": {},
     "output_type": "display_data"
    },
    {
     "name": "stderr",
     "output_type": "stream",
     "text": [
      "Sampling 2 chains for 1_000 tune and 10_000 draw iterations (2_000 + 20_000 draws total) took 2 seconds.\n",
      "Multiprocess sampling (2 chains in 2 jobs)\n",
      "BinaryGibbsMetropolis: [a]\n"
     ]
    },
    {
     "data": {
      "text/html": [
       "\n",
       "    <div>\n",
       "        <style>\n",
       "            /* Turns off some styling */\n",
       "            progress {\n",
       "                /* gets rid of default border in Firefox and Opera. */\n",
       "                border: none;\n",
       "                /* Needs to be in here for Safari polyfill so background images work as expected. */\n",
       "                background-size: auto;\n",
       "            }\n",
       "            .progress-bar-interrupted, .progress-bar-interrupted::-webkit-progress-bar {\n",
       "                background: #F44336;\n",
       "            }\n",
       "        </style>\n",
       "      <progress value='22000' class='' max='22000' style='width:300px; height:20px; vertical-align: middle;'></progress>\n",
       "      100.00% [22000/22000 00:01<00:00 Sampling 2 chains, 0 divergences]\n",
       "    </div>\n",
       "    "
      ],
      "text/plain": [
       "<IPython.core.display.HTML object>"
      ]
     },
     "metadata": {},
     "output_type": "display_data"
    },
    {
     "name": "stderr",
     "output_type": "stream",
     "text": [
      "Sampling 2 chains for 1_000 tune and 10_000 draw iterations (2_000 + 20_000 draws total) took 2 seconds.\n",
      "Multiprocess sampling (2 chains in 2 jobs)\n",
      "BinaryGibbsMetropolis: [a]\n"
     ]
    },
    {
     "data": {
      "text/html": [
       "\n",
       "    <div>\n",
       "        <style>\n",
       "            /* Turns off some styling */\n",
       "            progress {\n",
       "                /* gets rid of default border in Firefox and Opera. */\n",
       "                border: none;\n",
       "                /* Needs to be in here for Safari polyfill so background images work as expected. */\n",
       "                background-size: auto;\n",
       "            }\n",
       "            .progress-bar-interrupted, .progress-bar-interrupted::-webkit-progress-bar {\n",
       "                background: #F44336;\n",
       "            }\n",
       "        </style>\n",
       "      <progress value='22000' class='' max='22000' style='width:300px; height:20px; vertical-align: middle;'></progress>\n",
       "      100.00% [22000/22000 00:01<00:00 Sampling 2 chains, 0 divergences]\n",
       "    </div>\n",
       "    "
      ],
      "text/plain": [
       "<IPython.core.display.HTML object>"
      ]
     },
     "metadata": {},
     "output_type": "display_data"
    },
    {
     "name": "stderr",
     "output_type": "stream",
     "text": [
      "Sampling 2 chains for 1_000 tune and 10_000 draw iterations (2_000 + 20_000 draws total) took 2 seconds.\n",
      "Multiprocess sampling (2 chains in 2 jobs)\n",
      "BinaryGibbsMetropolis: [a]\n"
     ]
    },
    {
     "data": {
      "text/html": [
       "\n",
       "    <div>\n",
       "        <style>\n",
       "            /* Turns off some styling */\n",
       "            progress {\n",
       "                /* gets rid of default border in Firefox and Opera. */\n",
       "                border: none;\n",
       "                /* Needs to be in here for Safari polyfill so background images work as expected. */\n",
       "                background-size: auto;\n",
       "            }\n",
       "            .progress-bar-interrupted, .progress-bar-interrupted::-webkit-progress-bar {\n",
       "                background: #F44336;\n",
       "            }\n",
       "        </style>\n",
       "      <progress value='22000' class='' max='22000' style='width:300px; height:20px; vertical-align: middle;'></progress>\n",
       "      100.00% [22000/22000 00:01<00:00 Sampling 2 chains, 0 divergences]\n",
       "    </div>\n",
       "    "
      ],
      "text/plain": [
       "<IPython.core.display.HTML object>"
      ]
     },
     "metadata": {},
     "output_type": "display_data"
    },
    {
     "name": "stderr",
     "output_type": "stream",
     "text": [
      "Sampling 2 chains for 1_000 tune and 10_000 draw iterations (2_000 + 20_000 draws total) took 2 seconds.\n",
      "Multiprocess sampling (2 chains in 2 jobs)\n",
      "BinaryGibbsMetropolis: [a]\n"
     ]
    },
    {
     "data": {
      "text/html": [
       "\n",
       "    <div>\n",
       "        <style>\n",
       "            /* Turns off some styling */\n",
       "            progress {\n",
       "                /* gets rid of default border in Firefox and Opera. */\n",
       "                border: none;\n",
       "                /* Needs to be in here for Safari polyfill so background images work as expected. */\n",
       "                background-size: auto;\n",
       "            }\n",
       "            .progress-bar-interrupted, .progress-bar-interrupted::-webkit-progress-bar {\n",
       "                background: #F44336;\n",
       "            }\n",
       "        </style>\n",
       "      <progress value='22000' class='' max='22000' style='width:300px; height:20px; vertical-align: middle;'></progress>\n",
       "      100.00% [22000/22000 00:01<00:00 Sampling 2 chains, 0 divergences]\n",
       "    </div>\n",
       "    "
      ],
      "text/plain": [
       "<IPython.core.display.HTML object>"
      ]
     },
     "metadata": {},
     "output_type": "display_data"
    },
    {
     "name": "stderr",
     "output_type": "stream",
     "text": [
      "Sampling 2 chains for 1_000 tune and 10_000 draw iterations (2_000 + 20_000 draws total) took 2 seconds.\n",
      "Multiprocess sampling (2 chains in 2 jobs)\n",
      "BinaryGibbsMetropolis: [a]\n"
     ]
    },
    {
     "data": {
      "text/html": [
       "\n",
       "    <div>\n",
       "        <style>\n",
       "            /* Turns off some styling */\n",
       "            progress {\n",
       "                /* gets rid of default border in Firefox and Opera. */\n",
       "                border: none;\n",
       "                /* Needs to be in here for Safari polyfill so background images work as expected. */\n",
       "                background-size: auto;\n",
       "            }\n",
       "            .progress-bar-interrupted, .progress-bar-interrupted::-webkit-progress-bar {\n",
       "                background: #F44336;\n",
       "            }\n",
       "        </style>\n",
       "      <progress value='22000' class='' max='22000' style='width:300px; height:20px; vertical-align: middle;'></progress>\n",
       "      100.00% [22000/22000 00:01<00:00 Sampling 2 chains, 0 divergences]\n",
       "    </div>\n",
       "    "
      ],
      "text/plain": [
       "<IPython.core.display.HTML object>"
      ]
     },
     "metadata": {},
     "output_type": "display_data"
    },
    {
     "name": "stderr",
     "output_type": "stream",
     "text": [
      "Sampling 2 chains for 1_000 tune and 10_000 draw iterations (2_000 + 20_000 draws total) took 2 seconds.\n",
      "Multiprocess sampling (2 chains in 2 jobs)\n",
      "BinaryGibbsMetropolis: [a]\n"
     ]
    },
    {
     "data": {
      "text/html": [
       "\n",
       "    <div>\n",
       "        <style>\n",
       "            /* Turns off some styling */\n",
       "            progress {\n",
       "                /* gets rid of default border in Firefox and Opera. */\n",
       "                border: none;\n",
       "                /* Needs to be in here for Safari polyfill so background images work as expected. */\n",
       "                background-size: auto;\n",
       "            }\n",
       "            .progress-bar-interrupted, .progress-bar-interrupted::-webkit-progress-bar {\n",
       "                background: #F44336;\n",
       "            }\n",
       "        </style>\n",
       "      <progress value='22000' class='' max='22000' style='width:300px; height:20px; vertical-align: middle;'></progress>\n",
       "      100.00% [22000/22000 00:01<00:00 Sampling 2 chains, 0 divergences]\n",
       "    </div>\n",
       "    "
      ],
      "text/plain": [
       "<IPython.core.display.HTML object>"
      ]
     },
     "metadata": {},
     "output_type": "display_data"
    },
    {
     "name": "stderr",
     "output_type": "stream",
     "text": [
      "Sampling 2 chains for 1_000 tune and 10_000 draw iterations (2_000 + 20_000 draws total) took 2 seconds.\n",
      "Multiprocess sampling (2 chains in 2 jobs)\n",
      "BinaryGibbsMetropolis: [a]\n"
     ]
    },
    {
     "data": {
      "text/html": [
       "\n",
       "    <div>\n",
       "        <style>\n",
       "            /* Turns off some styling */\n",
       "            progress {\n",
       "                /* gets rid of default border in Firefox and Opera. */\n",
       "                border: none;\n",
       "                /* Needs to be in here for Safari polyfill so background images work as expected. */\n",
       "                background-size: auto;\n",
       "            }\n",
       "            .progress-bar-interrupted, .progress-bar-interrupted::-webkit-progress-bar {\n",
       "                background: #F44336;\n",
       "            }\n",
       "        </style>\n",
       "      <progress value='22000' class='' max='22000' style='width:300px; height:20px; vertical-align: middle;'></progress>\n",
       "      100.00% [22000/22000 00:01<00:00 Sampling 2 chains, 0 divergences]\n",
       "    </div>\n",
       "    "
      ],
      "text/plain": [
       "<IPython.core.display.HTML object>"
      ]
     },
     "metadata": {},
     "output_type": "display_data"
    },
    {
     "name": "stderr",
     "output_type": "stream",
     "text": [
      "Sampling 2 chains for 1_000 tune and 10_000 draw iterations (2_000 + 20_000 draws total) took 2 seconds.\n",
      "Multiprocess sampling (2 chains in 2 jobs)\n",
      "BinaryGibbsMetropolis: [a]\n"
     ]
    },
    {
     "data": {
      "text/html": [
       "\n",
       "    <div>\n",
       "        <style>\n",
       "            /* Turns off some styling */\n",
       "            progress {\n",
       "                /* gets rid of default border in Firefox and Opera. */\n",
       "                border: none;\n",
       "                /* Needs to be in here for Safari polyfill so background images work as expected. */\n",
       "                background-size: auto;\n",
       "            }\n",
       "            .progress-bar-interrupted, .progress-bar-interrupted::-webkit-progress-bar {\n",
       "                background: #F44336;\n",
       "            }\n",
       "        </style>\n",
       "      <progress value='22000' class='' max='22000' style='width:300px; height:20px; vertical-align: middle;'></progress>\n",
       "      100.00% [22000/22000 00:01<00:00 Sampling 2 chains, 0 divergences]\n",
       "    </div>\n",
       "    "
      ],
      "text/plain": [
       "<IPython.core.display.HTML object>"
      ]
     },
     "metadata": {},
     "output_type": "display_data"
    },
    {
     "name": "stderr",
     "output_type": "stream",
     "text": [
      "Sampling 2 chains for 1_000 tune and 10_000 draw iterations (2_000 + 20_000 draws total) took 2 seconds.\n",
      "Multiprocess sampling (2 chains in 2 jobs)\n",
      "BinaryGibbsMetropolis: [a]\n"
     ]
    },
    {
     "data": {
      "text/html": [
       "\n",
       "    <div>\n",
       "        <style>\n",
       "            /* Turns off some styling */\n",
       "            progress {\n",
       "                /* gets rid of default border in Firefox and Opera. */\n",
       "                border: none;\n",
       "                /* Needs to be in here for Safari polyfill so background images work as expected. */\n",
       "                background-size: auto;\n",
       "            }\n",
       "            .progress-bar-interrupted, .progress-bar-interrupted::-webkit-progress-bar {\n",
       "                background: #F44336;\n",
       "            }\n",
       "        </style>\n",
       "      <progress value='22000' class='' max='22000' style='width:300px; height:20px; vertical-align: middle;'></progress>\n",
       "      100.00% [22000/22000 00:01<00:00 Sampling 2 chains, 0 divergences]\n",
       "    </div>\n",
       "    "
      ],
      "text/plain": [
       "<IPython.core.display.HTML object>"
      ]
     },
     "metadata": {},
     "output_type": "display_data"
    },
    {
     "name": "stderr",
     "output_type": "stream",
     "text": [
      "Sampling 2 chains for 1_000 tune and 10_000 draw iterations (2_000 + 20_000 draws total) took 2 seconds.\n",
      "Multiprocess sampling (2 chains in 2 jobs)\n",
      "BinaryGibbsMetropolis: [a]\n"
     ]
    },
    {
     "data": {
      "text/html": [
       "\n",
       "    <div>\n",
       "        <style>\n",
       "            /* Turns off some styling */\n",
       "            progress {\n",
       "                /* gets rid of default border in Firefox and Opera. */\n",
       "                border: none;\n",
       "                /* Needs to be in here for Safari polyfill so background images work as expected. */\n",
       "                background-size: auto;\n",
       "            }\n",
       "            .progress-bar-interrupted, .progress-bar-interrupted::-webkit-progress-bar {\n",
       "                background: #F44336;\n",
       "            }\n",
       "        </style>\n",
       "      <progress value='22000' class='' max='22000' style='width:300px; height:20px; vertical-align: middle;'></progress>\n",
       "      100.00% [22000/22000 00:01<00:00 Sampling 2 chains, 0 divergences]\n",
       "    </div>\n",
       "    "
      ],
      "text/plain": [
       "<IPython.core.display.HTML object>"
      ]
     },
     "metadata": {},
     "output_type": "display_data"
    },
    {
     "name": "stderr",
     "output_type": "stream",
     "text": [
      "Sampling 2 chains for 1_000 tune and 10_000 draw iterations (2_000 + 20_000 draws total) took 2 seconds.\n",
      "Multiprocess sampling (2 chains in 2 jobs)\n",
      "BinaryGibbsMetropolis: [a]\n"
     ]
    },
    {
     "data": {
      "text/html": [
       "\n",
       "    <div>\n",
       "        <style>\n",
       "            /* Turns off some styling */\n",
       "            progress {\n",
       "                /* gets rid of default border in Firefox and Opera. */\n",
       "                border: none;\n",
       "                /* Needs to be in here for Safari polyfill so background images work as expected. */\n",
       "                background-size: auto;\n",
       "            }\n",
       "            .progress-bar-interrupted, .progress-bar-interrupted::-webkit-progress-bar {\n",
       "                background: #F44336;\n",
       "            }\n",
       "        </style>\n",
       "      <progress value='22000' class='' max='22000' style='width:300px; height:20px; vertical-align: middle;'></progress>\n",
       "      100.00% [22000/22000 00:01<00:00 Sampling 2 chains, 0 divergences]\n",
       "    </div>\n",
       "    "
      ],
      "text/plain": [
       "<IPython.core.display.HTML object>"
      ]
     },
     "metadata": {},
     "output_type": "display_data"
    },
    {
     "name": "stderr",
     "output_type": "stream",
     "text": [
      "Sampling 2 chains for 1_000 tune and 10_000 draw iterations (2_000 + 20_000 draws total) took 2 seconds.\n",
      "Multiprocess sampling (2 chains in 2 jobs)\n",
      "BinaryGibbsMetropolis: [a]\n"
     ]
    },
    {
     "data": {
      "text/html": [
       "\n",
       "    <div>\n",
       "        <style>\n",
       "            /* Turns off some styling */\n",
       "            progress {\n",
       "                /* gets rid of default border in Firefox and Opera. */\n",
       "                border: none;\n",
       "                /* Needs to be in here for Safari polyfill so background images work as expected. */\n",
       "                background-size: auto;\n",
       "            }\n",
       "            .progress-bar-interrupted, .progress-bar-interrupted::-webkit-progress-bar {\n",
       "                background: #F44336;\n",
       "            }\n",
       "        </style>\n",
       "      <progress value='22000' class='' max='22000' style='width:300px; height:20px; vertical-align: middle;'></progress>\n",
       "      100.00% [22000/22000 00:01<00:00 Sampling 2 chains, 0 divergences]\n",
       "    </div>\n",
       "    "
      ],
      "text/plain": [
       "<IPython.core.display.HTML object>"
      ]
     },
     "metadata": {},
     "output_type": "display_data"
    },
    {
     "name": "stderr",
     "output_type": "stream",
     "text": [
      "Sampling 2 chains for 1_000 tune and 10_000 draw iterations (2_000 + 20_000 draws total) took 2 seconds.\n",
      "Multiprocess sampling (2 chains in 2 jobs)\n",
      "BinaryGibbsMetropolis: [a]\n"
     ]
    },
    {
     "data": {
      "text/html": [
       "\n",
       "    <div>\n",
       "        <style>\n",
       "            /* Turns off some styling */\n",
       "            progress {\n",
       "                /* gets rid of default border in Firefox and Opera. */\n",
       "                border: none;\n",
       "                /* Needs to be in here for Safari polyfill so background images work as expected. */\n",
       "                background-size: auto;\n",
       "            }\n",
       "            .progress-bar-interrupted, .progress-bar-interrupted::-webkit-progress-bar {\n",
       "                background: #F44336;\n",
       "            }\n",
       "        </style>\n",
       "      <progress value='22000' class='' max='22000' style='width:300px; height:20px; vertical-align: middle;'></progress>\n",
       "      100.00% [22000/22000 00:01<00:00 Sampling 2 chains, 0 divergences]\n",
       "    </div>\n",
       "    "
      ],
      "text/plain": [
       "<IPython.core.display.HTML object>"
      ]
     },
     "metadata": {},
     "output_type": "display_data"
    },
    {
     "name": "stderr",
     "output_type": "stream",
     "text": [
      "Sampling 2 chains for 1_000 tune and 10_000 draw iterations (2_000 + 20_000 draws total) took 2 seconds.\n",
      "Multiprocess sampling (2 chains in 2 jobs)\n",
      "BinaryGibbsMetropolis: [a]\n"
     ]
    },
    {
     "data": {
      "text/html": [
       "\n",
       "    <div>\n",
       "        <style>\n",
       "            /* Turns off some styling */\n",
       "            progress {\n",
       "                /* gets rid of default border in Firefox and Opera. */\n",
       "                border: none;\n",
       "                /* Needs to be in here for Safari polyfill so background images work as expected. */\n",
       "                background-size: auto;\n",
       "            }\n",
       "            .progress-bar-interrupted, .progress-bar-interrupted::-webkit-progress-bar {\n",
       "                background: #F44336;\n",
       "            }\n",
       "        </style>\n",
       "      <progress value='22000' class='' max='22000' style='width:300px; height:20px; vertical-align: middle;'></progress>\n",
       "      100.00% [22000/22000 00:01<00:00 Sampling 2 chains, 0 divergences]\n",
       "    </div>\n",
       "    "
      ],
      "text/plain": [
       "<IPython.core.display.HTML object>"
      ]
     },
     "metadata": {},
     "output_type": "display_data"
    },
    {
     "name": "stderr",
     "output_type": "stream",
     "text": [
      "Sampling 2 chains for 1_000 tune and 10_000 draw iterations (2_000 + 20_000 draws total) took 2 seconds.\n",
      "Multiprocess sampling (2 chains in 2 jobs)\n",
      "BinaryGibbsMetropolis: [a]\n"
     ]
    },
    {
     "data": {
      "text/html": [
       "\n",
       "    <div>\n",
       "        <style>\n",
       "            /* Turns off some styling */\n",
       "            progress {\n",
       "                /* gets rid of default border in Firefox and Opera. */\n",
       "                border: none;\n",
       "                /* Needs to be in here for Safari polyfill so background images work as expected. */\n",
       "                background-size: auto;\n",
       "            }\n",
       "            .progress-bar-interrupted, .progress-bar-interrupted::-webkit-progress-bar {\n",
       "                background: #F44336;\n",
       "            }\n",
       "        </style>\n",
       "      <progress value='22000' class='' max='22000' style='width:300px; height:20px; vertical-align: middle;'></progress>\n",
       "      100.00% [22000/22000 00:01<00:00 Sampling 2 chains, 0 divergences]\n",
       "    </div>\n",
       "    "
      ],
      "text/plain": [
       "<IPython.core.display.HTML object>"
      ]
     },
     "metadata": {},
     "output_type": "display_data"
    },
    {
     "name": "stderr",
     "output_type": "stream",
     "text": [
      "Sampling 2 chains for 1_000 tune and 10_000 draw iterations (2_000 + 20_000 draws total) took 2 seconds.\n",
      "Multiprocess sampling (2 chains in 2 jobs)\n",
      "BinaryGibbsMetropolis: [a]\n"
     ]
    },
    {
     "data": {
      "text/html": [
       "\n",
       "    <div>\n",
       "        <style>\n",
       "            /* Turns off some styling */\n",
       "            progress {\n",
       "                /* gets rid of default border in Firefox and Opera. */\n",
       "                border: none;\n",
       "                /* Needs to be in here for Safari polyfill so background images work as expected. */\n",
       "                background-size: auto;\n",
       "            }\n",
       "            .progress-bar-interrupted, .progress-bar-interrupted::-webkit-progress-bar {\n",
       "                background: #F44336;\n",
       "            }\n",
       "        </style>\n",
       "      <progress value='22000' class='' max='22000' style='width:300px; height:20px; vertical-align: middle;'></progress>\n",
       "      100.00% [22000/22000 00:01<00:00 Sampling 2 chains, 0 divergences]\n",
       "    </div>\n",
       "    "
      ],
      "text/plain": [
       "<IPython.core.display.HTML object>"
      ]
     },
     "metadata": {},
     "output_type": "display_data"
    },
    {
     "name": "stderr",
     "output_type": "stream",
     "text": [
      "Sampling 2 chains for 1_000 tune and 10_000 draw iterations (2_000 + 20_000 draws total) took 2 seconds.\n",
      "Multiprocess sampling (2 chains in 2 jobs)\n",
      "BinaryGibbsMetropolis: [a]\n"
     ]
    },
    {
     "data": {
      "text/html": [
       "\n",
       "    <div>\n",
       "        <style>\n",
       "            /* Turns off some styling */\n",
       "            progress {\n",
       "                /* gets rid of default border in Firefox and Opera. */\n",
       "                border: none;\n",
       "                /* Needs to be in here for Safari polyfill so background images work as expected. */\n",
       "                background-size: auto;\n",
       "            }\n",
       "            .progress-bar-interrupted, .progress-bar-interrupted::-webkit-progress-bar {\n",
       "                background: #F44336;\n",
       "            }\n",
       "        </style>\n",
       "      <progress value='22000' class='' max='22000' style='width:300px; height:20px; vertical-align: middle;'></progress>\n",
       "      100.00% [22000/22000 00:01<00:00 Sampling 2 chains, 0 divergences]\n",
       "    </div>\n",
       "    "
      ],
      "text/plain": [
       "<IPython.core.display.HTML object>"
      ]
     },
     "metadata": {},
     "output_type": "display_data"
    },
    {
     "name": "stderr",
     "output_type": "stream",
     "text": [
      "Sampling 2 chains for 1_000 tune and 10_000 draw iterations (2_000 + 20_000 draws total) took 2 seconds.\n",
      "Multiprocess sampling (2 chains in 2 jobs)\n",
      "BinaryGibbsMetropolis: [a]\n"
     ]
    },
    {
     "data": {
      "text/html": [
       "\n",
       "    <div>\n",
       "        <style>\n",
       "            /* Turns off some styling */\n",
       "            progress {\n",
       "                /* gets rid of default border in Firefox and Opera. */\n",
       "                border: none;\n",
       "                /* Needs to be in here for Safari polyfill so background images work as expected. */\n",
       "                background-size: auto;\n",
       "            }\n",
       "            .progress-bar-interrupted, .progress-bar-interrupted::-webkit-progress-bar {\n",
       "                background: #F44336;\n",
       "            }\n",
       "        </style>\n",
       "      <progress value='22000' class='' max='22000' style='width:300px; height:20px; vertical-align: middle;'></progress>\n",
       "      100.00% [22000/22000 00:01<00:00 Sampling 2 chains, 0 divergences]\n",
       "    </div>\n",
       "    "
      ],
      "text/plain": [
       "<IPython.core.display.HTML object>"
      ]
     },
     "metadata": {},
     "output_type": "display_data"
    },
    {
     "name": "stderr",
     "output_type": "stream",
     "text": [
      "Sampling 2 chains for 1_000 tune and 10_000 draw iterations (2_000 + 20_000 draws total) took 2 seconds.\n",
      "Multiprocess sampling (2 chains in 2 jobs)\n",
      "BinaryGibbsMetropolis: [a]\n"
     ]
    },
    {
     "data": {
      "text/html": [
       "\n",
       "    <div>\n",
       "        <style>\n",
       "            /* Turns off some styling */\n",
       "            progress {\n",
       "                /* gets rid of default border in Firefox and Opera. */\n",
       "                border: none;\n",
       "                /* Needs to be in here for Safari polyfill so background images work as expected. */\n",
       "                background-size: auto;\n",
       "            }\n",
       "            .progress-bar-interrupted, .progress-bar-interrupted::-webkit-progress-bar {\n",
       "                background: #F44336;\n",
       "            }\n",
       "        </style>\n",
       "      <progress value='22000' class='' max='22000' style='width:300px; height:20px; vertical-align: middle;'></progress>\n",
       "      100.00% [22000/22000 00:01<00:00 Sampling 2 chains, 0 divergences]\n",
       "    </div>\n",
       "    "
      ],
      "text/plain": [
       "<IPython.core.display.HTML object>"
      ]
     },
     "metadata": {},
     "output_type": "display_data"
    },
    {
     "name": "stderr",
     "output_type": "stream",
     "text": [
      "Sampling 2 chains for 1_000 tune and 10_000 draw iterations (2_000 + 20_000 draws total) took 2 seconds.\n",
      "Multiprocess sampling (2 chains in 2 jobs)\n",
      "BinaryGibbsMetropolis: [a]\n"
     ]
    },
    {
     "data": {
      "text/html": [
       "\n",
       "    <div>\n",
       "        <style>\n",
       "            /* Turns off some styling */\n",
       "            progress {\n",
       "                /* gets rid of default border in Firefox and Opera. */\n",
       "                border: none;\n",
       "                /* Needs to be in here for Safari polyfill so background images work as expected. */\n",
       "                background-size: auto;\n",
       "            }\n",
       "            .progress-bar-interrupted, .progress-bar-interrupted::-webkit-progress-bar {\n",
       "                background: #F44336;\n",
       "            }\n",
       "        </style>\n",
       "      <progress value='22000' class='' max='22000' style='width:300px; height:20px; vertical-align: middle;'></progress>\n",
       "      100.00% [22000/22000 00:01<00:00 Sampling 2 chains, 0 divergences]\n",
       "    </div>\n",
       "    "
      ],
      "text/plain": [
       "<IPython.core.display.HTML object>"
      ]
     },
     "metadata": {},
     "output_type": "display_data"
    },
    {
     "name": "stderr",
     "output_type": "stream",
     "text": [
      "Sampling 2 chains for 1_000 tune and 10_000 draw iterations (2_000 + 20_000 draws total) took 2 seconds.\n",
      "Multiprocess sampling (2 chains in 2 jobs)\n",
      "BinaryGibbsMetropolis: [a]\n"
     ]
    },
    {
     "data": {
      "text/html": [
       "\n",
       "    <div>\n",
       "        <style>\n",
       "            /* Turns off some styling */\n",
       "            progress {\n",
       "                /* gets rid of default border in Firefox and Opera. */\n",
       "                border: none;\n",
       "                /* Needs to be in here for Safari polyfill so background images work as expected. */\n",
       "                background-size: auto;\n",
       "            }\n",
       "            .progress-bar-interrupted, .progress-bar-interrupted::-webkit-progress-bar {\n",
       "                background: #F44336;\n",
       "            }\n",
       "        </style>\n",
       "      <progress value='22000' class='' max='22000' style='width:300px; height:20px; vertical-align: middle;'></progress>\n",
       "      100.00% [22000/22000 00:02<00:00 Sampling 2 chains, 0 divergences]\n",
       "    </div>\n",
       "    "
      ],
      "text/plain": [
       "<IPython.core.display.HTML object>"
      ]
     },
     "metadata": {},
     "output_type": "display_data"
    },
    {
     "name": "stderr",
     "output_type": "stream",
     "text": [
      "Sampling 2 chains for 1_000 tune and 10_000 draw iterations (2_000 + 20_000 draws total) took 2 seconds.\n",
      "Multiprocess sampling (2 chains in 2 jobs)\n",
      "BinaryGibbsMetropolis: [a]\n"
     ]
    },
    {
     "data": {
      "text/html": [
       "\n",
       "    <div>\n",
       "        <style>\n",
       "            /* Turns off some styling */\n",
       "            progress {\n",
       "                /* gets rid of default border in Firefox and Opera. */\n",
       "                border: none;\n",
       "                /* Needs to be in here for Safari polyfill so background images work as expected. */\n",
       "                background-size: auto;\n",
       "            }\n",
       "            .progress-bar-interrupted, .progress-bar-interrupted::-webkit-progress-bar {\n",
       "                background: #F44336;\n",
       "            }\n",
       "        </style>\n",
       "      <progress value='22000' class='' max='22000' style='width:300px; height:20px; vertical-align: middle;'></progress>\n",
       "      100.00% [22000/22000 00:01<00:00 Sampling 2 chains, 0 divergences]\n",
       "    </div>\n",
       "    "
      ],
      "text/plain": [
       "<IPython.core.display.HTML object>"
      ]
     },
     "metadata": {},
     "output_type": "display_data"
    },
    {
     "name": "stderr",
     "output_type": "stream",
     "text": [
      "Sampling 2 chains for 1_000 tune and 10_000 draw iterations (2_000 + 20_000 draws total) took 2 seconds.\n",
      "Multiprocess sampling (2 chains in 2 jobs)\n",
      "BinaryGibbsMetropolis: [a]\n"
     ]
    },
    {
     "data": {
      "text/html": [
       "\n",
       "    <div>\n",
       "        <style>\n",
       "            /* Turns off some styling */\n",
       "            progress {\n",
       "                /* gets rid of default border in Firefox and Opera. */\n",
       "                border: none;\n",
       "                /* Needs to be in here for Safari polyfill so background images work as expected. */\n",
       "                background-size: auto;\n",
       "            }\n",
       "            .progress-bar-interrupted, .progress-bar-interrupted::-webkit-progress-bar {\n",
       "                background: #F44336;\n",
       "            }\n",
       "        </style>\n",
       "      <progress value='22000' class='' max='22000' style='width:300px; height:20px; vertical-align: middle;'></progress>\n",
       "      100.00% [22000/22000 00:01<00:00 Sampling 2 chains, 0 divergences]\n",
       "    </div>\n",
       "    "
      ],
      "text/plain": [
       "<IPython.core.display.HTML object>"
      ]
     },
     "metadata": {},
     "output_type": "display_data"
    },
    {
     "name": "stderr",
     "output_type": "stream",
     "text": [
      "Sampling 2 chains for 1_000 tune and 10_000 draw iterations (2_000 + 20_000 draws total) took 2 seconds.\n",
      "Multiprocess sampling (2 chains in 2 jobs)\n",
      "BinaryGibbsMetropolis: [a]\n"
     ]
    },
    {
     "data": {
      "text/html": [
       "\n",
       "    <div>\n",
       "        <style>\n",
       "            /* Turns off some styling */\n",
       "            progress {\n",
       "                /* gets rid of default border in Firefox and Opera. */\n",
       "                border: none;\n",
       "                /* Needs to be in here for Safari polyfill so background images work as expected. */\n",
       "                background-size: auto;\n",
       "            }\n",
       "            .progress-bar-interrupted, .progress-bar-interrupted::-webkit-progress-bar {\n",
       "                background: #F44336;\n",
       "            }\n",
       "        </style>\n",
       "      <progress value='22000' class='' max='22000' style='width:300px; height:20px; vertical-align: middle;'></progress>\n",
       "      100.00% [22000/22000 00:01<00:00 Sampling 2 chains, 0 divergences]\n",
       "    </div>\n",
       "    "
      ],
      "text/plain": [
       "<IPython.core.display.HTML object>"
      ]
     },
     "metadata": {},
     "output_type": "display_data"
    },
    {
     "name": "stderr",
     "output_type": "stream",
     "text": [
      "Sampling 2 chains for 1_000 tune and 10_000 draw iterations (2_000 + 20_000 draws total) took 2 seconds.\n",
      "Multiprocess sampling (2 chains in 2 jobs)\n",
      "BinaryGibbsMetropolis: [a]\n"
     ]
    },
    {
     "data": {
      "text/html": [
       "\n",
       "    <div>\n",
       "        <style>\n",
       "            /* Turns off some styling */\n",
       "            progress {\n",
       "                /* gets rid of default border in Firefox and Opera. */\n",
       "                border: none;\n",
       "                /* Needs to be in here for Safari polyfill so background images work as expected. */\n",
       "                background-size: auto;\n",
       "            }\n",
       "            .progress-bar-interrupted, .progress-bar-interrupted::-webkit-progress-bar {\n",
       "                background: #F44336;\n",
       "            }\n",
       "        </style>\n",
       "      <progress value='22000' class='' max='22000' style='width:300px; height:20px; vertical-align: middle;'></progress>\n",
       "      100.00% [22000/22000 00:01<00:00 Sampling 2 chains, 0 divergences]\n",
       "    </div>\n",
       "    "
      ],
      "text/plain": [
       "<IPython.core.display.HTML object>"
      ]
     },
     "metadata": {},
     "output_type": "display_data"
    },
    {
     "name": "stderr",
     "output_type": "stream",
     "text": [
      "Sampling 2 chains for 1_000 tune and 10_000 draw iterations (2_000 + 20_000 draws total) took 2 seconds.\n",
      "Multiprocess sampling (2 chains in 2 jobs)\n",
      "BinaryGibbsMetropolis: [a]\n"
     ]
    },
    {
     "data": {
      "text/html": [
       "\n",
       "    <div>\n",
       "        <style>\n",
       "            /* Turns off some styling */\n",
       "            progress {\n",
       "                /* gets rid of default border in Firefox and Opera. */\n",
       "                border: none;\n",
       "                /* Needs to be in here for Safari polyfill so background images work as expected. */\n",
       "                background-size: auto;\n",
       "            }\n",
       "            .progress-bar-interrupted, .progress-bar-interrupted::-webkit-progress-bar {\n",
       "                background: #F44336;\n",
       "            }\n",
       "        </style>\n",
       "      <progress value='22000' class='' max='22000' style='width:300px; height:20px; vertical-align: middle;'></progress>\n",
       "      100.00% [22000/22000 00:01<00:00 Sampling 2 chains, 0 divergences]\n",
       "    </div>\n",
       "    "
      ],
      "text/plain": [
       "<IPython.core.display.HTML object>"
      ]
     },
     "metadata": {},
     "output_type": "display_data"
    },
    {
     "name": "stderr",
     "output_type": "stream",
     "text": [
      "Sampling 2 chains for 1_000 tune and 10_000 draw iterations (2_000 + 20_000 draws total) took 2 seconds.\n",
      "Multiprocess sampling (2 chains in 2 jobs)\n",
      "BinaryGibbsMetropolis: [a]\n"
     ]
    },
    {
     "data": {
      "text/html": [
       "\n",
       "    <div>\n",
       "        <style>\n",
       "            /* Turns off some styling */\n",
       "            progress {\n",
       "                /* gets rid of default border in Firefox and Opera. */\n",
       "                border: none;\n",
       "                /* Needs to be in here for Safari polyfill so background images work as expected. */\n",
       "                background-size: auto;\n",
       "            }\n",
       "            .progress-bar-interrupted, .progress-bar-interrupted::-webkit-progress-bar {\n",
       "                background: #F44336;\n",
       "            }\n",
       "        </style>\n",
       "      <progress value='22000' class='' max='22000' style='width:300px; height:20px; vertical-align: middle;'></progress>\n",
       "      100.00% [22000/22000 00:01<00:00 Sampling 2 chains, 0 divergences]\n",
       "    </div>\n",
       "    "
      ],
      "text/plain": [
       "<IPython.core.display.HTML object>"
      ]
     },
     "metadata": {},
     "output_type": "display_data"
    },
    {
     "name": "stderr",
     "output_type": "stream",
     "text": [
      "Sampling 2 chains for 1_000 tune and 10_000 draw iterations (2_000 + 20_000 draws total) took 2 seconds.\n",
      "Multiprocess sampling (2 chains in 2 jobs)\n",
      "BinaryGibbsMetropolis: [a]\n"
     ]
    },
    {
     "data": {
      "text/html": [
       "\n",
       "    <div>\n",
       "        <style>\n",
       "            /* Turns off some styling */\n",
       "            progress {\n",
       "                /* gets rid of default border in Firefox and Opera. */\n",
       "                border: none;\n",
       "                /* Needs to be in here for Safari polyfill so background images work as expected. */\n",
       "                background-size: auto;\n",
       "            }\n",
       "            .progress-bar-interrupted, .progress-bar-interrupted::-webkit-progress-bar {\n",
       "                background: #F44336;\n",
       "            }\n",
       "        </style>\n",
       "      <progress value='22000' class='' max='22000' style='width:300px; height:20px; vertical-align: middle;'></progress>\n",
       "      100.00% [22000/22000 00:01<00:00 Sampling 2 chains, 0 divergences]\n",
       "    </div>\n",
       "    "
      ],
      "text/plain": [
       "<IPython.core.display.HTML object>"
      ]
     },
     "metadata": {},
     "output_type": "display_data"
    },
    {
     "name": "stderr",
     "output_type": "stream",
     "text": [
      "Sampling 2 chains for 1_000 tune and 10_000 draw iterations (2_000 + 20_000 draws total) took 2 seconds.\n"
     ]
    },
    {
     "name": "stdout",
     "output_type": "stream",
     "text": [
      "CPU times: user 1min 45s, sys: 32.5 s, total: 2min 17s\n",
      "Wall time: 1min 58s\n",
      "====================\n",
      "Value of (x,y) that minimises the objective:[0.52506441]\n",
      "Minimum value of the objective: -0.6967048557973303\n",
      "====================\n"
     ]
    },
    {
     "data": {
      "image/png": "[encoded data removed]",
      "text/plain": [
       "<Figure size 720x360 with 2 Axes>"
      ]
     },
     "metadata": {
      "needs_background": "light"
     },
     "output_type": "display_data"
    }
   ],
   "source": [
    "# With pymc3\n",
    "def f_pymc_2(p):\n",
    "    np.random.seed(12345)\n",
    "    p = p[0][0]\n",
    "    with pm.Model() as model:\n",
    "        a = pm.Bernoulli(\"a\", p)\n",
    "        out = pm.Deterministic(\"out\", f(a))\n",
    "        \n",
    "        trace = pm.sample(10_000)\n",
    "        \n",
    "    return -mutual_info_regression(trace[\"a\"].reshape(-1,1), trace[\"out\"])[0]\n",
    "INITIAL_DESIGN_NUMDATA = 10\n",
    "PROGRESS = 0\n",
    "MAX_ITER = 50\n",
    "domain = [\n",
    "    {\"name\": \"alice_mu\", \"type\": \"continuous\", \"domain\": (0.000001, 0.999999)}\n",
    "]\n",
    "Bopt = BayesianOptimization(f=f_pymc_2, domain=domain, \n",
    "                         acquisition_type='EI',        # Expected Improvement\n",
    "                         initial_design_numdata=INITIAL_DESIGN_NUMDATA,\n",
    "                         exact_feval = True)\n",
    "%time Bopt.run_optimization(max_iter = MAX_ITER-INITIAL_DESIGN_NUMDATA, eps=1e-8)           # True evaluations, no sample noise)\n",
    "print(\"=\"*20)\n",
    "print(\"Value of (x,y) that minimises the objective:\"+str(Bopt.x_opt))    \n",
    "print(\"Minimum value of the objective: \"+str(Bopt.fx_opt))     \n",
    "print(\"=\"*20)\n",
    "Bopt.plot_convergence()"
   ]
  },
  {
   "cell_type": "markdown",
   "id": "posted-branch",
   "metadata": {},
   "source": [
    "\n",
    "## RESULTS\n",
    "PYMC3 Bayesian Optimization = 2min 17 s\n",
    "\n",
    "Scipy stats = 15.9 s\n",
    "\n",
    "\n",
    "# Open DB large comparison of time"
   ]
  },
  {
   "cell_type": "code",
   "execution_count": 3,
   "id": "fabulous-aquarium",
   "metadata": {},
   "outputs": [],
   "source": [
    "## opendp program\n",
    "@theano.compile.ops.as_op(itypes=[tt.lvector,tt.lvector,tt.lvector,\n",
    "                                  tt.lvector,tt.dvector,tt.lvector,\n",
    "                                  tt.lscalar],\n",
    "                          otypes=[tt.dscalar])\n",
    "def dp_program_pymc3(age,sex,educ,race,income,married,N):\n",
    "    temp_file='temp.csv'    \n",
    "    var_names = [\"age\", \"sex\", \"educ\", \"race\", \"income\", \"married\"]\n",
    "    data = {\n",
    "        \"age\":     age,\n",
    "        \"sex\":     sex,\n",
    "        \"educ\":    educ,\n",
    "        \"race\":    race,\n",
    "        \"income\":  income,\n",
    "        \"married\": married\n",
    "    }\n",
    "    df = pd.DataFrame(data,columns=var_names)\n",
    "    df.to_csv(temp_file)\n",
    "    with sn.Analysis() as analysis:\n",
    "        # load data\n",
    "        data = sn.Dataset(path=temp_file,column_names=var_names)\n",
    "\n",
    "        # get mean of age\n",
    "        age_mean = sn.dp_mean(data = sn.to_float(data['income']),\n",
    "                              privacy_usage = {'epsilon': .1},\n",
    "                              data_lower = 0., # min income\n",
    "                              data_upper = 200., # max income                   \n",
    "                              data_rows = N\n",
    "                             )\n",
    "    analysis.release()\n",
    "    return np.float64(age_mean.value)    "
   ]
  },
  {
   "cell_type": "code",
   "execution_count": 4,
   "id": "intensive-principle",
   "metadata": {},
   "outputs": [],
   "source": [
    "def dp_program_scipy(age,sex,educ,race,income,married,N):\n",
    "    temp_file='temp.csv'    \n",
    "    var_names = [\"age\", \"sex\", \"educ\", \"race\", \"income\", \"married\"]\n",
    "    data = {\n",
    "        \"age\":     age,\n",
    "        \"sex\":     sex,\n",
    "        \"educ\":    educ,\n",
    "        \"race\":    race,\n",
    "        \"income\":  income,\n",
    "        \"married\": married\n",
    "    }\n",
    "    df = pd.DataFrame(data,columns=var_names)\n",
    "    df.to_csv(temp_file)\n",
    "    with sn.Analysis() as analysis:\n",
    "        # load data\n",
    "        data = sn.Dataset(path=temp_file,column_names=var_names)\n",
    "\n",
    "        # get mean of age\n",
    "        age_mean = sn.dp_mean(data = sn.to_float(data['income']),\n",
    "                              privacy_usage = {'epsilon': .1},\n",
    "                              data_lower = 0., # min income\n",
    "                              data_upper = 200., # max income                   \n",
    "                              data_rows = N\n",
    "                             )\n",
    "    analysis.release()\n",
    "    return np.float64(age_mean.value)    "
   ]
  },
  {
   "cell_type": "code",
   "execution_count": 31,
   "id": "magnetic-marking",
   "metadata": {},
   "outputs": [],
   "source": [
    "def pm_solution():\n",
    "    with pm.Model() as model:\n",
    "\n",
    "        # Dataset size\n",
    "        N = 10\n",
    "        N_rv = pm.Constant('N',N)\n",
    "\n",
    "        # Attribute specs\n",
    "        age     = pm.DiscreteUniform(\"age\",0,150,shape=N)\n",
    "        sex     = pm.DiscreteUniform(\"sex\",0,2,shape=N)\n",
    "        educ    = pm.DiscreteUniform(\"educ\",0,10,shape=N)\n",
    "        race    = pm.DiscreteUniform(\"race\",0,50,shape=N)\n",
    "        income  = pm.Normal(\"income\", mu=100,sigma=5,shape=N)\n",
    "        married = pm.DiscreteUniform(\"married\",0,1,shape=N)\n",
    "\n",
    "        pm.Deterministic(\"output\",dp_program_pymc3(age,sex,educ,race,income,married,N_rv))\n",
    "\n",
    "        trace=pm.sample(10000, return_inferencedata = False, cores=1)\n",
    "        return trace"
   ]
  },
  {
   "cell_type": "code",
   "execution_count": 32,
   "id": "appropriate-journalist",
   "metadata": {},
   "outputs": [
    {
     "name": "stderr",
     "output_type": "stream",
     "text": [
      "Sequential sampling (2 chains in 1 job)\n",
      "CompoundStep\n",
      ">CompoundStep\n",
      ">>Metropolis: [married]\n",
      ">>Metropolis: [race]\n",
      ">>Metropolis: [educ]\n",
      ">>Metropolis: [sex]\n",
      ">>Metropolis: [age]\n",
      ">>Metropolis: [N]\n",
      ">NUTS: [income]\n"
     ]
    },
    {
     "data": {
      "text/html": [
       "\n",
       "    <div>\n",
       "        <style>\n",
       "            /* Turns off some styling */\n",
       "            progress {\n",
       "                /* gets rid of default border in Firefox and Opera. */\n",
       "                border: none;\n",
       "                /* Needs to be in here for Safari polyfill so background images work as expected. */\n",
       "                background-size: auto;\n",
       "            }\n",
       "            .progress-bar-interrupted, .progress-bar-interrupted::-webkit-progress-bar {\n",
       "                background: #F44336;\n",
       "            }\n",
       "        </style>\n",
       "      <progress value='11000' class='' max='11000' style='width:300px; height:20px; vertical-align: middle;'></progress>\n",
       "      100.00% [11000/11000 01:07<00:00 Sampling chain 0, 0 divergences]\n",
       "    </div>\n",
       "    "
      ],
      "text/plain": [
       "<IPython.core.display.HTML object>"
      ]
     },
     "metadata": {},
     "output_type": "display_data"
    },
    {
     "data": {
      "text/html": [
       "\n",
       "    <div>\n",
       "        <style>\n",
       "            /* Turns off some styling */\n",
       "            progress {\n",
       "                /* gets rid of default border in Firefox and Opera. */\n",
       "                border: none;\n",
       "                /* Needs to be in here for Safari polyfill so background images work as expected. */\n",
       "                background-size: auto;\n",
       "            }\n",
       "            .progress-bar-interrupted, .progress-bar-interrupted::-webkit-progress-bar {\n",
       "                background: #F44336;\n",
       "            }\n",
       "        </style>\n",
       "      <progress value='11000' class='' max='11000' style='width:300px; height:20px; vertical-align: middle;'></progress>\n",
       "      100.00% [11000/11000 01:13<00:00 Sampling chain 1, 0 divergences]\n",
       "    </div>\n",
       "    "
      ],
      "text/plain": [
       "<IPython.core.display.HTML object>"
      ]
     },
     "metadata": {},
     "output_type": "display_data"
    },
    {
     "name": "stderr",
     "output_type": "stream",
     "text": [
      "Sampling 2 chains for 1_000 tune and 10_000 draw iterations (2_000 + 20_000 draws total) took 141 seconds.\n",
      "The estimated number of effective samples is smaller than 200 for some parameters.\n"
     ]
    },
    {
     "name": "stdout",
     "output_type": "stream",
     "text": [
      "CPU times: user 2min, sys: 14 s, total: 2min 14s\n",
      "Wall time: 2min 25s\n"
     ]
    }
   ],
   "source": [
    "%time t2 = pm_solution()"
   ]
  },
  {
   "cell_type": "code",
   "execution_count": 29,
   "id": "prepared-atmosphere",
   "metadata": {},
   "outputs": [],
   "source": [
    "def scipy_solution(samples):\n",
    "    N = 10\n",
    "    \n",
    "    age = stats.randint(0,150).rvs(size=(samples,N))\n",
    "    sex = stats.randint(0,2).rvs(size=(samples,N))\n",
    "    educ = stats.randint(0,10).rvs(size=(samples,N))\n",
    "    race = stats.randint(0,50).rvs(size=(samples,N))\n",
    "    income = stats.norm(100,5).rvs(size=(samples,N))\n",
    "    married = stats.randint(0,1).rvs(size=(samples,N))\n",
    "    \n",
    "    output = [dp_program_scipy(a,s,e,r,i,m,N) for a,s,e,r,i,m in zip(age, sex, educ, race, income, married)]\n",
    "    \n",
    "    trace = {\"age\": age, \"sex\": sex, \"income\": income, \"educ\": educ, \"race\": race, \"married\": married, \"output\": output}\n",
    "    return trace\n",
    "    \n",
    "    #res = [(vm,[mutual_info_regression(trace[vm][:,i].reshape(-1,1),trace['income'][:,i]) for i in range(0,1)]) for vm in ['sex','race']]\n",
    "    #print(res)"
   ]
  },
  {
   "cell_type": "code",
   "execution_count": 35,
   "id": "gentle-mistake",
   "metadata": {},
   "outputs": [
    {
     "name": "stdout",
     "output_type": "stream",
     "text": [
      "CPU times: user 5min 25s, sys: 47.3 s, total: 6min 12s\n",
      "Wall time: 6min 25s\n"
     ]
    }
   ],
   "source": [
    "%time t = scipy_solution(100_000)"
   ]
  },
  {
   "cell_type": "code",
   "execution_count": 49,
   "id": "extensive-dragon",
   "metadata": {},
   "outputs": [
    {
     "data": {
      "text/plain": [
       "74.504857"
      ]
     },
     "execution_count": 49,
     "metadata": {},
     "output_type": "execute_result"
    }
   ],
   "source": [
    "np.mean(t[\"age\"])"
   ]
  },
  {
   "cell_type": "code",
   "execution_count": 34,
   "id": "medieval-integral",
   "metadata": {},
   "outputs": [
    {
     "data": {
      "text/plain": [
       "75.014025"
      ]
     },
     "execution_count": 34,
     "metadata": {},
     "output_type": "execute_result"
    }
   ],
   "source": [
    "np.mean(t2[\"age\"])"
   ]
  },
  {
   "cell_type": "code",
   "execution_count": 52,
   "id": "cardiovascular-basket",
   "metadata": {},
   "outputs": [],
   "source": [
    "real = lambda s1,s2,s3,s4: 0.5*np.log(1+((s1**2)/(s2**2+s3**2+s4**2)))\n",
    "def normal_scipy(X):\n",
    "    np.random.seed(12345)\n",
    "    mus = X[0][:4]\n",
    "    sigmas = X[0][4:]\n",
    "    \n",
    "    alice = stats.norm(mus[0], sigmas[0]).rvs(size=100_000)\n",
    "    rest1 = stats.norm(mus[1], sigmas[1]).rvs(size=100_000)\n",
    "    rest2 = stats.norm(mus[2], sigmas[2]).rvs(size=100_000)\n",
    "    rest3 = stats.norm(mus[3], sigmas[3]).rvs(size=100_000)\n",
    "    \n",
    "    out = [sum(db)/len(db) for db in zip(alice, rest1, rest2, rest3)]\n",
    "    \n",
    "    return -mutual_info_regression(alice.reshape(-1,1), out, discrete_features=False)[0]"
   ]
  },
  {
   "cell_type": "code",
   "execution_count": 55,
   "id": "duplicate-happening",
   "metadata": {},
   "outputs": [
    {
     "data": {
      "text/plain": [
       "15.56878950662428"
      ]
     },
     "execution_count": 55,
     "metadata": {},
     "output_type": "execute_result"
    }
   ],
   "source": [
    "real(1_000,0.0001,0.0001,0.0001)"
   ]
  },
  {
   "cell_type": "code",
   "execution_count": 56,
   "id": "charming-biology",
   "metadata": {},
   "outputs": [
    {
     "data": {
      "text/plain": [
       "-10.253651296530094"
      ]
     },
     "execution_count": 56,
     "metadata": {},
     "output_type": "execute_result"
    }
   ],
   "source": [
    "normal_scipy([[1,2,3,4,1_000,0.0001,0.0001,0.0001]])"
   ]
  },
  {
   "cell_type": "code",
   "execution_count": 71,
   "id": "going-label",
   "metadata": {},
   "outputs": [
    {
     "name": "stdout",
     "output_type": "stream",
     "text": [
      "CPU times: user 2h 36min 37s, sys: 37min 39s, total: 3h 14min 17s\n",
      "Wall time: 1h 4min 38s\n",
      "====================\n",
      "Value of (x,y) that minimises the objective:[  1.51060115 -94.15791929  71.50368695  31.59031648 972.98053251\n",
      " 144.31009912 190.19849062  97.29358589]\n",
      "Minimum value of the objective: -1.3672588670360248\n",
      "====================\n"
     ]
    },
    {
     "data": {
      "image/png": "[encoded data removed]",
      "text/plain": [
       "<Figure size 720x360 with 2 Axes>"
      ]
     },
     "metadata": {
      "needs_background": "light"
     },
     "output_type": "display_data"
    }
   ],
   "source": [
    "INITIAL_DESIGN_NUMDATA = 10\n",
    "PROGRESS = 0\n",
    "MAX_ITER = 500\n",
    "domain = [\n",
    "    {\"name\": \"alice_mu\", \"type\": \"continuous\", \"domain\": (-100, 100), \"dimensionality\": 4},\n",
    "    {\"name\": \"alice_sigma\", \"type\": \"continuous\", \"domain\": (0.000001, 1_000), \"dimensionality\": 4},\n",
    "]\n",
    "Bopt = BayesianOptimization(f=normal_scipy, domain=domain, \n",
    "                         acquisition_type='EI',        # Expected Improvement\n",
    "                         initial_design_numdata=INITIAL_DESIGN_NUMDATA,\n",
    "                         exact_feval = True)\n",
    "%time Bopt.run_optimization(max_iter=1_000)           # True evaluations, no sample noise)\n",
    "print(\"=\"*20)\n",
    "print(\"Value of (x,y) that minimises the objective:\"+str(Bopt.x_opt))    \n",
    "print(\"Minimum value of the objective: \"+str(Bopt.fx_opt))     \n",
    "print(\"=\"*20)\n",
    "Bopt.plot_convergence()"
   ]
  },
  {
   "cell_type": "code",
   "execution_count": 63,
   "id": "gothic-rings",
   "metadata": {},
   "outputs": [
    {
     "data": {
      "text/plain": [
       "-1.5714844211173187"
      ]
     },
     "execution_count": 63,
     "metadata": {},
     "output_type": "execute_result"
    }
   ],
   "source": [
    "x = Bopt.x_opt\n",
    "x[5] = 0.0001\n",
    "normal_scipy([x])"
   ]
  },
  {
   "cell_type": "code",
   "execution_count": 70,
   "id": "downtown-large",
   "metadata": {},
   "outputs": [
    {
     "name": "stdout",
     "output_type": "stream",
     "text": [
      "CPU times: user 22.7 s, sys: 8.39 s, total: 31 s\n",
      "Wall time: 9.42 s\n",
      "====================\n",
      "Value of (x,y) that minimises the objective:[1.e+03 1.e-06 1.e-06 1.e-06]\n",
      "Minimum value of the objective: -20.173959692612357\n",
      "====================\n"
     ]
    },
    {
     "data": {
      "image/png": "[encoded data removed]",
      "text/plain": [
       "<Figure size 720x360 with 2 Axes>"
      ]
     },
     "metadata": {
      "needs_background": "light"
     },
     "output_type": "display_data"
    }
   ],
   "source": [
    "INITIAL_DESIGN_NUMDATA = 10\n",
    "PROGRESS = 0\n",
    "MAX_ITER = 500\n",
    "domain = [\n",
    "    {\"name\": \"alice_sigma\", \"type\": \"continuous\", \"domain\": (0.000001, 1_000), \"dimensionality\": 4},\n",
    "]\n",
    "Bopt = BayesianOptimization(f=lambda x: -real(x[0][0],x[0][1],x[0][2],x[0][3]), domain=domain, \n",
    "                         acquisition_type='EI',        # Expected Improvement\n",
    "                         initial_design_numdata=INITIAL_DESIGN_NUMDATA,\n",
    "                         exact_feval = True)\n",
    "%time Bopt.run_optimization(max_iter=100)           # True evaluations, no sample noise)\n",
    "print(\"=\"*20)\n",
    "print(\"Value of (x,y) that minimises the objective:\"+str(Bopt.x_opt))    \n",
    "print(\"Minimum value of the objective: \"+str(Bopt.fx_opt))     \n",
    "print(\"=\"*20)\n",
    "Bopt.plot_convergence()"
   ]
  },
  {
   "cell_type": "code",
   "execution_count": null,
   "id": "opposite-abraham",
   "metadata": {
    "collapsed": true
   },
   "outputs": [],
   "source": []
  }
 ],
 "metadata": {
  "kernelspec": {
   "display_name": "Python 3",
   "language": "python",
   "name": "python3"
  },
  "language_info": {
   "codemirror_mode": {
    "name": "ipython",
    "version": 3
   },
   "file_extension": ".py",
   "mimetype": "text/x-python",
   "name": "python",
   "nbconvert_exporter": "python",
   "pygments_lexer": "ipython3",
   "version": "3.7.9"
  }
 },
 "nbformat": 4,
 "nbformat_minor": 5
}
