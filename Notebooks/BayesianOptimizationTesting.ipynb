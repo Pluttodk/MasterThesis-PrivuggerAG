{
 "cells": [
  {
   "cell_type": "code",
   "execution_count": null,
   "id": "spectacular-sleep",
   "metadata": {},
   "outputs": [],
   "source": []
  },
  {
   "cell_type": "markdown",
   "id": "purple-eugene",
   "metadata": {},
   "source": [
    "# Facebook AX "
   ]
  },
  {
   "cell_type": "code",
   "execution_count": 1,
   "id": "sensitive-public",
   "metadata": {},
   "outputs": [
    {
     "name": "stdout",
     "output_type": "stream",
     "text": [
      "Collecting ax-platform\n",
      "  Downloading ax_platform-0.1.20-py3-none-any.whl (704 kB)\n",
      "\u001b[K     |████████████████████████████████| 704 kB 1.8 MB/s eta 0:00:01\n",
      "\u001b[?25hCollecting typeguard\n",
      "  Downloading typeguard-2.12.0-py3-none-any.whl (16 kB)\n",
      "Requirement already satisfied: pandas in /home/maoj/.local/lib/python3.8/site-packages (from ax-platform) (1.2.2)\n",
      "Collecting plotly\n",
      "  Downloading plotly-4.14.3-py2.py3-none-any.whl (13.2 MB)\n",
      "\u001b[K     |████████████████████████████████| 13.2 MB 46.2 MB/s eta 0:00:01\n",
      "\u001b[?25hRequirement already satisfied: scikit-learn in /home/maoj/.local/lib/python3.8/site-packages (from ax-platform) (0.24.1)\n",
      "Requirement already satisfied: scipy in /home/maoj/.local/lib/python3.8/site-packages (from ax-platform) (1.6.1)\n",
      "Collecting botorch==0.4.0\n",
      "  Downloading botorch-0.4.0-py3-none-any.whl (395 kB)\n",
      "\u001b[K     |████████████████████████████████| 395 kB 47.7 MB/s eta 0:00:01\n",
      "\u001b[?25hRequirement already satisfied: jinja2 in /usr/lib/python3/dist-packages (from ax-platform) (2.10.1)\n",
      "Requirement already satisfied: pytz>=2017.3 in /home/maoj/.local/lib/python3.8/site-packages (from pandas->ax-platform) (2021.1)\n",
      "Requirement already satisfied: numpy>=1.16.5 in /home/maoj/.local/lib/python3.8/site-packages (from pandas->ax-platform) (1.20.1)\n",
      "Requirement already satisfied: python-dateutil>=2.7.3 in /home/maoj/.local/lib/python3.8/site-packages (from pandas->ax-platform) (2.8.1)\n",
      "Requirement already satisfied: six in /usr/lib/python3/dist-packages (from plotly->ax-platform) (1.14.0)\n",
      "Collecting retrying>=1.3.3\n",
      "  Downloading retrying-1.3.3.tar.gz (10 kB)\n",
      "Requirement already satisfied: threadpoolctl>=2.0.0 in /home/maoj/.local/lib/python3.8/site-packages (from scikit-learn->ax-platform) (2.1.0)\n",
      "Requirement already satisfied: joblib>=0.11 in /home/maoj/.local/lib/python3.8/site-packages (from scikit-learn->ax-platform) (1.0.1)\n",
      "Collecting gpytorch>=1.4\n",
      "  Downloading gpytorch-1.4.0.tar.gz (286 kB)\n",
      "\u001b[K     |████████████████████████████████| 286 kB 10.1 MB/s eta 0:00:01\n",
      "\u001b[?25hCollecting torch>=1.7.1\n",
      "  Downloading torch-1.8.1-cp38-cp38-manylinux1_x86_64.whl (804.1 MB)\n"
     ]
    },
    {
     "name": "stdout",
     "output_type": "stream",
     "text": [
      "\u001b[K     |██████████████████████████████▍ | 764.3 MB 1.2 MB/s eta 0:00:33     |█▎                              | 31.1 MB 1.8 MB/s eta 0:07:19     |█▎                              | 33.2 MB 1.5 MB/s eta 0:08:27     |█▎                              | 33.3 MB 1.5 MB/s eta 0:08:27     |█▍                              | 36.2 MB 1.1 MB/s eta 0:11:35     |█▉                              | 45.9 MB 1.9 MB/s eta 0:06:49     |█▉                              | 47.0 MB 1.7 MB/s eta 0:07:22     |██                              | 48.8 MB 1.1 MB/s eta 0:11:12     |██▎                             | 57.6 MB 1.1 MB/s eta 0:11:38     |██▎                             | 57.7 MB 1.1 MB/s eta 0:11:38     |██▊                             | 68.2 MB 1.4 MB/s eta 0:08:29     |██▊                             | 68.5 MB 1.2 MB/s eta 0:10:23     |██▉                             | 71.1 MB 1.4 MB/s eta 0:08:51     |███▏                            | 79.9 MB 1.5 MB/s eta 0:08:01     |███▌                            | 88.4 MB 1.6 MB/s eta 0:07:20     |████▏                           | 105.6 MB 1.2 MB/s eta 0:09:21     |█████                           | 126.4 MB 1.2 MB/s eta 0:09:15     |█████▍                          | 136.1 MB 1.3 MB/s eta 0:08:18     |█████▊                          | 142.4 MB 1.1 MB/s eta 0:10:00     |██████                          | 151.2 MB 1.4 MB/s eta 0:07:44     |██████▏                         | 155.1 MB 1.6 MB/s eta 0:06:58     |██████▎                         | 156.5 MB 1.1 MB/s eta 0:10:01     |██████▎                         | 157.3 MB 1.3 MB/s eta 0:08:12     |██████▉                         | 170.5 MB 1.5 MB/s eta 0:07:16     |██████▉                         | 171.1 MB 1.5 MB/s eta 0:07:15     |██████▉                         | 171.5 MB 904 kB/s eta 0:11:40     |███████                         | 176.8 MB 1.3 MB/s eta 0:08:05     |███████                         | 178.1 MB 1.1 MB/s eta 0:09:31     |███████                         | 178.3 MB 1.1 MB/s eta 0:09:30     |███████▍                        | 185.6 MB 1.2 MB/s eta 0:08:27     |███████▋                        | 191.9 MB 1.2 MB/s eta 0:08:16     |███████▋                        | 192.1 MB 1.2 MB/s eta 0:08:16     |████████                        | 198.3 MB 1.7 MB/s eta 0:05:47     |████████                        | 200.6 MB 1.6 MB/s eta 0:06:07     |████████                        | 201.5 MB 1.3 MB/s eta 0:07:35     |████████▎                       | 207.5 MB 1.4 MB/s eta 0:07:13     |████████▋                       | 216.3 MB 1.6 MB/s eta 0:06:07     |████████▉                       | 223.1 MB 1.3 MB/s eta 0:07:13     |█████████                       | 223.7 MB 1.2 MB/s eta 0:08:13     |█████████                       | 227.2 MB 1.1 MB/s eta 0:08:50     |█████████▌                      | 238.2 MB 1.5 MB/s eta 0:06:16     |█████████▋                      | 241.8 MB 1.3 MB/s eta 0:07:00     |█████████▊                      | 244.5 MB 1.5 MB/s eta 0:06:20     |██████████▉                     | 272.0 MB 1.2 MB/s eta 0:07:12     |███████████                     | 275.0 MB 1.6 MB/s eta 0:05:21     |███████████▏                    | 280.4 MB 1.8 MB/s eta 0:04:58     |███████████▎                    | 283.2 MB 1.7 MB/s eta 0:05:11     |████████████▎                   | 308.9 MB 1.7 MB/s eta 0:04:57     |████████████▎                   | 309.3 MB 1.7 MB/s eta 0:04:57     |████████████▌                   | 313.3 MB 1.8 MB/s eta 0:04:30     |████████████▌                   | 314.9 MB 1.5 MB/s eta 0:05:32     |████████████▊                   | 319.0 MB 1.3 MB/s eta 0:06:10     |█████████████▏                  | 331.8 MB 1.1 MB/s eta 0:07:18     |█████████████▎                  | 332.7 MB 1.1 MB/s eta 0:07:18     |█████████████▌                  | 338.3 MB 1.6 MB/s eta 0:04:51     |█████████████▊                  | 344.4 MB 1.6 MB/s eta 0:04:40     |██████████████                  | 350.7 MB 1.5 MB/s eta 0:04:56     |██████████████                  | 353.0 MB 1.4 MB/s eta 0:05:30     |██████████████▏                 | 355.4 MB 1.6 MB/s eta 0:04:33     |██████████████▌                 | 365.7 MB 1.1 MB/s eta 0:06:54     |██████████████▋                 | 367.7 MB 1.5 MB/s eta 0:04:59     |██████████████▊                 | 370.2 MB 1.4 MB/s eta 0:05:09     |███████████████                 | 374.8 MB 1.1 MB/s eta 0:06:29     |███████████████                 | 377.9 MB 962 kB/s eta 0:07:23     |███████████████                 | 378.9 MB 1.2 MB/s eta 0:05:55     |███████████████▏                | 381.2 MB 1.8 MB/s eta 0:03:57     |███████████████▎                | 382.6 MB 999 kB/s eta 0:07:02     |███████████████▎                | 382.7 MB 754 kB/s eta 0:09:19     |███████████████▎                | 383.1 MB 754 kB/s eta 0:09:18     |███████████████▎                | 383.3 MB 754 kB/s eta 0:09:18     |███████████████▎                | 384.4 MB 1.4 MB/s eta 0:05:07     |███████████████▍                | 385.9 MB 1.3 MB/s eta 0:05:15     |███████████████▍                | 387.9 MB 1.6 MB/s eta 0:04:16     |███████████████▌                | 388.2 MB 844 kB/s eta 0:08:13     |███████████████▌                | 389.5 MB 1.4 MB/s eta 0:05:00     |███████████████▋                | 391.8 MB 1.3 MB/s eta 0:05:15     |███████████████▋                | 391.9 MB 1.3 MB/s eta 0:05:15     |███████████████▊                | 393.7 MB 1.9 MB/s eta 0:03:41     |████████████████                | 404.2 MB 1.9 MB/s eta 0:03:34     |████████████████▍               | 411.2 MB 1.8 MB/s eta 0:03:33     |████████████████▍               | 412.9 MB 1.8 MB/s eta 0:03:32     |█████████████████               | 427.8 MB 1.3 MB/s eta 0:04:44     |█████████████████▏              | 431.1 MB 1.7 MB/s eta 0:03:37     |█████████████████▏              | 432.0 MB 1.7 MB/s eta 0:03:37     |█████████████████▍              | 435.9 MB 1.7 MB/s eta 0:03:34     |█████████████████▍              | 438.2 MB 1.3 MB/s eta 0:04:43     |█████████████████▌              | 439.0 MB 1.3 MB/s eta 0:04:43     |█████████████████▋              | 443.0 MB 828 kB/s eta 0:07:16     |█████████████████▋              | 443.2 MB 828 kB/s eta 0:07:16     |██████████████████              | 454.0 MB 1.8 MB/s eta 0:03:15     |██████████████████▋             | 468.3 MB 1.8 MB/s eta 0:03:07     |██████████████████▉             | 472.6 MB 1.7 MB/s eta 0:03:12     |███████████████████▏            | 480.8 MB 1.5 MB/s eta 0:03:35     |███████████████████▎            | 483.6 MB 1.1 MB/s eta 0:04:56     |███████████████████▎            | 483.7 MB 1.1 MB/s eta 0:04:56     |███████████████████▎            | 483.7 MB 1.1 MB/s eta 0:04:56     |███████████████████▌            | 488.7 MB 1.7 MB/s eta 0:03:10     |████████████████████            | 504.7 MB 2.0 MB/s eta 0:02:33     |████████████████████            | 504.9 MB 1.3 MB/s eta 0:03:57     |████████████████████▏           | 505.6 MB 1.3 MB/s eta 0:03:57     |████████████████████▏           | 506.0 MB 1.5 MB/s eta 0:03:19     |████████████████████▌           | 516.4 MB 1.7 MB/s eta 0:02:49     |████████████████████▋           | 517.3 MB 2.0 MB/s eta 0:02:21     |████████████████████▊           | 521.9 MB 2.0 MB/s eta 0:02:18     |█████████████████████▉          | 549.6 MB 2.2 MB/s eta 0:01:55     |██████████████████████▍         | 561.9 MB 1.9 MB/s eta 0:02:07     |██████████████████████▋         | 567.8 MB 1.7 MB/s eta 0:02:17     |███████████████████████         | 576.7 MB 2.2 MB/s eta 0:01:42     |███████████████████████         | 577.7 MB 1.1 MB/s eta 0:03:29     |███████████████████████         | 579.2 MB 1.6 MB/s eta 0:02:24     |███████████████████████▏        | 582.7 MB 1.3 MB/s eta 0:02:46     |███████████████████████▎        | 586.2 MB 1.9 MB/s eta 0:01:56     |█████████████████████████████   | 727.6 MB 1.8 MB/s eta 0:00:42     |█████████████████████████████▍  | 738.6 MB 2.1 MB/s eta 0:00:32     |██████████████████████████████  | 752.3 MB 2.1 MB/s eta 0:00:25     |██████████████████████████████▏ | 757.2 MB 1.1 MB/s eta 0:00:45     |██████████████████████████████▍ | 763.2 MB 1.4 MB/s eta 0:00:30     |██████████████████████████████▍ | 763.5 MB 1.2 MB/s eta 0:00:34     |██████████████████████████████▍ | 764.2 MB 1.2 MB/s eta 0:00:33"
     ]
    },
    {
     "name": "stdout",
     "output_type": "stream",
     "text": [
      "\u001b[K     |████████████████████████████████| 804.1 MB 9.5 kB/s eta 0:00:01     |██████████████████████████████▋ | 768.0 MB 1.4 MB/s eta 0:00:26     |██████████████████████████████▉ | 775.9 MB 2.2 MB/s eta 0:00:13     |███████████████████████████████ | 779.5 MB 1.5 MB/s eta 0:00:17     |███████████████████████████████▎| 787.3 MB 2.5 MB/s eta 0:00:07     |███████████████████████████████▋| 795.4 MB 1.7 MB/s eta 0:00:06     |███████████████████████████████▊| 796.7 MB 1.7 MB/s eta 0:00:05     |████████████████████████████████| 803.8 MB 2.4 MB/s eta 0:00:01\n",
      "\u001b[?25hRequirement already satisfied: typing-extensions in /home/maoj/.local/lib/python3.8/site-packages (from torch>=1.7.1->botorch==0.4.0->ax-platform) (3.7.4.3)\n",
      "Building wheels for collected packages: retrying, gpytorch\n",
      "  Building wheel for retrying (setup.py) ... \u001b[?25ldone\n",
      "\u001b[?25h  Created wheel for retrying: filename=retrying-1.3.3-py3-none-any.whl size=11430 sha256=bae87b38e5d84bee70347291f1192ef67fe1f2feaa85bcfea9dcad890c7643c6\n",
      "  Stored in directory: /home/maoj/.cache/pip/wheels/c4/a7/48/0a434133f6d56e878ca511c0e6c38326907c0792f67b476e56\n",
      "  Building wheel for gpytorch (setup.py) ... \u001b[?25ldone\n",
      "\u001b[?25h  Created wheel for gpytorch: filename=gpytorch-1.4.0-py2.py3-none-any.whl size=477847 sha256=4bdf04db4cf567b524d56aeb0071cfba43cb235d3116eac08b720c98f193b28e\n",
      "  Stored in directory: /home/maoj/.cache/pip/wheels/15/c7/a9/273deb17e850e2094130b3247b1c7a902b7791b00baa48c0bd\n",
      "Successfully built retrying gpytorch\n",
      "Installing collected packages: typeguard, retrying, plotly, torch, gpytorch, botorch, ax-platform\n",
      "Successfully installed ax-platform-0.1.20 botorch-0.4.0 gpytorch-1.4.0 plotly-4.14.3 retrying-1.3.3 torch-1.8.1 typeguard-2.12.0\n"
     ]
    }
   ],
   "source": [
    "!pip3 install ax-platform  # all systems"
   ]
  },
  {
   "cell_type": "code",
   "execution_count": 5,
   "id": "closing-league",
   "metadata": {},
   "outputs": [],
   "source": [
    "import numpy as np\n",
    "from ax import optimize\n",
    "from sklearn.feature_selection import mutual_info_regression"
   ]
  },
  {
   "cell_type": "code",
   "execution_count": 10,
   "id": "mexican-machinery",
   "metadata": {},
   "outputs": [],
   "source": [
    "def numpy_normal(s1,s2):\n",
    "    #s1,s2 = X\n",
    "    x = np.random.normal(0, s1, size=10_000)\n",
    "    y = np.random.normal(0, s2, size=10_000)\n",
    "\n",
    "    out = x+y\n",
    "    I = mutual_info_regression(x.reshape((-1,1)),out, discrete_features=False)[0]\n",
    "    return I"
   ]
  },
  {
   "cell_type": "code",
   "execution_count": 11,
   "id": "recorded-mentor",
   "metadata": {},
   "outputs": [
    {
     "name": "stderr",
     "output_type": "stream",
     "text": [
      "[INFO 04-14 10:39:43] ax.service.utils.instantiation: Inferred value type of ParameterType.FLOAT for parameter s1. If that is not the expected value type, you can explicity specify 'value_type' ('int', 'float', 'bool' or 'str') in parameter dict.\n",
      "[INFO 04-14 10:39:43] ax.service.utils.instantiation: Inferred value type of ParameterType.FLOAT for parameter s2. If that is not the expected value type, you can explicity specify 'value_type' ('int', 'float', 'bool' or 'str') in parameter dict.\n",
      "[INFO 04-14 10:39:43] ax.modelbridge.dispatch_utils: Using Bayesian Optimization generation strategy: GenerationStrategy(name='Sobol+GPEI', steps=[Sobol for 5 trials, GPEI for subsequent trials]). Iterations after 5 will take longer to generate due to  model-fitting.\n",
      "[INFO 04-14 10:39:43] ax.service.managed_loop: Started full optimization with 20 steps.\n",
      "[INFO 04-14 10:39:43] ax.service.managed_loop: Running optimization trial 1...\n",
      "[INFO 04-14 10:39:43] ax.service.managed_loop: Running optimization trial 2...\n",
      "[INFO 04-14 10:39:43] ax.service.managed_loop: Running optimization trial 3...\n",
      "[INFO 04-14 10:39:43] ax.service.managed_loop: Running optimization trial 4...\n",
      "[INFO 04-14 10:39:44] ax.service.managed_loop: Running optimization trial 5...\n",
      "[INFO 04-14 10:39:44] ax.service.managed_loop: Running optimization trial 6...\n",
      "[INFO 04-14 10:39:44] ax.service.managed_loop: Running optimization trial 7...\n",
      "[INFO 04-14 10:39:44] ax.service.managed_loop: Running optimization trial 8...\n",
      "[INFO 04-14 10:39:45] ax.service.managed_loop: Running optimization trial 9...\n",
      "[INFO 04-14 10:39:45] ax.service.managed_loop: Running optimization trial 10...\n",
      "[INFO 04-14 10:39:46] ax.service.managed_loop: Running optimization trial 11...\n",
      "[INFO 04-14 10:39:47] ax.service.managed_loop: Running optimization trial 12...\n",
      "[INFO 04-14 10:39:47] ax.service.managed_loop: Running optimization trial 13...\n",
      "[INFO 04-14 10:39:48] ax.service.managed_loop: Running optimization trial 14...\n",
      "[INFO 04-14 10:39:49] ax.service.managed_loop: Running optimization trial 15...\n",
      "/home/maoj/.local/lib/python3.8/site-packages/gpytorch/utils/cholesky.py:51: NumericalWarning:\n",
      "\n",
      "A not p.d., added jitter of 1.0e-08 to the diagonal\n",
      "\n",
      "[INFO 04-14 10:39:49] ax.service.managed_loop: Running optimization trial 16...\n",
      "[INFO 04-14 10:39:51] ax.service.managed_loop: Running optimization trial 17...\n",
      "[INFO 04-14 10:39:51] ax.service.managed_loop: Running optimization trial 18...\n",
      "[INFO 04-14 10:39:52] ax.service.managed_loop: Running optimization trial 19...\n",
      "[INFO 04-14 10:39:53] ax.service.managed_loop: Running optimization trial 20...\n"
     ]
    }
   ],
   "source": [
    "best_parameters, best_values, experiment, model = optimize(\n",
    "    parameters=[\n",
    "      {\n",
    "        \"name\": \"s1\",\n",
    "        \"type\": \"range\",\n",
    "        \"bounds\": [0.1, 15*np.sqrt(3)],\n",
    "      },\n",
    "      {\n",
    "        \"name\": \"s2\",\n",
    "        \"type\": \"range\",\n",
    "        \"bounds\": [0.1, 15*np.sqrt(3)],\n",
    "      },\n",
    "    ],\n",
    "    # Booth function\n",
    "    evaluation_function=lambda x: numpy_normal(x[\"s1\"], x[\"s2\"]),\n",
    "    minimize=False,\n",
    ")"
   ]
  },
  {
   "cell_type": "code",
   "execution_count": 12,
   "id": "electoral-niger",
   "metadata": {},
   "outputs": [
    {
     "data": {
      "text/plain": [
       "({'objective': 5.572930904710196},\n",
       " {'objective': {'objective': 0.0004841464887405486}})"
      ]
     },
     "execution_count": 12,
     "metadata": {},
     "output_type": "execute_result"
    }
   ],
   "source": [
    "best_values"
   ]
  },
  {
   "cell_type": "code",
   "execution_count": 14,
   "id": "spanish-hazard",
   "metadata": {},
   "outputs": [
    {
     "name": "stderr",
     "output_type": "stream",
     "text": [
      "[INFO 04-14 11:53:38] ax.service.utils.instantiation: Inferred value type of ParameterType.FLOAT for parameter s1. If that is not the expected value type, you can explicity specify 'value_type' ('int', 'float', 'bool' or 'str') in parameter dict.\n",
      "[INFO 04-14 11:53:38] ax.service.utils.instantiation: Inferred value type of ParameterType.FLOAT for parameter s2. If that is not the expected value type, you can explicity specify 'value_type' ('int', 'float', 'bool' or 'str') in parameter dict.\n",
      "[INFO 04-14 11:53:38] ax.modelbridge.dispatch_utils: Using Bayesian Optimization generation strategy: GenerationStrategy(name='Sobol+GPEI', steps=[Sobol for 5 trials, GPEI for subsequent trials]). Iterations after 5 will take longer to generate due to  model-fitting.\n",
      "[INFO 04-14 11:53:38] ax.service.managed_loop: Started full optimization with 20 steps.\n",
      "[INFO 04-14 11:53:38] ax.service.managed_loop: Running optimization trial 1...\n",
      "[INFO 04-14 11:53:38] ax.service.managed_loop: Running optimization trial 2...\n",
      "[INFO 04-14 11:53:38] ax.service.managed_loop: Running optimization trial 3...\n",
      "[INFO 04-14 11:53:38] ax.service.managed_loop: Running optimization trial 4...\n",
      "[INFO 04-14 11:53:38] ax.service.managed_loop: Running optimization trial 5...\n",
      "[INFO 04-14 11:53:38] ax.service.managed_loop: Running optimization trial 6...\n",
      "[INFO 04-14 11:53:38] ax.service.managed_loop: Running optimization trial 7...\n",
      "[INFO 04-14 11:53:39] ax.service.managed_loop: Running optimization trial 8...\n",
      "[INFO 04-14 11:53:39] ax.service.managed_loop: Running optimization trial 9...\n",
      "[INFO 04-14 11:53:40] ax.service.managed_loop: Running optimization trial 10...\n",
      "[INFO 04-14 11:53:41] ax.service.managed_loop: Running optimization trial 11...\n",
      "[INFO 04-14 11:53:41] ax.service.managed_loop: Running optimization trial 12...\n",
      "[INFO 04-14 11:53:42] ax.service.managed_loop: Running optimization trial 13...\n",
      "[INFO 04-14 11:53:43] ax.service.managed_loop: Running optimization trial 14...\n",
      "[INFO 04-14 11:53:44] ax.service.managed_loop: Running optimization trial 15...\n",
      "[INFO 04-14 11:53:45] ax.service.managed_loop: Running optimization trial 16...\n",
      "[INFO 04-14 11:53:45] ax.service.managed_loop: Running optimization trial 17...\n",
      "[INFO 04-14 11:53:46] ax.service.managed_loop: Running optimization trial 18...\n",
      "[INFO 04-14 11:53:46] ax.service.managed_loop: Running optimization trial 19...\n",
      "[INFO 04-14 11:53:47] ax.service.managed_loop: Running optimization trial 20...\n"
     ]
    },
    {
     "data": {
      "text/plain": [
       "({'s1': 25.980762113533157, 's2': 4.808907594567698},\n",
       " ({'objective': 3.2576690657056586},\n",
       "  {'objective': {'objective': 1.4447972950564361e-05}}),\n",
       " SimpleExperiment(None),\n",
       " <ax.modelbridge.torch.TorchModelBridge at 0x7f2648069a00>)"
      ]
     },
     "execution_count": 14,
     "metadata": {},
     "output_type": "execute_result"
    }
   ],
   "source": [
    "optimize(\n",
    "    parameters=[\n",
    "      {\n",
    "        \"name\": \"s1\",\n",
    "        \"type\": \"range\",\n",
    "        \"bounds\": [0.1, 15*np.sqrt(3)],\n",
    "      },\n",
    "      {\n",
    "        \"name\": \"s2\",\n",
    "        \"type\": \"range\",\n",
    "        \"bounds\": [0.1, 15*np.sqrt(3)],\n",
    "      },\n",
    "    ],\n",
    "    # Booth function\n",
    "    evaluation_function=lambda x: np.log(x[\"s1\"]),\n",
    "    minimize=False,\n",
    ")"
   ]
  },
  {
   "cell_type": "code",
   "execution_count": 66,
   "id": "backed-vertical",
   "metadata": {},
   "outputs": [],
   "source": [
    "from zoopt import Dimension, ValueType, Dimension2, Objective, Parameter, ExpOpt\n",
    "\n",
    "def normal(X, db_size=2, rng=None):\n",
    "    db_size = len(X)//2\n",
    "    \n",
    "    if rng == None:\n",
    "        rng = np.random\n",
    "    db = np.empty(db_size, dtype=object)\n",
    "    for i in range(db_size):\n",
    "        db[i] = rng.normal(X[i], X[i+db_size], 10_000)\n",
    "    \n",
    "    out = sum(db)/db_size\n",
    "    \n",
    "    return -mutual_info_regression(db[0].reshape((-1,1)), out, discrete_features=False, random_state=rng)[0]\n",
    "\n",
    "def sphere_continuous_sre(f, db_size):\n",
    "    \"\"\"\n",
    "    Example of minimizing high-dimensional sphere function with sequential random embedding.\n",
    "\n",
    "    :return: no return value\n",
    "    \"\"\"\n",
    "    sigmaBounds = [0.1, 15*np.sqrt(3)]\n",
    "    muBounds = [10,100]\n",
    "\n",
    "    dim_size = db_size*2  # dimensions\n",
    "    dim_regs = [muBounds] * db_size + [sigmaBounds] * db_size  # dimension range\n",
    "    dim_tys = [True] * dim_size  # dimension type : real\n",
    "    dim = Dimension(dim_size, dim_regs, dim_tys)  # form up the dimension object\n",
    "    # dim = Dimension2([(ValueType.CONTINUOUS, [-1, 1], 1e-6)]*dim_size)\n",
    "    objective = Objective(f, dim)  # form up the objective function\n",
    "\n",
    "    # setup algorithm parameters\n",
    "    budget = 2000  # number of calls to the objective function\n",
    "    parameter = Parameter(budget=budget, high_dim_handling=True, reducedim=True, num_sre=5, low_dimension=Dimension(10, [muBounds]*5 + [sigmaBounds] * 5, [True] * 10))\n",
    "\n",
    "    solution_list = ExpOpt.min(objective, parameter, repeat=1, plot=True)"
   ]
  },
  {
   "cell_type": "code",
   "execution_count": 80,
   "id": "broken-toolbox",
   "metadata": {},
   "outputs": [
    {
     "name": "stderr",
     "output_type": "stream",
     "text": [
      "/home/maoj/.local/lib/python3.8/site-packages/pybobyqa/solver.py:763: RuntimeWarning:\n",
      "\n",
      "maxfun <= npt: Are you sure your budget is large enough?\n",
      "\n"
     ]
    }
   ],
   "source": [
    "import pybobyqa\n",
    "db_size = 500\n",
    "\n",
    "f = lambda x: normal(x, db_size, np.random.RandomState(12345))\n",
    "\n",
    "x0 = np.concatenate((np.random.uniform(muBounds[0], muBounds[1], db_size), np.random.uniform(sigmaBounds[0], sigmaBounds[1], db_size)))\n",
    "lower_bounds = [muBounds[0]] * db_size + [sigmaBounds[0]]*db_size\n",
    "upper_bounds = [muBounds[1]] * db_size + [sigmaBounds[1]]*db_size\n",
    "soln = pybobyqa.solve(f, x0, bounds=(lower_bounds, upper_bounds))"
   ]
  },
  {
   "cell_type": "code",
   "execution_count": 81,
   "id": "hawaiian-filter",
   "metadata": {},
   "outputs": [
    {
     "name": "stdout",
     "output_type": "stream",
     "text": [
      "****** Py-BOBYQA Results ******\n",
      "Solution xmin = [24.36713522 48.56339487 98.2152935  47.72129628 34.44064227 91.41127682\n",
      " 81.51286272 21.38104298 36.61683965 20.01817259 73.54097568 89.6725017\n",
      " 51.90151899 61.59594595 61.00138459 92.94993343 15.99445745 32.29164255\n",
      " 24.88241    79.27240186 15.05398315 91.33836591 53.35169893 27.24664201\n",
      " 52.21240898 91.38561686 67.20795232 35.88167988 19.07015671 73.34349391\n",
      " 73.50645485 56.18327621 32.33827618 81.99189521 46.34416841 86.85072149\n",
      " 42.96394853 96.78705541 32.40567752 29.2812072  64.47714647 98.61323744\n",
      " 43.28703637 19.20298923 95.8741374  89.07581248 57.00948763 23.16428161\n",
      " 96.26718114 84.12654096 11.74376522 85.68548532 50.05246127 24.35226317\n",
      " 48.16584195 73.49153986 37.14034163 48.19854751 23.14371496 85.16385314\n",
      " 91.80735909 17.17943001 61.11839358 24.67028127 16.74145496 90.44148746\n",
      " 35.99203703 37.26871656 95.77223988 23.16887612 11.46505907 51.57687681\n",
      " 37.90719795 38.23537915 36.14228448 46.42563765 35.45971426 12.92215421\n",
      " 59.39065107 60.79074731 89.54603644 87.50839022 27.90084951 60.48698271\n",
      " 14.7685701  73.9180867  69.68508681 80.87883749 29.27199553 79.43459569\n",
      " 12.04869074 24.33880389 68.25021784 58.51625471 54.46368914 52.54474045\n",
      " 22.33374099 26.23281008 53.71215691 44.04991885 19.04300912 81.31646877\n",
      " 25.08886433 28.59033763 71.15017495 68.70591214 55.64288761 10.3895151\n",
      " 18.7866484  61.51690026 31.2019696  41.16533375 94.10430526 87.63934034\n",
      " 86.56767549 46.38842853 52.44511901 85.84336959 86.59674031 16.29652292\n",
      " 15.35534749 68.17655035 68.85097835 25.64065489 43.06315628 98.94563964\n",
      " 68.50775403 64.73701828 82.48025856 40.80029071 72.8084161  43.88725076\n",
      " 89.57414845 96.84992291 75.73953663 33.72993382 65.02767547 84.82995596\n",
      " 81.41177671 92.40064714 61.90842752 24.67586367 80.75002309 97.15134546\n",
      " 81.61763012 62.12992878 81.33004786 50.23626072 91.4540696  85.27569722\n",
      " 51.82442648 63.12061638 79.07510022 47.63215226 15.25179342 38.3937847\n",
      " 66.51758123 53.46658039 49.53865773 80.60027733 65.19966353 81.98385772\n",
      " 16.95924035 94.56677916 57.22625299 28.0884967  22.97984486 98.94427328\n",
      " 99.48016737 50.45312084 16.79780851 86.9233769  80.72413316 27.4317105\n",
      " 85.98826563 84.25169517 28.97465581 95.21913047 35.52227615 41.06361195\n",
      " 80.26335534 58.96042988 52.92713492 81.19112908 57.04435355 59.33448882\n",
      " 59.30343251 46.92795226 45.8101085  51.96302072 54.96404028 29.8754422\n",
      " 88.39628324 15.12722241 25.74150909 54.27535474 11.94751142 11.21059566\n",
      " 10.77093456 83.60052042 38.18379415 24.31440311 41.27532543 22.84271613\n",
      " 92.56676469 30.31949821 38.34661287 18.8367882  94.59597453 39.17695264\n",
      " 43.64660642 69.57340594 31.38290303 40.52483727 40.55939669 17.26957824\n",
      " 49.36309666 16.38846217 50.06623769 33.90486659 43.56328429 78.89665254\n",
      " 88.48660525 39.87798968 67.44089749 24.69812513 63.28123047 15.68340717\n",
      " 80.26721329 35.77188014 69.7309072  76.28903691 91.37340735 24.34408916\n",
      " 92.36567241 30.23932325 17.70532119 82.07638912 87.50744998 86.21708123\n",
      " 42.01615552 44.97724014 82.95842053 72.43997635 50.27509649 60.52375677\n",
      " 40.21197458 82.37535582 21.15991022 48.46941892 47.51783377 66.80351833\n",
      " 54.67369678 64.20469524 37.14976055 87.45055665 68.24617092 54.30100093\n",
      " 61.02077888 84.83304697 34.19820766 50.95591965 76.39520004 28.63636871\n",
      " 26.72828137 76.85979649 13.85386133 35.96948491 67.52316408 51.71634095\n",
      " 77.59352393 90.45132178 42.98366134 77.21271473 39.46927757 17.00013456\n",
      " 70.98844355 67.55153046 85.49892767 76.52609731 48.22955147 23.39585658\n",
      " 54.65267626 30.75273478 92.35147693 16.59214305 81.70109585 66.22320117\n",
      " 17.78681563 42.09518251 52.15928545 99.99529648 49.24599994 76.66796698\n",
      " 55.51427437 90.12839388 27.43015677 57.31059999 70.67587901 82.30638255\n",
      " 84.49984737 18.78381386 82.98109788 97.06985004 96.27482845 76.21062928\n",
      " 83.07448422 53.2437658  98.32852139 86.31024893 11.89630909 14.94317715\n",
      " 48.87470401 64.01123982 58.08831469 30.41389561 78.53261445 54.59791773\n",
      " 68.15173138 72.62174371 36.64762633 16.19814748 59.01199237 53.3324\n",
      " 45.13524765 27.06322379 77.59102795 75.30018053 66.13559715 25.08666952\n",
      " 48.22958971 48.54809426 79.25333525 32.06595794 43.27884638 48.07824782\n",
      " 70.25095906 11.20409006 97.51403196 25.21248636 99.2531143  43.82578299\n",
      " 62.39373374 27.59173568 15.98065054 83.57467318 64.3426928  92.33359708\n",
      " 42.63040606 72.67211482 68.26343896 73.95155206 28.45708216 52.30420815\n",
      " 49.32142897 98.86347003 69.61463093 44.99919424 25.2655559  10.66245436\n",
      " 99.46794653 78.77034393 23.77997864 34.01187213 25.55910573 35.92944108\n",
      " 72.11783062 65.17203188 24.94419075 79.22694593 47.29196038 97.40740634\n",
      " 59.9219706  91.70347779 91.02750157 63.25294357 39.10401906 29.84199381\n",
      " 98.0798641  39.94260725 48.84426175 36.6365458  14.045549   15.16606016\n",
      " 75.79580203 32.57772242 60.33661893 54.64856858 30.68309856 47.29911235\n",
      " 32.13326808 29.84520224 60.34403369 87.53833842 76.23604002 44.8593273\n",
      " 80.72444524 18.29014652 32.96918326 96.01942236 88.30733003 24.34882467\n",
      " 88.22917517 76.43987899 77.31752752 97.41214563 99.949371   20.43909863\n",
      " 34.67520961 22.73680924 86.52160357 20.47972142 34.82863171 33.78562613\n",
      " 78.1425218  77.89882788 41.80332409 68.78278803 80.70873024 87.58581678\n",
      " 71.48226911 56.12366775 60.53967405 62.91649398 70.10137616 88.40086159\n",
      " 97.81965825 39.53674536 13.98196485 54.28115401 46.82984091 15.70450993\n",
      " 36.43434641 28.76111115 79.69928477 21.87905102 70.49350442 46.66748257\n",
      " 49.25208961 67.88692949 10.81883425 41.62439746 38.5801618  95.04180191\n",
      " 91.31001146 79.57583962 15.80968475 13.19640869 41.37680131 26.07986888\n",
      " 89.68815697 60.75356341 41.53566324 20.45235101 98.28824773 20.68638319\n",
      " 62.0164668  78.99051358 40.38957954 38.50828497 54.23590615 49.50288772\n",
      " 90.50079329 47.54016478 46.09862567 45.07628578 28.47754316 73.83338235\n",
      " 82.19271209 51.45327207 73.95138898 45.84052338 14.49752802 11.68222095\n",
      " 30.76112405 94.1607076  17.5056519  89.47175213 53.60435012 93.11475683\n",
      " 38.2895839  62.42195432 84.34831472 64.10834309 53.5776725  99.93740083\n",
      " 72.62166837 50.80937488 63.51767708 49.83150863 62.35300212 11.98399602\n",
      " 60.97317187 80.1118602  16.46465465 96.33322603 64.06513761 72.68538462\n",
      " 50.01752343 75.88611387 10.36565286 21.47154991  8.61536888  4.86951297\n",
      " 21.3540143  21.82449325  9.53305556 11.08175773  3.95159419 12.71868278\n",
      "  3.43725657  0.58161911  3.30686533 18.80576672  6.84428709 19.55915613\n",
      " 18.58291887 21.06020983  9.36951311  7.90374805  3.7901097  12.91111116\n",
      " 21.5955521   5.03349466 18.46773636  7.50840993 25.92743461 16.2215509\n",
      " 20.16569654 25.91583344 12.43555384 19.2704671  21.11542753 10.5507352\n",
      " 16.23101919 10.41831341  8.05310664 10.32179569 13.7902553   9.78458232\n",
      " 11.20055013 21.50894724 20.14523036 19.08594712 13.99848534 23.72074683\n",
      "  5.45621805  9.57300253 19.12798217 25.19545539 24.32025854  4.5922911\n",
      "  2.67366649 20.23667887  6.6940664  11.27597394 13.55661578  3.80424248\n",
      " 22.03308789 18.32004057  5.99055974 21.75172518 25.23566634 22.39968911\n",
      " 23.58973012 13.21059893 16.12779303  5.20504588 15.30532944 15.91829363\n",
      "  3.46647434 20.32218485 20.56681144 22.98144004 17.23010968  6.75130384\n",
      " 16.17966651 12.06199596 25.62603794 23.14885036 25.2676766   3.97085764\n",
      " 15.12635262 10.60833819  1.01470685 11.10836097 11.41192616  9.05092921\n",
      "  6.47433054 10.05406317 17.97902242 24.07520561  3.40556486  4.99194726\n",
      "  7.02200174 16.0550859  15.4288006  11.82935144 21.23992351 18.61409381\n",
      " 24.10098954 15.79154958 14.75389773 19.41005796  0.307317   25.80947224\n",
      "  1.83062924 15.65121482 25.93453159 21.51194762  2.239303    1.45316678\n",
      " 15.04966556 16.16199854 21.60729955  9.66193183  4.72592619  6.10301732\n",
      " 10.75509455 18.89984017  1.4397719   2.2979472   8.34668631 18.13541048\n",
      " 10.76418194  2.99030856 10.98319966  8.96097958  7.40859258  1.55804014\n",
      "  9.86499328 17.71149192 20.89219928 24.49678025 12.72995096 15.47258849\n",
      " 25.37942037 11.57092394  4.79591125 13.58113352 10.73171899 17.14155838\n",
      "  5.66474318 12.87122947  9.0564687  25.32291465 11.01124254 22.4645296\n",
      " 16.3186969  21.94774377 15.71343179 10.47611538  5.75436606 11.35948163\n",
      " 24.34557622  4.59013156 11.42468297 13.13290778  3.41737707 24.38115055\n",
      "  4.61122238 17.16249478  2.39473241 13.38603951 18.45025637 17.73002481\n",
      " 14.27535481  0.46999149  0.6514427   8.09460944 24.9284806   4.19510146\n",
      "  1.24864386  0.59728928  0.88835303 25.80938511  8.75057384  9.78612315\n",
      "  7.41387534 24.68291649 21.81756236 15.81460236 21.5522748   1.56354169\n",
      " 10.26666589  1.11336451  4.95777171 19.02773508  7.99718944 17.58175572\n",
      " 24.32631841 20.35935343  1.76772847  9.43460738  0.63427913  2.66310786\n",
      "  5.42229279  5.41313756  2.64737162 20.06307862  7.71683779 11.47163958\n",
      "  1.07875904  9.89466413 23.89415964  6.49166115 25.68146123 17.65683245\n",
      "  7.45165698 11.03024806 21.55398247 14.6791405   8.90902842 11.53428154\n",
      " 24.31169395  3.34425366 14.67098796 15.62458054  0.11961381  8.18634491\n",
      " 23.24522064 15.79536769 19.66624035  4.24698721  2.97717896  8.25635875\n",
      "  6.69701005 17.64069615  5.56824221 19.11958225 18.46827075  2.06624018\n",
      "  8.70635715  6.36641845 20.99438774 22.93623271 22.92381746 11.24119992\n",
      "  7.23443695 25.55400203 14.06658993  6.95861407  6.1464797  14.20764383\n",
      "  7.21231589 20.6517913  20.91582474 14.72544914 22.98225454  1.85824254\n",
      " 21.64960712 18.92497452  1.06133139  1.59549513  5.1006217  15.99676735\n",
      " 10.87300274  9.78818867  9.65752952  0.84965409 16.35954442  6.01534328\n",
      "  6.00795709  5.88964445 25.7024475   9.52097937  8.40531755  6.2331197\n",
      "  5.54926358 19.13134775 14.26424174 21.68382933 12.06676767 19.10112675\n",
      " 21.28015083 13.12025625 10.16651585 19.00494312  3.94007469 20.70102768\n",
      " 25.98076211 17.55936175  8.25878842 15.93947268  3.02732949  3.70408057\n",
      " 10.71273316 14.15375362 20.43926797  2.45266348  1.42840451 25.43995114\n",
      " 23.97227935 15.44068288  2.52032341  2.49148464  4.11335992 20.89776481\n",
      " 16.89267764 22.05561143 25.53409799 21.82588332 22.26461455 12.85214218\n",
      " 13.74746768  7.09752926 19.17483289  8.92612967 14.51381972  5.28484477\n",
      " 11.71576973 22.2733678   2.04851389  7.87961423 19.65305951  8.65209315\n",
      "  0.42355137  2.82676356  3.60157014 13.15166151 21.40970099 20.12729504\n",
      " 24.67231315 11.07956851  5.72103077 20.31321129  2.33357494 17.20447564\n",
      " 25.62011653  8.52734554 10.35782403  1.36736722 16.59065882  2.65523529\n",
      " 13.55630291 10.84071705 24.41456054  1.20852487  0.61347533 13.1091636\n",
      " 22.794273   23.65264751  4.64534303 15.24606613 20.95297366 14.3981009\n",
      "  5.41272679 23.93214349 20.23541027  5.28897742 22.28585459 15.57909649\n",
      "  3.22840613  7.84310651  0.35076854 15.25748763  0.36932944  5.39862156\n",
      " 13.88074057 20.74079486  6.59490919 21.42916127 23.31319832  0.70486926\n",
      "  7.13977366  1.25914992 18.39180464  8.93953242  5.32511167 13.64059627\n",
      "  3.55343565  5.38411129  3.52443671 10.87872003 15.44903459  1.06526473\n",
      "  5.98774932  5.39870801 19.19123929 12.89268638 10.53814886  2.9930962\n",
      " 20.51348064 11.69051822  8.68873652 17.97163509 24.33937071 21.62930473\n",
      "  0.52181368 15.7595168  16.60438067  8.62516736 15.45933041  1.65084734\n",
      " 24.96711733 20.80218389 21.44098055 19.60922954  9.83920553 22.44250407\n",
      "  8.20902149  6.78932645  7.2407509  17.43381608 11.4373777  14.0530621\n",
      " 15.72207731 15.19466392  0.88616547 16.12552828 24.01971786 16.71645597\n",
      " 14.69192482 18.24373266  0.76961385 15.13451483 13.10842129 10.1831803\n",
      " 22.15869141 19.71561329  7.94180235  9.35185262  4.20465179  5.50901727\n",
      " 14.61947693  5.62468249 10.95256701  5.26255158  7.29548413  4.1851252\n",
      "  1.03951574 10.61826851 22.42502768 20.864511   11.73441219 23.73405051\n",
      " 10.50329303 16.02343103  5.88452028 23.70418052 15.36897965  4.99038638\n",
      " 13.79030125 24.38998929 12.19327789  0.19612672  1.93141926 10.67335574\n",
      "  4.16538404 17.30894438 20.79678851 16.16823749  4.85734314  4.18217909\n",
      " 15.79118604  4.22261781 24.41468587  8.54985155 15.9159767   7.87254472\n",
      " 25.81492089  6.66411726 17.01643124 15.36426895  3.63448239 18.95605639\n",
      "  6.45490723 12.43577846  5.54443122  2.54491726  1.93541987 19.27129792\n",
      "  2.18580385  2.55112566  6.3702862   3.46369426  5.66876295 16.34912037\n",
      "  9.42846844 23.35667052  7.85655423 13.30951256 13.16759331 21.77871107\n",
      " 22.20042911  1.05839339 21.67490674  6.44320955 17.28702734 16.51154259\n",
      "  0.98675848  6.1168679   5.45818791  7.78777431  1.87539807 24.14411966\n",
      " 19.58218779 18.14294003 12.05050574 20.16761244]\n",
      "Objective value f(xmin) = -0.01403849646\n",
      "Needed 1000 objective evaluations (at 1000 points)\n",
      "No gradient available\n",
      "No Hessian available\n",
      "Exit flag = 1\n",
      "Warning (max evals): Objective has been called MAXFUN times\n",
      "******************************\n",
      "\n"
     ]
    }
   ],
   "source": [
    "print(soln)"
   ]
  },
  {
   "cell_type": "code",
   "execution_count": 55,
   "id": "joined-julian",
   "metadata": {},
   "outputs": [
    {
     "name": "stdout",
     "output_type": "stream",
     "text": [
      "[zoopt] sequential random embedding 0\n",
      "[zoopt] sequential random embedding 1\n",
      "[zoopt] sequential random embedding 2\n",
      "[zoopt] sequential random embedding 3\n",
      "[zoopt] sequential random embedding 4\n",
      "[zoopt] x: array([ 0.19762069,  0.03507376,  0.13733184, ...,  0.26865947,\n",
      "        0.05533593, -0.21349018])\n",
      "[zoopt] value: 0.15336457560375588\n",
      "[zoopt] The best solution is:\n",
      "[zoopt] x: array([ 0.19762069,  0.03507376,  0.13733184, ...,  0.26865947,\n",
      "        0.05533593, -0.21349018])\n",
      "[zoopt] value: 0.15336457560375588\n"
     ]
    },
    {
     "data": {
      "image/png": "[encoded data removed]",
      "text/plain": [
       "<Figure size 432x288 with 1 Axes>"
      ]
     },
     "metadata": {
      "needs_background": "light"
     },
     "output_type": "display_data"
    },
    {
     "name": "stdout",
     "output_type": "stream",
     "text": [
      "[zoopt] Best 1 result: 0.15336457560375588 +- 0.0\n"
     ]
    }
   ],
   "source": [
    "def sphere_sre(solution):\n",
    "    \"\"\"\n",
    "    Variant of the sphere function. Dimensions except the first 10 ones have limited impact on the function value.\n",
    "    \"\"\"\n",
    "    a = 0\n",
    "    bias = 0.2\n",
    "    x = solution.get_x()\n",
    "    x1 = x[:10]\n",
    "    x2 = x[10:]\n",
    "    value1 = sum([(i-bias)*(i-bias) for i in x1])\n",
    "    value2 = 1/len(x) * sum([(i-bias)*(i-bias) for i in x2])\n",
    "    return value1 + value2\n",
    "\n",
    "def sphere_continuous_sre():\n",
    "    \"\"\"\n",
    "    Example of minimizing high-dimensional sphere function with sequential random embedding.\n",
    "\n",
    "    :return: no return value\n",
    "    \"\"\"\n",
    "\n",
    "    dim_size = 10000  # dimensions\n",
    "    dim_regs = [[0, 1]] * dim_size  # dimension range\n",
    "    dim_tys = [True] * dim_size  # dimension type : real\n",
    "    #dim = Dimension(dim_size, dim_regs, dim_tys)  # form up the dimension object\n",
    "    dim = Dimension2([(ValueType.CONTINUOUS, [0.5, 1], 1e-6)]*dim_size)\n",
    "    objective = Objective(sphere_sre, dim)  # form up the objective function\n",
    "\n",
    "    # setup algorithm parameters\n",
    "    budget = 2000  # number of calls to the objective function\n",
    "    parameter = Parameter(budget=budget, high_dim_handling=True, reducedim=True, num_sre=5, low_dimension=Dimension(10, [[0, 1]] * 10, [True] * 10))\n",
    "\n",
    "    solution_list = ExpOpt.min(objective, parameter, repeat=1, plot=True)\n",
    "\n",
    "sphere_continuous_sre()"
   ]
  },
  {
   "cell_type": "code",
   "execution_count": 118,
   "id": "measured-anatomy",
   "metadata": {},
   "outputs": [
    {
     "name": "stdout",
     "output_type": "stream",
     "text": [
      "10\n"
     ]
    },
    {
     "ename": "ValueError",
     "evalue": "not enough values to unpack (expected 2, got 0)",
     "output_type": "error",
     "traceback": [
      "\u001b[0;31m---------------------------------------------------------------------------\u001b[0m",
      "\u001b[0;31mValueError\u001b[0m                                Traceback (most recent call last)",
      "\u001b[0;32m<ipython-input-118-e4ff9839f54f>\u001b[0m in \u001b[0;36m<module>\u001b[0;34m\u001b[0m\n\u001b[1;32m     31\u001b[0m         \u001b[0mcont\u001b[0m\u001b[0;34m[\u001b[0m\u001b[0;34mf\"mu_{j+1}\"\u001b[0m\u001b[0;34m]\u001b[0m \u001b[0;34m=\u001b[0m \u001b[0mx0\u001b[0m\u001b[0;34m[\u001b[0m\u001b[0mj\u001b[0m\u001b[0;34m]\u001b[0m\u001b[0;34m\u001b[0m\u001b[0;34m\u001b[0m\u001b[0m\n\u001b[1;32m     32\u001b[0m         \u001b[0mcont\u001b[0m\u001b[0;34m[\u001b[0m\u001b[0;34mf\"std_{j+1}\"\u001b[0m\u001b[0;34m]\u001b[0m \u001b[0;34m=\u001b[0m \u001b[0mx0\u001b[0m\u001b[0;34m[\u001b[0m\u001b[0mj\u001b[0m\u001b[0;34m+\u001b[0m\u001b[0mdb_size\u001b[0m\u001b[0;34m]\u001b[0m\u001b[0;34m\u001b[0m\u001b[0;34m\u001b[0m\u001b[0m\n\u001b[0;32m---> 33\u001b[0;31m     \u001b[0mBopt\u001b[0m\u001b[0;34m.\u001b[0m\u001b[0mrun_optimization\u001b[0m\u001b[0;34m(\u001b[0m\u001b[0mmax_iter\u001b[0m \u001b[0;34m=\u001b[0m \u001b[0;36m20\u001b[0m\u001b[0;34m,\u001b[0m \u001b[0meps\u001b[0m\u001b[0;34m=\u001b[0m\u001b[0;36m1e-8\u001b[0m\u001b[0;34m,\u001b[0m \u001b[0mcontext\u001b[0m\u001b[0;34m=\u001b[0m\u001b[0mcont\u001b[0m\u001b[0;34m)\u001b[0m\u001b[0;34m\u001b[0m\u001b[0;34m\u001b[0m\u001b[0m\n\u001b[0m\u001b[1;32m     34\u001b[0m     \u001b[0mprint\u001b[0m\u001b[0;34m(\u001b[0m\u001b[0mBopt\u001b[0m\u001b[0;34m.\u001b[0m\u001b[0mfx_opt\u001b[0m\u001b[0;34m)\u001b[0m\u001b[0;34m\u001b[0m\u001b[0;34m\u001b[0m\u001b[0m\n",
      "\u001b[0;32m~/.local/lib/python3.8/site-packages/GPyOpt/core/bo.py\u001b[0m in \u001b[0;36mrun_optimization\u001b[0;34m(self, max_iter, max_time, eps, context, verbosity, save_models_parameters, report_file, evaluations_file, models_file)\u001b[0m\n\u001b[1;32m    143\u001b[0m                 \u001b[0;32mbreak\u001b[0m\u001b[0;34m\u001b[0m\u001b[0;34m\u001b[0m\u001b[0m\n\u001b[1;32m    144\u001b[0m \u001b[0;34m\u001b[0m\u001b[0m\n\u001b[0;32m--> 145\u001b[0;31m             \u001b[0mself\u001b[0m\u001b[0;34m.\u001b[0m\u001b[0msuggested_sample\u001b[0m \u001b[0;34m=\u001b[0m \u001b[0mself\u001b[0m\u001b[0;34m.\u001b[0m\u001b[0m_compute_next_evaluations\u001b[0m\u001b[0;34m(\u001b[0m\u001b[0;34m)\u001b[0m\u001b[0;34m\u001b[0m\u001b[0;34m\u001b[0m\u001b[0m\n\u001b[0m\u001b[1;32m    146\u001b[0m \u001b[0;34m\u001b[0m\u001b[0m\n\u001b[1;32m    147\u001b[0m             \u001b[0;31m# --- Augment X\u001b[0m\u001b[0;34m\u001b[0m\u001b[0;34m\u001b[0m\u001b[0;34m\u001b[0m\u001b[0m\n",
      "\u001b[0;32m~/.local/lib/python3.8/site-packages/GPyOpt/core/bo.py\u001b[0m in \u001b[0;36m_compute_next_evaluations\u001b[0;34m(self, pending_zipped_X, ignored_zipped_X)\u001b[0m\n\u001b[1;32m    234\u001b[0m \u001b[0;34m\u001b[0m\u001b[0m\n\u001b[1;32m    235\u001b[0m         \u001b[0;31m### We zip the value in case there are categorical variables\u001b[0m\u001b[0;34m\u001b[0m\u001b[0;34m\u001b[0m\u001b[0;34m\u001b[0m\u001b[0m\n\u001b[0;32m--> 236\u001b[0;31m         \u001b[0;32mreturn\u001b[0m \u001b[0mself\u001b[0m\u001b[0;34m.\u001b[0m\u001b[0mspace\u001b[0m\u001b[0;34m.\u001b[0m\u001b[0mzip_inputs\u001b[0m\u001b[0;34m(\u001b[0m\u001b[0mself\u001b[0m\u001b[0;34m.\u001b[0m\u001b[0mevaluator\u001b[0m\u001b[0;34m.\u001b[0m\u001b[0mcompute_batch\u001b[0m\u001b[0;34m(\u001b[0m\u001b[0mduplicate_manager\u001b[0m\u001b[0;34m=\u001b[0m\u001b[0mduplicate_manager\u001b[0m\u001b[0;34m,\u001b[0m \u001b[0mcontext_manager\u001b[0m\u001b[0;34m=\u001b[0m \u001b[0mself\u001b[0m\u001b[0;34m.\u001b[0m\u001b[0macquisition\u001b[0m\u001b[0;34m.\u001b[0m\u001b[0moptimizer\u001b[0m\u001b[0;34m.\u001b[0m\u001b[0mcontext_manager\u001b[0m\u001b[0;34m)\u001b[0m\u001b[0;34m)\u001b[0m\u001b[0;34m\u001b[0m\u001b[0;34m\u001b[0m\u001b[0m\n\u001b[0m\u001b[1;32m    237\u001b[0m \u001b[0;34m\u001b[0m\u001b[0m\n\u001b[1;32m    238\u001b[0m     \u001b[0;32mdef\u001b[0m \u001b[0m_update_model\u001b[0m\u001b[0;34m(\u001b[0m\u001b[0mself\u001b[0m\u001b[0;34m,\u001b[0m \u001b[0mnormalization_type\u001b[0m\u001b[0;34m=\u001b[0m\u001b[0;34m'stats'\u001b[0m\u001b[0;34m)\u001b[0m\u001b[0;34m:\u001b[0m\u001b[0;34m\u001b[0m\u001b[0;34m\u001b[0m\u001b[0m\n",
      "\u001b[0;32m~/.local/lib/python3.8/site-packages/GPyOpt/core/evaluators/sequential.py\u001b[0m in \u001b[0;36mcompute_batch\u001b[0;34m(self, duplicate_manager, context_manager)\u001b[0m\n\u001b[1;32m     20\u001b[0m         \u001b[0mSelects\u001b[0m \u001b[0mthe\u001b[0m \u001b[0mnew\u001b[0m \u001b[0mlocation\u001b[0m \u001b[0mto\u001b[0m \u001b[0mevaluate\u001b[0m \u001b[0mthe\u001b[0m \u001b[0mobjective\u001b[0m\u001b[0;34m.\u001b[0m\u001b[0;34m\u001b[0m\u001b[0;34m\u001b[0m\u001b[0m\n\u001b[1;32m     21\u001b[0m         \"\"\"\n\u001b[0;32m---> 22\u001b[0;31m         \u001b[0mx\u001b[0m\u001b[0;34m,\u001b[0m \u001b[0m_\u001b[0m \u001b[0;34m=\u001b[0m \u001b[0mself\u001b[0m\u001b[0;34m.\u001b[0m\u001b[0macquisition\u001b[0m\u001b[0;34m.\u001b[0m\u001b[0moptimize\u001b[0m\u001b[0;34m(\u001b[0m\u001b[0mduplicate_manager\u001b[0m\u001b[0;34m=\u001b[0m\u001b[0mduplicate_manager\u001b[0m\u001b[0;34m)\u001b[0m\u001b[0;34m\u001b[0m\u001b[0;34m\u001b[0m\u001b[0m\n\u001b[0m\u001b[1;32m     23\u001b[0m         \u001b[0;32mreturn\u001b[0m \u001b[0mx\u001b[0m\u001b[0;34m\u001b[0m\u001b[0;34m\u001b[0m\u001b[0m\n",
      "\u001b[0;32m~/.local/lib/python3.8/site-packages/GPyOpt/acquisitions/base.py\u001b[0m in \u001b[0;36moptimize\u001b[0;34m(self, duplicate_manager)\u001b[0m\n\u001b[1;32m     59\u001b[0m             \u001b[0mout\u001b[0m \u001b[0;34m=\u001b[0m \u001b[0mself\u001b[0m\u001b[0;34m.\u001b[0m\u001b[0moptimizer\u001b[0m\u001b[0;34m.\u001b[0m\u001b[0moptimize\u001b[0m\u001b[0;34m(\u001b[0m\u001b[0mf\u001b[0m\u001b[0;34m=\u001b[0m\u001b[0mself\u001b[0m\u001b[0;34m.\u001b[0m\u001b[0macquisition_function\u001b[0m\u001b[0;34m,\u001b[0m \u001b[0mduplicate_manager\u001b[0m\u001b[0;34m=\u001b[0m\u001b[0mduplicate_manager\u001b[0m\u001b[0;34m)\u001b[0m\u001b[0;34m\u001b[0m\u001b[0;34m\u001b[0m\u001b[0m\n\u001b[1;32m     60\u001b[0m         \u001b[0;32melse\u001b[0m\u001b[0;34m:\u001b[0m\u001b[0;34m\u001b[0m\u001b[0;34m\u001b[0m\u001b[0m\n\u001b[0;32m---> 61\u001b[0;31m             \u001b[0mout\u001b[0m \u001b[0;34m=\u001b[0m \u001b[0mself\u001b[0m\u001b[0;34m.\u001b[0m\u001b[0moptimizer\u001b[0m\u001b[0;34m.\u001b[0m\u001b[0moptimize\u001b[0m\u001b[0;34m(\u001b[0m\u001b[0mf\u001b[0m\u001b[0;34m=\u001b[0m\u001b[0mself\u001b[0m\u001b[0;34m.\u001b[0m\u001b[0macquisition_function\u001b[0m\u001b[0;34m,\u001b[0m \u001b[0mf_df\u001b[0m\u001b[0;34m=\u001b[0m\u001b[0mself\u001b[0m\u001b[0;34m.\u001b[0m\u001b[0macquisition_function_withGradients\u001b[0m\u001b[0;34m,\u001b[0m \u001b[0mduplicate_manager\u001b[0m\u001b[0;34m=\u001b[0m\u001b[0mduplicate_manager\u001b[0m\u001b[0;34m)\u001b[0m\u001b[0;34m\u001b[0m\u001b[0;34m\u001b[0m\u001b[0m\n\u001b[0m\u001b[1;32m     62\u001b[0m         \u001b[0;32mreturn\u001b[0m \u001b[0mout\u001b[0m\u001b[0;34m\u001b[0m\u001b[0;34m\u001b[0m\u001b[0m\n\u001b[1;32m     63\u001b[0m \u001b[0;34m\u001b[0m\u001b[0m\n",
      "\u001b[0;32m~/.local/lib/python3.8/site-packages/GPyOpt/optimization/acquisition_optimizer.py\u001b[0m in \u001b[0;36moptimize\u001b[0;34m(self, f, df, f_df, duplicate_manager)\u001b[0m\n\u001b[1;32m     71\u001b[0m \u001b[0;34m\u001b[0m\u001b[0m\n\u001b[1;32m     72\u001b[0m         \u001b[0;31m## --- Applying local optimizers at the anchor points and update bounds of the optimizer (according to the context)\u001b[0m\u001b[0;34m\u001b[0m\u001b[0;34m\u001b[0m\u001b[0;34m\u001b[0m\u001b[0m\n\u001b[0;32m---> 73\u001b[0;31m         \u001b[0moptimized_points\u001b[0m \u001b[0;34m=\u001b[0m \u001b[0;34m[\u001b[0m\u001b[0mapply_optimizer\u001b[0m\u001b[0;34m(\u001b[0m\u001b[0mself\u001b[0m\u001b[0;34m.\u001b[0m\u001b[0moptimizer\u001b[0m\u001b[0;34m,\u001b[0m \u001b[0ma\u001b[0m\u001b[0;34m,\u001b[0m \u001b[0mf\u001b[0m\u001b[0;34m=\u001b[0m\u001b[0mf\u001b[0m\u001b[0;34m,\u001b[0m \u001b[0mdf\u001b[0m\u001b[0;34m=\u001b[0m\u001b[0;32mNone\u001b[0m\u001b[0;34m,\u001b[0m \u001b[0mf_df\u001b[0m\u001b[0;34m=\u001b[0m\u001b[0mf_df\u001b[0m\u001b[0;34m,\u001b[0m \u001b[0mduplicate_manager\u001b[0m\u001b[0;34m=\u001b[0m\u001b[0mduplicate_manager\u001b[0m\u001b[0;34m,\u001b[0m \u001b[0mcontext_manager\u001b[0m\u001b[0;34m=\u001b[0m\u001b[0mself\u001b[0m\u001b[0;34m.\u001b[0m\u001b[0mcontext_manager\u001b[0m\u001b[0;34m,\u001b[0m \u001b[0mspace\u001b[0m \u001b[0;34m=\u001b[0m \u001b[0mself\u001b[0m\u001b[0;34m.\u001b[0m\u001b[0mspace\u001b[0m\u001b[0;34m)\u001b[0m \u001b[0;32mfor\u001b[0m \u001b[0ma\u001b[0m \u001b[0;32min\u001b[0m \u001b[0manchor_points\u001b[0m\u001b[0;34m]\u001b[0m\u001b[0;34m\u001b[0m\u001b[0;34m\u001b[0m\u001b[0m\n\u001b[0m\u001b[1;32m     74\u001b[0m         \u001b[0mx_min\u001b[0m\u001b[0;34m,\u001b[0m \u001b[0mfx_min\u001b[0m \u001b[0;34m=\u001b[0m \u001b[0mmin\u001b[0m\u001b[0;34m(\u001b[0m\u001b[0moptimized_points\u001b[0m\u001b[0;34m,\u001b[0m \u001b[0mkey\u001b[0m\u001b[0;34m=\u001b[0m\u001b[0;32mlambda\u001b[0m \u001b[0mt\u001b[0m\u001b[0;34m:\u001b[0m\u001b[0mt\u001b[0m\u001b[0;34m[\u001b[0m\u001b[0;36m1\u001b[0m\u001b[0;34m]\u001b[0m\u001b[0;34m)\u001b[0m\u001b[0;34m\u001b[0m\u001b[0;34m\u001b[0m\u001b[0m\n\u001b[1;32m     75\u001b[0m \u001b[0;34m\u001b[0m\u001b[0m\n",
      "\u001b[0;32m~/.local/lib/python3.8/site-packages/GPyOpt/optimization/acquisition_optimizer.py\u001b[0m in \u001b[0;36m<listcomp>\u001b[0;34m(.0)\u001b[0m\n\u001b[1;32m     71\u001b[0m \u001b[0;34m\u001b[0m\u001b[0m\n\u001b[1;32m     72\u001b[0m         \u001b[0;31m## --- Applying local optimizers at the anchor points and update bounds of the optimizer (according to the context)\u001b[0m\u001b[0;34m\u001b[0m\u001b[0;34m\u001b[0m\u001b[0;34m\u001b[0m\u001b[0m\n\u001b[0;32m---> 73\u001b[0;31m         \u001b[0moptimized_points\u001b[0m \u001b[0;34m=\u001b[0m \u001b[0;34m[\u001b[0m\u001b[0mapply_optimizer\u001b[0m\u001b[0;34m(\u001b[0m\u001b[0mself\u001b[0m\u001b[0;34m.\u001b[0m\u001b[0moptimizer\u001b[0m\u001b[0;34m,\u001b[0m \u001b[0ma\u001b[0m\u001b[0;34m,\u001b[0m \u001b[0mf\u001b[0m\u001b[0;34m=\u001b[0m\u001b[0mf\u001b[0m\u001b[0;34m,\u001b[0m \u001b[0mdf\u001b[0m\u001b[0;34m=\u001b[0m\u001b[0;32mNone\u001b[0m\u001b[0;34m,\u001b[0m \u001b[0mf_df\u001b[0m\u001b[0;34m=\u001b[0m\u001b[0mf_df\u001b[0m\u001b[0;34m,\u001b[0m \u001b[0mduplicate_manager\u001b[0m\u001b[0;34m=\u001b[0m\u001b[0mduplicate_manager\u001b[0m\u001b[0;34m,\u001b[0m \u001b[0mcontext_manager\u001b[0m\u001b[0;34m=\u001b[0m\u001b[0mself\u001b[0m\u001b[0;34m.\u001b[0m\u001b[0mcontext_manager\u001b[0m\u001b[0;34m,\u001b[0m \u001b[0mspace\u001b[0m \u001b[0;34m=\u001b[0m \u001b[0mself\u001b[0m\u001b[0;34m.\u001b[0m\u001b[0mspace\u001b[0m\u001b[0;34m)\u001b[0m \u001b[0;32mfor\u001b[0m \u001b[0ma\u001b[0m \u001b[0;32min\u001b[0m \u001b[0manchor_points\u001b[0m\u001b[0;34m]\u001b[0m\u001b[0;34m\u001b[0m\u001b[0;34m\u001b[0m\u001b[0m\n\u001b[0m\u001b[1;32m     74\u001b[0m         \u001b[0mx_min\u001b[0m\u001b[0;34m,\u001b[0m \u001b[0mfx_min\u001b[0m \u001b[0;34m=\u001b[0m \u001b[0mmin\u001b[0m\u001b[0;34m(\u001b[0m\u001b[0moptimized_points\u001b[0m\u001b[0;34m,\u001b[0m \u001b[0mkey\u001b[0m\u001b[0;34m=\u001b[0m\u001b[0;32mlambda\u001b[0m \u001b[0mt\u001b[0m\u001b[0;34m:\u001b[0m\u001b[0mt\u001b[0m\u001b[0;34m[\u001b[0m\u001b[0;36m1\u001b[0m\u001b[0;34m]\u001b[0m\u001b[0;34m)\u001b[0m\u001b[0;34m\u001b[0m\u001b[0;34m\u001b[0m\u001b[0m\n\u001b[1;32m     75\u001b[0m \u001b[0;34m\u001b[0m\u001b[0m\n",
      "\u001b[0;32m~/.local/lib/python3.8/site-packages/GPyOpt/optimization/optimizer.py\u001b[0m in \u001b[0;36mapply_optimizer\u001b[0;34m(optimizer, x0, f, df, f_df, duplicate_manager, context_manager, space)\u001b[0m\n\u001b[1;32m    157\u001b[0m \u001b[0;34m\u001b[0m\u001b[0m\n\u001b[1;32m    158\u001b[0m     \u001b[0;31m## --- Optimize point\u001b[0m\u001b[0;34m\u001b[0m\u001b[0;34m\u001b[0m\u001b[0;34m\u001b[0m\u001b[0m\n\u001b[0;32m--> 159\u001b[0;31m     \u001b[0moptimized_x\u001b[0m\u001b[0;34m,\u001b[0m \u001b[0m_\u001b[0m \u001b[0;34m=\u001b[0m \u001b[0moptimizer\u001b[0m\u001b[0;34m.\u001b[0m\u001b[0moptimize\u001b[0m\u001b[0;34m(\u001b[0m\u001b[0mproblem\u001b[0m\u001b[0;34m.\u001b[0m\u001b[0mx0_nocontext\u001b[0m\u001b[0;34m,\u001b[0m \u001b[0mproblem\u001b[0m\u001b[0;34m.\u001b[0m\u001b[0mf_nocontext\u001b[0m\u001b[0;34m,\u001b[0m \u001b[0mproblem\u001b[0m\u001b[0;34m.\u001b[0m\u001b[0mdf_nocontext\u001b[0m\u001b[0;34m,\u001b[0m \u001b[0mproblem\u001b[0m\u001b[0;34m.\u001b[0m\u001b[0mf_df_nocontext\u001b[0m\u001b[0;34m)\u001b[0m\u001b[0;34m\u001b[0m\u001b[0;34m\u001b[0m\u001b[0m\n\u001b[0m\u001b[1;32m    160\u001b[0m \u001b[0;34m\u001b[0m\u001b[0m\n\u001b[1;32m    161\u001b[0m     \u001b[0;31m## --- Add context and round according to the type of variables of the design space\u001b[0m\u001b[0;34m\u001b[0m\u001b[0;34m\u001b[0m\u001b[0;34m\u001b[0m\u001b[0m\n",
      "\u001b[0;32m~/.local/lib/python3.8/site-packages/GPyOpt/optimization/optimizer.py\u001b[0m in \u001b[0;36moptimize\u001b[0;34m(self, x0, f, df, f_df)\u001b[0m\n\u001b[1;32m     49\u001b[0m             \u001b[0mres\u001b[0m \u001b[0;34m=\u001b[0m \u001b[0mscipy\u001b[0m\u001b[0;34m.\u001b[0m\u001b[0moptimize\u001b[0m\u001b[0;34m.\u001b[0m\u001b[0mfmin_l_bfgs_b\u001b[0m\u001b[0;34m(\u001b[0m\u001b[0mf\u001b[0m\u001b[0;34m,\u001b[0m \u001b[0mx0\u001b[0m\u001b[0;34m=\u001b[0m\u001b[0mx0\u001b[0m\u001b[0;34m,\u001b[0m \u001b[0mbounds\u001b[0m\u001b[0;34m=\u001b[0m\u001b[0mself\u001b[0m\u001b[0;34m.\u001b[0m\u001b[0mbounds\u001b[0m\u001b[0;34m,\u001b[0m\u001b[0mapprox_grad\u001b[0m\u001b[0;34m=\u001b[0m\u001b[0;32mTrue\u001b[0m\u001b[0;34m,\u001b[0m \u001b[0mmaxiter\u001b[0m\u001b[0;34m=\u001b[0m\u001b[0mself\u001b[0m\u001b[0;34m.\u001b[0m\u001b[0mmaxiter\u001b[0m\u001b[0;34m)\u001b[0m\u001b[0;34m\u001b[0m\u001b[0;34m\u001b[0m\u001b[0m\n\u001b[1;32m     50\u001b[0m         \u001b[0;32melse\u001b[0m\u001b[0;34m:\u001b[0m\u001b[0;34m\u001b[0m\u001b[0;34m\u001b[0m\u001b[0m\n\u001b[0;32m---> 51\u001b[0;31m             \u001b[0mres\u001b[0m \u001b[0;34m=\u001b[0m \u001b[0mscipy\u001b[0m\u001b[0;34m.\u001b[0m\u001b[0moptimize\u001b[0m\u001b[0;34m.\u001b[0m\u001b[0mfmin_l_bfgs_b\u001b[0m\u001b[0;34m(\u001b[0m\u001b[0m_f_df\u001b[0m\u001b[0;34m,\u001b[0m \u001b[0mx0\u001b[0m\u001b[0;34m=\u001b[0m\u001b[0mx0\u001b[0m\u001b[0;34m,\u001b[0m \u001b[0mbounds\u001b[0m\u001b[0;34m=\u001b[0m\u001b[0mself\u001b[0m\u001b[0;34m.\u001b[0m\u001b[0mbounds\u001b[0m\u001b[0;34m,\u001b[0m \u001b[0mmaxiter\u001b[0m\u001b[0;34m=\u001b[0m\u001b[0mself\u001b[0m\u001b[0;34m.\u001b[0m\u001b[0mmaxiter\u001b[0m\u001b[0;34m)\u001b[0m\u001b[0;34m\u001b[0m\u001b[0;34m\u001b[0m\u001b[0m\n\u001b[0m\u001b[1;32m     52\u001b[0m \u001b[0;34m\u001b[0m\u001b[0m\n\u001b[1;32m     53\u001b[0m         \u001b[0;31m### --- We check here if the the optimizer moved. If it didn't we report x0 and f(x0) as scipy can return NaNs\u001b[0m\u001b[0;34m\u001b[0m\u001b[0;34m\u001b[0m\u001b[0;34m\u001b[0m\u001b[0m\n",
      "\u001b[0;32m~/.local/lib/python3.8/site-packages/scipy/optimize/lbfgsb.py\u001b[0m in \u001b[0;36mfmin_l_bfgs_b\u001b[0;34m(func, x0, fprime, args, approx_grad, bounds, m, factr, pgtol, epsilon, iprint, maxfun, maxiter, disp, callback, maxls)\u001b[0m\n\u001b[1;32m    195\u001b[0m             'maxls': maxls}\n\u001b[1;32m    196\u001b[0m \u001b[0;34m\u001b[0m\u001b[0m\n\u001b[0;32m--> 197\u001b[0;31m     res = _minimize_lbfgsb(fun, x0, args=args, jac=jac, bounds=bounds,\n\u001b[0m\u001b[1;32m    198\u001b[0m                            **opts)\n\u001b[1;32m    199\u001b[0m     d = {'grad': res['jac'],\n",
      "\u001b[0;32m~/.local/lib/python3.8/site-packages/scipy/optimize/lbfgsb.py\u001b[0m in \u001b[0;36m_minimize_lbfgsb\u001b[0;34m(fun, x0, args, jac, bounds, disp, maxcor, ftol, gtol, eps, maxfun, maxiter, iprint, callback, maxls, finite_diff_rel_step, **unknown_options)\u001b[0m\n\u001b[1;32m    288\u001b[0m     \u001b[0;31m# LBFGSB is sent 'old-style' bounds, 'new-style' bounds are required by\u001b[0m\u001b[0;34m\u001b[0m\u001b[0;34m\u001b[0m\u001b[0;34m\u001b[0m\u001b[0m\n\u001b[1;32m    289\u001b[0m     \u001b[0;31m# approx_derivative and ScalarFunction\u001b[0m\u001b[0;34m\u001b[0m\u001b[0;34m\u001b[0m\u001b[0;34m\u001b[0m\u001b[0m\n\u001b[0;32m--> 290\u001b[0;31m     \u001b[0mnew_bounds\u001b[0m \u001b[0;34m=\u001b[0m \u001b[0mold_bound_to_new\u001b[0m\u001b[0;34m(\u001b[0m\u001b[0mbounds\u001b[0m\u001b[0;34m)\u001b[0m\u001b[0;34m\u001b[0m\u001b[0;34m\u001b[0m\u001b[0m\n\u001b[0m\u001b[1;32m    291\u001b[0m \u001b[0;34m\u001b[0m\u001b[0m\n\u001b[1;32m    292\u001b[0m     \u001b[0;31m# check bounds\u001b[0m\u001b[0;34m\u001b[0m\u001b[0;34m\u001b[0m\u001b[0;34m\u001b[0m\u001b[0m\n",
      "\u001b[0;32m~/.local/lib/python3.8/site-packages/scipy/optimize/_constraints.py\u001b[0m in \u001b[0;36mold_bound_to_new\u001b[0;34m(bounds)\u001b[0m\n\u001b[1;32m    321\u001b[0m     \u001b[0;34m-\u001b[0m\u001b[0mnp\u001b[0m\u001b[0;34m.\u001b[0m\u001b[0minf\u001b[0m\u001b[0;34m/\u001b[0m\u001b[0mnp\u001b[0m\u001b[0;34m.\u001b[0m\u001b[0minf\u001b[0m\u001b[0;34m.\u001b[0m\u001b[0;34m\u001b[0m\u001b[0;34m\u001b[0m\u001b[0m\n\u001b[1;32m    322\u001b[0m     \"\"\"\n\u001b[0;32m--> 323\u001b[0;31m     \u001b[0mlb\u001b[0m\u001b[0;34m,\u001b[0m \u001b[0mub\u001b[0m \u001b[0;34m=\u001b[0m \u001b[0mzip\u001b[0m\u001b[0;34m(\u001b[0m\u001b[0;34m*\u001b[0m\u001b[0mbounds\u001b[0m\u001b[0;34m)\u001b[0m\u001b[0;34m\u001b[0m\u001b[0;34m\u001b[0m\u001b[0m\n\u001b[0m\u001b[1;32m    324\u001b[0m \u001b[0;34m\u001b[0m\u001b[0m\n\u001b[1;32m    325\u001b[0m     \u001b[0;31m# Convert occurrences of None to -inf or inf, and replace occurrences of\u001b[0m\u001b[0;34m\u001b[0m\u001b[0;34m\u001b[0m\u001b[0;34m\u001b[0m\u001b[0m\n",
      "\u001b[0;31mValueError\u001b[0m: not enough values to unpack (expected 2, got 0)"
     ]
    }
   ],
   "source": [
    "from GPyOpt.methods import BayesianOptimization\n",
    "db_size = 10\n",
    "\n",
    "f = lambda x: normal(x, db_size, np.random.RandomState(12345))\n",
    "\n",
    "domain = [\n",
    "    {\"name\": \"mu\", \"type\": \"continuous\", \"domain\": muBounds, \"dimensionality\": db_size},\n",
    "    {\"name\": \"std\", \"type\": \"continuous\", \"domain\": sigmaBounds, \"dimensionality\": db_size}\n",
    "]\n",
    "\n",
    "f_new = lambda x: f(x[0])\n",
    "Bopt = BayesianOptimization(f=f_new, \n",
    "                            domain=domain,\n",
    "                            initial_design_numdata = 5,   # Number data initial design\n",
    "                            exact_feval = True,\n",
    "                            acquisition_type ='EI',       # LCB acquisition\n",
    "                           )   # Exploration exploitation)\n",
    "\n",
    "#Bopt.run_optimization(max_iter = 20, eps=1e-8)\n",
    "#print(Bopt.fx_opt)\n",
    "x0 = [muBounds[0]] * db_size + [sigmaBounds[0]]*db_size\n",
    "\n",
    "\n",
    "for vai in range(db_size):\n",
    "    i = db_size-vai\n",
    "    print(i)\n",
    "    \n",
    "    # Fix every other parameters than does for our interesting distribution\n",
    "    cont = {}\n",
    "    for j in range(db_size):\n",
    "        if j == i:\n",
    "            continue\n",
    "        cont[f\"mu_{j+1}\"] = x0[j]\n",
    "        cont[f\"std_{j+1}\"] = x0[j+db_size]\n",
    "    Bopt.run_optimization(max_iter = 20, eps=1e-8, context=cont)  \n",
    "    print(Bopt.fx_opt)"
   ]
  },
  {
   "cell_type": "code",
   "execution_count": 115,
   "id": "possible-wilderness",
   "metadata": {},
   "outputs": [
    {
     "data": {
      "image/png": "[encoded data removed]",
      "text/plain": [
       "<Figure size 720x360 with 2 Axes>"
      ]
     },
     "metadata": {
      "needs_background": "light"
     },
     "output_type": "display_data"
    }
   ],
   "source": [
    "Bopt.plot_convergence()"
   ]
  },
  {
   "cell_type": "code",
   "execution_count": 106,
   "id": "distributed-theta",
   "metadata": {},
   "outputs": [
    {
     "data": {
      "text/plain": [
       "array([96.14462647, 92.7210301 , 71.72909519, 79.20231411, 98.02772843,\n",
       "       23.05934627, 59.78469879, 42.84844716, 85.32968223, 72.06745423,\n",
       "       25.98076211,  8.95901151,  9.04976161,  6.74750874,  8.07656973,\n",
       "        3.82455638,  0.82973749, 13.50661766, 14.15223081, 17.68033531])"
      ]
     },
     "execution_count": 106,
     "metadata": {},
     "output_type": "execute_result"
    }
   ],
   "source": [
    "Bopt.x_opt"
   ]
  },
  {
   "cell_type": "code",
   "execution_count": null,
   "id": "wooden-hungarian",
   "metadata": {},
   "outputs": [],
   "source": []
  }
 ],
 "metadata": {
  "kernelspec": {
   "display_name": "Python 3",
   "language": "python",
   "name": "python3"
  },
  "language_info": {
   "codemirror_mode": {
    "name": "ipython",
    "version": 3
   },
   "file_extension": ".py",
   "mimetype": "text/x-python",
   "name": "python",
   "nbconvert_exporter": "python",
   "pygments_lexer": "ipython3",
   "version": "3.8.5"
  }
 },
 "nbformat": 4,
 "nbformat_minor": 5
}
