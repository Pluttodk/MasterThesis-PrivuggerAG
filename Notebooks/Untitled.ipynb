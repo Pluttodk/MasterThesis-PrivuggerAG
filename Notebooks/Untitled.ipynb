{
 "cells": [
  {
   "cell_type": "code",
   "execution_count": 1,
   "id": "efficient-sequence",
   "metadata": {},
   "outputs": [],
   "source": [
    "import theano\n",
    "import theano.tensor as tt\n",
    "import pymc3 as pm\n",
    "import numpy as np\n",
    "import arviz as az\n",
    "from sklearn.feature_selection import mutual_info_regression"
   ]
  },
  {
   "cell_type": "code",
   "execution_count": 2,
   "id": "exact-prize",
   "metadata": {},
   "outputs": [],
   "source": [
    "@theano.compile.ops.as_op(itypes=[tt.dscalar, tt.dscalar],\n",
    "                          otypes=[tt.dscalar])\n",
    "def numpy_normal(s1,s2):\n",
    "        #s1,s2 = X\n",
    "        x = np.random.normal(0, s1, size=10_000)\n",
    "        y = np.random.normal(0, s2, size=10_000)\n",
    "\n",
    "        out = x+y\n",
    "        I = mutual_info_regression(x.reshape((-1,1)),out, discrete_features=False)[0]\n",
    "        return np.array(I, dtype=np.float64)"
   ]
  },
  {
   "cell_type": "code",
   "execution_count": 3,
   "id": "choice-journey",
   "metadata": {},
   "outputs": [
    {
     "name": "stderr",
     "output_type": "stream",
     "text": [
      "Auto-assigning NUTS sampler...\n",
      "Initializing NUTS using jitter+adapt_diag...\n",
      "Initializing NUTS failed. Falling back to elementwise auto-assignment.\n",
      "Sequential sampling (2 chains in 1 job)\n",
      "CompoundStep\n",
      ">Slice: [s2]\n",
      ">Slice: [s1]\n"
     ]
    },
    {
     "data": {
      "text/html": [
       "\n",
       "    <div>\n",
       "        <style>\n",
       "            /* Turns off some styling */\n",
       "            progress {\n",
       "                /* gets rid of default border in Firefox and Opera. */\n",
       "                border: none;\n",
       "                /* Needs to be in here for Safari polyfill so background images work as expected. */\n",
       "                background-size: auto;\n",
       "            }\n",
       "            .progress-bar-interrupted, .progress-bar-interrupted::-webkit-progress-bar {\n",
       "                background: #F44336;\n",
       "            }\n",
       "        </style>\n",
       "      <progress value='583' class='' max='2000' style='width:300px; height:20px; vertical-align: middle;'></progress>\n",
       "      29.15% [583/2000 07:08<17:22 Sampling chain 0, 0 divergences]\n",
       "    </div>\n",
       "    "
      ],
      "text/plain": [
       "<IPython.core.display.HTML object>"
      ]
     },
     "metadata": {},
     "output_type": "display_data"
    },
    {
     "name": "stderr",
     "output_type": "stream",
     "text": [
      "Sampling 1 chain for 583 tune and 0 draw iterations (583 + 0 draws total) took 429 seconds.\n",
      "No posterior samples. Unable to run convergence checks\n"
     ]
    }
   ],
   "source": [
    "with pm.Model() as model:\n",
    "    s1 = pm.Uniform(\"s1\", 0.1,26)\n",
    "    \n",
    "    s2 = pm.Uniform(\"s2\", 0.1,26)\n",
    "    \n",
    "    Is = numpy_normal(s1,s2)\n",
    "    obs = pm.Normal(\"obs\", Is > 4, 0.1, observed = 1)\n",
    "    \n",
    "    trace = pm.sample(1000, cores=1, return_inferencedata=False)"
   ]
  },
  {
   "cell_type": "code",
   "execution_count": 1,
   "id": "generous-thailand",
   "metadata": {},
   "outputs": [],
   "source": [
    "from matplotlib import pyplot as plt"
   ]
  },
  {
   "cell_type": "code",
   "execution_count": 4,
   "id": "protecting-journalist",
   "metadata": {},
   "outputs": [
    {
     "data": {
      "image/png": "[encoded data removed]",
      "text/plain": [
       "<Figure size 432x288 with 4 Axes>"
      ]
     },
     "metadata": {
      "needs_background": "light"
     },
     "output_type": "display_data"
    }
   ],
   "source": [
    "fig,ax = plt.subplots(2,2)"
   ]
  },
  {
   "cell_type": "code",
   "execution_count": 7,
   "id": "compound-cookbook",
   "metadata": {},
   "outputs": [],
   "source": [
    "X,Y = [[[1722.,   88.],\n",
    "       [ 334.,  665.],\n",
    "       [1290.,  136.],\n",
    "       [1755.,  208.],\n",
    "       [ 131., 1214.],\n",
    "       [ 531., 1280.],\n",
    "       [1379.,  525.],\n",
    "       [ 151., 1476.],\n",
    "       [ 553.,  517.],\n",
    "       [1203.,  302.],\n",
    "       [ 548.,  516.],\n",
    "       [ 331.,  662.],\n",
    "       [ 336.,  665.],\n",
    "       [ 337.,  668.],\n",
    "       [ 316.,  686.],\n",
    "       [ 338.,  672.],\n",
    "       [ 333.,  677.],\n",
    "       [ 333.,  683.],\n",
    "       [ 334.,  688.],\n",
    "       [ 336.,  693.],\n",
    "       [ 338.,  689.],\n",
    "       [ 332.,  691.],\n",
    "       [ 313.,  744.],\n",
    "       [ 439.,  675.],\n",
    "       [ 193.,  251.],\n",
    "       [ 329.,  700.],\n",
    "       [ 972.,  659.],\n",
    "       [ 372.,  709.],\n",
    "       [ 981., 1015.],\n",
    "       [ 338.,  715.],\n",
    "       [ 603.,  893.],\n",
    "       [  21.,  559.],\n",
    "       [ 419.,  488.],\n",
    "       [ 365.,  666.],\n",
    "       [ 373.,  661.],\n",
    "       [ 372.,  672.],\n",
    "       [ 363.,  657.],\n",
    "       [ 371.,  648.],\n",
    "       [ 374.,  587.],\n",
    "       [ 359.,  639.],\n",
    "       [ 864.,   37.],\n",
    "       [ 387.,  648.],\n",
    "       [ 392.,  634.],\n",
    "       [  47., 1924.],\n",
    "       [ 385.,  635.],\n",
    "       [ 391.,  625.],\n",
    "       [ 404.,  637.],\n",
    "       [ 472.,   28.],\n",
    "       [ 847.,  358.],\n",
    "       [  28.,  875.],\n",
    "       [   2.,   13.],\n",
    "       [ 258., 1729.],\n",
    "       [ 354., 1051.],\n",
    "       [ 426., 1529.],\n",
    "       [ 413.,  611.],\n",
    "       [ 424.,  605.],\n",
    "       [ 414.,  599.],\n",
    "       [ 424.,  617.],\n",
    "       [ 436.,  594.],\n",
    "       [ 448.,  603.]], [[ 127., 1639.],\n",
    "       [  26.,  876.],\n",
    "       [ 830., 1106.],\n",
    "       [1363.,  314.],\n",
    "       [  44.,  660.],\n",
    "       [ 196.,  635.],\n",
    "       [  76.,  895.],\n",
    "       [ 963.,  233.],\n",
    "       [  91., 1676.],\n",
    "       [ 161., 1401.],\n",
    "       [ 118., 1654.],\n",
    "       [ 823., 1094.],\n",
    "       [ 835., 1090.],\n",
    "       [ 824., 1087.],\n",
    "       [ 962.,  238.],\n",
    "       [ 970.,  232.],\n",
    "       [ 974.,  224.],\n",
    "       [ 981.,  233.],\n",
    "       [ 986.,  256.],\n",
    "       [1006.,  261.],\n",
    "       [1000.,  277.],\n",
    "       [1004.,  250.],\n",
    "       [1020.,  265.],\n",
    "       [ 958.,  205.],\n",
    "       [ 966.,  191.],\n",
    "       [ 944.,  192.],\n",
    "       [ 927.,  194.],\n",
    "       [ 931.,  178.],\n",
    "       [ 907.,  179.],\n",
    "       [ 893.,  167.],\n",
    "       [ 901.,  192.],\n",
    "       [ 768., 1114.],\n",
    "       [ 872.,  217.],\n",
    "       [ 936.,  136.],\n",
    "       [ 941.,  124.],\n",
    "       [ 929.,  123.],\n",
    "       [ 950.,  132.],\n",
    "       [ 945.,  110.],\n",
    "       [ 958.,   82.],\n",
    "       [ 962.,   72.],\n",
    "       [ 952.,   71.],\n",
    "       [ 965.,   77.],\n",
    "       [ 963.,   78.],\n",
    "       [ 930.,  109.],\n",
    "       [ 935.,  101.],\n",
    "       [ 920.,  141.],\n",
    "       [ 974.,  134.],\n",
    "       [ 962.,   77.],\n",
    "       [ 963.,   81.],\n",
    "       [ 960.,  125.],\n",
    "       [ 919.,  224.],\n",
    "       [ 939.,  144.],\n",
    "       [ 965.,  131.],\n",
    "       [ 989.,  133.],\n",
    "       [ 966.,   70.],\n",
    "       [ 968.,  122.],\n",
    "       [ 965.,   67.],\n",
    "       [ 946.,   93.],\n",
    "       [ 965.,   65.],\n",
    "       [ 966.,   67.]]],[[[   0.],\n",
    "       [ -78.],\n",
    "       [   0.],\n",
    "       [   0.],\n",
    "       [   0.],\n",
    "       [   0.],\n",
    "       [   0.],\n",
    "       [   0.],\n",
    "       [ -24.],\n",
    "       [   0.],\n",
    "       [ -35.],\n",
    "       [ -54.],\n",
    "       [ -83.],\n",
    "       [-119.],\n",
    "       [-107.],\n",
    "       [-143.],\n",
    "       [-152.],\n",
    "       [-181.],\n",
    "       [-224.],\n",
    "       [-218.],\n",
    "       [-202.],\n",
    "       [-233.],\n",
    "       [ -43.],\n",
    "       [   0.],\n",
    "       [   0.],\n",
    "       [-187.],\n",
    "       [   0.],\n",
    "       [  -3.],\n",
    "       [   0.],\n",
    "       [ -67.],\n",
    "       [   0.],\n",
    "       [   0.],\n",
    "       [   0.],\n",
    "       [-208.],\n",
    "       [-192.],\n",
    "       [-130.],\n",
    "       [-217.],\n",
    "       [-185.],\n",
    "       [   0.],\n",
    "       [ -74.],\n",
    "       [   0.],\n",
    "       [-186.],\n",
    "       [-225.],\n",
    "       [   0.],\n",
    "       [-217.],\n",
    "       [-187.],\n",
    "       [-141.],\n",
    "       [   0.],\n",
    "       [   0.],\n",
    "       [   0.],\n",
    "       [   0.],\n",
    "       [   0.],\n",
    "       [   0.],\n",
    "       [   0.],\n",
    "       [-207.],\n",
    "       [-201.],\n",
    "       [-166.],\n",
    "       [-139.],\n",
    "       [-192.],\n",
    "       [ -83.]], [[  -8.],\n",
    "       [   0.],\n",
    "       [ -12.],\n",
    "       [   0.],\n",
    "       [   0.],\n",
    "       [   0.],\n",
    "       [   0.],\n",
    "       [ -43.],\n",
    "       [  -5.],\n",
    "       [  -7.],\n",
    "       [  -8.],\n",
    "       [ -18.],\n",
    "       [  -4.],\n",
    "       [ -10.],\n",
    "       [ -40.],\n",
    "       [ -47.],\n",
    "       [ -46.],\n",
    "       [ -45.],\n",
    "       [ -45.],\n",
    "       [ -47.],\n",
    "       [ -30.],\n",
    "       [ -36.],\n",
    "       [ -39.],\n",
    "       [ -49.],\n",
    "       [ -45.],\n",
    "       [ -56.],\n",
    "       [ -56.],\n",
    "       [ -56.],\n",
    "       [ -65.],\n",
    "       [ -47.],\n",
    "       [ -62.],\n",
    "       [  -7.],\n",
    "       [ -45.],\n",
    "       [ -90.],\n",
    "       [ -92.],\n",
    "       [ -76.],\n",
    "       [ -70.],\n",
    "       [ -85.],\n",
    "       [-121.],\n",
    "       [-124.],\n",
    "       [   0.],\n",
    "       [-135.],\n",
    "       [-145.],\n",
    "       [-106.],\n",
    "       [ -93.],\n",
    "       [ -64.],\n",
    "       [ -83.],\n",
    "       [-134.],\n",
    "       [-130.],\n",
    "       [ -99.],\n",
    "       [ -41.],\n",
    "       [ -60.],\n",
    "       [ -85.],\n",
    "       [ -83.],\n",
    "       [-140.],\n",
    "       [ -90.],\n",
    "       [-168.],\n",
    "       [-101.],\n",
    "       [-154.],\n",
    "       [-161.]]]"
   ]
  },
  {
   "cell_type": "code",
   "execution_count": 27,
   "id": "pressing-understanding",
   "metadata": {},
   "outputs": [],
   "source": [
    "import numpy as np\n",
    "from scipy import stats as st"
   ]
  },
  {
   "cell_type": "code",
   "execution_count": 9,
   "id": "authentic-native",
   "metadata": {},
   "outputs": [],
   "source": [
    "X = np.asarray(X)\n",
    "Y = np.asarray(Y)"
   ]
  },
  {
   "cell_type": "code",
   "execution_count": 23,
   "id": "ordinary-disabled",
   "metadata": {},
   "outputs": [
    {
     "data": {
      "image/png": "[encoded data removed]",
      "text/plain": [
       "<Figure size 1296x576 with 4 Axes>"
      ]
     },
     "metadata": {
      "needs_background": "light"
     },
     "output_type": "display_data"
    }
   ],
   "source": [
    "fig,ax = plt.subplots(2,2, figsize=(18,8))\n",
    "\n",
    "for i in range(2):\n",
    "    for j in range(len(X[i][0])):\n",
    "        ax[i][j].scatter(X[i][:,j], -Y[i])\n",
    "plt.show()"
   ]
  },
  {
   "cell_type": "code",
   "execution_count": 36,
   "id": "raising-correlation",
   "metadata": {},
   "outputs": [
    {
     "data": {
      "text/plain": [
       "[<matplotlib.lines.Line2D at 0x7f09c58528b0>]"
      ]
     },
     "execution_count": 36,
     "metadata": {},
     "output_type": "execute_result"
    },
    {
     "data": {
      "image/png": "[encoded data removed]",
      "text/plain": [
       "<Figure size 432x288 with 1 Axes>"
      ]
     },
     "metadata": {
      "needs_background": "light"
     },
     "output_type": "display_data"
    }
   ],
   "source": [
    "x = np.arange(0,2000)\n",
    "y = st.randint.pmf(x, 965, 965+67)\n",
    "plt.plot(x,y)"
   ]
  },
  {
   "cell_type": "code",
   "execution_count": 39,
   "id": "modified-district",
   "metadata": {},
   "outputs": [
    {
     "data": {
      "text/plain": [
       "[<matplotlib.lines.Line2D at 0x7f09b177d730>]"
      ]
     },
     "execution_count": 39,
     "metadata": {},
     "output_type": "execute_result"
    },
    {
     "data": {
      "image/png": "[encoded data removed]",
      "text/plain": [
       "<Figure size 432x288 with 1 Axes>"
      ]
     },
     "metadata": {
      "needs_background": "light"
     },
     "output_type": "display_data"
    }
   ],
   "source": [
    "x = np.arange(0,2000)\n",
    "y = st.poisson.pmf(x, 332, 691)\n",
    "plt.plot(x,y)"
   ]
  },
  {
   "cell_type": "code",
   "execution_count": null,
   "id": "digital-detection",
   "metadata": {},
   "outputs": [],
   "source": []
  }
 ],
 "metadata": {
  "kernelspec": {
   "display_name": "Python 3",
   "language": "python",
   "name": "python3"
  },
  "language_info": {
   "codemirror_mode": {
    "name": "ipython",
    "version": 3
   },
   "file_extension": ".py",
   "mimetype": "text/x-python",
   "name": "python",
   "nbconvert_exporter": "python",
   "pygments_lexer": "ipython3",
   "version": "3.8.5"
  }
 },
 "nbformat": 4,
 "nbformat_minor": 5
}
